{
 "cells": [
  {
   "cell_type": "code",
   "execution_count": 1,
   "id": "1a8004fd",
   "metadata": {
    "_cell_guid": "b1076dfc-b9ad-4769-8c92-a6c4dae69d19",
    "_uuid": "8f2839f25d086af736a60e9eeb907d3b93b6e0e5",
    "execution": {
     "iopub.execute_input": "2024-01-14T20:12:11.601357Z",
     "iopub.status.busy": "2024-01-14T20:12:11.600284Z",
     "iopub.status.idle": "2024-01-14T20:12:14.490419Z",
     "shell.execute_reply": "2024-01-14T20:12:14.488857Z"
    },
    "papermill": {
     "duration": 2.909556,
     "end_time": "2024-01-14T20:12:14.494010",
     "exception": false,
     "start_time": "2024-01-14T20:12:11.584454",
     "status": "completed"
    },
    "tags": []
   },
   "outputs": [
    {
     "name": "stdout",
     "output_type": "stream",
     "text": [
      "/kaggle/input/used-car-price-prediction/car_web_scraped_dataset.csv\n"
     ]
    }
   ],
   "source": [
    "from sklearn.linear_model import Ridge,Lasso\n",
    "import xgboost as xgb\n",
    "from sklearn.preprocessing import StandardScaler,MinMaxScaler\n",
    "from sklearn.model_selection import train_test_split\n",
    "from sklearn.linear_model import LinearRegression\n",
    "from sklearn.metrics import mean_squared_error\n",
    "import matplotlib.pyplot as plt\n",
    "import numpy as np # linear algebra\n",
    "import pandas as pd # data processing, CSV file I/O (e.g. pd.read_csv)\n",
    "import seaborn as sns\n",
    "import os\n",
    "for dirname, _, filenames in os.walk('/kaggle/input'):\n",
    "    for filename in filenames:\n",
    "        print(os.path.join(dirname, filename))"
   ]
  },
  {
   "cell_type": "markdown",
   "id": "d12e1dfb",
   "metadata": {
    "papermill": {
     "duration": 0.012881,
     "end_time": "2024-01-14T20:12:14.520859",
     "exception": false,
     "start_time": "2024-01-14T20:12:14.507978",
     "status": "completed"
    },
    "tags": []
   },
   "source": [
    "# Loading Data"
   ]
  },
  {
   "cell_type": "code",
   "execution_count": 2,
   "id": "be48e9c7",
   "metadata": {
    "execution": {
     "iopub.execute_input": "2024-01-14T20:12:14.551387Z",
     "iopub.status.busy": "2024-01-14T20:12:14.550241Z",
     "iopub.status.idle": "2024-01-14T20:12:14.615415Z",
     "shell.execute_reply": "2024-01-14T20:12:14.613917Z"
    },
    "papermill": {
     "duration": 0.083305,
     "end_time": "2024-01-14T20:12:14.618368",
     "exception": false,
     "start_time": "2024-01-14T20:12:14.535063",
     "status": "completed"
    },
    "tags": []
   },
   "outputs": [
    {
     "name": "stdout",
     "output_type": "stream",
     "text": [
      "<class 'pandas.core.frame.DataFrame'>\n",
      "RangeIndex: 2840 entries, 0 to 2839\n",
      "Data columns (total 6 columns):\n",
      " #   Column     Non-Null Count  Dtype \n",
      "---  ------     --------------  ----- \n",
      " 0   name       2840 non-null   object\n",
      " 1   year       2840 non-null   int64 \n",
      " 2   miles      2840 non-null   object\n",
      " 3   color      2840 non-null   object\n",
      " 4   condition  2840 non-null   object\n",
      " 5   price      2840 non-null   object\n",
      "dtypes: int64(1), object(5)\n",
      "memory usage: 133.2+ KB\n"
     ]
    }
   ],
   "source": [
    "df = pd.read_csv('/kaggle/input/used-car-price-prediction/car_web_scraped_dataset.csv')\n",
    "df.info()"
   ]
  },
  {
   "cell_type": "markdown",
   "id": "2ef265c5",
   "metadata": {
    "papermill": {
     "duration": 0.013771,
     "end_time": "2024-01-14T20:12:14.645272",
     "exception": false,
     "start_time": "2024-01-14T20:12:14.631501",
     "status": "completed"
    },
    "tags": []
   },
   "source": [
    "# Preprocessing & Statistics"
   ]
  },
  {
   "cell_type": "code",
   "execution_count": 3,
   "id": "5640b9f2",
   "metadata": {
    "execution": {
     "iopub.execute_input": "2024-01-14T20:12:14.674379Z",
     "iopub.status.busy": "2024-01-14T20:12:14.673992Z",
     "iopub.status.idle": "2024-01-14T20:12:14.697864Z",
     "shell.execute_reply": "2024-01-14T20:12:14.697002Z"
    },
    "papermill": {
     "duration": 0.040992,
     "end_time": "2024-01-14T20:12:14.700122",
     "exception": false,
     "start_time": "2024-01-14T20:12:14.659130",
     "status": "completed"
    },
    "tags": []
   },
   "outputs": [
    {
     "data": {
      "text/html": [
       "<div>\n",
       "<style scoped>\n",
       "    .dataframe tbody tr th:only-of-type {\n",
       "        vertical-align: middle;\n",
       "    }\n",
       "\n",
       "    .dataframe tbody tr th {\n",
       "        vertical-align: top;\n",
       "    }\n",
       "\n",
       "    .dataframe thead th {\n",
       "        text-align: right;\n",
       "    }\n",
       "</style>\n",
       "<table border=\"1\" class=\"dataframe\">\n",
       "  <thead>\n",
       "    <tr style=\"text-align: right;\">\n",
       "      <th></th>\n",
       "      <th>name</th>\n",
       "      <th>year</th>\n",
       "      <th>miles</th>\n",
       "      <th>color</th>\n",
       "      <th>condition</th>\n",
       "      <th>price</th>\n",
       "    </tr>\n",
       "  </thead>\n",
       "  <tbody>\n",
       "    <tr>\n",
       "      <th>0</th>\n",
       "      <td>Kia Forte</td>\n",
       "      <td>2022</td>\n",
       "      <td>41,406 miles</td>\n",
       "      <td>Gray exterior, Black interior</td>\n",
       "      <td>No accidents reported, 1 Owner</td>\n",
       "      <td>$15,988</td>\n",
       "    </tr>\n",
       "    <tr>\n",
       "      <th>1</th>\n",
       "      <td>Chevrolet Silverado 1500</td>\n",
       "      <td>2021</td>\n",
       "      <td>15,138 miles</td>\n",
       "      <td>White exterior, Black interior</td>\n",
       "      <td>1 accident reported, 1 Owner</td>\n",
       "      <td>$38,008</td>\n",
       "    </tr>\n",
       "    <tr>\n",
       "      <th>2</th>\n",
       "      <td>Toyota RAV4</td>\n",
       "      <td>2022</td>\n",
       "      <td>32,879 miles</td>\n",
       "      <td>Silver exterior, Unknown interior</td>\n",
       "      <td>No accidents reported, 1 Owner</td>\n",
       "      <td>$24,988</td>\n",
       "    </tr>\n",
       "    <tr>\n",
       "      <th>3</th>\n",
       "      <td>Honda Civic</td>\n",
       "      <td>2020</td>\n",
       "      <td>37,190 miles</td>\n",
       "      <td>Blue exterior, Black interior</td>\n",
       "      <td>No accidents reported, 1 Owner</td>\n",
       "      <td>$18,998</td>\n",
       "    </tr>\n",
       "    <tr>\n",
       "      <th>4</th>\n",
       "      <td>Honda Civic</td>\n",
       "      <td>2020</td>\n",
       "      <td>27,496 miles</td>\n",
       "      <td>Black exterior, Black interior</td>\n",
       "      <td>No accidents reported, 1 Owner</td>\n",
       "      <td>$19,498</td>\n",
       "    </tr>\n",
       "    <tr>\n",
       "      <th>5</th>\n",
       "      <td>Honda Civic</td>\n",
       "      <td>2020</td>\n",
       "      <td>29,026 miles</td>\n",
       "      <td>Silver exterior, Black interior</td>\n",
       "      <td>1 accident reported, 1 Owner</td>\n",
       "      <td>$21,000</td>\n",
       "    </tr>\n",
       "    <tr>\n",
       "      <th>6</th>\n",
       "      <td>Honda Accord</td>\n",
       "      <td>2019</td>\n",
       "      <td>4,148 miles</td>\n",
       "      <td>Black exterior, Black interior</td>\n",
       "      <td>1 accident reported, 1 Owner</td>\n",
       "      <td>$20,998</td>\n",
       "    </tr>\n",
       "    <tr>\n",
       "      <th>7</th>\n",
       "      <td>Mercedes-Benz GLC</td>\n",
       "      <td>2018</td>\n",
       "      <td>57,602 miles</td>\n",
       "      <td>Blue exterior, Unknown interior</td>\n",
       "      <td>1 accident reported, 3 Owners</td>\n",
       "      <td>$18,887</td>\n",
       "    </tr>\n",
       "    <tr>\n",
       "      <th>8</th>\n",
       "      <td>Honda Civic</td>\n",
       "      <td>2020</td>\n",
       "      <td>50,240 miles</td>\n",
       "      <td>Black exterior, Black interior</td>\n",
       "      <td>1 accident reported, 1 Owner</td>\n",
       "      <td>$19,498</td>\n",
       "    </tr>\n",
       "    <tr>\n",
       "      <th>9</th>\n",
       "      <td>BMW 5 Series</td>\n",
       "      <td>2013</td>\n",
       "      <td>56,766 miles</td>\n",
       "      <td>White exterior, Black interior</td>\n",
       "      <td>No accidents reported, 3 Owners</td>\n",
       "      <td>$17,998</td>\n",
       "    </tr>\n",
       "    <tr>\n",
       "      <th>10</th>\n",
       "      <td>Jeep Wrangler</td>\n",
       "      <td>2018</td>\n",
       "      <td>44,099 miles</td>\n",
       "      <td>Gray exterior, Black interior</td>\n",
       "      <td>No accidents reported, 2 Owners</td>\n",
       "      <td>$30,998</td>\n",
       "    </tr>\n",
       "    <tr>\n",
       "      <th>11</th>\n",
       "      <td>Honda Civic</td>\n",
       "      <td>2020</td>\n",
       "      <td>11,140 miles</td>\n",
       "      <td>Black exterior, Black interior</td>\n",
       "      <td>No accidents reported, 1 Owner</td>\n",
       "      <td>$20,998</td>\n",
       "    </tr>\n",
       "    <tr>\n",
       "      <th>12</th>\n",
       "      <td>Honda Civic</td>\n",
       "      <td>2020</td>\n",
       "      <td>8,506 miles</td>\n",
       "      <td>Gray exterior, Black interior</td>\n",
       "      <td>No accidents reported, 1 Owner</td>\n",
       "      <td>$22,597</td>\n",
       "    </tr>\n",
       "    <tr>\n",
       "      <th>13</th>\n",
       "      <td>Mercedes-Benz GLC</td>\n",
       "      <td>2021</td>\n",
       "      <td>38,760 miles</td>\n",
       "      <td>Black exterior, Black interior</td>\n",
       "      <td>No accidents reported, 1 Owner</td>\n",
       "      <td>$29,998</td>\n",
       "    </tr>\n",
       "    <tr>\n",
       "      <th>14</th>\n",
       "      <td>Porsche Macan</td>\n",
       "      <td>2020</td>\n",
       "      <td>27,002 miles</td>\n",
       "      <td>White exterior, Black interior</td>\n",
       "      <td>No accidents reported, 2 Owners</td>\n",
       "      <td>$39,998</td>\n",
       "    </tr>\n",
       "    <tr>\n",
       "      <th>15</th>\n",
       "      <td>Honda Civic</td>\n",
       "      <td>2021</td>\n",
       "      <td>22,850 miles</td>\n",
       "      <td>White exterior, Black interior</td>\n",
       "      <td>No accidents reported, 1 Owner</td>\n",
       "      <td>$21,998</td>\n",
       "    </tr>\n",
       "    <tr>\n",
       "      <th>16</th>\n",
       "      <td>Buick Cascada</td>\n",
       "      <td>2016</td>\n",
       "      <td>68,660 miles</td>\n",
       "      <td>White exterior, Beige interior</td>\n",
       "      <td>1 accident reported, 2 Owners</td>\n",
       "      <td>$17,998</td>\n",
       "    </tr>\n",
       "    <tr>\n",
       "      <th>17</th>\n",
       "      <td>BMW 3 Series</td>\n",
       "      <td>2014</td>\n",
       "      <td>55,079 miles</td>\n",
       "      <td>White exterior, Black interior</td>\n",
       "      <td>No accidents reported, 2 Owners</td>\n",
       "      <td>$17,998</td>\n",
       "    </tr>\n",
       "    <tr>\n",
       "      <th>18</th>\n",
       "      <td>Jeep Grand Cherokee</td>\n",
       "      <td>2017</td>\n",
       "      <td>64,337 miles</td>\n",
       "      <td>White exterior, Black interior</td>\n",
       "      <td>No accidents reported, 2 Owners</td>\n",
       "      <td>$19,598</td>\n",
       "    </tr>\n",
       "    <tr>\n",
       "      <th>19</th>\n",
       "      <td>Mercedes-Benz C-Class</td>\n",
       "      <td>2018</td>\n",
       "      <td>83,424 miles</td>\n",
       "      <td>White exterior, Black interior</td>\n",
       "      <td>1 accident reported, 2 Owners</td>\n",
       "      <td>$18,285</td>\n",
       "    </tr>\n",
       "  </tbody>\n",
       "</table>\n",
       "</div>"
      ],
      "text/plain": [
       "                        name  year         miles  \\\n",
       "0                  Kia Forte  2022  41,406 miles   \n",
       "1   Chevrolet Silverado 1500  2021  15,138 miles   \n",
       "2                Toyota RAV4  2022  32,879 miles   \n",
       "3                Honda Civic  2020  37,190 miles   \n",
       "4                Honda Civic  2020  27,496 miles   \n",
       "5                Honda Civic  2020  29,026 miles   \n",
       "6               Honda Accord  2019   4,148 miles   \n",
       "7          Mercedes-Benz GLC  2018  57,602 miles   \n",
       "8                Honda Civic  2020  50,240 miles   \n",
       "9               BMW 5 Series  2013  56,766 miles   \n",
       "10             Jeep Wrangler  2018  44,099 miles   \n",
       "11               Honda Civic  2020  11,140 miles   \n",
       "12               Honda Civic  2020   8,506 miles   \n",
       "13         Mercedes-Benz GLC  2021  38,760 miles   \n",
       "14             Porsche Macan  2020  27,002 miles   \n",
       "15               Honda Civic  2021  22,850 miles   \n",
       "16             Buick Cascada  2016  68,660 miles   \n",
       "17              BMW 3 Series  2014  55,079 miles   \n",
       "18       Jeep Grand Cherokee  2017  64,337 miles   \n",
       "19     Mercedes-Benz C-Class  2018  83,424 miles   \n",
       "\n",
       "                                color                        condition  \\\n",
       "0       Gray exterior, Black interior   No accidents reported, 1 Owner   \n",
       "1      White exterior, Black interior     1 accident reported, 1 Owner   \n",
       "2   Silver exterior, Unknown interior   No accidents reported, 1 Owner   \n",
       "3       Blue exterior, Black interior   No accidents reported, 1 Owner   \n",
       "4      Black exterior, Black interior   No accidents reported, 1 Owner   \n",
       "5     Silver exterior, Black interior     1 accident reported, 1 Owner   \n",
       "6      Black exterior, Black interior     1 accident reported, 1 Owner   \n",
       "7     Blue exterior, Unknown interior    1 accident reported, 3 Owners   \n",
       "8      Black exterior, Black interior     1 accident reported, 1 Owner   \n",
       "9      White exterior, Black interior  No accidents reported, 3 Owners   \n",
       "10      Gray exterior, Black interior  No accidents reported, 2 Owners   \n",
       "11     Black exterior, Black interior   No accidents reported, 1 Owner   \n",
       "12      Gray exterior, Black interior   No accidents reported, 1 Owner   \n",
       "13     Black exterior, Black interior   No accidents reported, 1 Owner   \n",
       "14     White exterior, Black interior  No accidents reported, 2 Owners   \n",
       "15     White exterior, Black interior   No accidents reported, 1 Owner   \n",
       "16     White exterior, Beige interior    1 accident reported, 2 Owners   \n",
       "17     White exterior, Black interior  No accidents reported, 2 Owners   \n",
       "18     White exterior, Black interior  No accidents reported, 2 Owners   \n",
       "19     White exterior, Black interior    1 accident reported, 2 Owners   \n",
       "\n",
       "      price  \n",
       "0   $15,988  \n",
       "1   $38,008  \n",
       "2   $24,988  \n",
       "3   $18,998  \n",
       "4   $19,498  \n",
       "5   $21,000  \n",
       "6   $20,998  \n",
       "7   $18,887  \n",
       "8   $19,498  \n",
       "9   $17,998  \n",
       "10  $30,998  \n",
       "11  $20,998  \n",
       "12  $22,597  \n",
       "13  $29,998  \n",
       "14  $39,998  \n",
       "15  $21,998  \n",
       "16  $17,998  \n",
       "17  $17,998  \n",
       "18  $19,598  \n",
       "19  $18,285  "
      ]
     },
     "execution_count": 3,
     "metadata": {},
     "output_type": "execute_result"
    }
   ],
   "source": [
    "#preview sample of data to see what preprocess should handle\n",
    "df.head(20)"
   ]
  },
  {
   "cell_type": "code",
   "execution_count": 4,
   "id": "4e33117a",
   "metadata": {
    "execution": {
     "iopub.execute_input": "2024-01-14T20:12:14.730686Z",
     "iopub.status.busy": "2024-01-14T20:12:14.730244Z",
     "iopub.status.idle": "2024-01-14T20:12:14.739439Z",
     "shell.execute_reply": "2024-01-14T20:12:14.738532Z"
    },
    "papermill": {
     "duration": 0.027395,
     "end_time": "2024-01-14T20:12:14.741690",
     "exception": false,
     "start_time": "2024-01-14T20:12:14.714295",
     "status": "completed"
    },
    "tags": []
   },
   "outputs": [
    {
     "data": {
      "text/plain": [
       "condition\n",
       "No accidents reported, 1 Owner     1575\n",
       "No accidents reported, 2 Owners     426\n",
       "1 accident reported, 1 Owner        236\n",
       "1 accident reported, 2 Owners       157\n",
       "No accidents reported, 3 Owners     152\n",
       "1 accident reported, 3 Owners        58\n",
       "2 accidents reported, 1 Owner        43\n",
       "No accidents reported, 4 Owners      41\n",
       "2 accidents reported, 2 Owners       30\n",
       "2 accidents reported, 3 Owners       26\n",
       "1 accident reported, 4 Owners        17\n",
       "No accidents reported, 0 Owners      13\n",
       "2 accidents reported, 4 Owners       12\n",
       "No accidents reported, 5 Owners      11\n",
       "1 accident reported, 5 Owners        10\n",
       "3 accidents reported, 1 Owner         9\n",
       "4 accidents reported, 3 Owners        5\n",
       "3 accidents reported, 2 Owners        4\n",
       "3 accidents reported, 3 Owners        3\n",
       "No accidents reported, 7 Owners       3\n",
       "3 accidents reported, 4 Owners        2\n",
       "5 accidents reported, 5 Owners        2\n",
       "No accidents reported, 8 Owners       2\n",
       "2 accidents reported, 5 Owners        2\n",
       "4 accidents reported, 2 Owners        1\n",
       "Name: count, dtype: int64"
      ]
     },
     "execution_count": 4,
     "metadata": {},
     "output_type": "execute_result"
    }
   ],
   "source": [
    "#check unique values in condition\n",
    "df['condition'].value_counts()"
   ]
  },
  {
   "cell_type": "code",
   "execution_count": 5,
   "id": "9a7a73ef",
   "metadata": {
    "execution": {
     "iopub.execute_input": "2024-01-14T20:12:14.772130Z",
     "iopub.status.busy": "2024-01-14T20:12:14.771191Z",
     "iopub.status.idle": "2024-01-14T20:12:14.856251Z",
     "shell.execute_reply": "2024-01-14T20:12:14.854893Z"
    },
    "papermill": {
     "duration": 0.104483,
     "end_time": "2024-01-14T20:12:14.859845",
     "exception": false,
     "start_time": "2024-01-14T20:12:14.755362",
     "status": "completed"
    },
    "tags": []
   },
   "outputs": [],
   "source": [
    "#remove miles from column miles and transform it to float datatype\n",
    "df['miles']=df['miles'].replace('miles', '', regex=True)\n",
    "df['miles']=df['miles'].replace(',', '', regex=True)\n",
    "df['miles']=df['miles'].astype(float)\n",
    "#remove $ from column Price and transform it to float datatype\n",
    "df['price']=df['price'].str.replace('$', '')\n",
    "df['price']=df['price'].replace(',', '', regex=True)\n",
    "df['price']=df['price'].astype(float)\n",
    "#replace 'accidents reported' into ,\n",
    "df['condition']=df['condition'].replace('accidents reported,', ',', regex=True)\n",
    "#replace 'accident reported' into ,\n",
    "df['condition']=df['condition'].replace('accident reported,', ',', regex=True)\n",
    "#replace 'No' into zero\n",
    "df['condition']=df['condition'].replace('No', '0', regex=True)\n",
    "#replace 'Owner' into empty\n",
    "df['condition']=df['condition'].replace('Owners', '', regex=True)\n",
    "#replace 'Owner' into empty\n",
    "df['condition']=df['condition'].replace('Owner', '', regex=True)\n",
    "# Split the 'ColumnWithCommas' into two columns based on ','\n",
    "df[['accidents', 'Owners']] = df['condition'].str.split(',', expand=True)\n",
    "df['accidents']=df['accidents'].astype(int)\n",
    "df['Owners']=df['Owners'].astype(int)"
   ]
  },
  {
   "cell_type": "code",
   "execution_count": 6,
   "id": "2396ee2a",
   "metadata": {
    "execution": {
     "iopub.execute_input": "2024-01-14T20:12:14.890849Z",
     "iopub.status.busy": "2024-01-14T20:12:14.890383Z",
     "iopub.status.idle": "2024-01-14T20:12:14.907912Z",
     "shell.execute_reply": "2024-01-14T20:12:14.906350Z"
    },
    "papermill": {
     "duration": 0.037357,
     "end_time": "2024-01-14T20:12:14.911345",
     "exception": false,
     "start_time": "2024-01-14T20:12:14.873988",
     "status": "completed"
    },
    "tags": []
   },
   "outputs": [
    {
     "name": "stdout",
     "output_type": "stream",
     "text": [
      "<class 'pandas.core.frame.DataFrame'>\n",
      "RangeIndex: 2840 entries, 0 to 2839\n",
      "Data columns (total 8 columns):\n",
      " #   Column     Non-Null Count  Dtype  \n",
      "---  ------     --------------  -----  \n",
      " 0   name       2840 non-null   object \n",
      " 1   year       2840 non-null   int64  \n",
      " 2   miles      2840 non-null   float64\n",
      " 3   color      2840 non-null   object \n",
      " 4   condition  2840 non-null   object \n",
      " 5   price      2840 non-null   float64\n",
      " 6   accidents  2840 non-null   int64  \n",
      " 7   Owners     2840 non-null   int64  \n",
      "dtypes: float64(2), int64(3), object(3)\n",
      "memory usage: 177.6+ KB\n"
     ]
    }
   ],
   "source": [
    "#recheck dataframe after preprocessing\n",
    "df.info()"
   ]
  },
  {
   "cell_type": "code",
   "execution_count": 7,
   "id": "5f366897",
   "metadata": {
    "execution": {
     "iopub.execute_input": "2024-01-14T20:12:14.943923Z",
     "iopub.status.busy": "2024-01-14T20:12:14.943486Z",
     "iopub.status.idle": "2024-01-14T20:12:14.961794Z",
     "shell.execute_reply": "2024-01-14T20:12:14.959622Z"
    },
    "papermill": {
     "duration": 0.039052,
     "end_time": "2024-01-14T20:12:14.965440",
     "exception": false,
     "start_time": "2024-01-14T20:12:14.926388",
     "status": "completed"
    },
    "tags": []
   },
   "outputs": [
    {
     "name": "stdout",
     "output_type": "stream",
     "text": [
      "column name null values: 0\n",
      "column name uniques counts: 309\n",
      "------------------------------------------------\n",
      "column year null values: 0\n",
      "column year uniques counts: 24\n",
      "------------------------------------------------\n",
      "column miles null values: 0\n",
      "column miles uniques counts: 2280\n",
      "------------------------------------------------\n",
      "column color null values: 0\n",
      "column color uniques counts: 64\n",
      "------------------------------------------------\n",
      "column condition null values: 0\n",
      "column condition uniques counts: 25\n",
      "------------------------------------------------\n",
      "column price null values: 0\n",
      "column price uniques counts: 1245\n",
      "------------------------------------------------\n",
      "column accidents null values: 0\n",
      "column accidents uniques counts: 6\n",
      "------------------------------------------------\n",
      "column Owners null values: 0\n",
      "column Owners uniques counts: 8\n",
      "------------------------------------------------\n"
     ]
    }
   ],
   "source": [
    "#Check nulls and unique values\n",
    "for col in df.columns:\n",
    "    print(\"column\",col,\"null values:\",df[col].isnull().sum())\n",
    "    print(\"column\",col,\"uniques counts:\",df[col].nunique())\n",
    "    print(\"------------------------------------------------\")"
   ]
  },
  {
   "cell_type": "code",
   "execution_count": 8,
   "id": "0fe9db75",
   "metadata": {
    "execution": {
     "iopub.execute_input": "2024-01-14T20:12:15.000679Z",
     "iopub.status.busy": "2024-01-14T20:12:14.999808Z",
     "iopub.status.idle": "2024-01-14T20:12:15.016608Z",
     "shell.execute_reply": "2024-01-14T20:12:15.015311Z"
    },
    "papermill": {
     "duration": 0.037841,
     "end_time": "2024-01-14T20:12:15.019922",
     "exception": false,
     "start_time": "2024-01-14T20:12:14.982081",
     "status": "completed"
    },
    "tags": []
   },
   "outputs": [],
   "source": [
    "#extract mark from name\n",
    "df['mark'] = df['name'].str.split(' ', expand=True)[0]"
   ]
  },
  {
   "cell_type": "code",
   "execution_count": 9,
   "id": "fd4726cd",
   "metadata": {
    "execution": {
     "iopub.execute_input": "2024-01-14T20:12:15.053007Z",
     "iopub.status.busy": "2024-01-14T20:12:15.052604Z",
     "iopub.status.idle": "2024-01-14T20:12:15.086603Z",
     "shell.execute_reply": "2024-01-14T20:12:15.085354Z"
    },
    "papermill": {
     "duration": 0.055095,
     "end_time": "2024-01-14T20:12:15.089223",
     "exception": false,
     "start_time": "2024-01-14T20:12:15.034128",
     "status": "completed"
    },
    "tags": []
   },
   "outputs": [
    {
     "data": {
      "text/html": [
       "<div>\n",
       "<style scoped>\n",
       "    .dataframe tbody tr th:only-of-type {\n",
       "        vertical-align: middle;\n",
       "    }\n",
       "\n",
       "    .dataframe tbody tr th {\n",
       "        vertical-align: top;\n",
       "    }\n",
       "\n",
       "    .dataframe thead th {\n",
       "        text-align: right;\n",
       "    }\n",
       "</style>\n",
       "<table border=\"1\" class=\"dataframe\">\n",
       "  <thead>\n",
       "    <tr style=\"text-align: right;\">\n",
       "      <th></th>\n",
       "      <th>year</th>\n",
       "      <th>miles</th>\n",
       "      <th>price</th>\n",
       "      <th>accidents</th>\n",
       "      <th>Owners</th>\n",
       "    </tr>\n",
       "  </thead>\n",
       "  <tbody>\n",
       "    <tr>\n",
       "      <th>count</th>\n",
       "      <td>2840.000000</td>\n",
       "      <td>2840.000000</td>\n",
       "      <td>2840.000000</td>\n",
       "      <td>2840.000000</td>\n",
       "      <td>2840.000000</td>\n",
       "    </tr>\n",
       "    <tr>\n",
       "      <th>mean</th>\n",
       "      <td>2018.833803</td>\n",
       "      <td>50138.445775</td>\n",
       "      <td>25745.427465</td>\n",
       "      <td>0.278873</td>\n",
       "      <td>1.507394</td>\n",
       "    </tr>\n",
       "    <tr>\n",
       "      <th>std</th>\n",
       "      <td>3.557585</td>\n",
       "      <td>36482.439893</td>\n",
       "      <td>13627.610019</td>\n",
       "      <td>0.598558</td>\n",
       "      <td>0.866146</td>\n",
       "    </tr>\n",
       "    <tr>\n",
       "      <th>min</th>\n",
       "      <td>2000.000000</td>\n",
       "      <td>25.000000</td>\n",
       "      <td>4395.000000</td>\n",
       "      <td>0.000000</td>\n",
       "      <td>0.000000</td>\n",
       "    </tr>\n",
       "    <tr>\n",
       "      <th>25%</th>\n",
       "      <td>2017.000000</td>\n",
       "      <td>23233.750000</td>\n",
       "      <td>17851.000000</td>\n",
       "      <td>0.000000</td>\n",
       "      <td>1.000000</td>\n",
       "    </tr>\n",
       "    <tr>\n",
       "      <th>50%</th>\n",
       "      <td>2020.000000</td>\n",
       "      <td>41076.000000</td>\n",
       "      <td>23000.000000</td>\n",
       "      <td>0.000000</td>\n",
       "      <td>1.000000</td>\n",
       "    </tr>\n",
       "    <tr>\n",
       "      <th>75%</th>\n",
       "      <td>2021.000000</td>\n",
       "      <td>70978.250000</td>\n",
       "      <td>31222.500000</td>\n",
       "      <td>0.000000</td>\n",
       "      <td>2.000000</td>\n",
       "    </tr>\n",
       "    <tr>\n",
       "      <th>max</th>\n",
       "      <td>2024.000000</td>\n",
       "      <td>307292.000000</td>\n",
       "      <td>252900.000000</td>\n",
       "      <td>5.000000</td>\n",
       "      <td>8.000000</td>\n",
       "    </tr>\n",
       "  </tbody>\n",
       "</table>\n",
       "</div>"
      ],
      "text/plain": [
       "              year          miles          price    accidents       Owners\n",
       "count  2840.000000    2840.000000    2840.000000  2840.000000  2840.000000\n",
       "mean   2018.833803   50138.445775   25745.427465     0.278873     1.507394\n",
       "std       3.557585   36482.439893   13627.610019     0.598558     0.866146\n",
       "min    2000.000000      25.000000    4395.000000     0.000000     0.000000\n",
       "25%    2017.000000   23233.750000   17851.000000     0.000000     1.000000\n",
       "50%    2020.000000   41076.000000   23000.000000     0.000000     1.000000\n",
       "75%    2021.000000   70978.250000   31222.500000     0.000000     2.000000\n",
       "max    2024.000000  307292.000000  252900.000000     5.000000     8.000000"
      ]
     },
     "execution_count": 9,
     "metadata": {},
     "output_type": "execute_result"
    }
   ],
   "source": [
    "df.describe()"
   ]
  },
  {
   "cell_type": "markdown",
   "id": "63ce5dc3",
   "metadata": {
    "papermill": {
     "duration": 0.014962,
     "end_time": "2024-01-14T20:12:15.119036",
     "exception": false,
     "start_time": "2024-01-14T20:12:15.104074",
     "status": "completed"
    },
    "tags": []
   },
   "source": [
    "# Categorical Outliers"
   ]
  },
  {
   "cell_type": "code",
   "execution_count": 10,
   "id": "5d05c22c",
   "metadata": {
    "execution": {
     "iopub.execute_input": "2024-01-14T20:12:15.151151Z",
     "iopub.status.busy": "2024-01-14T20:12:15.150706Z",
     "iopub.status.idle": "2024-01-14T20:12:15.177521Z",
     "shell.execute_reply": "2024-01-14T20:12:15.175933Z"
    },
    "papermill": {
     "duration": 0.047475,
     "end_time": "2024-01-14T20:12:15.181079",
     "exception": false,
     "start_time": "2024-01-14T20:12:15.133604",
     "status": "completed"
    },
    "tags": []
   },
   "outputs": [
    {
     "name": "stdout",
     "output_type": "stream",
     "text": [
      "Column= year\n",
      "unique values= 24\n",
      "Threshold= 10\n",
      "outliers= 28\n",
      "all= 2840\n",
      "outlier percentages= 1.0 %\n",
      "-------------------------\n",
      "Column= accidents\n",
      "unique values= 6\n",
      "Threshold= 50\n",
      "outliers= 25\n",
      "all= 2812\n",
      "outlier percentages= 1.0 %\n",
      "-------------------------\n",
      "Column= Owners\n",
      "unique values= 7\n",
      "Threshold= 20\n",
      "outliers= 14\n",
      "all= 2787\n",
      "outlier percentages= 1.0 %\n",
      "-------------------------\n",
      "outlier removed= 0.67 %\n"
     ]
    }
   ],
   "source": [
    "def remove_Noutliers(col,threshold):\n",
    "    category_counts = df[col].value_counts()\n",
    "\n",
    "    # Set a threshold for low frequency\n",
    "    uncommon_categories = category_counts[category_counts < threshold].index.tolist()\n",
    "    # Identify rows with uncommon categories\n",
    "    outliers = df[df[col].isin(uncommon_categories)]\n",
    "    print(\"Column=\",col)\n",
    "    print(\"unique values=\",len(df[col].value_counts()))\n",
    "    print(\"Threshold=\",threshold)\n",
    "    print(\"outliers=\",len(outliers))\n",
    "    print(\"all=\",len(df[col]))\n",
    "    print(\"outlier percentages=\",round(len(outliers)/len(df[col]),2) * 100 ,\"%\")\n",
    "    print(\"-------------------------\")\n",
    "    return df[~df[col].isin(uncommon_categories)]\n",
    "\n",
    "   \n",
    "total_len = len(df)    \n",
    "df = remove_Noutliers('year',10)\n",
    "df = remove_Noutliers('accidents',50)\n",
    "df = remove_Noutliers('Owners',20)\n",
    "print(\"outlier removed=\",str((total_len - len(df))/100),\"%\")"
   ]
  },
  {
   "cell_type": "markdown",
   "id": "398b495f",
   "metadata": {
    "papermill": {
     "duration": 0.015429,
     "end_time": "2024-01-14T20:12:15.213279",
     "exception": false,
     "start_time": "2024-01-14T20:12:15.197850",
     "status": "completed"
    },
    "tags": []
   },
   "source": [
    "# Numeric Outliers"
   ]
  },
  {
   "cell_type": "code",
   "execution_count": 11,
   "id": "fc501b04",
   "metadata": {
    "execution": {
     "iopub.execute_input": "2024-01-14T20:12:15.248225Z",
     "iopub.status.busy": "2024-01-14T20:12:15.247769Z",
     "iopub.status.idle": "2024-01-14T20:12:15.823567Z",
     "shell.execute_reply": "2024-01-14T20:12:15.821435Z"
    },
    "papermill": {
     "duration": 0.597142,
     "end_time": "2024-01-14T20:12:15.826945",
     "exception": false,
     "start_time": "2024-01-14T20:12:15.229803",
     "status": "completed"
    },
    "tags": []
   },
   "outputs": [
    {
     "name": "stdout",
     "output_type": "stream",
     "text": [
      "Q1= 23045.0 , Q3= 69058.0 , lower= -45974.5 , upper= 138077.5\n",
      "Q1= 17998.0 , Q3= 31990.0 , lower= -2990.0 , upper= 52978.0\n",
      "outlier removed= 1.36 %\n"
     ]
    },
    {
     "data": {
      "image/png": "[encoded data removed]",
      "text/plain": [
       "<Figure size 640x480 with 1 Axes>"
      ]
     },
     "metadata": {},
     "output_type": "display_data"
    },
    {
     "data": {
      "image/png": "[encoded data removed]",
      "text/plain": [
       "<Figure size 640x480 with 1 Axes>"
      ]
     },
     "metadata": {},
     "output_type": "display_data"
    }
   ],
   "source": [
    "def remove_outliers(c):\n",
    "    Q1 = df[c].quantile(0.25)\n",
    "    Q3 = df[c].quantile(0.75)\n",
    "    IQR = Q3 - Q1\n",
    "\n",
    "    # Define the lower and upper bounds\n",
    "    lower_bound = Q1 - 1.5 * IQR\n",
    "    upper_bound = Q3 + 1.5 * IQR\n",
    "    \n",
    "    print(\"Q1=\",Q1,\", Q3=\",Q3,\", lower=\",lower_bound,\", upper=\",upper_bound)\n",
    "    # Filter the DataFrame to exclude outliers\n",
    "    return df[(df[c] >= lower_bound) & (df[c] <= upper_bound)]\n",
    "\n",
    "total_len = len(df)\n",
    "df = remove_outliers('miles')\n",
    "df = remove_outliers('price')\n",
    "print(\"outlier removed=\",str((total_len - len(df))/100),\"%\")\n",
    "for c in ['miles','price']:\n",
    "    sns.boxplot(df[c])\n",
    "    plt.title(\"boxplot of \"+c+\" after oultier removing\")\n",
    "    plt.show()"
   ]
  },
  {
   "cell_type": "markdown",
   "id": "6eee64df",
   "metadata": {
    "papermill": {
     "duration": 0.015528,
     "end_time": "2024-01-14T20:12:15.859255",
     "exception": false,
     "start_time": "2024-01-14T20:12:15.843727",
     "status": "completed"
    },
    "tags": []
   },
   "source": [
    "# Single Column EDAs"
   ]
  },
  {
   "cell_type": "code",
   "execution_count": 12,
   "id": "cd3ae468",
   "metadata": {
    "execution": {
     "iopub.execute_input": "2024-01-14T20:12:15.893855Z",
     "iopub.status.busy": "2024-01-14T20:12:15.893372Z",
     "iopub.status.idle": "2024-01-14T20:12:16.788836Z",
     "shell.execute_reply": "2024-01-14T20:12:16.787356Z"
    },
    "papermill": {
     "duration": 0.91679,
     "end_time": "2024-01-14T20:12:16.791950",
     "exception": false,
     "start_time": "2024-01-14T20:12:15.875160",
     "status": "completed"
    },
    "tags": []
   },
   "outputs": [
    {
     "data": {
      "image/png": "[encoded data removed]",
      "text/plain": [
       "<Figure size 640x480 with 1 Axes>"
      ]
     },
     "metadata": {},
     "output_type": "display_data"
    },
    {
     "data": {
      "image/png": "[encoded data removed]",
      "text/plain": [
       "<Figure size 640x480 with 1 Axes>"
      ]
     },
     "metadata": {},
     "output_type": "display_data"
    },
    {
     "data": {
      "image/png": "[encoded data removed]",
      "text/plain": [
       "<Figure size 640x480 with 1 Axes>"
      ]
     },
     "metadata": {},
     "output_type": "display_data"
    }
   ],
   "source": [
    "#Count plot for cars per year, owner, and accident\n",
    "col= ['year','Owners','accidents']\n",
    "for c in col:\n",
    "    df[c].value_counts().plot(kind='bar')\n",
    "    plt.show()"
   ]
  },
  {
   "cell_type": "code",
   "execution_count": 13,
   "id": "b9f43d3a",
   "metadata": {
    "execution": {
     "iopub.execute_input": "2024-01-14T20:12:16.914832Z",
     "iopub.status.busy": "2024-01-14T20:12:16.913963Z",
     "iopub.status.idle": "2024-01-14T20:12:17.653941Z",
     "shell.execute_reply": "2024-01-14T20:12:17.652586Z"
    },
    "papermill": {
     "duration": 0.764695,
     "end_time": "2024-01-14T20:12:17.656956",
     "exception": false,
     "start_time": "2024-01-14T20:12:16.892261",
     "status": "completed"
    },
    "tags": []
   },
   "outputs": [
    {
     "data": {
      "image/png": "[encoded data removed]",
      "text/plain": [
       "<Figure size 640x480 with 1 Axes>"
      ]
     },
     "metadata": {},
     "output_type": "display_data"
    },
    {
     "data": {
      "image/png": "[encoded data removed]",
      "text/plain": [
       "<Figure size 640x480 with 1 Axes>"
      ]
     },
     "metadata": {},
     "output_type": "display_data"
    }
   ],
   "source": [
    "for c in ['miles','price']:\n",
    "    sns.histplot(df[c])\n",
    "    plt.show()"
   ]
  },
  {
   "cell_type": "markdown",
   "id": "f0f24363",
   "metadata": {
    "papermill": {
     "duration": 0.025128,
     "end_time": "2024-01-14T20:12:17.707822",
     "exception": false,
     "start_time": "2024-01-14T20:12:17.682694",
     "status": "completed"
    },
    "tags": []
   },
   "source": [
    "# Grouped Columns EDAs"
   ]
  },
  {
   "cell_type": "code",
   "execution_count": 14,
   "id": "5a11f18e",
   "metadata": {
    "execution": {
     "iopub.execute_input": "2024-01-14T20:12:17.751181Z",
     "iopub.status.busy": "2024-01-14T20:12:17.750065Z",
     "iopub.status.idle": "2024-01-14T20:12:18.380712Z",
     "shell.execute_reply": "2024-01-14T20:12:18.379379Z"
    },
    "papermill": {
     "duration": 0.654792,
     "end_time": "2024-01-14T20:12:18.383599",
     "exception": false,
     "start_time": "2024-01-14T20:12:17.728807",
     "status": "completed"
    },
    "tags": []
   },
   "outputs": [
    {
     "data": {
      "text/plain": [
       "(array([ 0,  1,  2,  3,  4,  5,  6,  7,  8,  9, 10, 11, 12, 13, 14, 15, 16,\n",
       "        17]),\n",
       " [Text(0, 0, '2006'),\n",
       "  Text(1, 0, '2007'),\n",
       "  Text(2, 0, '2009'),\n",
       "  Text(3, 0, '2010'),\n",
       "  Text(4, 0, '2011'),\n",
       "  Text(5, 0, '2012'),\n",
       "  Text(6, 0, '2013'),\n",
       "  Text(7, 0, '2014'),\n",
       "  Text(8, 0, '2015'),\n",
       "  Text(9, 0, '2016'),\n",
       "  Text(10, 0, '2017'),\n",
       "  Text(11, 0, '2018'),\n",
       "  Text(12, 0, '2019'),\n",
       "  Text(13, 0, '2020'),\n",
       "  Text(14, 0, '2021'),\n",
       "  Text(15, 0, '2022'),\n",
       "  Text(16, 0, '2023'),\n",
       "  Text(17, 0, '2024')])"
      ]
     },
     "execution_count": 14,
     "metadata": {},
     "output_type": "execute_result"
    },
    {
     "data": {
      "image/png": "[encoded data removed]",
      "text/plain": [
       "<Figure size 640x480 with 1 Axes>"
      ]
     },
     "metadata": {},
     "output_type": "display_data"
    }
   ],
   "source": [
    "sns.countplot(x='year',data=df,hue='accidents')\n",
    "plt.xticks(rotation=45)"
   ]
  },
  {
   "cell_type": "code",
   "execution_count": 15,
   "id": "5719c183",
   "metadata": {
    "execution": {
     "iopub.execute_input": "2024-01-14T20:12:18.423931Z",
     "iopub.status.busy": "2024-01-14T20:12:18.423467Z",
     "iopub.status.idle": "2024-01-14T20:12:19.333311Z",
     "shell.execute_reply": "2024-01-14T20:12:19.331902Z"
    },
    "papermill": {
     "duration": 0.933687,
     "end_time": "2024-01-14T20:12:19.336347",
     "exception": false,
     "start_time": "2024-01-14T20:12:18.402660",
     "status": "completed"
    },
    "tags": []
   },
   "outputs": [
    {
     "data": {
      "text/plain": [
       "(array([ 0,  1,  2,  3,  4,  5,  6,  7,  8,  9, 10, 11, 12, 13, 14, 15, 16,\n",
       "        17]),\n",
       " [Text(0, 0, '2006'),\n",
       "  Text(1, 0, '2007'),\n",
       "  Text(2, 0, '2009'),\n",
       "  Text(3, 0, '2010'),\n",
       "  Text(4, 0, '2011'),\n",
       "  Text(5, 0, '2012'),\n",
       "  Text(6, 0, '2013'),\n",
       "  Text(7, 0, '2014'),\n",
       "  Text(8, 0, '2015'),\n",
       "  Text(9, 0, '2016'),\n",
       "  Text(10, 0, '2017'),\n",
       "  Text(11, 0, '2018'),\n",
       "  Text(12, 0, '2019'),\n",
       "  Text(13, 0, '2020'),\n",
       "  Text(14, 0, '2021'),\n",
       "  Text(15, 0, '2022'),\n",
       "  Text(16, 0, '2023'),\n",
       "  Text(17, 0, '2024')])"
      ]
     },
     "execution_count": 15,
     "metadata": {},
     "output_type": "execute_result"
    },
    {
     "data": {
      "image/png": "[encoded data removed]",
      "text/plain": [
       "<Figure size 640x480 with 1 Axes>"
      ]
     },
     "metadata": {},
     "output_type": "display_data"
    }
   ],
   "source": [
    "sns.countplot(x='year',data=df,hue='Owners')\n",
    "plt.xticks(rotation=45)"
   ]
  },
  {
   "cell_type": "code",
   "execution_count": 16,
   "id": "040868d5",
   "metadata": {
    "execution": {
     "iopub.execute_input": "2024-01-14T20:12:19.380626Z",
     "iopub.status.busy": "2024-01-14T20:12:19.379659Z",
     "iopub.status.idle": "2024-01-14T20:12:19.397748Z",
     "shell.execute_reply": "2024-01-14T20:12:19.396391Z"
    },
    "papermill": {
     "duration": 0.043422,
     "end_time": "2024-01-14T20:12:19.400695",
     "exception": false,
     "start_time": "2024-01-14T20:12:19.357273",
     "status": "completed"
    },
    "tags": []
   },
   "outputs": [
    {
     "data": {
      "text/html": [
       "<div>\n",
       "<style scoped>\n",
       "    .dataframe tbody tr th:only-of-type {\n",
       "        vertical-align: middle;\n",
       "    }\n",
       "\n",
       "    .dataframe tbody tr th {\n",
       "        vertical-align: top;\n",
       "    }\n",
       "\n",
       "    .dataframe thead th {\n",
       "        text-align: right;\n",
       "    }\n",
       "</style>\n",
       "<table border=\"1\" class=\"dataframe\">\n",
       "  <thead>\n",
       "    <tr style=\"text-align: right;\">\n",
       "      <th></th>\n",
       "      <th>year</th>\n",
       "      <th>accidents</th>\n",
       "      <th>Owners</th>\n",
       "    </tr>\n",
       "  </thead>\n",
       "  <tbody>\n",
       "    <tr>\n",
       "      <th>0</th>\n",
       "      <td>2006</td>\n",
       "      <td>0</td>\n",
       "      <td>15</td>\n",
       "    </tr>\n",
       "    <tr>\n",
       "      <th>1</th>\n",
       "      <td>2007</td>\n",
       "      <td>9</td>\n",
       "      <td>43</td>\n",
       "    </tr>\n",
       "    <tr>\n",
       "      <th>2</th>\n",
       "      <td>2009</td>\n",
       "      <td>3</td>\n",
       "      <td>15</td>\n",
       "    </tr>\n",
       "    <tr>\n",
       "      <th>3</th>\n",
       "      <td>2010</td>\n",
       "      <td>5</td>\n",
       "      <td>21</td>\n",
       "    </tr>\n",
       "    <tr>\n",
       "      <th>4</th>\n",
       "      <td>2011</td>\n",
       "      <td>10</td>\n",
       "      <td>61</td>\n",
       "    </tr>\n",
       "    <tr>\n",
       "      <th>5</th>\n",
       "      <td>2012</td>\n",
       "      <td>11</td>\n",
       "      <td>98</td>\n",
       "    </tr>\n",
       "    <tr>\n",
       "      <th>6</th>\n",
       "      <td>2013</td>\n",
       "      <td>39</td>\n",
       "      <td>154</td>\n",
       "    </tr>\n",
       "    <tr>\n",
       "      <th>7</th>\n",
       "      <td>2014</td>\n",
       "      <td>51</td>\n",
       "      <td>211</td>\n",
       "    </tr>\n",
       "    <tr>\n",
       "      <th>8</th>\n",
       "      <td>2015</td>\n",
       "      <td>58</td>\n",
       "      <td>297</td>\n",
       "    </tr>\n",
       "    <tr>\n",
       "      <th>9</th>\n",
       "      <td>2016</td>\n",
       "      <td>58</td>\n",
       "      <td>279</td>\n",
       "    </tr>\n",
       "    <tr>\n",
       "      <th>10</th>\n",
       "      <td>2017</td>\n",
       "      <td>68</td>\n",
       "      <td>267</td>\n",
       "    </tr>\n",
       "    <tr>\n",
       "      <th>11</th>\n",
       "      <td>2018</td>\n",
       "      <td>67</td>\n",
       "      <td>330</td>\n",
       "    </tr>\n",
       "    <tr>\n",
       "      <th>12</th>\n",
       "      <td>2019</td>\n",
       "      <td>61</td>\n",
       "      <td>357</td>\n",
       "    </tr>\n",
       "    <tr>\n",
       "      <th>13</th>\n",
       "      <td>2020</td>\n",
       "      <td>104</td>\n",
       "      <td>582</td>\n",
       "    </tr>\n",
       "    <tr>\n",
       "      <th>14</th>\n",
       "      <td>2021</td>\n",
       "      <td>97</td>\n",
       "      <td>677</td>\n",
       "    </tr>\n",
       "    <tr>\n",
       "      <th>15</th>\n",
       "      <td>2022</td>\n",
       "      <td>25</td>\n",
       "      <td>308</td>\n",
       "    </tr>\n",
       "    <tr>\n",
       "      <th>16</th>\n",
       "      <td>2023</td>\n",
       "      <td>1</td>\n",
       "      <td>178</td>\n",
       "    </tr>\n",
       "    <tr>\n",
       "      <th>17</th>\n",
       "      <td>2024</td>\n",
       "      <td>0</td>\n",
       "      <td>11</td>\n",
       "    </tr>\n",
       "  </tbody>\n",
       "</table>\n",
       "</div>"
      ],
      "text/plain": [
       "    year  accidents  Owners\n",
       "0   2006          0      15\n",
       "1   2007          9      43\n",
       "2   2009          3      15\n",
       "3   2010          5      21\n",
       "4   2011         10      61\n",
       "5   2012         11      98\n",
       "6   2013         39     154\n",
       "7   2014         51     211\n",
       "8   2015         58     297\n",
       "9   2016         58     279\n",
       "10  2017         68     267\n",
       "11  2018         67     330\n",
       "12  2019         61     357\n",
       "13  2020        104     582\n",
       "14  2021         97     677\n",
       "15  2022         25     308\n",
       "16  2023          1     178\n",
       "17  2024          0      11"
      ]
     },
     "execution_count": 16,
     "metadata": {},
     "output_type": "execute_result"
    }
   ],
   "source": [
    "# Aggregate 'accidents' by 'year'\n",
    "df_agg = df.groupby(['year'])[['accidents','Owners']].sum().reset_index()\n",
    "df_agg"
   ]
  },
  {
   "cell_type": "code",
   "execution_count": 17,
   "id": "6133c90e",
   "metadata": {
    "execution": {
     "iopub.execute_input": "2024-01-14T20:12:19.443745Z",
     "iopub.status.busy": "2024-01-14T20:12:19.443286Z",
     "iopub.status.idle": "2024-01-14T20:12:22.496276Z",
     "shell.execute_reply": "2024-01-14T20:12:22.495015Z"
    },
    "papermill": {
     "duration": 3.078691,
     "end_time": "2024-01-14T20:12:22.499480",
     "exception": false,
     "start_time": "2024-01-14T20:12:19.420789",
     "status": "completed"
    },
    "tags": []
   },
   "outputs": [
    {
     "data": {
      "image/png": "[encoded data removed]",
      "text/plain": [
       "<Figure size 500x1500 with 1 Axes>"
      ]
     },
     "metadata": {},
     "output_type": "display_data"
    }
   ],
   "source": [
    "# Create a count plot\n",
    "plt.figure(figsize=(5,15))\n",
    "sns.barplot(x='year', y='accidents', hue='Owners', data=df_agg, palette='Set1')\n",
    "plt.title('Aggregated Count Plot')\n",
    "plt.xticks(rotation=45)\n",
    "plt.show()"
   ]
  },
  {
   "cell_type": "markdown",
   "id": "82d9c051",
   "metadata": {
    "papermill": {
     "duration": 0.023117,
     "end_time": "2024-01-14T20:12:22.544038",
     "exception": false,
     "start_time": "2024-01-14T20:12:22.520921",
     "status": "completed"
    },
    "tags": []
   },
   "source": [
    "# Statitical plots"
   ]
  },
  {
   "cell_type": "code",
   "execution_count": 18,
   "id": "5d72cf39",
   "metadata": {
    "execution": {
     "iopub.execute_input": "2024-01-14T20:12:22.589363Z",
     "iopub.status.busy": "2024-01-14T20:12:22.588198Z",
     "iopub.status.idle": "2024-01-14T20:12:23.927303Z",
     "shell.execute_reply": "2024-01-14T20:12:23.925792Z"
    },
    "papermill": {
     "duration": 1.366206,
     "end_time": "2024-01-14T20:12:23.930367",
     "exception": false,
     "start_time": "2024-01-14T20:12:22.564161",
     "status": "completed"
    },
    "tags": []
   },
   "outputs": [
    {
     "data": {
      "image/png": "[encoded data removed]",
      "text/plain": [
       "<Figure size 640x480 with 1 Axes>"
      ]
     },
     "metadata": {},
     "output_type": "display_data"
    },
    {
     "data": {
      "image/png": "[encoded data removed]",
      "text/plain": [
       "<Figure size 640x480 with 1 Axes>"
      ]
     },
     "metadata": {},
     "output_type": "display_data"
    },
    {
     "data": {
      "image/png": "[encoded data removed]",
      "text/plain": [
       "<Figure size 640x480 with 1 Axes>"
      ]
     },
     "metadata": {},
     "output_type": "display_data"
    },
    {
     "data": {
      "image/png": "[encoded data removed]",
      "text/plain": [
       "<Figure size 640x480 with 1 Axes>"
      ]
     },
     "metadata": {},
     "output_type": "display_data"
    },
    {
     "data": {
      "image/png": "[encoded data removed]",
      "text/plain": [
       "<Figure size 640x480 with 1 Axes>"
      ]
     },
     "metadata": {},
     "output_type": "display_data"
    }
   ],
   "source": [
    "for c in ['year','Owners','accidents','price','miles']:\n",
    "    sns.boxplot(df[c])\n",
    "    plt.title(\"boxplot for \"+c)\n",
    "    Q1 = df[c].quantile(0.25)\n",
    "    Q3 = df[c].quantile(0.75)\n",
    "    IQR = Q3 - Q1\n",
    "\n",
    "    # Define the lower and upper bounds\n",
    "    lower_bound = Q1 - 1.5 * IQR\n",
    "    upper_bound = Q3 + 1.5 * IQR\n",
    "    plt.show()"
   ]
  },
  {
   "cell_type": "markdown",
   "id": "93b77836",
   "metadata": {
    "papermill": {
     "duration": 0.02208,
     "end_time": "2024-01-14T20:12:23.976609",
     "exception": false,
     "start_time": "2024-01-14T20:12:23.954529",
     "status": "completed"
    },
    "tags": []
   },
   "source": [
    "# Numerical Data"
   ]
  },
  {
   "cell_type": "code",
   "execution_count": 19,
   "id": "8c99c477",
   "metadata": {
    "execution": {
     "iopub.execute_input": "2024-01-14T20:12:24.028444Z",
     "iopub.status.busy": "2024-01-14T20:12:24.028007Z",
     "iopub.status.idle": "2024-01-14T20:12:24.530211Z",
     "shell.execute_reply": "2024-01-14T20:12:24.528774Z"
    },
    "papermill": {
     "duration": 0.533447,
     "end_time": "2024-01-14T20:12:24.533178",
     "exception": false,
     "start_time": "2024-01-14T20:12:23.999731",
     "status": "completed"
    },
    "tags": []
   },
   "outputs": [
    {
     "data": {
      "image/png": "[encoded data removed]",
      "text/plain": [
       "<Figure size 640x480 with 2 Axes>"
      ]
     },
     "metadata": {},
     "output_type": "display_data"
    }
   ],
   "source": [
    "correlation_matrix = df[['miles','price']].corr()\n",
    "sns.heatmap(correlation_matrix, annot=True, cmap='coolwarm')\n",
    "plt.title('Correlation Heatmap')\n",
    "plt.show()"
   ]
  },
  {
   "cell_type": "code",
   "execution_count": 20,
   "id": "afc1cb08",
   "metadata": {
    "execution": {
     "iopub.execute_input": "2024-01-14T20:12:24.580802Z",
     "iopub.status.busy": "2024-01-14T20:12:24.580073Z",
     "iopub.status.idle": "2024-01-14T20:12:24.591466Z",
     "shell.execute_reply": "2024-01-14T20:12:24.590123Z"
    },
    "papermill": {
     "duration": 0.038319,
     "end_time": "2024-01-14T20:12:24.594228",
     "exception": false,
     "start_time": "2024-01-14T20:12:24.555909",
     "status": "completed"
    },
    "tags": []
   },
   "outputs": [
    {
     "name": "stdout",
     "output_type": "stream",
     "text": [
      "Highly Correlated Variables:\n",
      "[]\n",
      "\n",
      "Weakly Correlated Variables:\n",
      "[]\n"
     ]
    }
   ],
   "source": [
    "# Identify highly correlated columns\n",
    "highly_correlated_vars = set()\n",
    "\n",
    "for col1 in correlation_matrix.columns:\n",
    "    for col2 in correlation_matrix.index:\n",
    "        # Check if col1 and col2 are different before adding to the set\n",
    "        if col1 != col2 and abs(correlation_matrix.loc[col1, col2]) > 0.8 and (col2, col1) not in highly_correlated_vars:\n",
    "            highly_correlated_vars.add((col1, col2))\n",
    "\n",
    "# Convert the set to a list\n",
    "highly_correlated_vars_list = list(highly_correlated_vars)\n",
    "\n",
    "print(\"Highly Correlated Variables:\")\n",
    "print(highly_correlated_vars_list)\n",
    "\n",
    "# Identify weakly correlated columns\n",
    "weakly_correlated_vars = set()\n",
    "\n",
    "for col1 in correlation_matrix.columns:\n",
    "    for col2 in correlation_matrix.index:\n",
    "        # Check if col1 and col2 are different before adding to the set\n",
    "        if col1 != col2 and abs(correlation_matrix.loc[col1, col2]) < 0.5 and (col2, col1) not in weakly_correlated_vars:\n",
    "            weakly_correlated_vars.add((col1, col2))\n",
    "\n",
    "# Convert the set to a list\n",
    "weakly_correlated_vars_list = list(weakly_correlated_vars)\n",
    "\n",
    "print(\"\\nWeakly Correlated Variables:\")\n",
    "print(weakly_correlated_vars_list)"
   ]
  },
  {
   "cell_type": "code",
   "execution_count": 21,
   "id": "4278f8fd",
   "metadata": {
    "execution": {
     "iopub.execute_input": "2024-01-14T20:12:24.642594Z",
     "iopub.status.busy": "2024-01-14T20:12:24.642169Z",
     "iopub.status.idle": "2024-01-14T20:12:24.732929Z",
     "shell.execute_reply": "2024-01-14T20:12:24.731577Z"
    },
    "papermill": {
     "duration": 0.118635,
     "end_time": "2024-01-14T20:12:24.735993",
     "exception": false,
     "start_time": "2024-01-14T20:12:24.617358",
     "status": "completed"
    },
    "tags": []
   },
   "outputs": [
    {
     "name": "stdout",
     "output_type": "stream",
     "text": [
      "year and Owners\n",
      "Cramér's V Value: 0.37804989552188417\n",
      "year and accidents\n",
      "Cramér's V Value: 0.21615055893258095\n",
      "Owners and year\n",
      "Cramér's V Value: 0.3780498955218841\n",
      "Owners and accidents\n",
      "Cramér's V Value: 0.16885542554409144\n",
      "accidents and year\n",
      "Cramér's V Value: 0.21615055893258092\n",
      "accidents and Owners\n",
      "Cramér's V Value: 0.16885542554409147\n"
     ]
    }
   ],
   "source": [
    "#Cramér's V is a measure of association between two categorical variables. \n",
    "#It ranges from 0 to 1, with 0 indicating no association and 1 indicating a perfect association.\n",
    "from scipy.stats import chi2_contingency\n",
    "def cramers_v(x, y):\n",
    "    confusion_matrix = pd.crosstab(x, y)\n",
    "    chi2 = chi2_contingency(confusion_matrix)[0]\n",
    "    n = confusion_matrix.sum().sum()\n",
    "    phi2 = chi2 / n\n",
    "    r, k = confusion_matrix.shape\n",
    "    phi2corr = max(0, phi2 - ((k-1)*(r-1))/(n-1))\n",
    "    rcorr = r - ((r-1)**2)/(n-1)\n",
    "    kcorr = k - ((k-1)**2)/(n-1)\n",
    "    cramers_v_value = np.sqrt(phi2corr / min((kcorr-1), (rcorr-1)))\n",
    "    return cramers_v_value\n",
    "\n",
    "# Example usage\n",
    "for c in [\"year\",\"Owners\",\"accidents\"]:\n",
    "    for d in [\"year\",\"Owners\",\"accidents\"]:\n",
    "        if c!=d:\n",
    "            cramers_v_value = cramers_v(df[c], df[d])\n",
    "            print(c,\"and\",d)\n",
    "            print(f\"Cramér's V Value: {cramers_v_value}\")"
   ]
  },
  {
   "cell_type": "code",
   "execution_count": 22,
   "id": "a182c324",
   "metadata": {
    "execution": {
     "iopub.execute_input": "2024-01-14T20:12:24.784459Z",
     "iopub.status.busy": "2024-01-14T20:12:24.784052Z",
     "iopub.status.idle": "2024-01-14T20:12:24.983417Z",
     "shell.execute_reply": "2024-01-14T20:12:24.982068Z"
    },
    "papermill": {
     "duration": 0.227833,
     "end_time": "2024-01-14T20:12:24.986244",
     "exception": false,
     "start_time": "2024-01-14T20:12:24.758411",
     "status": "completed"
    },
    "tags": []
   },
   "outputs": [
    {
     "data": {
      "text/html": [
       "<div>\n",
       "<style scoped>\n",
       "    .dataframe tbody tr th:only-of-type {\n",
       "        vertical-align: middle;\n",
       "    }\n",
       "\n",
       "    .dataframe tbody tr th {\n",
       "        vertical-align: top;\n",
       "    }\n",
       "\n",
       "    .dataframe thead th {\n",
       "        text-align: right;\n",
       "    }\n",
       "</style>\n",
       "<table border=\"1\" class=\"dataframe\">\n",
       "  <thead>\n",
       "    <tr style=\"text-align: right;\">\n",
       "      <th></th>\n",
       "      <th>Variable</th>\n",
       "      <th>VIF</th>\n",
       "    </tr>\n",
       "  </thead>\n",
       "  <tbody>\n",
       "    <tr>\n",
       "      <th>0</th>\n",
       "      <td>year</td>\n",
       "      <td>4.868124</td>\n",
       "    </tr>\n",
       "    <tr>\n",
       "      <th>1</th>\n",
       "      <td>miles</td>\n",
       "      <td>4.364102</td>\n",
       "    </tr>\n",
       "    <tr>\n",
       "      <th>2</th>\n",
       "      <td>accidents</td>\n",
       "      <td>1.338672</td>\n",
       "    </tr>\n",
       "    <tr>\n",
       "      <th>3</th>\n",
       "      <td>Owners</td>\n",
       "      <td>5.968357</td>\n",
       "    </tr>\n",
       "  </tbody>\n",
       "</table>\n",
       "</div>"
      ],
      "text/plain": [
       "    Variable       VIF\n",
       "0       year  4.868124\n",
       "1      miles  4.364102\n",
       "2  accidents  1.338672\n",
       "3     Owners  5.968357"
      ]
     },
     "execution_count": 22,
     "metadata": {},
     "output_type": "execute_result"
    }
   ],
   "source": [
    "from statsmodels.stats.outliers_influence import variance_inflation_factor\n",
    "#Variables with high VIF values (typically above 5 or 10) may indicate multicollinearity.\n",
    "# Assuming 'X' is your design matrix (independent variables)\n",
    "vif_data = pd.DataFrame()\n",
    "vif_data[\"Variable\"] = df[['year','miles','accidents','Owners']].columns\n",
    "vif_data[\"VIF\"] = [variance_inflation_factor(df[['year','miles','accidents','Owners']].values, i) for i in range(df[['year','miles','accidents','Owners']].shape[1])]\n",
    "vif_data"
   ]
  },
  {
   "cell_type": "code",
   "execution_count": 23,
   "id": "35fce8ff",
   "metadata": {
    "execution": {
     "iopub.execute_input": "2024-01-14T20:12:25.034669Z",
     "iopub.status.busy": "2024-01-14T20:12:25.034263Z",
     "iopub.status.idle": "2024-01-14T20:12:25.047487Z",
     "shell.execute_reply": "2024-01-14T20:12:25.046699Z"
    },
    "papermill": {
     "duration": 0.041406,
     "end_time": "2024-01-14T20:12:25.050138",
     "exception": false,
     "start_time": "2024-01-14T20:12:25.008732",
     "status": "completed"
    },
    "tags": []
   },
   "outputs": [
    {
     "name": "stdout",
     "output_type": "stream",
     "text": [
      "Spearman Correlation Coefficient: \n",
      " [[ 1.   -0.74 -0.28 -0.59  0.58]\n",
      " [-0.74  1.    0.26  0.5  -0.65]\n",
      " [-0.28  0.26  1.    0.22 -0.21]\n",
      " [-0.59  0.5   0.22  1.   -0.4 ]\n",
      " [ 0.58 -0.65 -0.21 -0.4   1.  ]]\n",
      "P-value: \n",
      " [[0. 0. 0. 0. 0.]\n",
      " [0. 0. 0. 0. 0.]\n",
      " [0. 0. 0. 0. 0.]\n",
      " [0. 0. 0. 0. 0.]\n",
      " [0. 0. 0. 0. 0.]]\n"
     ]
    }
   ],
   "source": [
    "from scipy.stats import spearmanr\n",
    "\n",
    "# Example data\n",
    "independent_variable = df[['year','miles','accidents','Owners']]\n",
    "dependent_variable = df[['price']]\n",
    "\n",
    "# Calculate Spearman correlation coefficient\n",
    "rho, p_value = spearmanr(independent_variable, dependent_variable)\n",
    "\n",
    "print(f\"Spearman Correlation Coefficient: \\n\",np.round(rho,2))\n",
    "print(f\"P-value: \\n\",np.round(p_value,2))"
   ]
  },
  {
   "cell_type": "markdown",
   "id": "53d8ee05",
   "metadata": {
    "papermill": {
     "duration": 0.022189,
     "end_time": "2024-01-14T20:12:25.095780",
     "exception": false,
     "start_time": "2024-01-14T20:12:25.073591",
     "status": "completed"
    },
    "tags": []
   },
   "source": [
    "* Pearson correlation includes both variables, and it assesses linear relationships.\n",
    "* Spearman correlation includes both variables, and it assesses monotonic relationships.\n",
    "* All linear relationships are monotonic, but not all monotonic relationships are linear. A monotonic relationship indicates a consistent directional trend, while a linear relationship specifically refers to a proportional change represented by a straight line.\n",
    "* When calculating the Variance Inflation Factor (VIF), you do not include the dependent variable (target variable) because VIF is specifically designed to assess multicollinearity among independent variables in a regression model."
   ]
  },
  {
   "cell_type": "markdown",
   "id": "da94ee98",
   "metadata": {
    "papermill": {
     "duration": 0.022649,
     "end_time": "2024-01-14T20:12:25.141772",
     "exception": false,
     "start_time": "2024-01-14T20:12:25.119123",
     "status": "completed"
    },
    "tags": []
   },
   "source": [
    "# Scaler and PCA"
   ]
  },
  {
   "cell_type": "code",
   "execution_count": 24,
   "id": "1e3d9fae",
   "metadata": {
    "execution": {
     "iopub.execute_input": "2024-01-14T20:12:25.189661Z",
     "iopub.status.busy": "2024-01-14T20:12:25.188249Z",
     "iopub.status.idle": "2024-01-14T20:12:25.255845Z",
     "shell.execute_reply": "2024-01-14T20:12:25.254350Z"
    },
    "papermill": {
     "duration": 0.095171,
     "end_time": "2024-01-14T20:12:25.259553",
     "exception": false,
     "start_time": "2024-01-14T20:12:25.164382",
     "status": "completed"
    },
    "tags": []
   },
   "outputs": [],
   "source": [
    "scaler = MinMaxScaler()\n",
    "df[['year','miles','accidents','Owners','price']] = scaler.fit_transform(df[['year','miles','accidents','Owners','price']])\n",
    "\n",
    "from sklearn.decomposition import PCA\n",
    "\n",
    "pca = PCA(n_components=2)\n",
    "\n",
    "principalComponents = pca.fit_transform(df[['year','miles','accidents','Owners']])\n",
    "\n",
    "principalDf = pd.DataFrame(data = principalComponents\n",
    "             , columns = ['principal component 1', 'principal component 2'])"
   ]
  },
  {
   "cell_type": "markdown",
   "id": "8ecfcacb",
   "metadata": {
    "papermill": {
     "duration": 0.022792,
     "end_time": "2024-01-14T20:12:25.305048",
     "exception": false,
     "start_time": "2024-01-14T20:12:25.282256",
     "status": "completed"
    },
    "tags": []
   },
   "source": [
    "# Linear Regression"
   ]
  },
  {
   "cell_type": "code",
   "execution_count": 25,
   "id": "d0207db5",
   "metadata": {
    "execution": {
     "iopub.execute_input": "2024-01-14T20:12:25.352298Z",
     "iopub.status.busy": "2024-01-14T20:12:25.351854Z",
     "iopub.status.idle": "2024-01-14T20:12:25.383949Z",
     "shell.execute_reply": "2024-01-14T20:12:25.382475Z"
    },
    "papermill": {
     "duration": 0.058636,
     "end_time": "2024-01-14T20:12:25.386668",
     "exception": false,
     "start_time": "2024-01-14T20:12:25.328032",
     "status": "completed"
    },
    "tags": []
   },
   "outputs": [
    {
     "name": "stdout",
     "output_type": "stream",
     "text": [
      "Mean Squared Error: 0.02329053518023622\n"
     ]
    }
   ],
   "source": [
    "X = principalDf\n",
    "y = df[['price']]\n",
    "# Split the data into training and testing sets\n",
    "X_train, X_test, y_train, y_test = train_test_split(X, y, test_size=0.2, random_state=42)\n",
    "# Train a linear regression model\n",
    "model = LinearRegression()\n",
    "model.fit(X_train, y_train)\n",
    "\n",
    "# Make predictions for the test set\n",
    "predictions = model.predict(X_test)\n",
    "\n",
    "# Evaluate the model\n",
    "mse = mean_squared_error(y_test, predictions)\n",
    "print(f'Mean Squared Error: {mse}')"
   ]
  },
  {
   "cell_type": "markdown",
   "id": "13fe3c69",
   "metadata": {
    "papermill": {
     "duration": 0.023965,
     "end_time": "2024-01-14T20:12:25.434945",
     "exception": false,
     "start_time": "2024-01-14T20:12:25.410980",
     "status": "completed"
    },
    "tags": []
   },
   "source": [
    "# Random Forest Regressor"
   ]
  },
  {
   "cell_type": "code",
   "execution_count": 26,
   "id": "71d5e75e",
   "metadata": {
    "execution": {
     "iopub.execute_input": "2024-01-14T20:12:25.485073Z",
     "iopub.status.busy": "2024-01-14T20:12:25.484377Z",
     "iopub.status.idle": "2024-01-14T20:12:25.722207Z",
     "shell.execute_reply": "2024-01-14T20:12:25.720931Z"
    },
    "papermill": {
     "duration": 0.266564,
     "end_time": "2024-01-14T20:12:25.725910",
     "exception": false,
     "start_time": "2024-01-14T20:12:25.459346",
     "status": "completed"
    },
    "tags": []
   },
   "outputs": [
    {
     "name": "stdout",
     "output_type": "stream",
     "text": [
      "Mean Squared Error: 0.024580151987078504\n"
     ]
    },
    {
     "name": "stderr",
     "output_type": "stream",
     "text": [
      "/tmp/ipykernel_18/3357852153.py:5: DataConversionWarning: A column-vector y was passed when a 1d array was expected. Please change the shape of y to (n_samples,), for example using ravel().\n",
      "  model.fit(X_train, y_train)\n"
     ]
    }
   ],
   "source": [
    "from sklearn.ensemble import RandomForestRegressor\n",
    "\n",
    "# Train a Random Forest Regressor model\n",
    "model = RandomForestRegressor(n_estimators=10, random_state=42)\n",
    "model.fit(X_train, y_train)\n",
    "\n",
    "# Make predictions for the test set\n",
    "predictions = model.predict(X_test)\n",
    "\n",
    "# Evaluate the model\n",
    "mse = mean_squared_error(y_test, predictions)\n",
    "print(f'Mean Squared Error: {mse}')"
   ]
  },
  {
   "cell_type": "markdown",
   "id": "b69f1430",
   "metadata": {
    "papermill": {
     "duration": 0.022515,
     "end_time": "2024-01-14T20:12:25.772424",
     "exception": false,
     "start_time": "2024-01-14T20:12:25.749909",
     "status": "completed"
    },
    "tags": []
   },
   "source": [
    "# Ridge Resgression"
   ]
  },
  {
   "cell_type": "code",
   "execution_count": 27,
   "id": "9908105a",
   "metadata": {
    "execution": {
     "iopub.execute_input": "2024-01-14T20:12:25.824205Z",
     "iopub.status.busy": "2024-01-14T20:12:25.823170Z",
     "iopub.status.idle": "2024-01-14T20:12:25.844637Z",
     "shell.execute_reply": "2024-01-14T20:12:25.843403Z"
    },
    "papermill": {
     "duration": 0.050747,
     "end_time": "2024-01-14T20:12:25.847582",
     "exception": false,
     "start_time": "2024-01-14T20:12:25.796835",
     "status": "completed"
    },
    "tags": []
   },
   "outputs": [
    {
     "name": "stdout",
     "output_type": "stream",
     "text": [
      "Mean Squared Error: 0.023286265401419176\n"
     ]
    }
   ],
   "source": [
    "ridge_model = Ridge(alpha=1.0)  # You can adjust the alpha (regularization strength) parameter\n",
    "\n",
    "# Fit the model on the training data\n",
    "ridge_model.fit(X_train, y_train)\n",
    "\n",
    "# Make predictions on the test data\n",
    "y_pred = ridge_model.predict(X_test)\n",
    "\n",
    "# Evaluate the model\n",
    "mse = mean_squared_error(y_test, y_pred)\n",
    "print(f'Mean Squared Error: {mse}')"
   ]
  },
  {
   "cell_type": "markdown",
   "id": "95b1e45a",
   "metadata": {
    "papermill": {
     "duration": 0.022907,
     "end_time": "2024-01-14T20:12:25.894830",
     "exception": false,
     "start_time": "2024-01-14T20:12:25.871923",
     "status": "completed"
    },
    "tags": []
   },
   "source": [
    "# Lasso Regression"
   ]
  },
  {
   "cell_type": "code",
   "execution_count": 28,
   "id": "7751407f",
   "metadata": {
    "execution": {
     "iopub.execute_input": "2024-01-14T20:12:25.945037Z",
     "iopub.status.busy": "2024-01-14T20:12:25.944332Z",
     "iopub.status.idle": "2024-01-14T20:12:25.964115Z",
     "shell.execute_reply": "2024-01-14T20:12:25.962197Z"
    },
    "papermill": {
     "duration": 0.048402,
     "end_time": "2024-01-14T20:12:25.966900",
     "exception": false,
     "start_time": "2024-01-14T20:12:25.918498",
     "status": "completed"
    },
    "tags": []
   },
   "outputs": [
    {
     "name": "stdout",
     "output_type": "stream",
     "text": [
      "Mean Squared Error (Lasso): 0.038069438855097684\n"
     ]
    }
   ],
   "source": [
    "# Create Lasso Regression model\n",
    "lasso_model = Lasso(alpha=1.0)  # You can adjust the alpha (regularization strength) parameter\n",
    "\n",
    "# Fit the model on the training data\n",
    "lasso_model.fit(X_train, y_train)\n",
    "\n",
    "# Make predictions on the test data\n",
    "y_pred_lasso = lasso_model.predict(X_test)\n",
    "\n",
    "# Evaluate the model\n",
    "mse_lasso = mean_squared_error(y_test, y_pred_lasso)\n",
    "print(f'Mean Squared Error (Lasso): {mse_lasso}')"
   ]
  },
  {
   "cell_type": "markdown",
   "id": "eead605b",
   "metadata": {
    "papermill": {
     "duration": 0.026039,
     "end_time": "2024-01-14T20:12:26.019336",
     "exception": false,
     "start_time": "2024-01-14T20:12:25.993297",
     "status": "completed"
    },
    "tags": []
   },
   "source": [
    "# XGBoost Regressor"
   ]
  },
  {
   "cell_type": "code",
   "execution_count": 29,
   "id": "6f896077",
   "metadata": {
    "execution": {
     "iopub.execute_input": "2024-01-14T20:12:26.071566Z",
     "iopub.status.busy": "2024-01-14T20:12:26.070481Z",
     "iopub.status.idle": "2024-01-14T20:12:26.177494Z",
     "shell.execute_reply": "2024-01-14T20:12:26.176357Z"
    },
    "papermill": {
     "duration": 0.137018,
     "end_time": "2024-01-14T20:12:26.180867",
     "exception": false,
     "start_time": "2024-01-14T20:12:26.043849",
     "status": "completed"
    },
    "tags": []
   },
   "outputs": [
    {
     "name": "stdout",
     "output_type": "stream",
     "text": [
      "Mean Squared Error (XGBoost): 0.0226666555349453\n"
     ]
    }
   ],
   "source": [
    "# Convert data to DMatrix format used by XGBoost\n",
    "dtrain = xgb.DMatrix(X_train, label=y_train)\n",
    "dtest = xgb.DMatrix(X_test, label=y_test)\n",
    "\n",
    "# Define XGBoost parameters\n",
    "params = {'objective': 'reg:squarederror', 'colsample_bytree': 0.8, 'learning_rate': 0.1, 'max_depth': 3, 'alpha': 10}\n",
    "\n",
    "# Train XGBoost model\n",
    "num_rounds = 100\n",
    "xgb_model = xgb.train(params, dtrain, num_rounds)\n",
    "\n",
    "# Make predictions on the test data\n",
    "y_pred_xgb = xgb_model.predict(dtest)\n",
    "\n",
    "# Evaluate the model\n",
    "mse_xgb = mean_squared_error(y_test, y_pred_xgb)\n",
    "print(f'Mean Squared Error (XGBoost): {mse_xgb}')"
   ]
  }
 ],
 "metadata": {
  "kaggle": {
   "accelerator": "none",
   "dataSources": [
    {
     "datasetId": 4243612,
     "sourceId": 7312995,
     "sourceType": "datasetVersion"
    }
   ],
   "dockerImageVersionId": 30635,
   "isGpuEnabled": false,
   "isInternetEnabled": true,
   "language": "python",
   "sourceType": "notebook"
  },
  "kernelspec": {
   "display_name": "Python 3",
   "language": "python",
   "name": "python3"
  },
  "language_info": {
   "codemirror_mode": {
    "name": "ipython",
    "version": 3
   },
   "file_extension": ".py",
   "mimetype": "text/x-python",
   "name": "python",
   "nbconvert_exporter": "python",
   "pygments_lexer": "ipython3",
   "version": "3.10.12"
  },
  "papermill": {
   "default_parameters": {},
   "duration": 19.196916,
   "end_time": "2024-01-14T20:12:27.030683",
   "environment_variables": {},
   "exception": null,
   "input_path": "__notebook__.ipynb",
   "output_path": "__notebook__.ipynb",
   "parameters": {},
   "start_time": "2024-01-14T20:12:07.833767",
   "version": "2.4.0"
  }
 },
 "nbformat": 4,
 "nbformat_minor": 5
}
