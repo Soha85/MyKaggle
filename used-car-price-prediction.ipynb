{
 "cells": [
  {
   "cell_type": "code",
   "execution_count": 1,
   "id": "532a770b",
   "metadata": {
    "_cell_guid": "b1076dfc-b9ad-4769-8c92-a6c4dae69d19",
    "_uuid": "8f2839f25d086af736a60e9eeb907d3b93b6e0e5",
    "execution": {
     "iopub.execute_input": "2024-01-14T17:45:57.032967Z",
     "iopub.status.busy": "2024-01-14T17:45:57.032279Z",
     "iopub.status.idle": "2024-01-14T17:45:59.025894Z",
     "shell.execute_reply": "2024-01-14T17:45:59.024811Z"
    },
    "papermill": {
     "duration": 2.004325,
     "end_time": "2024-01-14T17:45:59.028205",
     "exception": false,
     "start_time": "2024-01-14T17:45:57.023880",
     "status": "completed"
    },
    "tags": []
   },
   "outputs": [
    {
     "name": "stdout",
     "output_type": "stream",
     "text": [
      "/kaggle/input/used-car-price-prediction/car_web_scraped_dataset.csv\n"
     ]
    }
   ],
   "source": [
    "from sklearn.preprocessing import StandardScaler,MinMaxScaler\n",
    "from sklearn.model_selection import train_test_split\n",
    "from sklearn.linear_model import LinearRegression\n",
    "from sklearn.metrics import mean_squared_error\n",
    "import matplotlib.pyplot as plt\n",
    "import numpy as np # linear algebra\n",
    "import pandas as pd # data processing, CSV file I/O (e.g. pd.read_csv)\n",
    "import seaborn as sns\n",
    "import os\n",
    "for dirname, _, filenames in os.walk('/kaggle/input'):\n",
    "    for filename in filenames:\n",
    "        print(os.path.join(dirname, filename))"
   ]
  },
  {
   "cell_type": "markdown",
   "id": "913e36ee",
   "metadata": {
    "papermill": {
     "duration": 0.006026,
     "end_time": "2024-01-14T17:45:59.040675",
     "exception": false,
     "start_time": "2024-01-14T17:45:59.034649",
     "status": "completed"
    },
    "tags": []
   },
   "source": [
    "# Loading Data"
   ]
  },
  {
   "cell_type": "code",
   "execution_count": 2,
   "id": "1e6908b8",
   "metadata": {
    "execution": {
     "iopub.execute_input": "2024-01-14T17:45:59.055132Z",
     "iopub.status.busy": "2024-01-14T17:45:59.054601Z",
     "iopub.status.idle": "2024-01-14T17:45:59.113257Z",
     "shell.execute_reply": "2024-01-14T17:45:59.112354Z"
    },
    "papermill": {
     "duration": 0.068763,
     "end_time": "2024-01-14T17:45:59.115519",
     "exception": false,
     "start_time": "2024-01-14T17:45:59.046756",
     "status": "completed"
    },
    "tags": []
   },
   "outputs": [
    {
     "name": "stdout",
     "output_type": "stream",
     "text": [
      "<class 'pandas.core.frame.DataFrame'>\n",
      "RangeIndex: 2840 entries, 0 to 2839\n",
      "Data columns (total 6 columns):\n",
      " #   Column     Non-Null Count  Dtype \n",
      "---  ------     --------------  ----- \n",
      " 0   name       2840 non-null   object\n",
      " 1   year       2840 non-null   int64 \n",
      " 2   miles      2840 non-null   object\n",
      " 3   color      2840 non-null   object\n",
      " 4   condition  2840 non-null   object\n",
      " 5   price      2840 non-null   object\n",
      "dtypes: int64(1), object(5)\n",
      "memory usage: 133.2+ KB\n"
     ]
    }
   ],
   "source": [
    "df = pd.read_csv('/kaggle/input/used-car-price-prediction/car_web_scraped_dataset.csv')\n",
    "df.info()"
   ]
  },
  {
   "cell_type": "markdown",
   "id": "7eb69968",
   "metadata": {
    "papermill": {
     "duration": 0.006084,
     "end_time": "2024-01-14T17:45:59.128085",
     "exception": false,
     "start_time": "2024-01-14T17:45:59.122001",
     "status": "completed"
    },
    "tags": []
   },
   "source": [
    "# Preprocessing & Statistics"
   ]
  },
  {
   "cell_type": "code",
   "execution_count": 3,
   "id": "6162d3a0",
   "metadata": {
    "execution": {
     "iopub.execute_input": "2024-01-14T17:45:59.142246Z",
     "iopub.status.busy": "2024-01-14T17:45:59.141870Z",
     "iopub.status.idle": "2024-01-14T17:45:59.161430Z",
     "shell.execute_reply": "2024-01-14T17:45:59.160375Z"
    },
    "papermill": {
     "duration": 0.029281,
     "end_time": "2024-01-14T17:45:59.163517",
     "exception": false,
     "start_time": "2024-01-14T17:45:59.134236",
     "status": "completed"
    },
    "tags": []
   },
   "outputs": [
    {
     "data": {
      "text/html": [
       "<div>\n",
       "<style scoped>\n",
       "    .dataframe tbody tr th:only-of-type {\n",
       "        vertical-align: middle;\n",
       "    }\n",
       "\n",
       "    .dataframe tbody tr th {\n",
       "        vertical-align: top;\n",
       "    }\n",
       "\n",
       "    .dataframe thead th {\n",
       "        text-align: right;\n",
       "    }\n",
       "</style>\n",
       "<table border=\"1\" class=\"dataframe\">\n",
       "  <thead>\n",
       "    <tr style=\"text-align: right;\">\n",
       "      <th></th>\n",
       "      <th>name</th>\n",
       "      <th>year</th>\n",
       "      <th>miles</th>\n",
       "      <th>color</th>\n",
       "      <th>condition</th>\n",
       "      <th>price</th>\n",
       "    </tr>\n",
       "  </thead>\n",
       "  <tbody>\n",
       "    <tr>\n",
       "      <th>0</th>\n",
       "      <td>Kia Forte</td>\n",
       "      <td>2022</td>\n",
       "      <td>41,406 miles</td>\n",
       "      <td>Gray exterior, Black interior</td>\n",
       "      <td>No accidents reported, 1 Owner</td>\n",
       "      <td>$15,988</td>\n",
       "    </tr>\n",
       "    <tr>\n",
       "      <th>1</th>\n",
       "      <td>Chevrolet Silverado 1500</td>\n",
       "      <td>2021</td>\n",
       "      <td>15,138 miles</td>\n",
       "      <td>White exterior, Black interior</td>\n",
       "      <td>1 accident reported, 1 Owner</td>\n",
       "      <td>$38,008</td>\n",
       "    </tr>\n",
       "    <tr>\n",
       "      <th>2</th>\n",
       "      <td>Toyota RAV4</td>\n",
       "      <td>2022</td>\n",
       "      <td>32,879 miles</td>\n",
       "      <td>Silver exterior, Unknown interior</td>\n",
       "      <td>No accidents reported, 1 Owner</td>\n",
       "      <td>$24,988</td>\n",
       "    </tr>\n",
       "    <tr>\n",
       "      <th>3</th>\n",
       "      <td>Honda Civic</td>\n",
       "      <td>2020</td>\n",
       "      <td>37,190 miles</td>\n",
       "      <td>Blue exterior, Black interior</td>\n",
       "      <td>No accidents reported, 1 Owner</td>\n",
       "      <td>$18,998</td>\n",
       "    </tr>\n",
       "    <tr>\n",
       "      <th>4</th>\n",
       "      <td>Honda Civic</td>\n",
       "      <td>2020</td>\n",
       "      <td>27,496 miles</td>\n",
       "      <td>Black exterior, Black interior</td>\n",
       "      <td>No accidents reported, 1 Owner</td>\n",
       "      <td>$19,498</td>\n",
       "    </tr>\n",
       "    <tr>\n",
       "      <th>5</th>\n",
       "      <td>Honda Civic</td>\n",
       "      <td>2020</td>\n",
       "      <td>29,026 miles</td>\n",
       "      <td>Silver exterior, Black interior</td>\n",
       "      <td>1 accident reported, 1 Owner</td>\n",
       "      <td>$21,000</td>\n",
       "    </tr>\n",
       "    <tr>\n",
       "      <th>6</th>\n",
       "      <td>Honda Accord</td>\n",
       "      <td>2019</td>\n",
       "      <td>4,148 miles</td>\n",
       "      <td>Black exterior, Black interior</td>\n",
       "      <td>1 accident reported, 1 Owner</td>\n",
       "      <td>$20,998</td>\n",
       "    </tr>\n",
       "    <tr>\n",
       "      <th>7</th>\n",
       "      <td>Mercedes-Benz GLC</td>\n",
       "      <td>2018</td>\n",
       "      <td>57,602 miles</td>\n",
       "      <td>Blue exterior, Unknown interior</td>\n",
       "      <td>1 accident reported, 3 Owners</td>\n",
       "      <td>$18,887</td>\n",
       "    </tr>\n",
       "    <tr>\n",
       "      <th>8</th>\n",
       "      <td>Honda Civic</td>\n",
       "      <td>2020</td>\n",
       "      <td>50,240 miles</td>\n",
       "      <td>Black exterior, Black interior</td>\n",
       "      <td>1 accident reported, 1 Owner</td>\n",
       "      <td>$19,498</td>\n",
       "    </tr>\n",
       "    <tr>\n",
       "      <th>9</th>\n",
       "      <td>BMW 5 Series</td>\n",
       "      <td>2013</td>\n",
       "      <td>56,766 miles</td>\n",
       "      <td>White exterior, Black interior</td>\n",
       "      <td>No accidents reported, 3 Owners</td>\n",
       "      <td>$17,998</td>\n",
       "    </tr>\n",
       "    <tr>\n",
       "      <th>10</th>\n",
       "      <td>Jeep Wrangler</td>\n",
       "      <td>2018</td>\n",
       "      <td>44,099 miles</td>\n",
       "      <td>Gray exterior, Black interior</td>\n",
       "      <td>No accidents reported, 2 Owners</td>\n",
       "      <td>$30,998</td>\n",
       "    </tr>\n",
       "    <tr>\n",
       "      <th>11</th>\n",
       "      <td>Honda Civic</td>\n",
       "      <td>2020</td>\n",
       "      <td>11,140 miles</td>\n",
       "      <td>Black exterior, Black interior</td>\n",
       "      <td>No accidents reported, 1 Owner</td>\n",
       "      <td>$20,998</td>\n",
       "    </tr>\n",
       "    <tr>\n",
       "      <th>12</th>\n",
       "      <td>Honda Civic</td>\n",
       "      <td>2020</td>\n",
       "      <td>8,506 miles</td>\n",
       "      <td>Gray exterior, Black interior</td>\n",
       "      <td>No accidents reported, 1 Owner</td>\n",
       "      <td>$22,597</td>\n",
       "    </tr>\n",
       "    <tr>\n",
       "      <th>13</th>\n",
       "      <td>Mercedes-Benz GLC</td>\n",
       "      <td>2021</td>\n",
       "      <td>38,760 miles</td>\n",
       "      <td>Black exterior, Black interior</td>\n",
       "      <td>No accidents reported, 1 Owner</td>\n",
       "      <td>$29,998</td>\n",
       "    </tr>\n",
       "    <tr>\n",
       "      <th>14</th>\n",
       "      <td>Porsche Macan</td>\n",
       "      <td>2020</td>\n",
       "      <td>27,002 miles</td>\n",
       "      <td>White exterior, Black interior</td>\n",
       "      <td>No accidents reported, 2 Owners</td>\n",
       "      <td>$39,998</td>\n",
       "    </tr>\n",
       "    <tr>\n",
       "      <th>15</th>\n",
       "      <td>Honda Civic</td>\n",
       "      <td>2021</td>\n",
       "      <td>22,850 miles</td>\n",
       "      <td>White exterior, Black interior</td>\n",
       "      <td>No accidents reported, 1 Owner</td>\n",
       "      <td>$21,998</td>\n",
       "    </tr>\n",
       "    <tr>\n",
       "      <th>16</th>\n",
       "      <td>Buick Cascada</td>\n",
       "      <td>2016</td>\n",
       "      <td>68,660 miles</td>\n",
       "      <td>White exterior, Beige interior</td>\n",
       "      <td>1 accident reported, 2 Owners</td>\n",
       "      <td>$17,998</td>\n",
       "    </tr>\n",
       "    <tr>\n",
       "      <th>17</th>\n",
       "      <td>BMW 3 Series</td>\n",
       "      <td>2014</td>\n",
       "      <td>55,079 miles</td>\n",
       "      <td>White exterior, Black interior</td>\n",
       "      <td>No accidents reported, 2 Owners</td>\n",
       "      <td>$17,998</td>\n",
       "    </tr>\n",
       "    <tr>\n",
       "      <th>18</th>\n",
       "      <td>Jeep Grand Cherokee</td>\n",
       "      <td>2017</td>\n",
       "      <td>64,337 miles</td>\n",
       "      <td>White exterior, Black interior</td>\n",
       "      <td>No accidents reported, 2 Owners</td>\n",
       "      <td>$19,598</td>\n",
       "    </tr>\n",
       "    <tr>\n",
       "      <th>19</th>\n",
       "      <td>Mercedes-Benz C-Class</td>\n",
       "      <td>2018</td>\n",
       "      <td>83,424 miles</td>\n",
       "      <td>White exterior, Black interior</td>\n",
       "      <td>1 accident reported, 2 Owners</td>\n",
       "      <td>$18,285</td>\n",
       "    </tr>\n",
       "  </tbody>\n",
       "</table>\n",
       "</div>"
      ],
      "text/plain": [
       "                        name  year         miles  \\\n",
       "0                  Kia Forte  2022  41,406 miles   \n",
       "1   Chevrolet Silverado 1500  2021  15,138 miles   \n",
       "2                Toyota RAV4  2022  32,879 miles   \n",
       "3                Honda Civic  2020  37,190 miles   \n",
       "4                Honda Civic  2020  27,496 miles   \n",
       "5                Honda Civic  2020  29,026 miles   \n",
       "6               Honda Accord  2019   4,148 miles   \n",
       "7          Mercedes-Benz GLC  2018  57,602 miles   \n",
       "8                Honda Civic  2020  50,240 miles   \n",
       "9               BMW 5 Series  2013  56,766 miles   \n",
       "10             Jeep Wrangler  2018  44,099 miles   \n",
       "11               Honda Civic  2020  11,140 miles   \n",
       "12               Honda Civic  2020   8,506 miles   \n",
       "13         Mercedes-Benz GLC  2021  38,760 miles   \n",
       "14             Porsche Macan  2020  27,002 miles   \n",
       "15               Honda Civic  2021  22,850 miles   \n",
       "16             Buick Cascada  2016  68,660 miles   \n",
       "17              BMW 3 Series  2014  55,079 miles   \n",
       "18       Jeep Grand Cherokee  2017  64,337 miles   \n",
       "19     Mercedes-Benz C-Class  2018  83,424 miles   \n",
       "\n",
       "                                color                        condition  \\\n",
       "0       Gray exterior, Black interior   No accidents reported, 1 Owner   \n",
       "1      White exterior, Black interior     1 accident reported, 1 Owner   \n",
       "2   Silver exterior, Unknown interior   No accidents reported, 1 Owner   \n",
       "3       Blue exterior, Black interior   No accidents reported, 1 Owner   \n",
       "4      Black exterior, Black interior   No accidents reported, 1 Owner   \n",
       "5     Silver exterior, Black interior     1 accident reported, 1 Owner   \n",
       "6      Black exterior, Black interior     1 accident reported, 1 Owner   \n",
       "7     Blue exterior, Unknown interior    1 accident reported, 3 Owners   \n",
       "8      Black exterior, Black interior     1 accident reported, 1 Owner   \n",
       "9      White exterior, Black interior  No accidents reported, 3 Owners   \n",
       "10      Gray exterior, Black interior  No accidents reported, 2 Owners   \n",
       "11     Black exterior, Black interior   No accidents reported, 1 Owner   \n",
       "12      Gray exterior, Black interior   No accidents reported, 1 Owner   \n",
       "13     Black exterior, Black interior   No accidents reported, 1 Owner   \n",
       "14     White exterior, Black interior  No accidents reported, 2 Owners   \n",
       "15     White exterior, Black interior   No accidents reported, 1 Owner   \n",
       "16     White exterior, Beige interior    1 accident reported, 2 Owners   \n",
       "17     White exterior, Black interior  No accidents reported, 2 Owners   \n",
       "18     White exterior, Black interior  No accidents reported, 2 Owners   \n",
       "19     White exterior, Black interior    1 accident reported, 2 Owners   \n",
       "\n",
       "      price  \n",
       "0   $15,988  \n",
       "1   $38,008  \n",
       "2   $24,988  \n",
       "3   $18,998  \n",
       "4   $19,498  \n",
       "5   $21,000  \n",
       "6   $20,998  \n",
       "7   $18,887  \n",
       "8   $19,498  \n",
       "9   $17,998  \n",
       "10  $30,998  \n",
       "11  $20,998  \n",
       "12  $22,597  \n",
       "13  $29,998  \n",
       "14  $39,998  \n",
       "15  $21,998  \n",
       "16  $17,998  \n",
       "17  $17,998  \n",
       "18  $19,598  \n",
       "19  $18,285  "
      ]
     },
     "execution_count": 3,
     "metadata": {},
     "output_type": "execute_result"
    }
   ],
   "source": [
    "#preview sample of data to see what preprocess should handle\n",
    "df.head(20)"
   ]
  },
  {
   "cell_type": "code",
   "execution_count": 4,
   "id": "591a48d4",
   "metadata": {
    "execution": {
     "iopub.execute_input": "2024-01-14T17:45:59.178904Z",
     "iopub.status.busy": "2024-01-14T17:45:59.178207Z",
     "iopub.status.idle": "2024-01-14T17:45:59.186448Z",
     "shell.execute_reply": "2024-01-14T17:45:59.185384Z"
    },
    "papermill": {
     "duration": 0.018336,
     "end_time": "2024-01-14T17:45:59.188603",
     "exception": false,
     "start_time": "2024-01-14T17:45:59.170267",
     "status": "completed"
    },
    "tags": []
   },
   "outputs": [
    {
     "data": {
      "text/plain": [
       "condition\n",
       "No accidents reported, 1 Owner     1575\n",
       "No accidents reported, 2 Owners     426\n",
       "1 accident reported, 1 Owner        236\n",
       "1 accident reported, 2 Owners       157\n",
       "No accidents reported, 3 Owners     152\n",
       "1 accident reported, 3 Owners        58\n",
       "2 accidents reported, 1 Owner        43\n",
       "No accidents reported, 4 Owners      41\n",
       "2 accidents reported, 2 Owners       30\n",
       "2 accidents reported, 3 Owners       26\n",
       "1 accident reported, 4 Owners        17\n",
       "No accidents reported, 0 Owners      13\n",
       "2 accidents reported, 4 Owners       12\n",
       "No accidents reported, 5 Owners      11\n",
       "1 accident reported, 5 Owners        10\n",
       "3 accidents reported, 1 Owner         9\n",
       "4 accidents reported, 3 Owners        5\n",
       "3 accidents reported, 2 Owners        4\n",
       "3 accidents reported, 3 Owners        3\n",
       "No accidents reported, 7 Owners       3\n",
       "3 accidents reported, 4 Owners        2\n",
       "5 accidents reported, 5 Owners        2\n",
       "No accidents reported, 8 Owners       2\n",
       "2 accidents reported, 5 Owners        2\n",
       "4 accidents reported, 2 Owners        1\n",
       "Name: count, dtype: int64"
      ]
     },
     "execution_count": 4,
     "metadata": {},
     "output_type": "execute_result"
    }
   ],
   "source": [
    "#check unique values in condition\n",
    "df['condition'].value_counts()"
   ]
  },
  {
   "cell_type": "code",
   "execution_count": 5,
   "id": "3d76cdbc",
   "metadata": {
    "execution": {
     "iopub.execute_input": "2024-01-14T17:45:59.204959Z",
     "iopub.status.busy": "2024-01-14T17:45:59.204238Z",
     "iopub.status.idle": "2024-01-14T17:45:59.262257Z",
     "shell.execute_reply": "2024-01-14T17:45:59.261140Z"
    },
    "papermill": {
     "duration": 0.069017,
     "end_time": "2024-01-14T17:45:59.264930",
     "exception": false,
     "start_time": "2024-01-14T17:45:59.195913",
     "status": "completed"
    },
    "tags": []
   },
   "outputs": [],
   "source": [
    "#remove miles from column miles and transform it to float datatype\n",
    "df['miles']=df['miles'].replace('miles', '', regex=True)\n",
    "df['miles']=df['miles'].replace(',', '', regex=True)\n",
    "df['miles']=df['miles'].astype(float)\n",
    "#remove $ from column Price and transform it to float datatype\n",
    "df['price']=df['price'].str.replace('$', '')\n",
    "df['price']=df['price'].replace(',', '', regex=True)\n",
    "df['price']=df['price'].astype(float)\n",
    "#replace 'accidents reported' into ,\n",
    "df['condition']=df['condition'].replace('accidents reported,', ',', regex=True)\n",
    "#replace 'accident reported' into ,\n",
    "df['condition']=df['condition'].replace('accident reported,', ',', regex=True)\n",
    "#replace 'No' into zero\n",
    "df['condition']=df['condition'].replace('No', '0', regex=True)\n",
    "#replace 'Owner' into empty\n",
    "df['condition']=df['condition'].replace('Owners', '', regex=True)\n",
    "#replace 'Owner' into empty\n",
    "df['condition']=df['condition'].replace('Owner', '', regex=True)\n",
    "# Split the 'ColumnWithCommas' into two columns based on ','\n",
    "df[['accidents', 'Owners']] = df['condition'].str.split(',', expand=True)\n",
    "df['accidents']=df['accidents'].astype(int)\n",
    "df['Owners']=df['Owners'].astype(int)"
   ]
  },
  {
   "cell_type": "code",
   "execution_count": 6,
   "id": "24a2d4c8",
   "metadata": {
    "execution": {
     "iopub.execute_input": "2024-01-14T17:45:59.280727Z",
     "iopub.status.busy": "2024-01-14T17:45:59.280342Z",
     "iopub.status.idle": "2024-01-14T17:45:59.293970Z",
     "shell.execute_reply": "2024-01-14T17:45:59.292895Z"
    },
    "papermill": {
     "duration": 0.0242,
     "end_time": "2024-01-14T17:45:59.296238",
     "exception": false,
     "start_time": "2024-01-14T17:45:59.272038",
     "status": "completed"
    },
    "tags": []
   },
   "outputs": [
    {
     "name": "stdout",
     "output_type": "stream",
     "text": [
      "<class 'pandas.core.frame.DataFrame'>\n",
      "RangeIndex: 2840 entries, 0 to 2839\n",
      "Data columns (total 8 columns):\n",
      " #   Column     Non-Null Count  Dtype  \n",
      "---  ------     --------------  -----  \n",
      " 0   name       2840 non-null   object \n",
      " 1   year       2840 non-null   int64  \n",
      " 2   miles      2840 non-null   float64\n",
      " 3   color      2840 non-null   object \n",
      " 4   condition  2840 non-null   object \n",
      " 5   price      2840 non-null   float64\n",
      " 6   accidents  2840 non-null   int64  \n",
      " 7   Owners     2840 non-null   int64  \n",
      "dtypes: float64(2), int64(3), object(3)\n",
      "memory usage: 177.6+ KB\n"
     ]
    }
   ],
   "source": [
    "#recheck dataframe after preprocessing\n",
    "df.info()"
   ]
  },
  {
   "cell_type": "code",
   "execution_count": 7,
   "id": "37052bf2",
   "metadata": {
    "execution": {
     "iopub.execute_input": "2024-01-14T17:45:59.312267Z",
     "iopub.status.busy": "2024-01-14T17:45:59.311338Z",
     "iopub.status.idle": "2024-01-14T17:45:59.323738Z",
     "shell.execute_reply": "2024-01-14T17:45:59.322779Z"
    },
    "papermill": {
     "duration": 0.0225,
     "end_time": "2024-01-14T17:45:59.325725",
     "exception": false,
     "start_time": "2024-01-14T17:45:59.303225",
     "status": "completed"
    },
    "tags": []
   },
   "outputs": [
    {
     "name": "stdout",
     "output_type": "stream",
     "text": [
      "column name null values: 0\n",
      "column name uniques counts: 309\n",
      "------------------------------------------------\n",
      "column year null values: 0\n",
      "column year uniques counts: 24\n",
      "------------------------------------------------\n",
      "column miles null values: 0\n",
      "column miles uniques counts: 2280\n",
      "------------------------------------------------\n",
      "column color null values: 0\n",
      "column color uniques counts: 64\n",
      "------------------------------------------------\n",
      "column condition null values: 0\n",
      "column condition uniques counts: 25\n",
      "------------------------------------------------\n",
      "column price null values: 0\n",
      "column price uniques counts: 1245\n",
      "------------------------------------------------\n",
      "column accidents null values: 0\n",
      "column accidents uniques counts: 6\n",
      "------------------------------------------------\n",
      "column Owners null values: 0\n",
      "column Owners uniques counts: 8\n",
      "------------------------------------------------\n"
     ]
    }
   ],
   "source": [
    "#Check nulls and unique values\n",
    "for col in df.columns:\n",
    "    print(\"column\",col,\"null values:\",df[col].isnull().sum())\n",
    "    print(\"column\",col,\"uniques counts:\",df[col].nunique())\n",
    "    print(\"------------------------------------------------\")"
   ]
  },
  {
   "cell_type": "code",
   "execution_count": 8,
   "id": "7443f718",
   "metadata": {
    "execution": {
     "iopub.execute_input": "2024-01-14T17:45:59.341763Z",
     "iopub.status.busy": "2024-01-14T17:45:59.341105Z",
     "iopub.status.idle": "2024-01-14T17:45:59.351537Z",
     "shell.execute_reply": "2024-01-14T17:45:59.350872Z"
    },
    "papermill": {
     "duration": 0.020601,
     "end_time": "2024-01-14T17:45:59.353497",
     "exception": false,
     "start_time": "2024-01-14T17:45:59.332896",
     "status": "completed"
    },
    "tags": []
   },
   "outputs": [],
   "source": [
    "#extract mark from name\n",
    "df['mark'] = df['name'].str.split(' ', expand=True)[0]"
   ]
  },
  {
   "cell_type": "code",
   "execution_count": 9,
   "id": "26b60dc9",
   "metadata": {
    "execution": {
     "iopub.execute_input": "2024-01-14T17:45:59.369839Z",
     "iopub.status.busy": "2024-01-14T17:45:59.368876Z",
     "iopub.status.idle": "2024-01-14T17:45:59.392722Z",
     "shell.execute_reply": "2024-01-14T17:45:59.391756Z"
    },
    "papermill": {
     "duration": 0.034354,
     "end_time": "2024-01-14T17:45:59.394986",
     "exception": false,
     "start_time": "2024-01-14T17:45:59.360632",
     "status": "completed"
    },
    "tags": []
   },
   "outputs": [
    {
     "data": {
      "text/html": [
       "<div>\n",
       "<style scoped>\n",
       "    .dataframe tbody tr th:only-of-type {\n",
       "        vertical-align: middle;\n",
       "    }\n",
       "\n",
       "    .dataframe tbody tr th {\n",
       "        vertical-align: top;\n",
       "    }\n",
       "\n",
       "    .dataframe thead th {\n",
       "        text-align: right;\n",
       "    }\n",
       "</style>\n",
       "<table border=\"1\" class=\"dataframe\">\n",
       "  <thead>\n",
       "    <tr style=\"text-align: right;\">\n",
       "      <th></th>\n",
       "      <th>year</th>\n",
       "      <th>miles</th>\n",
       "      <th>price</th>\n",
       "      <th>accidents</th>\n",
       "      <th>Owners</th>\n",
       "    </tr>\n",
       "  </thead>\n",
       "  <tbody>\n",
       "    <tr>\n",
       "      <th>count</th>\n",
       "      <td>2840.000000</td>\n",
       "      <td>2840.000000</td>\n",
       "      <td>2840.000000</td>\n",
       "      <td>2840.000000</td>\n",
       "      <td>2840.000000</td>\n",
       "    </tr>\n",
       "    <tr>\n",
       "      <th>mean</th>\n",
       "      <td>2018.833803</td>\n",
       "      <td>50138.445775</td>\n",
       "      <td>25745.427465</td>\n",
       "      <td>0.278873</td>\n",
       "      <td>1.507394</td>\n",
       "    </tr>\n",
       "    <tr>\n",
       "      <th>std</th>\n",
       "      <td>3.557585</td>\n",
       "      <td>36482.439893</td>\n",
       "      <td>13627.610019</td>\n",
       "      <td>0.598558</td>\n",
       "      <td>0.866146</td>\n",
       "    </tr>\n",
       "    <tr>\n",
       "      <th>min</th>\n",
       "      <td>2000.000000</td>\n",
       "      <td>25.000000</td>\n",
       "      <td>4395.000000</td>\n",
       "      <td>0.000000</td>\n",
       "      <td>0.000000</td>\n",
       "    </tr>\n",
       "    <tr>\n",
       "      <th>25%</th>\n",
       "      <td>2017.000000</td>\n",
       "      <td>23233.750000</td>\n",
       "      <td>17851.000000</td>\n",
       "      <td>0.000000</td>\n",
       "      <td>1.000000</td>\n",
       "    </tr>\n",
       "    <tr>\n",
       "      <th>50%</th>\n",
       "      <td>2020.000000</td>\n",
       "      <td>41076.000000</td>\n",
       "      <td>23000.000000</td>\n",
       "      <td>0.000000</td>\n",
       "      <td>1.000000</td>\n",
       "    </tr>\n",
       "    <tr>\n",
       "      <th>75%</th>\n",
       "      <td>2021.000000</td>\n",
       "      <td>70978.250000</td>\n",
       "      <td>31222.500000</td>\n",
       "      <td>0.000000</td>\n",
       "      <td>2.000000</td>\n",
       "    </tr>\n",
       "    <tr>\n",
       "      <th>max</th>\n",
       "      <td>2024.000000</td>\n",
       "      <td>307292.000000</td>\n",
       "      <td>252900.000000</td>\n",
       "      <td>5.000000</td>\n",
       "      <td>8.000000</td>\n",
       "    </tr>\n",
       "  </tbody>\n",
       "</table>\n",
       "</div>"
      ],
      "text/plain": [
       "              year          miles          price    accidents       Owners\n",
       "count  2840.000000    2840.000000    2840.000000  2840.000000  2840.000000\n",
       "mean   2018.833803   50138.445775   25745.427465     0.278873     1.507394\n",
       "std       3.557585   36482.439893   13627.610019     0.598558     0.866146\n",
       "min    2000.000000      25.000000    4395.000000     0.000000     0.000000\n",
       "25%    2017.000000   23233.750000   17851.000000     0.000000     1.000000\n",
       "50%    2020.000000   41076.000000   23000.000000     0.000000     1.000000\n",
       "75%    2021.000000   70978.250000   31222.500000     0.000000     2.000000\n",
       "max    2024.000000  307292.000000  252900.000000     5.000000     8.000000"
      ]
     },
     "execution_count": 9,
     "metadata": {},
     "output_type": "execute_result"
    }
   ],
   "source": [
    "df.describe()"
   ]
  },
  {
   "cell_type": "markdown",
   "id": "8776994e",
   "metadata": {
    "papermill": {
     "duration": 0.007084,
     "end_time": "2024-01-14T17:45:59.410070",
     "exception": false,
     "start_time": "2024-01-14T17:45:59.402986",
     "status": "completed"
    },
    "tags": []
   },
   "source": [
    "# Outliers"
   ]
  },
  {
   "cell_type": "code",
   "execution_count": 10,
   "id": "bbc0968f",
   "metadata": {
    "execution": {
     "iopub.execute_input": "2024-01-14T17:45:59.426339Z",
     "iopub.status.busy": "2024-01-14T17:45:59.425959Z",
     "iopub.status.idle": "2024-01-14T17:45:59.442789Z",
     "shell.execute_reply": "2024-01-14T17:45:59.441756Z"
    },
    "papermill": {
     "duration": 0.027606,
     "end_time": "2024-01-14T17:45:59.445111",
     "exception": false,
     "start_time": "2024-01-14T17:45:59.417505",
     "status": "completed"
    },
    "tags": []
   },
   "outputs": [
    {
     "name": "stdout",
     "output_type": "stream",
     "text": [
      "Column= year\n",
      "unique values= 24\n",
      "Threshold= 10\n",
      "outliers= 28\n",
      "all= 2840\n",
      "outlier percentages= 1.0 %\n",
      "-------------------------\n",
      "Column= accidents\n",
      "unique values= 6\n",
      "Threshold= 50\n",
      "outliers= 26\n",
      "all= 2840\n",
      "outlier percentages= 1.0 %\n",
      "-------------------------\n",
      "Column= Owners\n",
      "unique values= 8\n",
      "Threshold= 20\n",
      "outliers= 18\n",
      "all= 2840\n",
      "outlier percentages= 1.0 %\n",
      "-------------------------\n"
     ]
    }
   ],
   "source": [
    "def get_outliers(col,threshold):\n",
    "    category_counts = df[col].value_counts()\n",
    "\n",
    "    # Set a threshold for low frequency\n",
    "    uncommon_categories = category_counts[category_counts < threshold].index.tolist()\n",
    "\n",
    "    # Identify rows with uncommon categories\n",
    "    outliers = df[df[col].isin(uncommon_categories)]\n",
    "    print(\"Column=\",col)\n",
    "    print(\"unique values=\",len(df[col].value_counts()))\n",
    "    print(\"Threshold=\",threshold)\n",
    "    print(\"outliers=\",len(outliers))\n",
    "    print(\"all=\",len(df[col]))\n",
    "    print(\"outlier percentages=\",round(len(outliers)/len(df[col]),2) * 100 ,\"%\")\n",
    "    print(\"-------------------------\")\n",
    "    \n",
    "get_outliers('year',10)\n",
    "get_outliers('accidents',50)\n",
    "get_outliers('Owners',20)"
   ]
  },
  {
   "cell_type": "markdown",
   "id": "86c8ec5a",
   "metadata": {
    "papermill": {
     "duration": 0.006913,
     "end_time": "2024-01-14T17:45:59.459543",
     "exception": false,
     "start_time": "2024-01-14T17:45:59.452630",
     "status": "completed"
    },
    "tags": []
   },
   "source": [
    "# EDAs"
   ]
  },
  {
   "cell_type": "code",
   "execution_count": 11,
   "id": "4ce6dcf6",
   "metadata": {
    "execution": {
     "iopub.execute_input": "2024-01-14T17:45:59.476212Z",
     "iopub.status.busy": "2024-01-14T17:45:59.475261Z",
     "iopub.status.idle": "2024-01-14T17:46:00.229986Z",
     "shell.execute_reply": "2024-01-14T17:46:00.228937Z"
    },
    "papermill": {
     "duration": 0.765373,
     "end_time": "2024-01-14T17:46:00.232164",
     "exception": false,
     "start_time": "2024-01-14T17:45:59.466791",
     "status": "completed"
    },
    "tags": []
   },
   "outputs": [
    {
     "data": {
      "image/png": "[encoded data removed]",
      "text/plain": [
       "<Figure size 640x480 with 1 Axes>"
      ]
     },
     "metadata": {},
     "output_type": "display_data"
    },
    {
     "data": {
      "image/png": "[encoded data removed]",
      "text/plain": [
       "<Figure size 640x480 with 1 Axes>"
      ]
     },
     "metadata": {},
     "output_type": "display_data"
    },
    {
     "data": {
      "image/png": "[encoded data removed]",
      "text/plain": [
       "<Figure size 640x480 with 1 Axes>"
      ]
     },
     "metadata": {},
     "output_type": "display_data"
    }
   ],
   "source": [
    "#Count plot for cars per year, owner, and accident\n",
    "col= ['year','Owners','accidents']\n",
    "for c in col:\n",
    "    df[c].value_counts().plot(kind='bar')\n",
    "    plt.show()"
   ]
  },
  {
   "cell_type": "markdown",
   "id": "e6c9ed46",
   "metadata": {
    "papermill": {
     "duration": 0.008105,
     "end_time": "2024-01-14T17:46:00.248777",
     "exception": false,
     "start_time": "2024-01-14T17:46:00.240672",
     "status": "completed"
    },
    "tags": []
   },
   "source": [
    "# Grouped EDAs"
   ]
  },
  {
   "cell_type": "code",
   "execution_count": 12,
   "id": "4d7c4c2b",
   "metadata": {
    "execution": {
     "iopub.execute_input": "2024-01-14T17:46:00.267808Z",
     "iopub.status.busy": "2024-01-14T17:46:00.267419Z",
     "iopub.status.idle": "2024-01-14T17:46:01.067978Z",
     "shell.execute_reply": "2024-01-14T17:46:01.066876Z"
    },
    "papermill": {
     "duration": 0.813305,
     "end_time": "2024-01-14T17:46:01.070722",
     "exception": false,
     "start_time": "2024-01-14T17:46:00.257417",
     "status": "completed"
    },
    "tags": []
   },
   "outputs": [
    {
     "data": {
      "text/plain": [
       "(array([ 0,  1,  2,  3,  4,  5,  6,  7,  8,  9, 10, 11, 12, 13, 14, 15, 16,\n",
       "        17, 18, 19, 20, 21, 22, 23]),\n",
       " [Text(0, 0, '2000'),\n",
       "  Text(1, 0, '2002'),\n",
       "  Text(2, 0, '2003'),\n",
       "  Text(3, 0, '2004'),\n",
       "  Text(4, 0, '2005'),\n",
       "  Text(5, 0, '2006'),\n",
       "  Text(6, 0, '2007'),\n",
       "  Text(7, 0, '2008'),\n",
       "  Text(8, 0, '2009'),\n",
       "  Text(9, 0, '2010'),\n",
       "  Text(10, 0, '2011'),\n",
       "  Text(11, 0, '2012'),\n",
       "  Text(12, 0, '2013'),\n",
       "  Text(13, 0, '2014'),\n",
       "  Text(14, 0, '2015'),\n",
       "  Text(15, 0, '2016'),\n",
       "  Text(16, 0, '2017'),\n",
       "  Text(17, 0, '2018'),\n",
       "  Text(18, 0, '2019'),\n",
       "  Text(19, 0, '2020'),\n",
       "  Text(20, 0, '2021'),\n",
       "  Text(21, 0, '2022'),\n",
       "  Text(22, 0, '2023'),\n",
       "  Text(23, 0, '2024')])"
      ]
     },
     "execution_count": 12,
     "metadata": {},
     "output_type": "execute_result"
    },
    {
     "data": {
      "image/png": "[encoded data removed]",
      "text/plain": [
       "<Figure size 640x480 with 1 Axes>"
      ]
     },
     "metadata": {},
     "output_type": "display_data"
    }
   ],
   "source": [
    "sns.countplot(x='year',data=df,hue='accidents')\n",
    "plt.xticks(rotation=45)"
   ]
  },
  {
   "cell_type": "code",
   "execution_count": 13,
   "id": "89df8f38",
   "metadata": {
    "execution": {
     "iopub.execute_input": "2024-01-14T17:46:01.090593Z",
     "iopub.status.busy": "2024-01-14T17:46:01.090229Z",
     "iopub.status.idle": "2024-01-14T17:46:02.138925Z",
     "shell.execute_reply": "2024-01-14T17:46:02.137875Z"
    },
    "papermill": {
     "duration": 1.061811,
     "end_time": "2024-01-14T17:46:02.141390",
     "exception": false,
     "start_time": "2024-01-14T17:46:01.079579",
     "status": "completed"
    },
    "tags": []
   },
   "outputs": [
    {
     "data": {
      "text/plain": [
       "(array([ 0,  1,  2,  3,  4,  5,  6,  7,  8,  9, 10, 11, 12, 13, 14, 15, 16,\n",
       "        17, 18, 19, 20, 21, 22, 23]),\n",
       " [Text(0, 0, '2000'),\n",
       "  Text(1, 0, '2002'),\n",
       "  Text(2, 0, '2003'),\n",
       "  Text(3, 0, '2004'),\n",
       "  Text(4, 0, '2005'),\n",
       "  Text(5, 0, '2006'),\n",
       "  Text(6, 0, '2007'),\n",
       "  Text(7, 0, '2008'),\n",
       "  Text(8, 0, '2009'),\n",
       "  Text(9, 0, '2010'),\n",
       "  Text(10, 0, '2011'),\n",
       "  Text(11, 0, '2012'),\n",
       "  Text(12, 0, '2013'),\n",
       "  Text(13, 0, '2014'),\n",
       "  Text(14, 0, '2015'),\n",
       "  Text(15, 0, '2016'),\n",
       "  Text(16, 0, '2017'),\n",
       "  Text(17, 0, '2018'),\n",
       "  Text(18, 0, '2019'),\n",
       "  Text(19, 0, '2020'),\n",
       "  Text(20, 0, '2021'),\n",
       "  Text(21, 0, '2022'),\n",
       "  Text(22, 0, '2023'),\n",
       "  Text(23, 0, '2024')])"
      ]
     },
     "execution_count": 13,
     "metadata": {},
     "output_type": "execute_result"
    },
    {
     "data": {
      "image/png": "[encoded data removed]",
      "text/plain": [
       "<Figure size 640x480 with 1 Axes>"
      ]
     },
     "metadata": {},
     "output_type": "display_data"
    }
   ],
   "source": [
    "sns.countplot(x='year',data=df,hue='Owners')\n",
    "plt.xticks(rotation=45)"
   ]
  },
  {
   "cell_type": "code",
   "execution_count": 14,
   "id": "655e5ee0",
   "metadata": {
    "execution": {
     "iopub.execute_input": "2024-01-14T17:46:02.162923Z",
     "iopub.status.busy": "2024-01-14T17:46:02.162549Z",
     "iopub.status.idle": "2024-01-14T17:46:02.177831Z",
     "shell.execute_reply": "2024-01-14T17:46:02.176685Z"
    },
    "papermill": {
     "duration": 0.028595,
     "end_time": "2024-01-14T17:46:02.180009",
     "exception": false,
     "start_time": "2024-01-14T17:46:02.151414",
     "status": "completed"
    },
    "tags": []
   },
   "outputs": [
    {
     "data": {
      "text/html": [
       "<div>\n",
       "<style scoped>\n",
       "    .dataframe tbody tr th:only-of-type {\n",
       "        vertical-align: middle;\n",
       "    }\n",
       "\n",
       "    .dataframe tbody tr th {\n",
       "        vertical-align: top;\n",
       "    }\n",
       "\n",
       "    .dataframe thead th {\n",
       "        text-align: right;\n",
       "    }\n",
       "</style>\n",
       "<table border=\"1\" class=\"dataframe\">\n",
       "  <thead>\n",
       "    <tr style=\"text-align: right;\">\n",
       "      <th></th>\n",
       "      <th>year</th>\n",
       "      <th>accidents</th>\n",
       "      <th>Owners</th>\n",
       "    </tr>\n",
       "  </thead>\n",
       "  <tbody>\n",
       "    <tr>\n",
       "      <th>0</th>\n",
       "      <td>2000</td>\n",
       "      <td>1</td>\n",
       "      <td>7</td>\n",
       "    </tr>\n",
       "    <tr>\n",
       "      <th>1</th>\n",
       "      <td>2002</td>\n",
       "      <td>0</td>\n",
       "      <td>10</td>\n",
       "    </tr>\n",
       "    <tr>\n",
       "      <th>2</th>\n",
       "      <td>2003</td>\n",
       "      <td>0</td>\n",
       "      <td>16</td>\n",
       "    </tr>\n",
       "    <tr>\n",
       "      <th>3</th>\n",
       "      <td>2004</td>\n",
       "      <td>3</td>\n",
       "      <td>14</td>\n",
       "    </tr>\n",
       "    <tr>\n",
       "      <th>4</th>\n",
       "      <td>2005</td>\n",
       "      <td>6</td>\n",
       "      <td>11</td>\n",
       "    </tr>\n",
       "    <tr>\n",
       "      <th>5</th>\n",
       "      <td>2006</td>\n",
       "      <td>6</td>\n",
       "      <td>24</td>\n",
       "    </tr>\n",
       "    <tr>\n",
       "      <th>6</th>\n",
       "      <td>2007</td>\n",
       "      <td>9</td>\n",
       "      <td>50</td>\n",
       "    </tr>\n",
       "    <tr>\n",
       "      <th>7</th>\n",
       "      <td>2008</td>\n",
       "      <td>1</td>\n",
       "      <td>19</td>\n",
       "    </tr>\n",
       "    <tr>\n",
       "      <th>8</th>\n",
       "      <td>2009</td>\n",
       "      <td>13</td>\n",
       "      <td>39</td>\n",
       "    </tr>\n",
       "    <tr>\n",
       "      <th>9</th>\n",
       "      <td>2010</td>\n",
       "      <td>10</td>\n",
       "      <td>41</td>\n",
       "    </tr>\n",
       "    <tr>\n",
       "      <th>10</th>\n",
       "      <td>2011</td>\n",
       "      <td>25</td>\n",
       "      <td>81</td>\n",
       "    </tr>\n",
       "    <tr>\n",
       "      <th>11</th>\n",
       "      <td>2012</td>\n",
       "      <td>13</td>\n",
       "      <td>122</td>\n",
       "    </tr>\n",
       "    <tr>\n",
       "      <th>12</th>\n",
       "      <td>2013</td>\n",
       "      <td>45</td>\n",
       "      <td>160</td>\n",
       "    </tr>\n",
       "    <tr>\n",
       "      <th>13</th>\n",
       "      <td>2014</td>\n",
       "      <td>58</td>\n",
       "      <td>235</td>\n",
       "    </tr>\n",
       "    <tr>\n",
       "      <th>14</th>\n",
       "      <td>2015</td>\n",
       "      <td>72</td>\n",
       "      <td>318</td>\n",
       "    </tr>\n",
       "    <tr>\n",
       "      <th>15</th>\n",
       "      <td>2016</td>\n",
       "      <td>69</td>\n",
       "      <td>300</td>\n",
       "    </tr>\n",
       "    <tr>\n",
       "      <th>16</th>\n",
       "      <td>2017</td>\n",
       "      <td>83</td>\n",
       "      <td>277</td>\n",
       "    </tr>\n",
       "    <tr>\n",
       "      <th>17</th>\n",
       "      <td>2018</td>\n",
       "      <td>80</td>\n",
       "      <td>350</td>\n",
       "    </tr>\n",
       "    <tr>\n",
       "      <th>18</th>\n",
       "      <td>2019</td>\n",
       "      <td>64</td>\n",
       "      <td>362</td>\n",
       "    </tr>\n",
       "    <tr>\n",
       "      <th>19</th>\n",
       "      <td>2020</td>\n",
       "      <td>105</td>\n",
       "      <td>594</td>\n",
       "    </tr>\n",
       "    <tr>\n",
       "      <th>20</th>\n",
       "      <td>2021</td>\n",
       "      <td>102</td>\n",
       "      <td>704</td>\n",
       "    </tr>\n",
       "    <tr>\n",
       "      <th>21</th>\n",
       "      <td>2022</td>\n",
       "      <td>26</td>\n",
       "      <td>323</td>\n",
       "    </tr>\n",
       "    <tr>\n",
       "      <th>22</th>\n",
       "      <td>2023</td>\n",
       "      <td>1</td>\n",
       "      <td>213</td>\n",
       "    </tr>\n",
       "    <tr>\n",
       "      <th>23</th>\n",
       "      <td>2024</td>\n",
       "      <td>0</td>\n",
       "      <td>11</td>\n",
       "    </tr>\n",
       "  </tbody>\n",
       "</table>\n",
       "</div>"
      ],
      "text/plain": [
       "    year  accidents  Owners\n",
       "0   2000          1       7\n",
       "1   2002          0      10\n",
       "2   2003          0      16\n",
       "3   2004          3      14\n",
       "4   2005          6      11\n",
       "5   2006          6      24\n",
       "6   2007          9      50\n",
       "7   2008          1      19\n",
       "8   2009         13      39\n",
       "9   2010         10      41\n",
       "10  2011         25      81\n",
       "11  2012         13     122\n",
       "12  2013         45     160\n",
       "13  2014         58     235\n",
       "14  2015         72     318\n",
       "15  2016         69     300\n",
       "16  2017         83     277\n",
       "17  2018         80     350\n",
       "18  2019         64     362\n",
       "19  2020        105     594\n",
       "20  2021        102     704\n",
       "21  2022         26     323\n",
       "22  2023          1     213\n",
       "23  2024          0      11"
      ]
     },
     "execution_count": 14,
     "metadata": {},
     "output_type": "execute_result"
    }
   ],
   "source": [
    "# Aggregate 'accidents' by 'year'\n",
    "df_agg = df.groupby(['year'])[['accidents','Owners']].sum().reset_index()\n",
    "df_agg"
   ]
  },
  {
   "cell_type": "code",
   "execution_count": 15,
   "id": "7fe9a212",
   "metadata": {
    "execution": {
     "iopub.execute_input": "2024-01-14T17:46:02.201087Z",
     "iopub.status.busy": "2024-01-14T17:46:02.200282Z",
     "iopub.status.idle": "2024-01-14T17:46:06.168192Z",
     "shell.execute_reply": "2024-01-14T17:46:06.167208Z"
    },
    "papermill": {
     "duration": 3.980876,
     "end_time": "2024-01-14T17:46:06.170523",
     "exception": false,
     "start_time": "2024-01-14T17:46:02.189647",
     "status": "completed"
    },
    "tags": []
   },
   "outputs": [
    {
     "data": {
      "image/png": "[encoded data removed]",
      "text/plain": [
       "<Figure size 500x1500 with 1 Axes>"
      ]
     },
     "metadata": {},
     "output_type": "display_data"
    }
   ],
   "source": [
    "# Create a count plot\n",
    "plt.figure(figsize=(5,15))\n",
    "sns.barplot(x='year', y='accidents', hue='Owners', data=df_agg, palette='Set1')\n",
    "plt.title('Aggregated Count Plot')\n",
    "plt.xticks(rotation=45)\n",
    "plt.show()"
   ]
  },
  {
   "cell_type": "markdown",
   "id": "7bc8ee98",
   "metadata": {
    "papermill": {
     "duration": 0.009993,
     "end_time": "2024-01-14T17:46:06.190896",
     "exception": false,
     "start_time": "2024-01-14T17:46:06.180903",
     "status": "completed"
    },
    "tags": []
   },
   "source": [
    "# Statitical plots"
   ]
  },
  {
   "cell_type": "code",
   "execution_count": 16,
   "id": "a77de2b9",
   "metadata": {
    "execution": {
     "iopub.execute_input": "2024-01-14T17:46:06.213573Z",
     "iopub.status.busy": "2024-01-14T17:46:06.212585Z",
     "iopub.status.idle": "2024-01-14T17:46:07.197754Z",
     "shell.execute_reply": "2024-01-14T17:46:07.196983Z"
    },
    "papermill": {
     "duration": 0.998621,
     "end_time": "2024-01-14T17:46:07.199790",
     "exception": false,
     "start_time": "2024-01-14T17:46:06.201169",
     "status": "completed"
    },
    "tags": []
   },
   "outputs": [
    {
     "data": {
      "image/png": "[encoded data removed]",
      "text/plain": [
       "<Figure size 640x480 with 1 Axes>"
      ]
     },
     "metadata": {},
     "output_type": "display_data"
    },
    {
     "data": {
      "image/png": "[encoded data removed]",
      "text/plain": [
       "<Figure size 640x480 with 1 Axes>"
      ]
     },
     "metadata": {},
     "output_type": "display_data"
    },
    {
     "data": {
      "image/png": "[encoded data removed]",
      "text/plain": [
       "<Figure size 640x480 with 1 Axes>"
      ]
     },
     "metadata": {},
     "output_type": "display_data"
    },
    {
     "data": {
      "image/png": "[encoded data removed]",
      "text/plain": [
       "<Figure size 640x480 with 1 Axes>"
      ]
     },
     "metadata": {},
     "output_type": "display_data"
    },
    {
     "data": {
      "image/png": "[encoded data removed]",
      "text/plain": [
       "<Figure size 640x480 with 1 Axes>"
      ]
     },
     "metadata": {},
     "output_type": "display_data"
    }
   ],
   "source": [
    "for c in ['year','Owners','accidents','price','miles']:\n",
    "    sns.boxplot(df[c])\n",
    "    plt.title(\"boxplot for \"+c)\n",
    "    plt.show()"
   ]
  },
  {
   "cell_type": "markdown",
   "id": "e8569553",
   "metadata": {
    "papermill": {
     "duration": 0.011522,
     "end_time": "2024-01-14T17:46:07.223651",
     "exception": false,
     "start_time": "2024-01-14T17:46:07.212129",
     "status": "completed"
    },
    "tags": []
   },
   "source": [
    "# Numerical Data"
   ]
  },
  {
   "cell_type": "code",
   "execution_count": 17,
   "id": "764e0edb",
   "metadata": {
    "execution": {
     "iopub.execute_input": "2024-01-14T17:46:07.248655Z",
     "iopub.status.busy": "2024-01-14T17:46:07.247796Z",
     "iopub.status.idle": "2024-01-14T17:46:07.269169Z",
     "shell.execute_reply": "2024-01-14T17:46:07.267858Z"
    },
    "papermill": {
     "duration": 0.03629,
     "end_time": "2024-01-14T17:46:07.271332",
     "exception": false,
     "start_time": "2024-01-14T17:46:07.235042",
     "status": "completed"
    },
    "tags": []
   },
   "outputs": [
    {
     "name": "stdout",
     "output_type": "stream",
     "text": [
      "year NumericColumn is not normally distributed.\n",
      "miles NumericColumn is not normally distributed.\n",
      "accidents NumericColumn is not normally distributed.\n",
      "Owners NumericColumn is not normally distributed.\n",
      "price NumericColumn is not normally distributed.\n"
     ]
    }
   ],
   "source": [
    "numeric_cols = ['year','miles','accidents','Owners','price']\n",
    "from scipy.stats import normaltest\n",
    "for c in numeric_cols:\n",
    "    stat, p_value = normaltest(df[c])\n",
    "    if p_value < 0.05:\n",
    "        print(c,'NumericColumn is not normally distributed.')\n",
    "    else:\n",
    "        print(c,'NumericColumn follows a normal distribution.')"
   ]
  },
  {
   "cell_type": "code",
   "execution_count": 18,
   "id": "6cd2a508",
   "metadata": {
    "execution": {
     "iopub.execute_input": "2024-01-14T17:46:07.296989Z",
     "iopub.status.busy": "2024-01-14T17:46:07.296243Z",
     "iopub.status.idle": "2024-01-14T17:46:07.643981Z",
     "shell.execute_reply": "2024-01-14T17:46:07.642827Z"
    },
    "papermill": {
     "duration": 0.363039,
     "end_time": "2024-01-14T17:46:07.646245",
     "exception": false,
     "start_time": "2024-01-14T17:46:07.283206",
     "status": "completed"
    },
    "tags": []
   },
   "outputs": [
    {
     "data": {
      "image/png": "[encoded data removed]",
      "text/plain": [
       "<Figure size 640x480 with 2 Axes>"
      ]
     },
     "metadata": {},
     "output_type": "display_data"
    }
   ],
   "source": [
    "correlation_matrix = df[numeric_cols].corr()\n",
    "sns.heatmap(correlation_matrix, annot=True, cmap='coolwarm')\n",
    "plt.title('Correlation Heatmap')\n",
    "plt.show()"
   ]
  },
  {
   "cell_type": "code",
   "execution_count": 19,
   "id": "5778c9ec",
   "metadata": {
    "execution": {
     "iopub.execute_input": "2024-01-14T17:46:07.673383Z",
     "iopub.status.busy": "2024-01-14T17:46:07.672615Z",
     "iopub.status.idle": "2024-01-14T17:46:07.682048Z",
     "shell.execute_reply": "2024-01-14T17:46:07.680867Z"
    },
    "papermill": {
     "duration": 0.025612,
     "end_time": "2024-01-14T17:46:07.684545",
     "exception": false,
     "start_time": "2024-01-14T17:46:07.658933",
     "status": "completed"
    },
    "tags": []
   },
   "outputs": [
    {
     "name": "stdout",
     "output_type": "stream",
     "text": [
      "Highly Correlated Variables:\n",
      "[]\n",
      "\n",
      "Weakly Correlated Variables:\n",
      "[('accidents', 'Owners'), ('Owners', 'price'), ('year', 'price'), ('year', 'accidents'), ('miles', 'Owners'), ('accidents', 'price'), ('miles', 'accidents')]\n"
     ]
    }
   ],
   "source": [
    "# Identify highly correlated columns\n",
    "highly_correlated_vars = set()\n",
    "\n",
    "for col1 in correlation_matrix.columns:\n",
    "    for col2 in correlation_matrix.index:\n",
    "        # Check if col1 and col2 are different before adding to the set\n",
    "        if col1 != col2 and abs(correlation_matrix.loc[col1, col2]) > 0.8 and (col2, col1) not in highly_correlated_vars:\n",
    "            highly_correlated_vars.add((col1, col2))\n",
    "\n",
    "# Convert the set to a list\n",
    "highly_correlated_vars_list = list(highly_correlated_vars)\n",
    "\n",
    "print(\"Highly Correlated Variables:\")\n",
    "print(highly_correlated_vars_list)\n",
    "\n",
    "# Identify weakly correlated columns\n",
    "weakly_correlated_vars = set()\n",
    "\n",
    "for col1 in correlation_matrix.columns:\n",
    "    for col2 in correlation_matrix.index:\n",
    "        # Check if col1 and col2 are different before adding to the set\n",
    "        if col1 != col2 and abs(correlation_matrix.loc[col1, col2]) < 0.5 and (col2, col1) not in weakly_correlated_vars:\n",
    "            weakly_correlated_vars.add((col1, col2))\n",
    "\n",
    "# Convert the set to a list\n",
    "weakly_correlated_vars_list = list(weakly_correlated_vars)\n",
    "\n",
    "print(\"\\nWeakly Correlated Variables:\")\n",
    "print(weakly_correlated_vars_list)"
   ]
  },
  {
   "cell_type": "code",
   "execution_count": 20,
   "id": "4a04294f",
   "metadata": {
    "execution": {
     "iopub.execute_input": "2024-01-14T17:46:07.711682Z",
     "iopub.status.busy": "2024-01-14T17:46:07.710968Z",
     "iopub.status.idle": "2024-01-14T17:46:07.869110Z",
     "shell.execute_reply": "2024-01-14T17:46:07.868149Z"
    },
    "papermill": {
     "duration": 0.174162,
     "end_time": "2024-01-14T17:46:07.871411",
     "exception": false,
     "start_time": "2024-01-14T17:46:07.697249",
     "status": "completed"
    },
    "tags": []
   },
   "outputs": [
    {
     "data": {
      "text/html": [
       "<div>\n",
       "<style scoped>\n",
       "    .dataframe tbody tr th:only-of-type {\n",
       "        vertical-align: middle;\n",
       "    }\n",
       "\n",
       "    .dataframe tbody tr th {\n",
       "        vertical-align: top;\n",
       "    }\n",
       "\n",
       "    .dataframe thead th {\n",
       "        text-align: right;\n",
       "    }\n",
       "</style>\n",
       "<table border=\"1\" class=\"dataframe\">\n",
       "  <thead>\n",
       "    <tr style=\"text-align: right;\">\n",
       "      <th></th>\n",
       "      <th>Variable</th>\n",
       "      <th>VIF</th>\n",
       "    </tr>\n",
       "  </thead>\n",
       "  <tbody>\n",
       "    <tr>\n",
       "      <th>0</th>\n",
       "      <td>year</td>\n",
       "      <td>4.375097</td>\n",
       "    </tr>\n",
       "    <tr>\n",
       "      <th>1</th>\n",
       "      <td>miles</td>\n",
       "      <td>3.894792</td>\n",
       "    </tr>\n",
       "    <tr>\n",
       "      <th>2</th>\n",
       "      <td>accidents</td>\n",
       "      <td>1.325610</td>\n",
       "    </tr>\n",
       "    <tr>\n",
       "      <th>3</th>\n",
       "      <td>Owners</td>\n",
       "      <td>5.371175</td>\n",
       "    </tr>\n",
       "  </tbody>\n",
       "</table>\n",
       "</div>"
      ],
      "text/plain": [
       "    Variable       VIF\n",
       "0       year  4.375097\n",
       "1      miles  3.894792\n",
       "2  accidents  1.325610\n",
       "3     Owners  5.371175"
      ]
     },
     "execution_count": 20,
     "metadata": {},
     "output_type": "execute_result"
    }
   ],
   "source": [
    "from statsmodels.stats.outliers_influence import variance_inflation_factor\n",
    "#Variables with high VIF values (typically above 5 or 10) may indicate multicollinearity.\n",
    "# Assuming 'X' is your design matrix (independent variables)\n",
    "vif_data = pd.DataFrame()\n",
    "vif_data[\"Variable\"] = df[['year','miles','accidents','Owners']].columns\n",
    "vif_data[\"VIF\"] = [variance_inflation_factor(df[['year','miles','accidents','Owners']].values, i) for i in range(df[['year','miles','accidents','Owners']].shape[1])]\n",
    "vif_data"
   ]
  },
  {
   "cell_type": "code",
   "execution_count": 21,
   "id": "e8116dc9",
   "metadata": {
    "execution": {
     "iopub.execute_input": "2024-01-14T17:46:07.898881Z",
     "iopub.status.busy": "2024-01-14T17:46:07.898166Z",
     "iopub.status.idle": "2024-01-14T17:46:07.910540Z",
     "shell.execute_reply": "2024-01-14T17:46:07.909316Z"
    },
    "papermill": {
     "duration": 0.02826,
     "end_time": "2024-01-14T17:46:07.912360",
     "exception": false,
     "start_time": "2024-01-14T17:46:07.884100",
     "status": "completed"
    },
    "tags": []
   },
   "outputs": [
    {
     "name": "stdout",
     "output_type": "stream",
     "text": [
      "Spearman Correlation Coefficient: \n",
      " [[ 1.   -0.75 -0.29 -0.58  0.61]\n",
      " [-0.75  1.    0.27  0.5  -0.68]\n",
      " [-0.29  0.27  1.    0.23 -0.23]\n",
      " [-0.58  0.5   0.23  1.   -0.39]\n",
      " [ 0.61 -0.68 -0.23 -0.39  1.  ]]\n",
      "P-value: \n",
      " [[0. 0. 0. 0. 0.]\n",
      " [0. 0. 0. 0. 0.]\n",
      " [0. 0. 0. 0. 0.]\n",
      " [0. 0. 0. 0. 0.]\n",
      " [0. 0. 0. 0. 0.]]\n"
     ]
    }
   ],
   "source": [
    "from scipy.stats import spearmanr\n",
    "\n",
    "# Example data\n",
    "independent_variable = df[['year','miles','accidents','Owners']]\n",
    "dependent_variable = df[['price']]\n",
    "\n",
    "# Calculate Spearman correlation coefficient\n",
    "rho, p_value = spearmanr(independent_variable, dependent_variable)\n",
    "\n",
    "print(f\"Spearman Correlation Coefficient: \\n\",np.round(rho,2))\n",
    "print(f\"P-value: \\n\",np.round(p_value,2))"
   ]
  },
  {
   "cell_type": "markdown",
   "id": "9165d713",
   "metadata": {
    "papermill": {
     "duration": 0.012236,
     "end_time": "2024-01-14T17:46:07.937399",
     "exception": false,
     "start_time": "2024-01-14T17:46:07.925163",
     "status": "completed"
    },
    "tags": []
   },
   "source": [
    "* Pearson correlation includes both variables, and it assesses linear relationships.\n",
    "* Spearman correlation includes both variables, and it assesses monotonic relationships.\n",
    "* All linear relationships are monotonic, but not all monotonic relationships are linear. A monotonic relationship indicates a consistent directional trend, while a linear relationship specifically refers to a proportional change represented by a straight line.\n",
    "* When calculating the Variance Inflation Factor (VIF), you do not include the dependent variable (target variable) because VIF is specifically designed to assess multicollinearity among independent variables in a regression model."
   ]
  }
 ],
 "metadata": {
  "kaggle": {
   "accelerator": "none",
   "dataSources": [
    {
     "datasetId": 4243612,
     "sourceId": 7312995,
     "sourceType": "datasetVersion"
    }
   ],
   "dockerImageVersionId": 30635,
   "isGpuEnabled": false,
   "isInternetEnabled": true,
   "language": "python",
   "sourceType": "notebook"
  },
  "kernelspec": {
   "display_name": "Python 3",
   "language": "python",
   "name": "python3"
  },
  "language_info": {
   "codemirror_mode": {
    "name": "ipython",
    "version": 3
   },
   "file_extension": ".py",
   "mimetype": "text/x-python",
   "name": "python",
   "nbconvert_exporter": "python",
   "pygments_lexer": "ipython3",
   "version": "3.10.12"
  },
  "papermill": {
   "default_parameters": {},
   "duration": 14.560001,
   "end_time": "2024-01-14T17:46:08.623550",
   "environment_variables": {},
   "exception": null,
   "input_path": "__notebook__.ipynb",
   "output_path": "__notebook__.ipynb",
   "parameters": {},
   "start_time": "2024-01-14T17:45:54.063549",
   "version": "2.4.0"
  }
 },
 "nbformat": 4,
 "nbformat_minor": 5
}
