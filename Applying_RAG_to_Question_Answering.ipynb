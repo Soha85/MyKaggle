{
  "cells": [
    {
      "cell_type": "markdown",
      "metadata": {
        "id": "view-in-github",
        "colab_type": "text"
      },
      "source": [
        "<a href=\"https://colab.research.google.com/github/Soha85/MyKaggle/blob/main/Applying_RAG_to_Question_Answering.ipynb\" target=\"_parent\"><img src=\"https://colab.research.google.com/assets/colab-badge.svg\" alt=\"Open In Colab\"/></a>"
      ]
    },
    {
      "cell_type": "markdown",
      "metadata": {
        "id": "BljdZYFc6Ygn"
      },
      "source": [
        "**RAG-Based Question Answering Model**"
      ]
    },
    {
      "cell_type": "markdown",
      "metadata": {
        "id": "mUuHMdeM6Ygq"
      },
      "source": [
        "Retrieval-Augmented Generation (RAG) combines large language models (LLMs) with a document retrieval system to provide more accurate and contextually relevant responses. Instead of relying purely on the internal knowledge of the LLM, RAG pulls external data from a corpus or knowledge base and uses that information to generate the answer. Here’s a step-by-step guide and sample code to demonstrate RAG with Python for teaching purposes."
      ]
    },
    {
      "cell_type": "markdown",
      "metadata": {
        "id": "IA8bzuKm6Ygr"
      },
      "source": [
        "**How RAG Works?**\n",
        "* **Retrieve** grounding data based on the initial user-entered prompt.\n",
        "* **Augment** the prompt with grounding data.\n",
        "* **Generate** a grounded response using a language model"
      ]
    },
    {
      "cell_type": "code",
      "execution_count": 23,
      "metadata": {
        "colab": {
          "base_uri": "https://localhost:8080/"
        },
        "id": "0QZCM5xl6Ygs",
        "outputId": "e27cd59d-91f6-40cc-bdf2-c0cb56f5bb7d"
      },
      "outputs": [
        {
          "output_type": "stream",
          "name": "stdout",
          "text": [
            "Requirement already satisfied: transformers in /usr/local/lib/python3.10/dist-packages (4.44.2)\n",
            "Requirement already satisfied: filelock in /usr/local/lib/python3.10/dist-packages (from transformers) (3.16.1)\n",
            "Requirement already satisfied: huggingface-hub<1.0,>=0.23.2 in /usr/local/lib/python3.10/dist-packages (from transformers) (0.24.7)\n",
            "Requirement already satisfied: numpy>=1.17 in /usr/local/lib/python3.10/dist-packages (from transformers) (1.26.4)\n",
            "Requirement already satisfied: packaging>=20.0 in /usr/local/lib/python3.10/dist-packages (from transformers) (24.1)\n",
            "Requirement already satisfied: pyyaml>=5.1 in /usr/local/lib/python3.10/dist-packages (from transformers) (6.0.2)\n",
            "Requirement already satisfied: regex!=2019.12.17 in /usr/local/lib/python3.10/dist-packages (from transformers) (2024.9.11)\n",
            "Requirement already satisfied: requests in /usr/local/lib/python3.10/dist-packages (from transformers) (2.32.3)\n",
            "Requirement already satisfied: safetensors>=0.4.1 in /usr/local/lib/python3.10/dist-packages (from transformers) (0.4.5)\n",
            "Requirement already satisfied: tokenizers<0.20,>=0.19 in /usr/local/lib/python3.10/dist-packages (from transformers) (0.19.1)\n",
            "Requirement already satisfied: tqdm>=4.27 in /usr/local/lib/python3.10/dist-packages (from transformers) (4.66.5)\n",
            "Requirement already satisfied: fsspec>=2023.5.0 in /usr/local/lib/python3.10/dist-packages (from huggingface-hub<1.0,>=0.23.2->transformers) (2024.6.1)\n",
            "Requirement already satisfied: typing-extensions>=3.7.4.3 in /usr/local/lib/python3.10/dist-packages (from huggingface-hub<1.0,>=0.23.2->transformers) (4.12.2)\n",
            "Requirement already satisfied: charset-normalizer<4,>=2 in /usr/local/lib/python3.10/dist-packages (from requests->transformers) (3.3.2)\n",
            "Requirement already satisfied: idna<4,>=2.5 in /usr/local/lib/python3.10/dist-packages (from requests->transformers) (3.10)\n",
            "Requirement already satisfied: urllib3<3,>=1.21.1 in /usr/local/lib/python3.10/dist-packages (from requests->transformers) (2.2.3)\n",
            "Requirement already satisfied: certifi>=2017.4.17 in /usr/local/lib/python3.10/dist-packages (from requests->transformers) (2024.8.30)\n",
            "Requirement already satisfied: sentence-transformers==2.2.2 in /usr/local/lib/python3.10/dist-packages (2.2.2)\n",
            "Requirement already satisfied: transformers<5.0.0,>=4.6.0 in /usr/local/lib/python3.10/dist-packages (from sentence-transformers==2.2.2) (4.44.2)\n",
            "Requirement already satisfied: tqdm in /usr/local/lib/python3.10/dist-packages (from sentence-transformers==2.2.2) (4.66.5)\n",
            "Requirement already satisfied: torch>=1.6.0 in /usr/local/lib/python3.10/dist-packages (from sentence-transformers==2.2.2) (2.4.1+cu121)\n",
            "Requirement already satisfied: torchvision in /usr/local/lib/python3.10/dist-packages (from sentence-transformers==2.2.2) (0.19.1+cu121)\n",
            "Requirement already satisfied: numpy in /usr/local/lib/python3.10/dist-packages (from sentence-transformers==2.2.2) (1.26.4)\n",
            "Requirement already satisfied: scikit-learn in /usr/local/lib/python3.10/dist-packages (from sentence-transformers==2.2.2) (1.5.2)\n",
            "Requirement already satisfied: scipy in /usr/local/lib/python3.10/dist-packages (from sentence-transformers==2.2.2) (1.13.1)\n",
            "Requirement already satisfied: nltk in /usr/local/lib/python3.10/dist-packages (from sentence-transformers==2.2.2) (3.8.1)\n",
            "Requirement already satisfied: sentencepiece in /usr/local/lib/python3.10/dist-packages (from sentence-transformers==2.2.2) (0.2.0)\n",
            "Requirement already satisfied: huggingface-hub>=0.4.0 in /usr/local/lib/python3.10/dist-packages (from sentence-transformers==2.2.2) (0.24.7)\n",
            "Requirement already satisfied: filelock in /usr/local/lib/python3.10/dist-packages (from huggingface-hub>=0.4.0->sentence-transformers==2.2.2) (3.16.1)\n",
            "Requirement already satisfied: fsspec>=2023.5.0 in /usr/local/lib/python3.10/dist-packages (from huggingface-hub>=0.4.0->sentence-transformers==2.2.2) (2024.6.1)\n",
            "Requirement already satisfied: packaging>=20.9 in /usr/local/lib/python3.10/dist-packages (from huggingface-hub>=0.4.0->sentence-transformers==2.2.2) (24.1)\n",
            "Requirement already satisfied: pyyaml>=5.1 in /usr/local/lib/python3.10/dist-packages (from huggingface-hub>=0.4.0->sentence-transformers==2.2.2) (6.0.2)\n",
            "Requirement already satisfied: requests in /usr/local/lib/python3.10/dist-packages (from huggingface-hub>=0.4.0->sentence-transformers==2.2.2) (2.32.3)\n",
            "Requirement already satisfied: typing-extensions>=3.7.4.3 in /usr/local/lib/python3.10/dist-packages (from huggingface-hub>=0.4.0->sentence-transformers==2.2.2) (4.12.2)\n",
            "Requirement already satisfied: sympy in /usr/local/lib/python3.10/dist-packages (from torch>=1.6.0->sentence-transformers==2.2.2) (1.13.3)\n",
            "Requirement already satisfied: networkx in /usr/local/lib/python3.10/dist-packages (from torch>=1.6.0->sentence-transformers==2.2.2) (3.3)\n",
            "Requirement already satisfied: jinja2 in /usr/local/lib/python3.10/dist-packages (from torch>=1.6.0->sentence-transformers==2.2.2) (3.1.4)\n",
            "Requirement already satisfied: regex!=2019.12.17 in /usr/local/lib/python3.10/dist-packages (from transformers<5.0.0,>=4.6.0->sentence-transformers==2.2.2) (2024.9.11)\n",
            "Requirement already satisfied: safetensors>=0.4.1 in /usr/local/lib/python3.10/dist-packages (from transformers<5.0.0,>=4.6.0->sentence-transformers==2.2.2) (0.4.5)\n",
            "Requirement already satisfied: tokenizers<0.20,>=0.19 in /usr/local/lib/python3.10/dist-packages (from transformers<5.0.0,>=4.6.0->sentence-transformers==2.2.2) (0.19.1)\n",
            "Requirement already satisfied: click in /usr/local/lib/python3.10/dist-packages (from nltk->sentence-transformers==2.2.2) (8.1.7)\n",
            "Requirement already satisfied: joblib in /usr/local/lib/python3.10/dist-packages (from nltk->sentence-transformers==2.2.2) (1.4.2)\n",
            "Requirement already satisfied: threadpoolctl>=3.1.0 in /usr/local/lib/python3.10/dist-packages (from scikit-learn->sentence-transformers==2.2.2) (3.5.0)\n",
            "Requirement already satisfied: pillow!=8.3.*,>=5.3.0 in /usr/local/lib/python3.10/dist-packages (from torchvision->sentence-transformers==2.2.2) (10.4.0)\n",
            "Requirement already satisfied: MarkupSafe>=2.0 in /usr/local/lib/python3.10/dist-packages (from jinja2->torch>=1.6.0->sentence-transformers==2.2.2) (2.1.5)\n",
            "Requirement already satisfied: charset-normalizer<4,>=2 in /usr/local/lib/python3.10/dist-packages (from requests->huggingface-hub>=0.4.0->sentence-transformers==2.2.2) (3.3.2)\n",
            "Requirement already satisfied: idna<4,>=2.5 in /usr/local/lib/python3.10/dist-packages (from requests->huggingface-hub>=0.4.0->sentence-transformers==2.2.2) (3.10)\n",
            "Requirement already satisfied: urllib3<3,>=1.21.1 in /usr/local/lib/python3.10/dist-packages (from requests->huggingface-hub>=0.4.0->sentence-transformers==2.2.2) (2.2.3)\n",
            "Requirement already satisfied: certifi>=2017.4.17 in /usr/local/lib/python3.10/dist-packages (from requests->huggingface-hub>=0.4.0->sentence-transformers==2.2.2) (2024.8.30)\n",
            "Requirement already satisfied: mpmath<1.4,>=1.1.0 in /usr/local/lib/python3.10/dist-packages (from sympy->torch>=1.6.0->sentence-transformers==2.2.2) (1.3.0)\n",
            "Requirement already satisfied: scikit-learn in /usr/local/lib/python3.10/dist-packages (1.5.2)\n",
            "Requirement already satisfied: numpy>=1.19.5 in /usr/local/lib/python3.10/dist-packages (from scikit-learn) (1.26.4)\n",
            "Requirement already satisfied: scipy>=1.6.0 in /usr/local/lib/python3.10/dist-packages (from scikit-learn) (1.13.1)\n",
            "Requirement already satisfied: joblib>=1.2.0 in /usr/local/lib/python3.10/dist-packages (from scikit-learn) (1.4.2)\n",
            "Requirement already satisfied: threadpoolctl>=3.1.0 in /usr/local/lib/python3.10/dist-packages (from scikit-learn) (3.5.0)\n",
            "Requirement already satisfied: beautifulsoup4 in /usr/local/lib/python3.10/dist-packages (4.12.3)\n",
            "Requirement already satisfied: soupsieve>1.2 in /usr/local/lib/python3.10/dist-packages (from beautifulsoup4) (2.6)\n",
            "Requirement already satisfied: faiss-cpu in /usr/local/lib/python3.10/dist-packages (1.9.0)\n",
            "Requirement already satisfied: numpy<3.0,>=1.25.0 in /usr/local/lib/python3.10/dist-packages (from faiss-cpu) (1.26.4)\n",
            "Requirement already satisfied: packaging in /usr/local/lib/python3.10/dist-packages (from faiss-cpu) (24.1)\n"
          ]
        }
      ],
      "source": [
        "!pip install transformers\n",
        "!pip install -U sentence-transformers==2.2.2\n",
        "!pip install scikit-learn\n",
        "!pip install beautifulsoup4\n",
        "!pip install faiss-cpu"
      ]
    },
    {
      "cell_type": "code",
      "execution_count": 24,
      "metadata": {
        "colab": {
          "base_uri": "https://localhost:8080/"
        },
        "id": "u99-UtIt6Ygu",
        "outputId": "7135ac82-8121-4302-80a1-ece8e46a6c6a"
      },
      "outputs": [
        {
          "output_type": "stream",
          "name": "stdout",
          "text": [
            "Drive already mounted at /content/gdrive; to attempt to forcibly remount, call drive.mount(\"/content/gdrive\", force_remount=True).\n"
          ]
        }
      ],
      "source": [
        "import warnings\n",
        "from tqdm.notebook import tqdm, trange\n",
        "warnings.filterwarnings(\"ignore\", category=UserWarning)\n",
        "from transformers import BertTokenizer, BertModel, pipeline\n",
        "from sentence_transformers import SentenceTransformer\n",
        "import torch\n",
        "from sklearn.metrics.pairwise import cosine_similarity\n",
        "import numpy as np\n",
        "import pandas as pd\n",
        "import requests\n",
        "from bs4 import BeautifulSoup\n",
        "import faiss\n",
        "import re\n",
        "from google.colab import drive\n",
        "from collections import Counter\n",
        "drive.mount('/content/gdrive')"
      ]
    },
    {
      "cell_type": "code",
      "execution_count": 25,
      "metadata": {
        "colab": {
          "base_uri": "https://localhost:8080/"
        },
        "id": "cxaSQq3U6Ygv",
        "outputId": "057379ca-6329-464c-e04f-f2f49f91bb25"
      },
      "outputs": [
        {
          "output_type": "stream",
          "name": "stderr",
          "text": [
            "/usr/local/lib/python3.10/dist-packages/transformers/tokenization_utils_base.py:1601: FutureWarning: `clean_up_tokenization_spaces` was not set. It will be set to `True` by default. This behavior will be depracted in transformers v4.45, and will be then set to `False` by default. For more details check this issue: https://github.com/huggingface/transformers/issues/31884\n",
            "  warnings.warn(\n",
            "/usr/local/lib/python3.10/dist-packages/transformers/tokenization_utils_base.py:1601: FutureWarning: `clean_up_tokenization_spaces` was not set. It will be set to `True` by default. This behavior will be depracted in transformers v4.45, and will be then set to `False` by default. For more details check this issue: https://github.com/huggingface/transformers/issues/31884\n",
            "  warnings.warn(\n"
          ]
        },
        {
          "output_type": "stream",
          "name": "stdout",
          "text": [
            "Average Precision: 0.5945079365079365\n",
            "Average Recall: 0.5901\n",
            "Average F1 Score: 0.5899999000999001\n"
          ]
        }
      ],
      "source": [
        "# Step 1: Load Data\n",
        "def read_data():\n",
        "    data = pd.read_csv('/content/gdrive/MyDrive/Colab Notebooks/train-squad.csv')\n",
        "    return data[['question', 'text']].head(500)\n",
        "\n",
        "# Step 2: Preprocessing the Text\n",
        "def preprocess_text(text):\n",
        "    text = text.lower()  # Convert to lowercase\n",
        "    text = re.sub(r'\\s+', ' ', text)  # Remove extra spaces\n",
        "    #text = re.sub(r'[^a-zA-Z\\s]', '', text)  # Remove special characters and digits\n",
        "    text =re.sub('\\n', ' ', text)  # Remove newlines\n",
        "    return text\n",
        "\n",
        "# Step 3: Chunking\n",
        "def chunk_text(text, chunk_size=100):\n",
        "    words = text.split()\n",
        "    return [' '.join(words[i:i + chunk_size]) for i in range(0, len(words), chunk_size)]\n",
        "\n",
        "# Step 4: Embedding Generation using BERT\n",
        "tokenizer = BertTokenizer.from_pretrained('bert-base-uncased')\n",
        "bert_model = BertModel.from_pretrained('bert-base-uncased')\n",
        "\n",
        "def get_bert_embeddings(text):\n",
        "    inputs = tokenizer(text, return_tensors=\"pt\", padding=True, truncation=True, max_length=512)\n",
        "    with torch.no_grad():\n",
        "        outputs = bert_model(**inputs)\n",
        "    return outputs.last_hidden_state[:, 0, :].numpy()\n",
        "\n",
        "# Step 5: Embedding Generation and FAISS Integration\n",
        "def create_faiss_index(embedding_dim):\n",
        "    index = faiss.IndexFlatL2(embedding_dim)  # L2 distance for similarity search\n",
        "    return index\n",
        "\n",
        "def save_embeddings_to_faiss(questions, contexts, faiss_index):\n",
        "    all_embeddings = []\n",
        "    chunked_texts = []\n",
        "\n",
        "    # Process each question-context pair\n",
        "    for question, context in zip(questions, contexts):\n",
        "        # Combine question and context (as one block of text)\n",
        "        combined_text = question + \" \" + context\n",
        "        preprocessed_text = preprocess_text(combined_text)\n",
        "\n",
        "        # Chunk the combined text (if necessary) and generate embeddings\n",
        "        chunks = chunk_text(preprocessed_text)\n",
        "        chunked_texts.extend(chunks)\n",
        "\n",
        "        for chunk in chunks:\n",
        "            embedding = get_bert_embeddings(chunk)\n",
        "            all_embeddings.append(embedding)\n",
        "\n",
        "    # Convert embeddings to NumPy array (FAISS requires float32 arrays)\n",
        "    all_embeddings = np.vstack(all_embeddings).astype('float32')\n",
        "\n",
        "    # Add embeddings to FAISS index\n",
        "    faiss_index.add(all_embeddings)\n",
        "\n",
        "    return chunked_texts\n",
        "\n",
        "# Step 6: Document Retrieval from FAISS\n",
        "def retrieve_documents_faiss(query, faiss_index, chunked_texts, k=1):\n",
        "    query_embedding = get_bert_embeddings(query)\n",
        "    distances, indices = faiss_index.search(query_embedding, k)\n",
        "\n",
        "    results = []\n",
        "    for i, idx in enumerate(indices[0]):\n",
        "        document = chunked_texts[idx]\n",
        "        score = distances[0][i]\n",
        "        results.append((document, score))\n",
        "\n",
        "    return results\n",
        "\n",
        "# F1 Score Calculation\n",
        "def compute_f1(prediction, ground_truth):\n",
        "    pred_tokens = normalize_text(prediction).split()\n",
        "    ground_truth_tokens = normalize_text(ground_truth).split()\n",
        "\n",
        "    common = Counter(pred_tokens) & Counter(ground_truth_tokens)\n",
        "    num_same = sum(common.values())\n",
        "\n",
        "    if num_same == 0:\n",
        "        return 0.0, 0.0, 0.0\n",
        "\n",
        "    precision = num_same / len(pred_tokens)\n",
        "    recall = num_same / len(ground_truth_tokens)\n",
        "    f1 = (2 * precision * recall) / (precision + recall)\n",
        "    return precision, recall, f1\n",
        "\n",
        "# Text normalization for comparison\n",
        "def normalize_text(text):\n",
        "    return re.sub(r'\\W', ' ', text.lower())\n",
        "\n",
        "\n",
        "# Step 7: RAG Pipeline with FAISS-based Retrieval and QA Model (Updated)\n",
        "\n",
        "def rag_generate_answer(query, real_answer, faiss_index, chunked_texts, k=1):\n",
        "    # Step 1: Retrieve relevant documents (contexts) based on the question embedding\n",
        "    retrieved_docs = retrieve_documents_faiss(query, faiss_index, chunked_texts, k=k)\n",
        "\n",
        "    # Step 2: Concatenate the retrieved documents to form the context\n",
        "    context = ' '.join([doc for doc, score in retrieved_docs])\n",
        "\n",
        "    # Step 3: Use the QA model to generate an answer from the retrieved context\n",
        "    qa_pipeline = pipeline(\"question-answering\", model=\"bert-large-uncased-whole-word-masking-finetuned-squad\",batch_size=512)\n",
        "    generated_answer = qa_pipeline(question=query, context=context)['answer']\n",
        "\n",
        "    # Step 4: Generate embeddings for real answer and generated answer using BERT (for similarity calculation)\n",
        "    real_answer_embedding = get_bert_embeddings(real_answer)\n",
        "    generated_answer_embedding = get_bert_embeddings(generated_answer)\n",
        "\n",
        "\n",
        "    # Step 5: Compute F1 Score\n",
        "    precision, recall, f1 = compute_f1(generated_answer, real_answer)\n",
        "\n",
        "    return generated_answer, precision, recall, f1\n",
        "\n",
        "# --- Main Execution ---\n",
        "from transformers import logging\n",
        "logging.set_verbosity_error()\n",
        "QA = read_data()\n",
        "\n",
        "# Step 1: Create FAISS index\n",
        "embedding_dim = bert_model.config.hidden_size\n",
        "faiss_index = create_faiss_index(embedding_dim)\n",
        "\n",
        "# Step 2: Preprocess, chunk, and save embeddings (using both questions and contexts)\n",
        "questions = QA[\"question\"]\n",
        "contexts = QA[\"text\"]\n",
        "chunked_texts = save_embeddings_to_faiss(questions, contexts, faiss_index)\n",
        "\n",
        "# Step 3: Iterate over the dataset to generate answers and calculate F1 scores\n",
        "real_answers = []\n",
        "generated_answers = []\n",
        "precisions = []\n",
        "recalls = []\n",
        "f1_scores = []\n",
        "\n",
        "# Iterate through all questions and answers\n",
        "for idx, row in QA.iterrows():\n",
        "    query = row['question']\n",
        "    real_answer = row['text']\n",
        "\n",
        "    # Step 4: Generate answer using the RAG pipeline\n",
        "    generated_answer, precision, recall, f1 = rag_generate_answer(query, real_answer, faiss_index, chunked_texts, k=1)\n",
        "\n",
        "    # Collect answers and evaluation metrics\n",
        "    real_answers.append(real_answer)\n",
        "    generated_answers.append(generated_answer)\n",
        "    precisions.append(precision)\n",
        "    recalls.append(recall)\n",
        "    f1_scores.append(f1)\n",
        "\n",
        "# Step 5: Compute average precision, recall, and F1 score over the entire dataset\n",
        "avg_precision = sum(precisions) / len(precisions)\n",
        "avg_recall = sum(recalls) / len(recalls)\n",
        "avg_f1 = sum(f1_scores) / len(f1_scores)\n",
        "\n",
        "print(f\"Average Precision: {avg_precision}\")\n",
        "print(f\"Average Recall: {avg_recall}\")\n",
        "print(f\"Average F1 Score: {avg_f1}\")\n"
      ]
    },
    {
      "cell_type": "code",
      "source": [
        "query, real_answer = QA.sample(n=1).iloc[0]\n",
        "generated_answer, precision, recall, f1 = rag_generate_answer(query, real_answer, faiss_index, chunked_texts, k=1)\n",
        "print(\"Query:\", query)\n",
        "print(\"Real Answer:\", real_answer)\n",
        "print(\"Generated Answer:\", generated_answer)\n",
        "print(\"Precision:\", precision)\n",
        "print(\"Recall:\", recall)\n",
        "print(\"F1 Score:\", f1)\n"
      ],
      "metadata": {
        "colab": {
          "base_uri": "https://localhost:8080/"
        },
        "id": "dxTGH0AoqSds",
        "outputId": "836deb0c-bfdc-48bb-dd97-9fe6eaf25c74"
      },
      "execution_count": 26,
      "outputs": [
        {
          "output_type": "stream",
          "name": "stdout",
          "text": [
            "Query: Beyonce confirmed what after performing one of her songs?\n",
            "Real Answer: her pregnancy\n",
            "Generated Answer: her pregnancy\n",
            "Precision: 1.0\n",
            "Recall: 1.0\n",
            "F1 Score: 1.0\n"
          ]
        }
      ]
    }
  ],
  "metadata": {
    "colab": {
      "provenance": [],
      "include_colab_link": true
    },
    "kaggle": {
      "accelerator": "none",
      "dataSources": [
        {
          "datasetId": 60333,
          "sourceId": 1599352,
          "sourceType": "datasetVersion"
        }
      ],
      "dockerImageVersionId": 30786,
      "isGpuEnabled": false,
      "isInternetEnabled": true,
      "language": "python",
      "sourceType": "notebook"
    },
    "kernelspec": {
      "display_name": "Python 3",
      "language": "python",
      "name": "python3"
    },
    "language_info": {
      "codemirror_mode": {
        "name": "ipython",
        "version": 3
      },
      "file_extension": ".py",
      "mimetype": "text/x-python",
      "name": "python",
      "nbconvert_exporter": "python",
      "pygments_lexer": "ipython3",
      "version": "3.10.14"
    }
  },
  "nbformat": 4,
  "nbformat_minor": 0
}