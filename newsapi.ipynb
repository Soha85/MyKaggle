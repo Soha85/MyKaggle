{
 "cells": [
  {
   "cell_type": "code",
   "execution_count": 1,
   "id": "cf5c47e1",
   "metadata": {
    "_cell_guid": "b1076dfc-b9ad-4769-8c92-a6c4dae69d19",
    "_uuid": "8f2839f25d086af736a60e9eeb907d3b93b6e0e5",
    "execution": {
     "iopub.execute_input": "2024-01-25T14:32:36.179956Z",
     "iopub.status.busy": "2024-01-25T14:32:36.179494Z",
     "iopub.status.idle": "2024-01-25T14:32:49.504893Z",
     "shell.execute_reply": "2024-01-25T14:32:49.503776Z"
    },
    "papermill": {
     "duration": 13.33277,
     "end_time": "2024-01-25T14:32:49.507347",
     "exception": false,
     "start_time": "2024-01-25T14:32:36.174577",
     "status": "completed"
    },
    "tags": []
   },
   "outputs": [
    {
     "name": "stdout",
     "output_type": "stream",
     "text": [
      "Collecting newsapi-python\r\n",
      "  Downloading newsapi_python-0.2.7-py2.py3-none-any.whl (7.9 kB)\r\n",
      "Requirement already satisfied: requests<3.0.0 in /opt/conda/lib/python3.10/site-packages (from newsapi-python) (2.31.0)\r\n",
      "Requirement already satisfied: charset-normalizer<4,>=2 in /opt/conda/lib/python3.10/site-packages (from requests<3.0.0->newsapi-python) (3.2.0)\r\n",
      "Requirement already satisfied: idna<4,>=2.5 in /opt/conda/lib/python3.10/site-packages (from requests<3.0.0->newsapi-python) (3.4)\r\n",
      "Requirement already satisfied: urllib3<3,>=1.21.1 in /opt/conda/lib/python3.10/site-packages (from requests<3.0.0->newsapi-python) (1.26.15)\r\n",
      "Requirement already satisfied: certifi>=2017.4.17 in /opt/conda/lib/python3.10/site-packages (from requests<3.0.0->newsapi-python) (2023.11.17)\r\n",
      "Installing collected packages: newsapi-python\r\n",
      "Successfully installed newsapi-python-0.2.7\r\n"
     ]
    }
   ],
   "source": [
    "! pip install newsapi-python"
   ]
  },
  {
   "cell_type": "code",
   "execution_count": 2,
   "id": "337fad80",
   "metadata": {
    "execution": {
     "iopub.execute_input": "2024-01-25T14:32:49.515793Z",
     "iopub.status.busy": "2024-01-25T14:32:49.515389Z",
     "iopub.status.idle": "2024-01-25T14:32:51.937536Z",
     "shell.execute_reply": "2024-01-25T14:32:51.936433Z"
    },
    "papermill": {
     "duration": 2.429015,
     "end_time": "2024-01-25T14:32:51.939832",
     "exception": false,
     "start_time": "2024-01-25T14:32:49.510817",
     "status": "completed"
    },
    "tags": []
   },
   "outputs": [],
   "source": [
    "from newsapi import NewsApiClient\n",
    "from datetime import datetime, timedelta\n",
    "\n",
    "# Init\n",
    "newsapi = NewsApiClient(api_key='#########################')\n",
    "#end_date = datetime(2023, 12, 30, 0, 0, 0) \n",
    "# Specify the date range within your plan limits\n",
    "end_date = datetime.now().strftime('%Y-%m-%d')  # current date\n",
    "start_date = (datetime.now() - timedelta(days=30)).strftime('%Y-%m-%d')  # 30 days ago\n",
    "# Specify multiple keywords separated by \"AND\"\n",
    "keywords = 'gaza AND palestine AND war'\n",
    "specific_domain = 'news.google.com,abcnews.go.com'\n",
    "    \n",
    "# Example: Get top headlines\n",
    "top_headlines = newsapi.get_top_headlines(q='gaza', language='en', country='us')\n",
    "\n",
    "# Example: Get articles from a specific source and with specific keywords\n",
    "source_articles = newsapi.get_everything(q=keywords, language='en', domains=specific_domain, from_param=start_date, to=end_date)\n",
    "\n",
    "\n",
    "# /v2/top-headlines/sources\n",
    "sources = newsapi.get_sources()"
   ]
  },
  {
   "cell_type": "code",
   "execution_count": 3,
   "id": "39ac8f16",
   "metadata": {
    "execution": {
     "iopub.execute_input": "2024-01-25T14:32:51.948907Z",
     "iopub.status.busy": "2024-01-25T14:32:51.947719Z",
     "iopub.status.idle": "2024-01-25T14:32:51.954086Z",
     "shell.execute_reply": "2024-01-25T14:32:51.952979Z"
    },
    "papermill": {
     "duration": 0.012968,
     "end_time": "2024-01-25T14:32:51.956173",
     "exception": false,
     "start_time": "2024-01-25T14:32:51.943205",
     "status": "completed"
    },
    "tags": []
   },
   "outputs": [
    {
     "name": "stdout",
     "output_type": "stream",
     "text": [
      "2023-12-26 2024-01-25\n"
     ]
    }
   ],
   "source": [
    "print(start_date,end_date)"
   ]
  },
  {
   "cell_type": "code",
   "execution_count": 4,
   "id": "592e156e",
   "metadata": {
    "execution": {
     "iopub.execute_input": "2024-01-25T14:32:51.964780Z",
     "iopub.status.busy": "2024-01-25T14:32:51.963872Z",
     "iopub.status.idle": "2024-01-25T14:32:52.379752Z",
     "shell.execute_reply": "2024-01-25T14:32:52.378471Z"
    },
    "papermill": {
     "duration": 0.422755,
     "end_time": "2024-01-25T14:32:52.382143",
     "exception": false,
     "start_time": "2024-01-25T14:32:51.959388",
     "status": "completed"
    },
    "tags": []
   },
   "outputs": [
    {
     "name": "stdout",
     "output_type": "stream",
     "text": [
      "<class 'pandas.core.frame.DataFrame'>\n",
      "RangeIndex: 128 entries, 0 to 127\n",
      "Data columns (total 7 columns):\n",
      " #   Column       Non-Null Count  Dtype \n",
      "---  ------       --------------  ----- \n",
      " 0   id           128 non-null    object\n",
      " 1   name         128 non-null    object\n",
      " 2   description  128 non-null    object\n",
      " 3   url          128 non-null    object\n",
      " 4   category     128 non-null    object\n",
      " 5   language     128 non-null    object\n",
      " 6   country      128 non-null    object\n",
      "dtypes: object(7)\n",
      "memory usage: 7.1+ KB\n"
     ]
    }
   ],
   "source": [
    "import pandas as pd\n",
    "# Create a DataFrame from the News Sources \n",
    "df = pd.DataFrame(sources['sources'])\n",
    "df.info()"
   ]
  },
  {
   "cell_type": "code",
   "execution_count": 5,
   "id": "0e48c227",
   "metadata": {
    "execution": {
     "iopub.execute_input": "2024-01-25T14:32:52.390492Z",
     "iopub.status.busy": "2024-01-25T14:32:52.389995Z",
     "iopub.status.idle": "2024-01-25T14:32:52.401624Z",
     "shell.execute_reply": "2024-01-25T14:32:52.400462Z"
    },
    "papermill": {
     "duration": 0.0192,
     "end_time": "2024-01-25T14:32:52.404711",
     "exception": false,
     "start_time": "2024-01-25T14:32:52.385511",
     "status": "completed"
    },
    "tags": []
   },
   "outputs": [
    {
     "data": {
      "text/plain": [
       "url\n",
       "https://news.google.com              12\n",
       "https://abcnews.go.com                1\n",
       "http://www.nfl.com/news               1\n",
       "https://www.rtlnieuws.nl/             1\n",
       "https://www.rte.ie/news               1\n",
       "                                     ..\n",
       "http://www.focus.de                   1\n",
       "http://business.financialpost.com     1\n",
       "http://www.espncricinfo.com/          1\n",
       "https://www.espn.com                  1\n",
       "http://www.ynet.co.il                 1\n",
       "Name: count, Length: 117, dtype: int64"
      ]
     },
     "execution_count": 5,
     "metadata": {},
     "output_type": "execute_result"
    }
   ],
   "source": [
    "df['url'].value_counts()"
   ]
  },
  {
   "cell_type": "code",
   "execution_count": 6,
   "id": "4ba5d4f0",
   "metadata": {
    "execution": {
     "iopub.execute_input": "2024-01-25T14:32:52.413099Z",
     "iopub.status.busy": "2024-01-25T14:32:52.412678Z",
     "iopub.status.idle": "2024-01-25T14:32:52.419881Z",
     "shell.execute_reply": "2024-01-25T14:32:52.418737Z"
    },
    "papermill": {
     "duration": 0.014091,
     "end_time": "2024-01-25T14:32:52.422232",
     "exception": false,
     "start_time": "2024-01-25T14:32:52.408141",
     "status": "completed"
    },
    "tags": []
   },
   "outputs": [
    {
     "name": "stdout",
     "output_type": "stream",
     "text": [
      "<class 'pandas.core.frame.DataFrame'>\n",
      "RangeIndex: 0 entries\n",
      "Empty DataFrame\n"
     ]
    }
   ],
   "source": [
    "articles_df = pd.DataFrame(source_articles['articles'])\n",
    "articles_df.info()"
   ]
  },
  {
   "cell_type": "code",
   "execution_count": 7,
   "id": "cb912904",
   "metadata": {
    "execution": {
     "iopub.execute_input": "2024-01-25T14:32:52.431580Z",
     "iopub.status.busy": "2024-01-25T14:32:52.431212Z",
     "iopub.status.idle": "2024-01-25T14:32:52.441107Z",
     "shell.execute_reply": "2024-01-25T14:32:52.439981Z"
    },
    "papermill": {
     "duration": 0.017654,
     "end_time": "2024-01-25T14:32:52.443461",
     "exception": false,
     "start_time": "2024-01-25T14:32:52.425807",
     "status": "completed"
    },
    "tags": []
   },
   "outputs": [],
   "source": [
    "articles_df.to_csv('articles'+str(datetime.now().day)+str(datetime.now().month)+str(datetime.now().year)+'.csv',encoding='utf-8')"
   ]
  },
  {
   "cell_type": "code",
   "execution_count": 8,
   "id": "68c2202a",
   "metadata": {
    "execution": {
     "iopub.execute_input": "2024-01-25T14:32:52.452543Z",
     "iopub.status.busy": "2024-01-25T14:32:52.452138Z",
     "iopub.status.idle": "2024-01-25T14:32:52.457691Z",
     "shell.execute_reply": "2024-01-25T14:32:52.456947Z"
    },
    "papermill": {
     "duration": 0.013146,
     "end_time": "2024-01-25T14:32:52.460456",
     "exception": false,
     "start_time": "2024-01-25T14:32:52.447310",
     "status": "completed"
    },
    "tags": []
   },
   "outputs": [
    {
     "name": "stdout",
     "output_type": "stream",
     "text": [
      "<class 'pandas.core.frame.DataFrame'>\n",
      "RangeIndex: 0 entries\n",
      "Empty DataFrame\n"
     ]
    }
   ],
   "source": [
    "headlines_df = pd.DataFrame(top_headlines['articles'])\n",
    "headlines_df.info()"
   ]
  }
 ],
 "metadata": {
  "kaggle": {
   "accelerator": "none",
   "dataSources": [],
   "dockerImageVersionId": 30635,
   "isGpuEnabled": false,
   "isInternetEnabled": true,
   "language": "python",
   "sourceType": "notebook"
  },
  "kernelspec": {
   "display_name": "Python 3",
   "language": "python",
   "name": "python3"
  },
  "language_info": {
   "codemirror_mode": {
    "name": "ipython",
    "version": 3
   },
   "file_extension": ".py",
   "mimetype": "text/x-python",
   "name": "python",
   "nbconvert_exporter": "python",
   "pygments_lexer": "ipython3",
   "version": "3.10.12"
  },
  "papermill": {
   "default_parameters": {},
   "duration": 19.817711,
   "end_time": "2024-01-25T14:32:52.983499",
   "environment_variables": {},
   "exception": null,
   "input_path": "__notebook__.ipynb",
   "output_path": "__notebook__.ipynb",
   "parameters": {},
   "start_time": "2024-01-25T14:32:33.165788",
   "version": "2.4.0"
  }
 },
 "nbformat": 4,
 "nbformat_minor": 5
}
