{
 "cells": [
  {
   "cell_type": "markdown",
   "id": "02bdd8e5",
   "metadata": {
    "papermill": {
     "duration": 0.007233,
     "end_time": "2024-02-10T17:45:21.765545",
     "exception": false,
     "start_time": "2024-02-10T17:45:21.758312",
     "status": "completed"
    },
    "tags": []
   },
   "source": [
    "## Main breakthroughs in Word embeddings, from Word Counts to LLMs:\n",
    "\n",
    "**Low-tech beginnings:**\n",
    "\n",
    "* **Word Counts:** Basic frequency of words in a corpus served as initial representations. Useful for simple tasks but ignored semantic relationships.\n",
    "* **Term Frequency (TF):** As mentioned, simply counting the occurrences of words within a corpus was one of the earliest methods for representing words. This basic approach laid the foundation for more sophisticated techniques.\n",
    "* **N-grams:** These are sequences of n consecutive words (e.g., bigrams for pairs, trigrams for triplets). By analyzing n-gram frequencies, we can capture some local context and word relationships, going beyond individual word counts.\n",
    "\n",
    "\n",
    "**Distributional Semantics:**\n",
    "\n",
    "* **Word2Vec (2013):** First major breakthrough. Learned word embeddings by predicting surrounding words, capturing semantic similarities.\n",
    "* **GloVe (2014):** Leverages co-occurrence statistics for better context sensitivity.\n",
    "* **FastText (2016):** Incorporates subword information, handling rare words and morphological variants.\n",
    "\n",
    "**Contextual Embeddings:**\n",
    "\n",
    "* **ELMo (2018):** Uses bi-directional LSTMs to capture word meaning based on surrounding context.\n",
    "* **BERT (2018):** Pre-trained transformer model on large unlabeled text, learning contextualized representations.\n",
    "* **XLNet (2019):** Builds upon BERT's masked language modeling with permutation language modeling for better understanding of word relationships.\n",
    "\n",
    "**Towards Understanding and Generation:**\n",
    "\n",
    "* **GPT-3 (2020):** Generative Pre-trained Transformer 3, a large language model (LLM) with impressive text generation capabilities.\n",
    "* **LaMDA (2021):** Language Model for Dialogue Applications, focuses on factual consistency and grounding in conversation.\n",
    "* **PaLM (2022):** Pathways Language Model, pushes the boundaries of LLM size and performance, demonstrating progress in reasoning and question answering."
   ]
  },
  {
   "cell_type": "markdown",
   "id": "f4ce9c7f",
   "metadata": {
    "papermill": {
     "duration": 0.006486,
     "end_time": "2024-02-10T17:45:21.778835",
     "exception": false,
     "start_time": "2024-02-10T17:45:21.772349",
     "status": "completed"
    },
    "tags": []
   },
   "source": [
    "# Import Libraries"
   ]
  },
  {
   "cell_type": "code",
   "execution_count": 1,
   "id": "862140d3",
   "metadata": {
    "execution": {
     "iopub.execute_input": "2024-02-10T17:45:21.793801Z",
     "iopub.status.busy": "2024-02-10T17:45:21.793425Z",
     "iopub.status.idle": "2024-02-10T17:45:33.477550Z",
     "shell.execute_reply": "2024-02-10T17:45:33.476439Z"
    },
    "papermill": {
     "duration": 11.694567,
     "end_time": "2024-02-10T17:45:33.480079",
     "exception": false,
     "start_time": "2024-02-10T17:45:21.785512",
     "status": "completed"
    },
    "tags": []
   },
   "outputs": [],
   "source": [
    "import pandas as pd\n",
    "import math\n",
    "from sklearn.feature_extraction.text import TfidfVectorizer\n",
    "from nltk import ngrams\n",
    "from nltk.tokenize import word_tokenize\n",
    "from nltk.probability import FreqDist, MLEProbDist\n",
    "from sklearn.feature_extraction.text import CountVectorizer\n",
    "import numpy as np\n",
    "import keras"
   ]
  },
  {
   "cell_type": "markdown",
   "id": "4c9bcd00",
   "metadata": {
    "papermill": {
     "duration": 0.006585,
     "end_time": "2024-02-10T17:45:33.493872",
     "exception": false,
     "start_time": "2024-02-10T17:45:33.487287",
     "status": "completed"
    },
    "tags": []
   },
   "source": [
    "# Define Documents list"
   ]
  },
  {
   "cell_type": "code",
   "execution_count": 2,
   "id": "96f48044",
   "metadata": {
    "execution": {
     "iopub.execute_input": "2024-02-10T17:45:33.509270Z",
     "iopub.status.busy": "2024-02-10T17:45:33.508510Z",
     "iopub.status.idle": "2024-02-10T17:45:33.512364Z",
     "shell.execute_reply": "2024-02-10T17:45:33.511753Z"
    },
    "papermill": {
     "duration": 0.013409,
     "end_time": "2024-02-10T17:45:33.514005",
     "exception": false,
     "start_time": "2024-02-10T17:45:33.500596",
     "status": "completed"
    },
    "tags": []
   },
   "outputs": [],
   "source": [
    "Doc_1= \"The cat in the hat\"\n",
    "Doc_2= \"The quick brown fox\"\n",
    "Doc_3= \"The hat is blue\"\n",
    "\n",
    "Docs =[Doc_1,Doc_2,Doc_3]"
   ]
  },
  {
   "cell_type": "markdown",
   "id": "4b9ab395",
   "metadata": {
    "papermill": {
     "duration": 0.006476,
     "end_time": "2024-02-10T17:45:33.527356",
     "exception": false,
     "start_time": "2024-02-10T17:45:33.520880",
     "status": "completed"
    },
    "tags": []
   },
   "source": [
    "# **Term Frequency (TF)**\n",
    "* **TF(t,d) is the term frequency of term t in document d (how often the term appears in the document).*** **TF(t,d) is the term frequency of term t in document d (how often the term appears in the document).**"
   ]
  },
  {
   "cell_type": "code",
   "execution_count": 3,
   "id": "3aad0941",
   "metadata": {
    "execution": {
     "iopub.execute_input": "2024-02-10T17:45:33.542265Z",
     "iopub.status.busy": "2024-02-10T17:45:33.541928Z",
     "iopub.status.idle": "2024-02-10T17:45:33.548960Z",
     "shell.execute_reply": "2024-02-10T17:45:33.548043Z"
    },
    "papermill": {
     "duration": 0.016786,
     "end_time": "2024-02-10T17:45:33.550823",
     "exception": false,
     "start_time": "2024-02-10T17:45:33.534037",
     "status": "completed"
    },
    "tags": []
   },
   "outputs": [
    {
     "data": {
      "text/plain": [
       "{'blue', 'brown', 'cat', 'fox', 'hat', 'in', 'is', 'quick', 'the'}"
      ]
     },
     "execution_count": 3,
     "metadata": {},
     "output_type": "execute_result"
    }
   ],
   "source": [
    "#get distinct words for each document\n",
    "lst = []\n",
    "for d in Docs:\n",
    "    lst.extend(d.lower().split(' '))\n",
    "wrds = set(lst) # remove duplicate words\n",
    "wrds"
   ]
  },
  {
   "cell_type": "code",
   "execution_count": 4,
   "id": "b46d7487",
   "metadata": {
    "execution": {
     "iopub.execute_input": "2024-02-10T17:45:33.567896Z",
     "iopub.status.busy": "2024-02-10T17:45:33.566983Z",
     "iopub.status.idle": "2024-02-10T17:45:33.599208Z",
     "shell.execute_reply": "2024-02-10T17:45:33.598213Z"
    },
    "papermill": {
     "duration": 0.042826,
     "end_time": "2024-02-10T17:45:33.601177",
     "exception": false,
     "start_time": "2024-02-10T17:45:33.558351",
     "status": "completed"
    },
    "tags": []
   },
   "outputs": [
    {
     "data": {
      "text/html": [
       "<div>\n",
       "<style scoped>\n",
       "    .dataframe tbody tr th:only-of-type {\n",
       "        vertical-align: middle;\n",
       "    }\n",
       "\n",
       "    .dataframe tbody tr th {\n",
       "        vertical-align: top;\n",
       "    }\n",
       "\n",
       "    .dataframe thead th {\n",
       "        text-align: right;\n",
       "    }\n",
       "</style>\n",
       "<table border=\"1\" class=\"dataframe\">\n",
       "  <thead>\n",
       "    <tr style=\"text-align: right;\">\n",
       "      <th></th>\n",
       "      <th>cat</th>\n",
       "      <th>the</th>\n",
       "      <th>hat</th>\n",
       "      <th>fox</th>\n",
       "      <th>blue</th>\n",
       "      <th>in</th>\n",
       "      <th>brown</th>\n",
       "      <th>is</th>\n",
       "      <th>quick</th>\n",
       "    </tr>\n",
       "  </thead>\n",
       "  <tbody>\n",
       "    <tr>\n",
       "      <th>0</th>\n",
       "      <td>0.2</td>\n",
       "      <td>0.40</td>\n",
       "      <td>0.20</td>\n",
       "      <td>0.00</td>\n",
       "      <td>0.00</td>\n",
       "      <td>0.2</td>\n",
       "      <td>0.00</td>\n",
       "      <td>0.00</td>\n",
       "      <td>0.00</td>\n",
       "    </tr>\n",
       "    <tr>\n",
       "      <th>1</th>\n",
       "      <td>0.0</td>\n",
       "      <td>0.25</td>\n",
       "      <td>0.00</td>\n",
       "      <td>0.25</td>\n",
       "      <td>0.00</td>\n",
       "      <td>0.0</td>\n",
       "      <td>0.25</td>\n",
       "      <td>0.00</td>\n",
       "      <td>0.25</td>\n",
       "    </tr>\n",
       "    <tr>\n",
       "      <th>2</th>\n",
       "      <td>0.0</td>\n",
       "      <td>0.25</td>\n",
       "      <td>0.25</td>\n",
       "      <td>0.00</td>\n",
       "      <td>0.25</td>\n",
       "      <td>0.0</td>\n",
       "      <td>0.00</td>\n",
       "      <td>0.25</td>\n",
       "      <td>0.00</td>\n",
       "    </tr>\n",
       "  </tbody>\n",
       "</table>\n",
       "</div>"
      ],
      "text/plain": [
       "   cat   the   hat   fox  blue   in  brown    is  quick\n",
       "0  0.2  0.40  0.20  0.00  0.00  0.2   0.00  0.00   0.00\n",
       "1  0.0  0.25  0.00  0.25  0.00  0.0   0.25  0.00   0.25\n",
       "2  0.0  0.25  0.25  0.00  0.25  0.0   0.00  0.25   0.00"
      ]
     },
     "execution_count": 4,
     "metadata": {},
     "output_type": "execute_result"
    }
   ],
   "source": [
    "#form a dataframe to represent TF for each word in each Document where columns are words and rows are documents\n",
    "def count_wrd_Doc(wrd,doc):\n",
    "    i=0\n",
    "    for w in doc.lower().split(' '):\n",
    "        if wrd == w:\n",
    "            i = i+1\n",
    "    return i/len(doc.lower().split(' '))\n",
    "    \n",
    "tf_df = pd.DataFrame(columns=list(wrds)) #empty dataframe initialized with words column headers\n",
    "freq_lst=[] #empty list for each column to save word frequencies in each document\n",
    "for c in tf_df.columns:\n",
    "    freq_lst=[]#empty the list\n",
    "    for d in Docs:\n",
    "        freq_lst.append(count_wrd_Doc(c,d))#append the frequency of word in document d\n",
    "    tf_df[c]=freq_lst #assign values to column\n",
    "tf_df #display the dataframe of TF for each word in each document"
   ]
  },
  {
   "cell_type": "markdown",
   "id": "9f610a3d",
   "metadata": {
    "papermill": {
     "duration": 0.007144,
     "end_time": "2024-02-10T17:45:33.615814",
     "exception": false,
     "start_time": "2024-02-10T17:45:33.608670",
     "status": "completed"
    },
    "tags": []
   },
   "source": [
    "**Document Frequency (DF)**\n",
    "* **Calculate Document Frequency (DF): the word appears in how many documents*** **Calculate Document Frequency (DF): the word appears in how many documents**"
   ]
  },
  {
   "cell_type": "code",
   "execution_count": 5,
   "id": "ee1f2823",
   "metadata": {
    "execution": {
     "iopub.execute_input": "2024-02-10T17:45:33.631319Z",
     "iopub.status.busy": "2024-02-10T17:45:33.631032Z",
     "iopub.status.idle": "2024-02-10T17:45:33.643218Z",
     "shell.execute_reply": "2024-02-10T17:45:33.642628Z"
    },
    "papermill": {
     "duration": 0.021698,
     "end_time": "2024-02-10T17:45:33.644813",
     "exception": false,
     "start_time": "2024-02-10T17:45:33.623115",
     "status": "completed"
    },
    "tags": []
   },
   "outputs": [
    {
     "data": {
      "text/html": [
       "<div>\n",
       "<style scoped>\n",
       "    .dataframe tbody tr th:only-of-type {\n",
       "        vertical-align: middle;\n",
       "    }\n",
       "\n",
       "    .dataframe tbody tr th {\n",
       "        vertical-align: top;\n",
       "    }\n",
       "\n",
       "    .dataframe thead th {\n",
       "        text-align: right;\n",
       "    }\n",
       "</style>\n",
       "<table border=\"1\" class=\"dataframe\">\n",
       "  <thead>\n",
       "    <tr style=\"text-align: right;\">\n",
       "      <th></th>\n",
       "      <th>cat</th>\n",
       "      <th>the</th>\n",
       "      <th>hat</th>\n",
       "      <th>fox</th>\n",
       "      <th>blue</th>\n",
       "      <th>in</th>\n",
       "      <th>brown</th>\n",
       "      <th>is</th>\n",
       "      <th>quick</th>\n",
       "    </tr>\n",
       "  </thead>\n",
       "  <tbody>\n",
       "    <tr>\n",
       "      <th>0</th>\n",
       "      <td>1</td>\n",
       "      <td>3</td>\n",
       "      <td>2</td>\n",
       "      <td>1</td>\n",
       "      <td>1</td>\n",
       "      <td>1</td>\n",
       "      <td>1</td>\n",
       "      <td>1</td>\n",
       "      <td>1</td>\n",
       "    </tr>\n",
       "  </tbody>\n",
       "</table>\n",
       "</div>"
      ],
      "text/plain": [
       "   cat  the  hat  fox  blue  in  brown  is  quick\n",
       "0    1    3    2    1     1   1      1   1      1"
      ]
     },
     "execution_count": 5,
     "metadata": {},
     "output_type": "execute_result"
    }
   ],
   "source": [
    "df_df = pd.DataFrame(columns=list(wrds)) #empty dataframe initialized with words column headers\n",
    "for c in df_df.columns:\n",
    "    df_df[c] = [sum(1 for doc in Docs if c in doc.lower().split(' '))]\n",
    "df_df #display the dataframe of DF for each word "
   ]
  },
  {
   "cell_type": "markdown",
   "id": "91ff09a4",
   "metadata": {
    "papermill": {
     "duration": 0.006994,
     "end_time": "2024-02-10T17:45:33.659632",
     "exception": false,
     "start_time": "2024-02-10T17:45:33.652638",
     "status": "completed"
    },
    "tags": []
   },
   "source": [
    "**Inverse Document Frequency (IDF)**\n",
    "* **IDF(t,D) is the inverse document frequency of term t in the entire document set D (logarithmically scaled inverse fraction of the documents that contain the term).*** **IDF(t,D) is the inverse document frequency of term t in the entire document set D (logarithmically scaled inverse fraction of the documents that contain the term).**"
   ]
  },
  {
   "cell_type": "code",
   "execution_count": 6,
   "id": "796e0aa5",
   "metadata": {
    "execution": {
     "iopub.execute_input": "2024-02-10T17:45:33.675336Z",
     "iopub.status.busy": "2024-02-10T17:45:33.674855Z",
     "iopub.status.idle": "2024-02-10T17:45:33.688834Z",
     "shell.execute_reply": "2024-02-10T17:45:33.688065Z"
    },
    "papermill": {
     "duration": 0.02368,
     "end_time": "2024-02-10T17:45:33.690482",
     "exception": false,
     "start_time": "2024-02-10T17:45:33.666802",
     "status": "completed"
    },
    "tags": []
   },
   "outputs": [
    {
     "data": {
      "text/html": [
       "<div>\n",
       "<style scoped>\n",
       "    .dataframe tbody tr th:only-of-type {\n",
       "        vertical-align: middle;\n",
       "    }\n",
       "\n",
       "    .dataframe tbody tr th {\n",
       "        vertical-align: top;\n",
       "    }\n",
       "\n",
       "    .dataframe thead th {\n",
       "        text-align: right;\n",
       "    }\n",
       "</style>\n",
       "<table border=\"1\" class=\"dataframe\">\n",
       "  <thead>\n",
       "    <tr style=\"text-align: right;\">\n",
       "      <th></th>\n",
       "      <th>cat</th>\n",
       "      <th>the</th>\n",
       "      <th>hat</th>\n",
       "      <th>fox</th>\n",
       "      <th>blue</th>\n",
       "      <th>in</th>\n",
       "      <th>brown</th>\n",
       "      <th>is</th>\n",
       "      <th>quick</th>\n",
       "    </tr>\n",
       "  </thead>\n",
       "  <tbody>\n",
       "    <tr>\n",
       "      <th>0</th>\n",
       "      <td>1.693147</td>\n",
       "      <td>1.0</td>\n",
       "      <td>1.287682</td>\n",
       "      <td>1.693147</td>\n",
       "      <td>1.693147</td>\n",
       "      <td>1.693147</td>\n",
       "      <td>1.693147</td>\n",
       "      <td>1.693147</td>\n",
       "      <td>1.693147</td>\n",
       "    </tr>\n",
       "  </tbody>\n",
       "</table>\n",
       "</div>"
      ],
      "text/plain": [
       "        cat  the       hat       fox      blue        in     brown        is  \\\n",
       "0  1.693147  1.0  1.287682  1.693147  1.693147  1.693147  1.693147  1.693147   \n",
       "\n",
       "      quick  \n",
       "0  1.693147  "
      ]
     },
     "execution_count": 6,
     "metadata": {},
     "output_type": "execute_result"
    }
   ],
   "source": [
    "idf_df = pd.DataFrame(columns=list(wrds)) #empty dataframe initialized with words column headers\n",
    "for c in idf_df.columns:\n",
    "    N = 3 #No of documents\n",
    "    df = df_df[c].iloc[0] # DF of word\n",
    "    idf_df[c] = [math.log((N+1) / (df+1))+1]#IDF = log (no. of documents/DF(word)) \n",
    "idf_df #display the dataframe of idf for each word "
   ]
  },
  {
   "cell_type": "markdown",
   "id": "c1b99002",
   "metadata": {
    "papermill": {
     "duration": 0.006963,
     "end_time": "2024-02-10T17:45:33.704955",
     "exception": false,
     "start_time": "2024-02-10T17:45:33.697992",
     "status": "completed"
    },
    "tags": []
   },
   "source": [
    "**Term Frequency - Inverse Document Frequency (TF-IDF)= TF * IDF**"
   ]
  },
  {
   "cell_type": "code",
   "execution_count": 7,
   "id": "3f66c4fd",
   "metadata": {
    "execution": {
     "iopub.execute_input": "2024-02-10T17:45:33.720534Z",
     "iopub.status.busy": "2024-02-10T17:45:33.720181Z",
     "iopub.status.idle": "2024-02-10T17:45:33.736462Z",
     "shell.execute_reply": "2024-02-10T17:45:33.735922Z"
    },
    "papermill": {
     "duration": 0.025886,
     "end_time": "2024-02-10T17:45:33.737923",
     "exception": false,
     "start_time": "2024-02-10T17:45:33.712037",
     "status": "completed"
    },
    "tags": []
   },
   "outputs": [
    {
     "data": {
      "text/html": [
       "<div>\n",
       "<style scoped>\n",
       "    .dataframe tbody tr th:only-of-type {\n",
       "        vertical-align: middle;\n",
       "    }\n",
       "\n",
       "    .dataframe tbody tr th {\n",
       "        vertical-align: top;\n",
       "    }\n",
       "\n",
       "    .dataframe thead th {\n",
       "        text-align: right;\n",
       "    }\n",
       "</style>\n",
       "<table border=\"1\" class=\"dataframe\">\n",
       "  <thead>\n",
       "    <tr style=\"text-align: right;\">\n",
       "      <th></th>\n",
       "      <th>cat</th>\n",
       "      <th>the</th>\n",
       "      <th>hat</th>\n",
       "      <th>fox</th>\n",
       "      <th>blue</th>\n",
       "      <th>in</th>\n",
       "      <th>brown</th>\n",
       "      <th>is</th>\n",
       "      <th>quick</th>\n",
       "    </tr>\n",
       "  </thead>\n",
       "  <tbody>\n",
       "    <tr>\n",
       "      <th>0</th>\n",
       "      <td>0.338629</td>\n",
       "      <td>0.40</td>\n",
       "      <td>0.257536</td>\n",
       "      <td>0.000000</td>\n",
       "      <td>0.000000</td>\n",
       "      <td>0.338629</td>\n",
       "      <td>0.000000</td>\n",
       "      <td>0.000000</td>\n",
       "      <td>0.000000</td>\n",
       "    </tr>\n",
       "    <tr>\n",
       "      <th>1</th>\n",
       "      <td>0.000000</td>\n",
       "      <td>0.25</td>\n",
       "      <td>0.000000</td>\n",
       "      <td>0.423287</td>\n",
       "      <td>0.000000</td>\n",
       "      <td>0.000000</td>\n",
       "      <td>0.423287</td>\n",
       "      <td>0.000000</td>\n",
       "      <td>0.423287</td>\n",
       "    </tr>\n",
       "    <tr>\n",
       "      <th>2</th>\n",
       "      <td>0.000000</td>\n",
       "      <td>0.25</td>\n",
       "      <td>0.321921</td>\n",
       "      <td>0.000000</td>\n",
       "      <td>0.423287</td>\n",
       "      <td>0.000000</td>\n",
       "      <td>0.000000</td>\n",
       "      <td>0.423287</td>\n",
       "      <td>0.000000</td>\n",
       "    </tr>\n",
       "  </tbody>\n",
       "</table>\n",
       "</div>"
      ],
      "text/plain": [
       "        cat   the       hat       fox      blue        in     brown        is  \\\n",
       "0  0.338629  0.40  0.257536  0.000000  0.000000  0.338629  0.000000  0.000000   \n",
       "1  0.000000  0.25  0.000000  0.423287  0.000000  0.000000  0.423287  0.000000   \n",
       "2  0.000000  0.25  0.321921  0.000000  0.423287  0.000000  0.000000  0.423287   \n",
       "\n",
       "      quick  \n",
       "0  0.000000  \n",
       "1  0.423287  \n",
       "2  0.000000  "
      ]
     },
     "execution_count": 7,
     "metadata": {},
     "output_type": "execute_result"
    }
   ],
   "source": [
    "tfidf_df = pd.DataFrame(columns=list(wrds)) #empty dataframe initialized with words column headers\n",
    "tfidf_lst=[]  #empty list for each column \n",
    "for c in tfidf_df.columns:\n",
    "    tfidf_lst=[] #empty list for each column\n",
    "    for i in range(0,len(Docs)):\n",
    "        tf_idf_d1 = tf_df[c].iloc[i]*idf_df[c].iloc[0] #append tf of word in i th document to idf of word\n",
    "        tfidf_lst.append(tf_idf_d1)\n",
    "    tfidf_df[c]=tfidf_lst#assign tfidf values for each word\n",
    "tfidf_df #display the dataframe of tf-idf for all words"
   ]
  },
  {
   "cell_type": "markdown",
   "id": "92509f00",
   "metadata": {
    "papermill": {
     "duration": 0.007175,
     "end_time": "2024-02-10T17:45:33.752521",
     "exception": false,
     "start_time": "2024-02-10T17:45:33.745346",
     "status": "completed"
    },
    "tags": []
   },
   "source": [
    "**L2 Normalization**\n",
    "* **L2 normalization, also known as Euclidean normalization or L2 norm normalization, is a technique used to scale vectors (or arrays) in such a way that their Euclidean norm becomes equal to 1.**"
   ]
  },
  {
   "cell_type": "code",
   "execution_count": 8,
   "id": "fb10d726",
   "metadata": {
    "execution": {
     "iopub.execute_input": "2024-02-10T17:45:33.768505Z",
     "iopub.status.busy": "2024-02-10T17:45:33.767982Z",
     "iopub.status.idle": "2024-02-10T17:45:33.787774Z",
     "shell.execute_reply": "2024-02-10T17:45:33.787173Z"
    },
    "papermill": {
     "duration": 0.029367,
     "end_time": "2024-02-10T17:45:33.789203",
     "exception": false,
     "start_time": "2024-02-10T17:45:33.759836",
     "status": "completed"
    },
    "tags": []
   },
   "outputs": [
    {
     "data": {
      "text/html": [
       "<div>\n",
       "<style scoped>\n",
       "    .dataframe tbody tr th:only-of-type {\n",
       "        vertical-align: middle;\n",
       "    }\n",
       "\n",
       "    .dataframe tbody tr th {\n",
       "        vertical-align: top;\n",
       "    }\n",
       "\n",
       "    .dataframe thead th {\n",
       "        text-align: right;\n",
       "    }\n",
       "</style>\n",
       "<table border=\"1\" class=\"dataframe\">\n",
       "  <thead>\n",
       "    <tr style=\"text-align: right;\">\n",
       "      <th></th>\n",
       "      <th>cat</th>\n",
       "      <th>the</th>\n",
       "      <th>hat</th>\n",
       "      <th>fox</th>\n",
       "      <th>blue</th>\n",
       "      <th>in</th>\n",
       "      <th>brown</th>\n",
       "      <th>is</th>\n",
       "      <th>quick</th>\n",
       "    </tr>\n",
       "  </thead>\n",
       "  <tbody>\n",
       "    <tr>\n",
       "      <th>0</th>\n",
       "      <td>0.501651</td>\n",
       "      <td>0.592567</td>\n",
       "      <td>0.381519</td>\n",
       "      <td>0.000000</td>\n",
       "      <td>0.000000</td>\n",
       "      <td>0.501651</td>\n",
       "      <td>0.000000</td>\n",
       "      <td>0.000000</td>\n",
       "      <td>0.000000</td>\n",
       "    </tr>\n",
       "    <tr>\n",
       "      <th>1</th>\n",
       "      <td>0.000000</td>\n",
       "      <td>0.322745</td>\n",
       "      <td>0.000000</td>\n",
       "      <td>0.546454</td>\n",
       "      <td>0.000000</td>\n",
       "      <td>0.000000</td>\n",
       "      <td>0.546454</td>\n",
       "      <td>0.000000</td>\n",
       "      <td>0.546454</td>\n",
       "    </tr>\n",
       "    <tr>\n",
       "      <th>2</th>\n",
       "      <td>0.000000</td>\n",
       "      <td>0.345205</td>\n",
       "      <td>0.444514</td>\n",
       "      <td>0.000000</td>\n",
       "      <td>0.584483</td>\n",
       "      <td>0.000000</td>\n",
       "      <td>0.000000</td>\n",
       "      <td>0.584483</td>\n",
       "      <td>0.000000</td>\n",
       "    </tr>\n",
       "  </tbody>\n",
       "</table>\n",
       "</div>"
      ],
      "text/plain": [
       "        cat       the       hat       fox      blue        in     brown  \\\n",
       "0  0.501651  0.592567  0.381519  0.000000  0.000000  0.501651  0.000000   \n",
       "1  0.000000  0.322745  0.000000  0.546454  0.000000  0.000000  0.546454   \n",
       "2  0.000000  0.345205  0.444514  0.000000  0.584483  0.000000  0.000000   \n",
       "\n",
       "         is     quick  \n",
       "0  0.000000  0.000000  \n",
       "1  0.000000  0.546454  \n",
       "2  0.584483  0.000000  "
      ]
     },
     "execution_count": 8,
     "metadata": {},
     "output_type": "execute_result"
    }
   ],
   "source": [
    "normalized_df = pd.DataFrame(columns=tfidf_df.columns)\n",
    "\n",
    "# Apply L2 normalization to each document's TF-IDF values\n",
    "for i,row in enumerate(tfidf_df.iterrows()):\n",
    "    # Extract TF-IDF values    \n",
    "    tfidf_values_list = list(tfidf_df.iloc[i].values)\n",
    "    # Calculate L2 norm\n",
    "    l2_norm = math.sqrt(sum(val**2 for val in tfidf_values_list))\n",
    "    # Normalize TF-IDF values using L2 norm\n",
    "    normalized_tfidf = [val / l2_norm for val in list(tfidf_df.iloc[i].values)]\n",
    "    new_row = pd.Series(normalized_tfidf, index=tfidf_df.columns)\n",
    "    normalized_df.loc[len(normalized_df)] = new_row\n",
    "    \n",
    "normalized_df"
   ]
  },
  {
   "cell_type": "markdown",
   "id": "12227aab",
   "metadata": {
    "papermill": {
     "duration": 0.007258,
     "end_time": "2024-02-10T17:45:33.804260",
     "exception": false,
     "start_time": "2024-02-10T17:45:33.797002",
     "status": "completed"
    },
    "tags": []
   },
   "source": [
    "**TfidfVectorizer Python Library**"
   ]
  },
  {
   "cell_type": "code",
   "execution_count": 9,
   "id": "dd3c7fc0",
   "metadata": {
    "execution": {
     "iopub.execute_input": "2024-02-10T17:45:33.820383Z",
     "iopub.status.busy": "2024-02-10T17:45:33.819960Z",
     "iopub.status.idle": "2024-02-10T17:45:33.842555Z",
     "shell.execute_reply": "2024-02-10T17:45:33.841763Z"
    },
    "papermill": {
     "duration": 0.032504,
     "end_time": "2024-02-10T17:45:33.844208",
     "exception": false,
     "start_time": "2024-02-10T17:45:33.811704",
     "status": "completed"
    },
    "tags": []
   },
   "outputs": [
    {
     "data": {
      "text/html": [
       "<div>\n",
       "<style scoped>\n",
       "    .dataframe tbody tr th:only-of-type {\n",
       "        vertical-align: middle;\n",
       "    }\n",
       "\n",
       "    .dataframe tbody tr th {\n",
       "        vertical-align: top;\n",
       "    }\n",
       "\n",
       "    .dataframe thead th {\n",
       "        text-align: right;\n",
       "    }\n",
       "</style>\n",
       "<table border=\"1\" class=\"dataframe\">\n",
       "  <thead>\n",
       "    <tr style=\"text-align: right;\">\n",
       "      <th></th>\n",
       "      <th>blue</th>\n",
       "      <th>brown</th>\n",
       "      <th>cat</th>\n",
       "      <th>fox</th>\n",
       "      <th>hat</th>\n",
       "      <th>in</th>\n",
       "      <th>is</th>\n",
       "      <th>quick</th>\n",
       "      <th>the</th>\n",
       "    </tr>\n",
       "  </thead>\n",
       "  <tbody>\n",
       "    <tr>\n",
       "      <th>0</th>\n",
       "      <td>0.000000</td>\n",
       "      <td>0.000000</td>\n",
       "      <td>0.501651</td>\n",
       "      <td>0.000000</td>\n",
       "      <td>0.381519</td>\n",
       "      <td>0.501651</td>\n",
       "      <td>0.000000</td>\n",
       "      <td>0.000000</td>\n",
       "      <td>0.592567</td>\n",
       "    </tr>\n",
       "    <tr>\n",
       "      <th>1</th>\n",
       "      <td>0.000000</td>\n",
       "      <td>0.546454</td>\n",
       "      <td>0.000000</td>\n",
       "      <td>0.546454</td>\n",
       "      <td>0.000000</td>\n",
       "      <td>0.000000</td>\n",
       "      <td>0.000000</td>\n",
       "      <td>0.546454</td>\n",
       "      <td>0.322745</td>\n",
       "    </tr>\n",
       "    <tr>\n",
       "      <th>2</th>\n",
       "      <td>0.584483</td>\n",
       "      <td>0.000000</td>\n",
       "      <td>0.000000</td>\n",
       "      <td>0.000000</td>\n",
       "      <td>0.444514</td>\n",
       "      <td>0.000000</td>\n",
       "      <td>0.584483</td>\n",
       "      <td>0.000000</td>\n",
       "      <td>0.345205</td>\n",
       "    </tr>\n",
       "  </tbody>\n",
       "</table>\n",
       "</div>"
      ],
      "text/plain": [
       "       blue     brown       cat       fox       hat        in        is  \\\n",
       "0  0.000000  0.000000  0.501651  0.000000  0.381519  0.501651  0.000000   \n",
       "1  0.000000  0.546454  0.000000  0.546454  0.000000  0.000000  0.000000   \n",
       "2  0.584483  0.000000  0.000000  0.000000  0.444514  0.000000  0.584483   \n",
       "\n",
       "      quick       the  \n",
       "0  0.000000  0.592567  \n",
       "1  0.546454  0.322745  \n",
       "2  0.000000  0.345205  "
      ]
     },
     "execution_count": 9,
     "metadata": {},
     "output_type": "execute_result"
    }
   ],
   "source": [
    "# Create the TF-IDF vectorizer\n",
    "tfidf_vectorizer = TfidfVectorizer(norm='l2',smooth_idf=True)\n",
    "\n",
    "# Fit the documents and transform them into a TF-IDF matrix\n",
    "tfidf_matrix = tfidf_vectorizer.fit_transform(Docs)\n",
    "\n",
    "# Get the feature names (terms) from the vectorizer\n",
    "feature_names = tfidf_vectorizer.get_feature_names_out()\n",
    "\n",
    "df_tfidf = pd.DataFrame(data=tfidf_matrix.toarray(), columns=feature_names)\n",
    "df_tfidf"
   ]
  },
  {
   "cell_type": "markdown",
   "id": "d4860741",
   "metadata": {
    "_kg_hide-input": true,
    "papermill": {
     "duration": 0.007192,
     "end_time": "2024-02-10T17:45:33.859100",
     "exception": false,
     "start_time": "2024-02-10T17:45:33.851908",
     "status": "completed"
    },
    "tags": []
   },
   "source": [
    "* **The TfidfVectorizer in scikit-learn, by default, adds a smoothing term to the denominator of the IDF calculation to avoid division by zero. This is done to handle the case where a term is present in all documents, ensuring that the IDF is not undefined.**\n",
    "* **L2 normalization, also known as Euclidean normalization or L2 norm normalization, is a technique used to scale vectors (or arrays) in such a way that their Euclidean norm becomes equal to 1.**"
   ]
  },
  {
   "cell_type": "markdown",
   "id": "87df2e77",
   "metadata": {
    "papermill": {
     "duration": 0.00715,
     "end_time": "2024-02-10T17:45:33.873634",
     "exception": false,
     "start_time": "2024-02-10T17:45:33.866484",
     "status": "completed"
    },
    "tags": []
   },
   "source": [
    "# Unigram\n",
    "* **A unigram, in the context of natural language processing (NLP) and linguistics, refers to a single unit or token of a word. It is the simplest form of linguistic analysis where text is broken down into individual words. In other words, a unigram is a term used to describe a single word in a sequence of words.**\n",
    "* **Unigrams are the building blocks for more complex linguistic analyses, such as bigrams (pairs of consecutive words), trigrams (triplets of consecutive words), and n-grams in general.*** **A unigram, in the context of natural language processing (NLP) and linguistics, refers to a single unit or token of a word. It is the simplest form of linguistic analysis where text is broken down into individual words. In other words, a unigram is a term used to describe a single word in a sequence of words.**\n",
    "* **Unigrams are the building blocks for more complex linguistic analyses, such as bigrams (pairs of consecutive words), trigrams (triplets of consecutive words), and n-grams in general.**"
   ]
  },
  {
   "cell_type": "code",
   "execution_count": 10,
   "id": "c8a26cf4",
   "metadata": {
    "execution": {
     "iopub.execute_input": "2024-02-10T17:45:33.890165Z",
     "iopub.status.busy": "2024-02-10T17:45:33.889607Z",
     "iopub.status.idle": "2024-02-10T17:45:33.903431Z",
     "shell.execute_reply": "2024-02-10T17:45:33.902770Z"
    },
    "papermill": {
     "duration": 0.024073,
     "end_time": "2024-02-10T17:45:33.905104",
     "exception": false,
     "start_time": "2024-02-10T17:45:33.881031",
     "status": "completed"
    },
    "tags": []
   },
   "outputs": [
    {
     "data": {
      "text/html": [
       "<div>\n",
       "<style scoped>\n",
       "    .dataframe tbody tr th:only-of-type {\n",
       "        vertical-align: middle;\n",
       "    }\n",
       "\n",
       "    .dataframe tbody tr th {\n",
       "        vertical-align: top;\n",
       "    }\n",
       "\n",
       "    .dataframe thead th {\n",
       "        text-align: right;\n",
       "    }\n",
       "</style>\n",
       "<table border=\"1\" class=\"dataframe\">\n",
       "  <thead>\n",
       "    <tr style=\"text-align: right;\">\n",
       "      <th></th>\n",
       "      <th>cat</th>\n",
       "      <th>the</th>\n",
       "      <th>hat</th>\n",
       "      <th>fox</th>\n",
       "      <th>blue</th>\n",
       "      <th>in</th>\n",
       "      <th>brown</th>\n",
       "      <th>is</th>\n",
       "      <th>quick</th>\n",
       "    </tr>\n",
       "  </thead>\n",
       "  <tbody>\n",
       "    <tr>\n",
       "      <th>0</th>\n",
       "      <td>1</td>\n",
       "      <td>2</td>\n",
       "      <td>1</td>\n",
       "      <td>0</td>\n",
       "      <td>0</td>\n",
       "      <td>1</td>\n",
       "      <td>0</td>\n",
       "      <td>0</td>\n",
       "      <td>0</td>\n",
       "    </tr>\n",
       "    <tr>\n",
       "      <th>1</th>\n",
       "      <td>0</td>\n",
       "      <td>1</td>\n",
       "      <td>0</td>\n",
       "      <td>1</td>\n",
       "      <td>0</td>\n",
       "      <td>0</td>\n",
       "      <td>1</td>\n",
       "      <td>0</td>\n",
       "      <td>1</td>\n",
       "    </tr>\n",
       "    <tr>\n",
       "      <th>2</th>\n",
       "      <td>0</td>\n",
       "      <td>1</td>\n",
       "      <td>1</td>\n",
       "      <td>0</td>\n",
       "      <td>1</td>\n",
       "      <td>0</td>\n",
       "      <td>0</td>\n",
       "      <td>1</td>\n",
       "      <td>0</td>\n",
       "    </tr>\n",
       "  </tbody>\n",
       "</table>\n",
       "</div>"
      ],
      "text/plain": [
       "   cat  the  hat  fox  blue  in  brown  is  quick\n",
       "0    1    2    1    0     0   1      0   0      0\n",
       "1    0    1    0    1     0   0      1   0      1\n",
       "2    0    1    1    0     1   0      0   1      0"
      ]
     },
     "execution_count": 10,
     "metadata": {},
     "output_type": "execute_result"
    }
   ],
   "source": [
    "#Probability of unigram P(w)=C(w)/m same idea of TF\n",
    "def count_wrd_Doc(wrd,doc):\n",
    "    i=0\n",
    "    for w in doc.lower().split(' '):\n",
    "        if wrd == w:\n",
    "            i = i+1\n",
    "    return i\n",
    "    \n",
    "unigram_df = pd.DataFrame(columns=list(wrds)) #empty dataframe initialized with words column headers\n",
    "freq_lst=[] #empty list for each column to save word frequencies in each document\n",
    "for c in tf_df.columns:\n",
    "    freq_lst=[]#empty the list\n",
    "    for d in Docs:\n",
    "        freq_lst.append(count_wrd_Doc(c,d))#append the frequency of word in document d\n",
    "    unigram_df[c]=freq_lst #assign values to column\n",
    "unigram_df #display the dataframe of TF for each word in each document"
   ]
  },
  {
   "cell_type": "markdown",
   "id": "3279f723",
   "metadata": {
    "papermill": {
     "duration": 0.007433,
     "end_time": "2024-02-10T17:45:33.920607",
     "exception": false,
     "start_time": "2024-02-10T17:45:33.913174",
     "status": "completed"
    },
    "tags": []
   },
   "source": [
    "**Unigrams python function**"
   ]
  },
  {
   "cell_type": "code",
   "execution_count": 11,
   "id": "e22201e3",
   "metadata": {
    "execution": {
     "iopub.execute_input": "2024-02-10T17:45:33.982037Z",
     "iopub.status.busy": "2024-02-10T17:45:33.981470Z",
     "iopub.status.idle": "2024-02-10T17:45:33.997425Z",
     "shell.execute_reply": "2024-02-10T17:45:33.996573Z"
    },
    "papermill": {
     "duration": 0.02667,
     "end_time": "2024-02-10T17:45:33.999035",
     "exception": false,
     "start_time": "2024-02-10T17:45:33.972365",
     "status": "completed"
    },
    "tags": []
   },
   "outputs": [
    {
     "name": "stdout",
     "output_type": "stream",
     "text": [
      "('the',): 2\n",
      "('cat',): 1\n",
      "('in',): 1\n",
      "('hat',): 1\n",
      "('the',): 1\n",
      "('quick',): 1\n",
      "('brown',): 1\n",
      "('fox',): 1\n",
      "('the',): 1\n",
      "('hat',): 1\n",
      "('is',): 1\n",
      "('blue',): 1\n"
     ]
    }
   ],
   "source": [
    "for d in Docs:\n",
    "    words = word_tokenize(d.lower())\n",
    "    result = list(ngrams(words, 1))\n",
    "    # Calculate frequency distribution of bigrams\n",
    "    ngram_freq = FreqDist(result)\n",
    "    for word, frequency in ngram_freq.items():\n",
    "        print(f\"{word}: {frequency}\")"
   ]
  },
  {
   "cell_type": "markdown",
   "id": "a129e8b7",
   "metadata": {
    "papermill": {
     "duration": 0.008101,
     "end_time": "2024-02-10T17:45:34.015324",
     "exception": false,
     "start_time": "2024-02-10T17:45:34.007223",
     "status": "completed"
    },
    "tags": []
   },
   "source": [
    "**Bigram**\n",
    "* **A bigram, in the context of natural language processing (NLP) and linguistics, refers to an ordered pair of consecutive words within a text or sequence of words. It is a type of n-gram, where \"n\" represents the number of words in the sequence.*** **A bigram, in the context of natural language processing (NLP) and linguistics, refers to an ordered pair of consecutive words within a text or sequence of words. It is a type of n-gram, where \"n\" represents the number of words in the sequence.**"
   ]
  },
  {
   "cell_type": "code",
   "execution_count": 12,
   "id": "9a7daf91",
   "metadata": {
    "execution": {
     "iopub.execute_input": "2024-02-10T17:45:34.032904Z",
     "iopub.status.busy": "2024-02-10T17:45:34.032343Z",
     "iopub.status.idle": "2024-02-10T17:45:34.055502Z",
     "shell.execute_reply": "2024-02-10T17:45:34.054681Z"
    },
    "papermill": {
     "duration": 0.03395,
     "end_time": "2024-02-10T17:45:34.057264",
     "exception": false,
     "start_time": "2024-02-10T17:45:34.023314",
     "status": "completed"
    },
    "tags": []
   },
   "outputs": [
    {
     "data": {
      "text/html": [
       "<div>\n",
       "<style scoped>\n",
       "    .dataframe tbody tr th:only-of-type {\n",
       "        vertical-align: middle;\n",
       "    }\n",
       "\n",
       "    .dataframe tbody tr th {\n",
       "        vertical-align: top;\n",
       "    }\n",
       "\n",
       "    .dataframe thead th {\n",
       "        text-align: right;\n",
       "    }\n",
       "</style>\n",
       "<table border=\"1\" class=\"dataframe\">\n",
       "  <thead>\n",
       "    <tr style=\"text-align: right;\">\n",
       "      <th></th>\n",
       "      <th>the cat</th>\n",
       "      <th>cat in</th>\n",
       "      <th>in the</th>\n",
       "      <th>the hat</th>\n",
       "      <th>the quick</th>\n",
       "      <th>quick brown</th>\n",
       "      <th>brown fox</th>\n",
       "      <th>the hat</th>\n",
       "      <th>hat is</th>\n",
       "      <th>is blue</th>\n",
       "    </tr>\n",
       "  </thead>\n",
       "  <tbody>\n",
       "    <tr>\n",
       "      <th>0</th>\n",
       "      <td>1</td>\n",
       "      <td>1</td>\n",
       "      <td>1</td>\n",
       "      <td>1</td>\n",
       "      <td>0</td>\n",
       "      <td>0</td>\n",
       "      <td>0</td>\n",
       "      <td>1</td>\n",
       "      <td>0</td>\n",
       "      <td>0</td>\n",
       "    </tr>\n",
       "    <tr>\n",
       "      <th>1</th>\n",
       "      <td>0</td>\n",
       "      <td>0</td>\n",
       "      <td>0</td>\n",
       "      <td>0</td>\n",
       "      <td>1</td>\n",
       "      <td>1</td>\n",
       "      <td>1</td>\n",
       "      <td>0</td>\n",
       "      <td>0</td>\n",
       "      <td>0</td>\n",
       "    </tr>\n",
       "    <tr>\n",
       "      <th>2</th>\n",
       "      <td>0</td>\n",
       "      <td>0</td>\n",
       "      <td>0</td>\n",
       "      <td>1</td>\n",
       "      <td>0</td>\n",
       "      <td>0</td>\n",
       "      <td>0</td>\n",
       "      <td>1</td>\n",
       "      <td>1</td>\n",
       "      <td>1</td>\n",
       "    </tr>\n",
       "  </tbody>\n",
       "</table>\n",
       "</div>"
      ],
      "text/plain": [
       "   the cat  cat in  in the  the hat  the quick  quick brown  brown fox  \\\n",
       "0        1       1       1        1          0            0          0   \n",
       "1        0       0       0        0          1            1          1   \n",
       "2        0       0       0        1          0            0          0   \n",
       "\n",
       "   the hat  hat is  is blue  \n",
       "0        1       0        0  \n",
       "1        0       0        0  \n",
       "2        1       1        1  "
      ]
     },
     "execution_count": 12,
     "metadata": {},
     "output_type": "execute_result"
    }
   ],
   "source": [
    "#get bi-grams of input sentence\n",
    "def bi_lst(doc):\n",
    "    wrds = doc.lower().split(' ')\n",
    "    bi_lst = []\n",
    "    for j in range(0,len(wrds)-1):\n",
    "        bi_lst.append(wrds[j:j+2])\n",
    "    return bi_lst\n",
    "\n",
    "lst = []\n",
    "for d in Docs:\n",
    "    lst.extend(bi_lst(d))\n",
    "unique_list = []\n",
    "unique_list = [item for item in lst if item not in unique_list]\n",
    "\n",
    "def count_biwrd_Doc(st,doc):\n",
    "    i=0    \n",
    "    for s in bi_lst(doc):\n",
    "        if s == st.split(' '):\n",
    "            i = i+1\n",
    "    return i\n",
    "bigram_df = pd.DataFrame(columns=list((' '.join(x) for x in unique_list))) #empty dataframe initialized with words column headers\n",
    "freq_lst=[] #empty list for each column to save word frequencies in each document\n",
    "for c in bigram_df.columns:\n",
    "    freq_lst=[]#empty the list\n",
    "    for d in Docs:\n",
    "        freq_lst.append(count_biwrd_Doc(c,d))#append the frequency of word in document d\n",
    "    bigram_df[c]=freq_lst #assign values to column\n",
    "bigram_df #display the dataframe of TF for each word in each document"
   ]
  },
  {
   "cell_type": "markdown",
   "id": "e6371ab5",
   "metadata": {
    "papermill": {
     "duration": 0.008111,
     "end_time": "2024-02-10T17:45:34.073979",
     "exception": false,
     "start_time": "2024-02-10T17:45:34.065868",
     "status": "completed"
    },
    "tags": []
   },
   "source": [
    "**Bigrams python function**"
   ]
  },
  {
   "cell_type": "code",
   "execution_count": 13,
   "id": "4123ef6d",
   "metadata": {
    "execution": {
     "iopub.execute_input": "2024-02-10T17:45:34.092249Z",
     "iopub.status.busy": "2024-02-10T17:45:34.091645Z",
     "iopub.status.idle": "2024-02-10T17:45:34.097703Z",
     "shell.execute_reply": "2024-02-10T17:45:34.096743Z"
    },
    "papermill": {
     "duration": 0.017065,
     "end_time": "2024-02-10T17:45:34.099361",
     "exception": false,
     "start_time": "2024-02-10T17:45:34.082296",
     "status": "completed"
    },
    "tags": []
   },
   "outputs": [
    {
     "name": "stdout",
     "output_type": "stream",
     "text": [
      "('the', 'cat'): 1\n",
      "('cat', 'in'): 1\n",
      "('in', 'the'): 1\n",
      "('the', 'hat'): 1\n",
      "('the', 'quick'): 1\n",
      "('quick', 'brown'): 1\n",
      "('brown', 'fox'): 1\n",
      "('the', 'hat'): 1\n",
      "('hat', 'is'): 1\n",
      "('is', 'blue'): 1\n"
     ]
    }
   ],
   "source": [
    "for d in Docs:\n",
    "    words = word_tokenize(d.lower())\n",
    "    result = list(ngrams(words, 2))\n",
    "    # Calculate frequency distribution of bigrams\n",
    "    ngram_freq = FreqDist(result)\n",
    "    for word, frequency in ngram_freq.items():\n",
    "        print(f\"{word}: {frequency}\")"
   ]
  },
  {
   "cell_type": "markdown",
   "id": "0dff662d",
   "metadata": {
    "papermill": {
     "duration": 0.008331,
     "end_time": "2024-02-10T17:45:34.116381",
     "exception": false,
     "start_time": "2024-02-10T17:45:34.108050",
     "status": "completed"
    },
    "tags": []
   },
   "source": [
    "# Skip-gram & Continuous Bag of Words (CBOW)\n",
    "* These models use shallow neural networks to learn word embeddings. Skip-gram predicts context words given a target word, while CBOW predicts a target word given its context. These models use shallow neural networks to learn word embeddings. Skip-gram predicts context words given a target word, while CBOW predicts a target word given its context. "
   ]
  },
  {
   "cell_type": "markdown",
   "id": "36b68edf",
   "metadata": {
    "papermill": {
     "duration": 0.008148,
     "end_time": "2024-02-10T17:45:34.133173",
     "exception": false,
     "start_time": "2024-02-10T17:45:34.125025",
     "status": "completed"
    },
    "tags": []
   },
   "source": [
    "**CBOW**\n",
    "* Objective: The main objective of CBOW is to predict a target word given its context (surrounding words). It learns to represent words in a continuous vector space based on their distributional semantics.\n",
    "* Architecture: CBOW uses a neural network with a single hidden layer. The input layer and output layer are typically equal to the size of the vocabulary, and the hidden layer has a much smaller dimension, often referred to as the embedding dimension.\n",
    "* Input and Output: The input to the CBOW model is a set of context words represented as one-hot vectors (binary vectors with a 1 at the index corresponding to the word's position in the vocabulary). The output is the target word's one-hot vector.\n",
    "* Context Window: The context window is a fixed-size window of surrounding words used to predict the target word. The model is trained to predict the target word based on the words within this context window."
   ]
  },
  {
   "cell_type": "code",
   "execution_count": 14,
   "id": "66d49861",
   "metadata": {
    "execution": {
     "iopub.execute_input": "2024-02-10T17:45:34.151745Z",
     "iopub.status.busy": "2024-02-10T17:45:34.151153Z",
     "iopub.status.idle": "2024-02-10T17:45:34.165066Z",
     "shell.execute_reply": "2024-02-10T17:45:34.164268Z"
    },
    "papermill": {
     "duration": 0.025049,
     "end_time": "2024-02-10T17:45:34.166796",
     "exception": false,
     "start_time": "2024-02-10T17:45:34.141747",
     "status": "completed"
    },
    "tags": []
   },
   "outputs": [
    {
     "data": {
      "text/html": [
       "<div>\n",
       "<style scoped>\n",
       "    .dataframe tbody tr th:only-of-type {\n",
       "        vertical-align: middle;\n",
       "    }\n",
       "\n",
       "    .dataframe tbody tr th {\n",
       "        vertical-align: top;\n",
       "    }\n",
       "\n",
       "    .dataframe thead th {\n",
       "        text-align: right;\n",
       "    }\n",
       "</style>\n",
       "<table border=\"1\" class=\"dataframe\">\n",
       "  <thead>\n",
       "    <tr style=\"text-align: right;\">\n",
       "      <th></th>\n",
       "      <th>cat</th>\n",
       "      <th>the</th>\n",
       "      <th>hat</th>\n",
       "      <th>fox</th>\n",
       "      <th>blue</th>\n",
       "      <th>in</th>\n",
       "      <th>brown</th>\n",
       "      <th>is</th>\n",
       "      <th>quick</th>\n",
       "    </tr>\n",
       "  </thead>\n",
       "  <tbody>\n",
       "    <tr>\n",
       "      <th>0</th>\n",
       "      <td>1</td>\n",
       "      <td>2</td>\n",
       "      <td>1</td>\n",
       "      <td>0</td>\n",
       "      <td>0</td>\n",
       "      <td>1</td>\n",
       "      <td>0</td>\n",
       "      <td>0</td>\n",
       "      <td>0</td>\n",
       "    </tr>\n",
       "    <tr>\n",
       "      <th>1</th>\n",
       "      <td>0</td>\n",
       "      <td>1</td>\n",
       "      <td>0</td>\n",
       "      <td>1</td>\n",
       "      <td>0</td>\n",
       "      <td>0</td>\n",
       "      <td>1</td>\n",
       "      <td>0</td>\n",
       "      <td>1</td>\n",
       "    </tr>\n",
       "    <tr>\n",
       "      <th>2</th>\n",
       "      <td>0</td>\n",
       "      <td>1</td>\n",
       "      <td>1</td>\n",
       "      <td>0</td>\n",
       "      <td>1</td>\n",
       "      <td>0</td>\n",
       "      <td>0</td>\n",
       "      <td>1</td>\n",
       "      <td>0</td>\n",
       "    </tr>\n",
       "  </tbody>\n",
       "</table>\n",
       "</div>"
      ],
      "text/plain": [
       "   cat  the  hat  fox  blue  in  brown  is  quick\n",
       "0    1    2    1    0     0   1      0   0      0\n",
       "1    0    1    0    1     0   0      1   0      1\n",
       "2    0    1    1    0     1   0      0   1      0"
      ]
     },
     "execution_count": 14,
     "metadata": {},
     "output_type": "execute_result"
    }
   ],
   "source": [
    "def count_wrd_Doc(wrd,doc):\n",
    "    i=0\n",
    "    for w in doc.lower().split(' '):\n",
    "        if wrd == w:\n",
    "            i = i+1\n",
    "    return i\n",
    "    \n",
    "cw_df = pd.DataFrame(columns=list(wrds)) #empty dataframe initialized with words column headers\n",
    "freq_lst=[] #empty list for each column to save word frequencies in each document\n",
    "for c in tf_df.columns:\n",
    "    freq_lst=[]#empty the list\n",
    "    for d in Docs:\n",
    "        freq_lst.append(count_wrd_Doc(c,d))#append the frequency of word in document d\n",
    "    cw_df[c]=freq_lst #assign values to column\n",
    "cw_df #display the datafram"
   ]
  },
  {
   "cell_type": "code",
   "execution_count": 15,
   "id": "9cdf0294",
   "metadata": {
    "execution": {
     "iopub.execute_input": "2024-02-10T17:45:34.185581Z",
     "iopub.status.busy": "2024-02-10T17:45:34.185025Z",
     "iopub.status.idle": "2024-02-10T17:45:34.193408Z",
     "shell.execute_reply": "2024-02-10T17:45:34.192459Z"
    },
    "papermill": {
     "duration": 0.019553,
     "end_time": "2024-02-10T17:45:34.195059",
     "exception": false,
     "start_time": "2024-02-10T17:45:34.175506",
     "status": "completed"
    },
    "tags": []
   },
   "outputs": [
    {
     "name": "stdout",
     "output_type": "stream",
     "text": [
      "Bag of Words representation:\n",
      "[[0 0 1 0 1 1 0 0 2]\n",
      " [0 1 0 1 0 0 0 1 1]\n",
      " [1 0 0 0 1 0 1 0 1]]\n",
      "Feature names:\n",
      "['blue' 'brown' 'cat' 'fox' 'hat' 'in' 'is' 'quick' 'the']\n"
     ]
    }
   ],
   "source": [
    "# Create a CountVectorizer instance\n",
    "vectorizer = CountVectorizer()\n",
    "\n",
    "# Fit and transform the documents to create the Bag of Words representation\n",
    "X_bow = vectorizer.fit_transform(Docs)\n",
    "feature_names = vectorizer.get_feature_names_out()\n",
    "# Print the Bag of Words representation\n",
    "print(\"Bag of Words representation:\")\n",
    "print(X_bow.toarray())\n",
    "print(\"Feature names:\")\n",
    "print(feature_names)"
   ]
  },
  {
   "cell_type": "markdown",
   "id": "3399a1c7",
   "metadata": {
    "papermill": {
     "duration": 0.008038,
     "end_time": "2024-02-10T17:45:34.211513",
     "exception": false,
     "start_time": "2024-02-10T17:45:34.203475",
     "status": "completed"
    },
    "tags": []
   },
   "source": [
    "**Skip-Grams**\n",
    "* **Objective:** The main objective of the Skip-gram model is to learn distributed representations (word embeddings) of words in a continuous vector space. It does so by predicting the context words based on a given target word.\n",
    "* **Architecture:** Skip-gram uses a neural network with a single hidden layer. The input layer and output layer are typically equal to the size of the vocabulary, and the hidden layer has a much smaller dimension, often referred to as the embedding dimension.\n",
    "* **Input and Output:** The input to the Skip-gram model is a one-hot vector representing a target word (the word for which embeddings are being learned). The output is a probability distribution over the vocabulary, representing the likelihood of each word being a context word.\n",
    "* **Context Window:** During training, a context window is defined around the target word. The context words within this window are used to predict the target word. The context window provides local context information for each target word.\n",
    "* **Training Objective:** Skip-gram is trained using a supervised learning approach. The model aims to minimize the cross-entropy loss between the predicted probability distribution over the vocabulary and the actual distribution (one-hot vector of the true context word)."
   ]
  },
  {
   "cell_type": "code",
   "execution_count": 16,
   "id": "9d0a8770",
   "metadata": {
    "execution": {
     "iopub.execute_input": "2024-02-10T17:45:34.229073Z",
     "iopub.status.busy": "2024-02-10T17:45:34.228785Z",
     "iopub.status.idle": "2024-02-10T17:45:34.235961Z",
     "shell.execute_reply": "2024-02-10T17:45:34.235215Z"
    },
    "papermill": {
     "duration": 0.018686,
     "end_time": "2024-02-10T17:45:34.238257",
     "exception": false,
     "start_time": "2024-02-10T17:45:34.219571",
     "status": "completed"
    },
    "tags": []
   },
   "outputs": [
    {
     "name": "stdout",
     "output_type": "stream",
     "text": [
      "document: the cat in the hat\n",
      "target: the\n",
      "context words ['cat', 'in', 'the'] ,window_size 3\n",
      "----------------------------------------\n",
      "document: the cat in the hat\n",
      "target: cat\n",
      "context words ['the', 'in', 'the', 'hat'] ,window_size 3\n",
      "----------------------------------------\n",
      "document: the cat in the hat\n",
      "target: in\n",
      "context words ['the', 'cat', 'the', 'hat'] ,window_size 3\n",
      "----------------------------------------\n",
      "document: the cat in the hat\n",
      "target: the\n",
      "context words ['the', 'cat', 'in', 'hat'] ,window_size 3\n",
      "----------------------------------------\n",
      "document: the cat in the hat\n",
      "target: hat\n",
      "context words ['cat', 'in', 'the'] ,window_size 3\n",
      "----------------------------------------\n",
      "document: the quick brown fox\n",
      "target: the\n",
      "context words ['quick', 'brown', 'fox'] ,window_size 3\n",
      "----------------------------------------\n",
      "document: the quick brown fox\n",
      "target: quick\n",
      "context words ['the', 'brown', 'fox'] ,window_size 3\n",
      "----------------------------------------\n",
      "document: the quick brown fox\n",
      "target: brown\n",
      "context words ['the', 'quick', 'fox'] ,window_size 3\n",
      "----------------------------------------\n",
      "document: the quick brown fox\n",
      "target: fox\n",
      "context words ['the', 'quick', 'brown'] ,window_size 3\n",
      "----------------------------------------\n",
      "document: the hat is blue\n",
      "target: the\n",
      "context words ['hat', 'is', 'blue'] ,window_size 3\n",
      "----------------------------------------\n",
      "document: the hat is blue\n",
      "target: hat\n",
      "context words ['the', 'is', 'blue'] ,window_size 3\n",
      "----------------------------------------\n",
      "document: the hat is blue\n",
      "target: is\n",
      "context words ['the', 'hat', 'blue'] ,window_size 3\n",
      "----------------------------------------\n",
      "document: the hat is blue\n",
      "target: blue\n",
      "context words ['the', 'hat', 'is'] ,window_size 3\n",
      "----------------------------------------\n"
     ]
    }
   ],
   "source": [
    "# Generate training pairs (target word, context word)\n",
    "window_size = 3# the window specifies the context words size neigbored the target word \n",
    "training_pairs = []\n",
    "context_words = []#the context words for w=3 i-3,i-2,i-1,i+1,i+2,i+3\n",
    "for d in Docs:\n",
    "    t=[]\n",
    "    c=[]\n",
    "    for i, target_word in enumerate(d.lower().split(' ')):\n",
    "        start = max(0, i - window_size)\n",
    "        end = min(len(d.lower().split(' ')), i + window_size + 1)\n",
    "        c = [d.lower().split(' ')[j] for j in range(start, end) if j != i]\n",
    "        for context_word in c:\n",
    "            t.append((target_word, context_word))\n",
    "        print(\"document:\",d.lower())\n",
    "        print(\"target:\",target_word)\n",
    "        print(\"context words\",c,\",window_size\",window_size)\n",
    "        print(\"----------------------------------------\")\n",
    "    training_pairs.append(t)    "
   ]
  },
  {
   "cell_type": "code",
   "execution_count": 17,
   "id": "2c616125",
   "metadata": {
    "execution": {
     "iopub.execute_input": "2024-02-10T17:45:34.256770Z",
     "iopub.status.busy": "2024-02-10T17:45:34.256480Z",
     "iopub.status.idle": "2024-02-10T17:45:34.262943Z",
     "shell.execute_reply": "2024-02-10T17:45:34.262244Z"
    },
    "papermill": {
     "duration": 0.017435,
     "end_time": "2024-02-10T17:45:34.264512",
     "exception": false,
     "start_time": "2024-02-10T17:45:34.247077",
     "status": "completed"
    },
    "tags": []
   },
   "outputs": [
    {
     "data": {
      "text/plain": [
       "[[('the', 'cat'),\n",
       "  ('the', 'in'),\n",
       "  ('the', 'the'),\n",
       "  ('cat', 'the'),\n",
       "  ('cat', 'in'),\n",
       "  ('cat', 'the'),\n",
       "  ('cat', 'hat'),\n",
       "  ('in', 'the'),\n",
       "  ('in', 'cat'),\n",
       "  ('in', 'the'),\n",
       "  ('in', 'hat'),\n",
       "  ('the', 'the'),\n",
       "  ('the', 'cat'),\n",
       "  ('the', 'in'),\n",
       "  ('the', 'hat'),\n",
       "  ('hat', 'cat'),\n",
       "  ('hat', 'in'),\n",
       "  ('hat', 'the')],\n",
       " [('the', 'quick'),\n",
       "  ('the', 'brown'),\n",
       "  ('the', 'fox'),\n",
       "  ('quick', 'the'),\n",
       "  ('quick', 'brown'),\n",
       "  ('quick', 'fox'),\n",
       "  ('brown', 'the'),\n",
       "  ('brown', 'quick'),\n",
       "  ('brown', 'fox'),\n",
       "  ('fox', 'the'),\n",
       "  ('fox', 'quick'),\n",
       "  ('fox', 'brown')],\n",
       " [('the', 'hat'),\n",
       "  ('the', 'is'),\n",
       "  ('the', 'blue'),\n",
       "  ('hat', 'the'),\n",
       "  ('hat', 'is'),\n",
       "  ('hat', 'blue'),\n",
       "  ('is', 'the'),\n",
       "  ('is', 'hat'),\n",
       "  ('is', 'blue'),\n",
       "  ('blue', 'the'),\n",
       "  ('blue', 'hat'),\n",
       "  ('blue', 'is')]]"
      ]
     },
     "execution_count": 17,
     "metadata": {},
     "output_type": "execute_result"
    }
   ],
   "source": [
    "training_pairs # this is the pairs of training formed the target and context word pairs according to context window size"
   ]
  },
  {
   "cell_type": "code",
   "execution_count": 18,
   "id": "5d08ee62",
   "metadata": {
    "execution": {
     "iopub.execute_input": "2024-02-10T17:45:34.282665Z",
     "iopub.status.busy": "2024-02-10T17:45:34.282406Z",
     "iopub.status.idle": "2024-02-10T17:45:34.569224Z",
     "shell.execute_reply": "2024-02-10T17:45:34.568140Z"
    },
    "papermill": {
     "duration": 0.297976,
     "end_time": "2024-02-10T17:45:34.571069",
     "exception": false,
     "start_time": "2024-02-10T17:45:34.273093",
     "status": "completed"
    },
    "tags": []
   },
   "outputs": [
    {
     "name": "stdout",
     "output_type": "stream",
     "text": [
      "Epoch 0, Loss: -2.1586130735218028\n",
      "-------------------------------\n",
      "Vector for 'cat': [-0.0002526   0.00012557  0.00033491 -0.00049283  0.00022076 -0.00063616\n",
      "  0.0002221  -0.00069559 -0.00015768  0.00025864]\n",
      "Vector for 'in': [-2.52232906e-04  6.39666068e-05 -8.93772890e-07 -5.79779022e-04\n",
      "  2.33044310e-04 -6.39913250e-04  2.65337762e-04 -4.21953690e-04\n",
      "  3.62309229e-05  3.62649650e-04]\n",
      "Vector for 'the': [ 6.66141430e-05 -2.93499383e-05 -4.61655673e-05  1.31567221e-04\n",
      " -5.79416844e-05  1.53126189e-04 -7.34303498e-05  1.32462176e-04\n",
      "  4.50116061e-06 -8.06336099e-05]\n",
      "Vector for 'hat': [ 0.0005476  -0.00018665 -0.00035144  0.00120669 -0.00050064  0.00144957\n",
      " -0.00048996  0.00127493  0.00018    -0.00068031]\n",
      "-------------------------------\n",
      "Epoch 0, Loss: -1.5463443495611746\n",
      "-------------------------------\n",
      "Vector for 'fox': [-2.12476592e-03  3.31089297e-05 -6.11782062e-04 -1.18191952e-03\n",
      " -1.57930484e-03 -2.11010103e-03  2.73688279e-03  1.11092021e-03\n",
      "  2.07217221e-03  1.99900876e-03]\n",
      "Vector for 'brown': [-0.00055105 -0.00210107 -0.00065044  0.00314355 -0.00031657  0.00233506\n",
      " -0.0008978  -0.00225187 -0.0008046   0.00059182]\n",
      "Vector for 'the': [ 0.00241457  0.00105428 -0.00222126 -0.00202673  0.00384552  0.00032877\n",
      " -0.001607   -0.00177369 -0.00186613 -0.00148057]\n",
      "Vector for 'quick': [ 3.16229289e-04  1.03732972e-03  3.48120758e-03  4.43481914e-05\n",
      " -1.89398328e-03 -5.36512786e-04 -2.78375252e-04  2.90189266e-03\n",
      "  5.59707706e-04 -1.15554426e-03]\n",
      "-------------------------------\n",
      "Epoch 0, Loss: -2.598422692704366\n",
      "-------------------------------\n",
      "Vector for 'blue': [-0.00062184  0.00032296  0.0001112  -0.00157112  0.00112482 -0.00129607\n",
      "  0.00189832 -0.00154153 -0.00078957 -0.00244634]\n",
      "Vector for 'the': [ 0.0010148   0.00077557  0.00038736 -0.00149693 -0.00089747  0.0005077\n",
      "  0.00108463  0.00011576 -0.00067729  0.00074044]\n",
      "Vector for 'hat': [ 4.49320151e-04 -1.51297018e-03 -1.34986055e-03  1.03433598e-04\n",
      "  2.36520144e-04  1.06194749e-03 -7.19267963e-04  4.60912321e-06\n",
      " -4.16664970e-05  1.79763425e-03]\n",
      "Vector for 'is': [-8.18612937e-04  4.12857979e-04  8.46734841e-04  2.95522048e-03\n",
      " -4.83681086e-04 -2.48093895e-04 -2.26662331e-03  1.43504043e-03\n",
      "  1.50452092e-03 -4.83663157e-05]\n",
      "-------------------------------\n"
     ]
    }
   ],
   "source": [
    "# Initialize word vectors randomly\n",
    "embedding_dim = 10\n",
    "learning_rate = 0.01\n",
    "epochs = 500\n",
    "word_vectors = []\n",
    "vocab=[]\n",
    "for d in Docs:\n",
    "    vocab.append((list(set(d.lower().split(' ')))))\n",
    "for v in vocab:\n",
    "    word_vectors.append({word: np.random.rand(embedding_dim) for word in v})#initialize random values vector for each word \n",
    "    \n",
    "for i in range(0,len(training_pairs)):\n",
    "    # Train the Skip-gram model\n",
    "    for epoch in range(epochs):\n",
    "    \n",
    "        for target_word, context_word in training_pairs[i]:\n",
    "            # Forward pass\n",
    "            input_vector = word_vectors[i][target_word]\n",
    "            output_vector = word_vectors[i][context_word]\n",
    "\n",
    "            # Calculate loss (using negative log likelihood)\n",
    "            error = -np.log(np.exp(np.dot(input_vector, output_vector)))\n",
    "\n",
    "            # Backward pass (update word vectors using gradient descent)\n",
    "            gradient = input_vector * np.exp(np.dot(input_vector, output_vector)) / (1 + np.exp(np.dot(input_vector, output_vector)))\n",
    "            word_vectors[i][target_word] -= learning_rate * gradient\n",
    "            word_vectors[i][context_word] -= learning_rate * gradient\n",
    "\n",
    "        if epoch % 500 == 0:\n",
    "            print(f\"Epoch {epoch}, Loss: {error}\")\n",
    "    print('-------------------------------')\n",
    "    #word vectors\n",
    "    for word, vector in word_vectors[i].items():\n",
    "        print(f\"Vector for '{word}': {vector}\")\n",
    "    print('-------------------------------')"
   ]
  },
  {
   "cell_type": "markdown",
   "id": "ee451b07",
   "metadata": {
    "papermill": {
     "duration": 0.008804,
     "end_time": "2024-02-10T17:45:34.589155",
     "exception": false,
     "start_time": "2024-02-10T17:45:34.580351",
     "status": "completed"
    },
    "tags": []
   },
   "source": [
    "# TensorFlow Skip-gram"
   ]
  },
  {
   "cell_type": "code",
   "execution_count": 19,
   "id": "39e043ef",
   "metadata": {
    "execution": {
     "iopub.execute_input": "2024-02-10T17:45:34.609253Z",
     "iopub.status.busy": "2024-02-10T17:45:34.608962Z",
     "iopub.status.idle": "2024-02-10T17:45:39.984087Z",
     "shell.execute_reply": "2024-02-10T17:45:39.983113Z"
    },
    "papermill": {
     "duration": 5.388149,
     "end_time": "2024-02-10T17:45:39.985914",
     "exception": false,
     "start_time": "2024-02-10T17:45:34.597765",
     "status": "completed"
    },
    "tags": []
   },
   "outputs": [
    {
     "name": "stdout",
     "output_type": "stream",
     "text": [
      "Vector for 'cat': [-0.34561813  0.38350445 -0.41994703 -0.3239398   0.36177006 -0.37945724\n",
      "  0.3707811  -0.3756078  -0.29807106 -0.42745292]\n",
      "Vector for 'in': [-0.35837805  0.3382364  -0.3690199  -0.37723526  0.42380896 -0.37364763\n",
      "  0.38345262 -0.37792027 -0.42348212 -0.35627377]\n",
      "Vector for 'the': [-0.3887507   0.4163548  -0.36380056 -0.3904994   0.38275528 -0.39485803\n",
      "  0.36487737 -0.3987143  -0.34512195 -0.38909534]\n",
      "Vector for 'hat': [-0.34600142  0.4116306  -0.4198311  -0.39940658  0.36759937 -0.34219077\n",
      "  0.36432213 -0.37066397 -0.37707627 -0.38390198]\n",
      "-----------------------------------------------------------\n",
      "Vector for 'fox': [-0.35126382  0.40030986 -0.37253082 -0.37776425 -0.3228029  -0.3606709\n",
      "  0.41769475  0.38105488  0.4078031   0.37752822]\n",
      "Vector for 'brown': [-0.38532835  0.40843353 -0.385213   -0.39418796 -0.35926843 -0.32606736\n",
      "  0.3957079   0.36701924  0.3197036   0.3936464 ]\n",
      "Vector for 'the': [-0.39018646  0.3796753  -0.3480946  -0.34190968 -0.40107703 -0.3785837\n",
      "  0.33885264  0.31164652  0.33442286  0.3560887 ]\n",
      "Vector for 'quick': [-0.39429814  0.39527363 -0.3867672  -0.3817974  -0.36989102 -0.3327784\n",
      "  0.37655932  0.41290736  0.40696332  0.33446398]\n",
      "-----------------------------------------------------------\n",
      "Vector for 'blue': [-0.39342356 -0.37442702 -0.40813726 -0.38822514 -0.3997656  -0.32285893\n",
      " -0.34058693  0.3207702   0.43103555  0.37759903]\n",
      "Vector for 'the': [-0.4035847  -0.36378056 -0.3970287  -0.350034   -0.38969675 -0.39137027\n",
      " -0.37507105  0.3985272   0.38486585  0.38554525]\n",
      "Vector for 'hat': [-0.2980082  -0.36269328 -0.42142284 -0.38007113 -0.2399697  -0.40791965\n",
      " -0.3522692   0.38468996  0.3998432   0.39361084]\n",
      "Vector for 'is': [-0.40093213 -0.3681877  -0.33053324 -0.37882388 -0.42586046 -0.3682185\n",
      " -0.397504    0.40511528  0.22943996  0.3868825 ]\n",
      "-----------------------------------------------------------\n"
     ]
    }
   ],
   "source": [
    "import tensorflow as tf\n",
    "from tensorflow.keras.layers import Embedding, Dot, Dense,Flatten\n",
    "from tensorflow.keras.models import Model\n",
    "from nltk.tokenize import word_tokenize\n",
    "\n",
    "# Create a vocabulary with unique words and indices\n",
    "vocab = []\n",
    "for doc in Docs:\n",
    "    wrds=list(set(doc.lower().split()))\n",
    "    vocab.append({w:wrds.index(w) for w in wrds})\n",
    "reverse_vocab = []\n",
    "for v in vocab:\n",
    "    reverse_vocab.append({idx: word for word, idx in v.items()})\n",
    "\n",
    "# Generate training pairs (target word, context word)\n",
    "training=[]\n",
    "for d,v in zip(Docs,vocab):\n",
    "    training_pairs=[]\n",
    "    for i, target_word in enumerate(d.lower().split(' ')):\n",
    "        start = max(0, i - window_size)\n",
    "        end = min(len(d.lower().split(' ')), i + window_size + 1)\n",
    "        context_words = [d.lower().split(' ')[j] for j in range(start, end) if j != i]\n",
    "        for context_word in context_words:\n",
    "            training_pairs.append((v[target_word], v[context_word]))\n",
    "    training.append(training_pairs)\n",
    "    \n",
    "    \n",
    "# Define the Skip-gram model using TensorFlow\n",
    "for i,v,t_p in zip(range(0,len(Docs)),vocab,training):\n",
    "    target_word_input = tf.keras.layers.Input(shape=(1,), name=\"target_word\")\n",
    "    context_word_input = tf.keras.layers.Input(shape=(1,), name=\"context_word\")\n",
    "\n",
    "    embedding_layer = Embedding(input_dim=len(v), output_dim=embedding_dim)\n",
    "    target_word_embedding = embedding_layer(target_word_input)#obtain respective embeddings\n",
    "    context_word_embedding = embedding_layer(context_word_input)#obtain respective embeddings\n",
    "    dot_product = Dot(axes=1, normalize=False)([target_word_embedding, context_word_embedding])#captures relations and similarity between context and target words\n",
    "    #dot_product = Dot(axes=2)([target_word_embedding, context_word_embedding])\n",
    "    output_layer = Dense(1, activation='sigmoid')(Flatten()(dot_product))  # Flatten the output\n",
    "\n",
    "    model = Model(inputs=[target_word_input, context_word_input], outputs=output_layer)\n",
    "    model.compile(optimizer='adam', loss='binary_crossentropy')\n",
    "    \n",
    "    \n",
    "    # Train the Skip-gram model\n",
    "    target_words = np.array([pair[0] for pair in t_p], dtype=np.int32)\n",
    "    context_words = np.array([pair[1] for pair in t_p], dtype=np.int32)\n",
    "\n",
    "    labels = np.array([1] * len(t_p), dtype=np.float32)# Positive labels for all training pairs\n",
    "    \n",
    "    model.fit({'target_word': target_words, 'context_word': context_words}, labels, epochs=500,verbose=0)\n",
    "\n",
    "    # Access word vectors\n",
    "    word_vectors = embedding_layer.get_weights()[0]\n",
    "    for idx, word in reverse_vocab[i].items():\n",
    "        print(f\"Vector for '{word}': {word_vectors[idx]}\")\n",
    "    \n",
    "    keras.utils.plot_model(model,show_shapes=True,show_layer_names=True)\n",
    "    print(\"-----------------------------------------------------------\")"
   ]
  },
  {
   "cell_type": "code",
   "execution_count": null,
   "id": "735120bf",
   "metadata": {
    "papermill": {
     "duration": 0.009113,
     "end_time": "2024-02-10T17:45:40.004962",
     "exception": false,
     "start_time": "2024-02-10T17:45:39.995849",
     "status": "completed"
    },
    "tags": []
   },
   "outputs": [],
   "source": []
  },
  {
   "cell_type": "markdown",
   "id": "9cddb921",
   "metadata": {
    "papermill": {
     "duration": 0.009054,
     "end_time": "2024-02-10T17:45:40.023640",
     "exception": false,
     "start_time": "2024-02-10T17:45:40.014586",
     "status": "completed"
    },
    "tags": []
   },
   "source": [
    "* **Count of Words (Bag-of-Words Model):**  Early NLP models represented documents using a Bag-of-Words (BoW) model, which counts the occurrence of words in a document without considering their order. This approach provides a basic representation of documents but lacks capturing semantic relationships.\n",
    "* **Term Frequency-Inverse Document Frequency (TF-IDF):** introduced a weighting scheme that considers not only the count of words in a document but also their importance in the entire corpus. It helps identify words that are significant to a particular document but not frequent across all documents.\n",
    "* **Latent Semantic Analysis (LSA):** also known as Latent Semantic Indexing (LSI), applies singular value decomposition (SVD) to the term-document matrix. It reduces the dimensionality of the space and captures latent semantic relationships between words and documents, improving representation.\n",
    "* **Skip-gram and Continuous Bag of Words (CBOW):** Word2Vec, introduced by Mikolov et al., includes two models: Skip-gram and Continuous Bag of Words (CBOW). These models use shallow neural networks to learn word embeddings. Skip-gram predicts context words given a target word, while CBOW predicts a target word given its context. Word2Vec significantly improves word embeddings' quality and captures semantic relationships.\n",
    "* **Global Vectors for Word Representation (GloVe):** introduces a global approach by training on aggregated global word co-occurrence statistics. It leverages a matrix factorization technique to capture the relationships between words in a more efficient manner, producing high-quality word embeddings.\n",
    "* **FastText and Subword Embeddings:** also by Mikolov et al., extends word embeddings to subword level. It represents words as bags of character n-grams, enabling the generation of embeddings for out-of-vocabulary words and capturing morphological information.\n",
    "* **Transformer Architecture:** introduced by Vaswani et al., revolutionizes NLP by employing self-attention mechanisms. It enables models like BERT (Bidirectional Encoder Representations from Transformers) to learn contextualized word embeddings, considering the entire input sequence bidirectionally.\n",
    "* **Contextualized Word Embeddings (BERT, GPT, ELMo):** BERT, GPT (Generative Pre-trained Transformer), and ELMo (Embeddings from Language Models) introduce contextualized embeddings by considering surrounding words and contexts. These models capture rich contextual information, leading to state-of-the-art performance in various NLP tasks.\n",
    "* **Transfer Learning and Fine-Tuning:** Pre-trained language models, such as BERT and GPT, can be fine-tuned on specific downstream tasks. This transfer learning approach significantly reduces the need for large labeled datasets and improves performance on specific tasks.\n",
    "* **Multimodal Embeddings:** are extended beyond text to include multimodal information, combining textual and visual features. Models like CLIP (Contrastive Language-Image Pre-training) learn joint representations of text and images, enabling cross-modal understanding."
   ]
  },
  {
   "cell_type": "markdown",
   "id": "70b0704e",
   "metadata": {
    "papermill": {
     "duration": 0.009017,
     "end_time": "2024-02-10T17:45:40.041996",
     "exception": false,
     "start_time": "2024-02-10T17:45:40.032979",
     "status": "completed"
    },
    "tags": []
   },
   "source": [
    "\n",
    "**Key breakpoints:**\n",
    "\n",
    "* **From word counts to context:** Moving beyond simple frequency to considering surrounding words for richer representations.\n",
    "* **Pre-training on large corpora:** Utilizing massive amounts of text data to learn general language understanding.\n",
    "* **Bi-directional and attention mechanisms:** Capturing complex relationships between words in a sentence.\n",
    "* **Transformers and self-attention:** Enabling efficient learning of long-range dependencies.\n",
    "* **LLMs reaching human-level performance in certain tasks:** Highlighting the potential of language models for natural communication and problem-solving.\n",
    "\n",
    "**Future directions:**\n",
    "\n",
    "* **Explainability and interpretability:** Understanding how LLMs work and make decisions.\n",
    "* **Addressing biases and fairness:** Ensuring models are inclusive and represent diverse perspectives.\n",
    "* **Combining symbolic and neural approaches:** Integrating logic and reasoning with language understanding.\n"
   ]
  }
 ],
 "metadata": {
  "kaggle": {
   "accelerator": "none",
   "dataSources": [],
   "dockerImageVersionId": 30635,
   "isGpuEnabled": false,
   "isInternetEnabled": true,
   "language": "python",
   "sourceType": "notebook"
  },
  "kernelspec": {
   "display_name": "Python 3",
   "language": "python",
   "name": "python3"
  },
  "language_info": {
   "codemirror_mode": {
    "name": "ipython",
    "version": 3
   },
   "file_extension": ".py",
   "mimetype": "text/x-python",
   "name": "python",
   "nbconvert_exporter": "python",
   "pygments_lexer": "ipython3",
   "version": "3.10.12"
  },
  "papermill": {
   "default_parameters": {},
   "duration": 22.532932,
   "end_time": "2024-02-10T17:45:41.372225",
   "environment_variables": {},
   "exception": null,
   "input_path": "__notebook__.ipynb",
   "output_path": "__notebook__.ipynb",
   "parameters": {},
   "start_time": "2024-02-10T17:45:18.839293",
   "version": "2.4.0"
  }
 },
 "nbformat": 4,
 "nbformat_minor": 5
}
