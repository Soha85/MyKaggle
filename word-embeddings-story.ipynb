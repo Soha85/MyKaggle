{
 "cells": [
  {
   "cell_type": "markdown",
   "id": "48802493",
   "metadata": {
    "papermill": {
     "duration": 0.010398,
     "end_time": "2024-01-27T17:44:38.635877",
     "exception": false,
     "start_time": "2024-01-27T17:44:38.625479",
     "status": "completed"
    },
    "tags": []
   },
   "source": [
    "# Count-Based methods"
   ]
  },
  {
   "cell_type": "code",
   "execution_count": 1,
   "id": "84b62c2d",
   "metadata": {
    "execution": {
     "iopub.execute_input": "2024-01-27T17:44:38.655556Z",
     "iopub.status.busy": "2024-01-27T17:44:38.655146Z",
     "iopub.status.idle": "2024-01-27T17:44:38.668535Z",
     "shell.execute_reply": "2024-01-27T17:44:38.667402Z"
    },
    "papermill": {
     "duration": 0.026094,
     "end_time": "2024-01-27T17:44:38.671028",
     "exception": false,
     "start_time": "2024-01-27T17:44:38.644934",
     "status": "completed"
    },
    "tags": []
   },
   "outputs": [],
   "source": [
    "Doc_1= \"The cat in the hat\"\n",
    "Doc_2= \"The quick brown fox\"\n",
    "Doc_3= \"The hat is blue\""
   ]
  },
  {
   "cell_type": "markdown",
   "id": "acfcd1a2",
   "metadata": {
    "papermill": {
     "duration": 0.008558,
     "end_time": "2024-01-27T17:44:38.688350",
     "exception": false,
     "start_time": "2024-01-27T17:44:38.679792",
     "status": "completed"
    },
    "tags": []
   },
   "source": [
    "# **TF**"
   ]
  },
  {
   "cell_type": "markdown",
   "id": "b608a173",
   "metadata": {
    "papermill": {
     "duration": 0.008338,
     "end_time": "2024-01-27T17:44:38.705474",
     "exception": false,
     "start_time": "2024-01-27T17:44:38.697136",
     "status": "completed"
    },
    "tags": []
   },
   "source": [
    "* **TF(t,d) is the term frequency of term t in document d (how often the term appears in the document).**"
   ]
  },
  {
   "cell_type": "code",
   "execution_count": 2,
   "id": "7106e956",
   "metadata": {
    "execution": {
     "iopub.execute_input": "2024-01-27T17:44:38.725036Z",
     "iopub.status.busy": "2024-01-27T17:44:38.724416Z",
     "iopub.status.idle": "2024-01-27T17:44:38.730422Z",
     "shell.execute_reply": "2024-01-27T17:44:38.729364Z"
    },
    "papermill": {
     "duration": 0.018594,
     "end_time": "2024-01-27T17:44:38.732840",
     "exception": false,
     "start_time": "2024-01-27T17:44:38.714246",
     "status": "completed"
    },
    "tags": []
   },
   "outputs": [],
   "source": [
    "lst = Doc_1.lower().split(' ')\n",
    "lst.extend(Doc_2.lower().split(' '))\n",
    "lst.extend(Doc_3.lower().split(' '))\n",
    "wrds = set(lst) # remove duplicate words"
   ]
  },
  {
   "cell_type": "code",
   "execution_count": 3,
   "id": "eff85241",
   "metadata": {
    "execution": {
     "iopub.execute_input": "2024-01-27T17:44:38.752995Z",
     "iopub.status.busy": "2024-01-27T17:44:38.752597Z",
     "iopub.status.idle": "2024-01-27T17:44:39.238103Z",
     "shell.execute_reply": "2024-01-27T17:44:39.237267Z"
    },
    "papermill": {
     "duration": 0.498541,
     "end_time": "2024-01-27T17:44:39.240575",
     "exception": false,
     "start_time": "2024-01-27T17:44:38.742034",
     "status": "completed"
    },
    "tags": []
   },
   "outputs": [
    {
     "data": {
      "text/html": [
       "<div>\n",
       "<style scoped>\n",
       "    .dataframe tbody tr th:only-of-type {\n",
       "        vertical-align: middle;\n",
       "    }\n",
       "\n",
       "    .dataframe tbody tr th {\n",
       "        vertical-align: top;\n",
       "    }\n",
       "\n",
       "    .dataframe thead th {\n",
       "        text-align: right;\n",
       "    }\n",
       "</style>\n",
       "<table border=\"1\" class=\"dataframe\">\n",
       "  <thead>\n",
       "    <tr style=\"text-align: right;\">\n",
       "      <th></th>\n",
       "      <th>brown</th>\n",
       "      <th>quick</th>\n",
       "      <th>cat</th>\n",
       "      <th>the</th>\n",
       "      <th>is</th>\n",
       "      <th>blue</th>\n",
       "      <th>fox</th>\n",
       "      <th>hat</th>\n",
       "      <th>in</th>\n",
       "    </tr>\n",
       "  </thead>\n",
       "  <tbody>\n",
       "    <tr>\n",
       "      <th>0</th>\n",
       "      <td>0.00</td>\n",
       "      <td>0.00</td>\n",
       "      <td>0.2</td>\n",
       "      <td>0.40</td>\n",
       "      <td>0.00</td>\n",
       "      <td>0.00</td>\n",
       "      <td>0.00</td>\n",
       "      <td>0.20</td>\n",
       "      <td>0.2</td>\n",
       "    </tr>\n",
       "    <tr>\n",
       "      <th>1</th>\n",
       "      <td>0.25</td>\n",
       "      <td>0.25</td>\n",
       "      <td>0.0</td>\n",
       "      <td>0.25</td>\n",
       "      <td>0.00</td>\n",
       "      <td>0.00</td>\n",
       "      <td>0.25</td>\n",
       "      <td>0.00</td>\n",
       "      <td>0.0</td>\n",
       "    </tr>\n",
       "    <tr>\n",
       "      <th>2</th>\n",
       "      <td>0.00</td>\n",
       "      <td>0.00</td>\n",
       "      <td>0.0</td>\n",
       "      <td>0.25</td>\n",
       "      <td>0.25</td>\n",
       "      <td>0.25</td>\n",
       "      <td>0.00</td>\n",
       "      <td>0.25</td>\n",
       "      <td>0.0</td>\n",
       "    </tr>\n",
       "  </tbody>\n",
       "</table>\n",
       "</div>"
      ],
      "text/plain": [
       "   brown  quick  cat   the    is  blue   fox   hat   in\n",
       "0   0.00   0.00  0.2  0.40  0.00  0.00  0.00  0.20  0.2\n",
       "1   0.25   0.25  0.0  0.25  0.00  0.00  0.25  0.00  0.0\n",
       "2   0.00   0.00  0.0  0.25  0.25  0.25  0.00  0.25  0.0"
      ]
     },
     "execution_count": 3,
     "metadata": {},
     "output_type": "execute_result"
    }
   ],
   "source": [
    "#form a dataframe to represent TF for each word in each Document where columns are words and rows are documents\n",
    "import pandas as pd\n",
    "def count_wrd_Doc(wrd,doc):\n",
    "    i=0\n",
    "    for w in doc.lower().split(' '):\n",
    "        if wrd == w:\n",
    "            i = i+1\n",
    "    return i/len(doc.lower().split(' '))\n",
    "    \n",
    "tf_df = pd.DataFrame(columns=list(wrds)) #empty dataframe initialized with words column headers\n",
    "freq_lst=[] #empty list for each column to save word frequencies in each document\n",
    "for c in tf_df.columns:\n",
    "    freq_lst=[]#empty the list\n",
    "    freq_lst.append(count_wrd_Doc(c,Doc_1))#append the frequency of word in document 1\n",
    "    freq_lst.append(count_wrd_Doc(c,Doc_2))#append the frequency of word in document 2\n",
    "    freq_lst.append(count_wrd_Doc(c,Doc_3))#append the frequency of word in document 3\n",
    "    tf_df[c]=freq_lst #assign values to column\n",
    "tf_df #display the dataframe of TF for each word in each document"
   ]
  },
  {
   "cell_type": "markdown",
   "id": "afd62c14",
   "metadata": {
    "papermill": {
     "duration": 0.008884,
     "end_time": "2024-01-27T17:44:39.258583",
     "exception": false,
     "start_time": "2024-01-27T17:44:39.249699",
     "status": "completed"
    },
    "tags": []
   },
   "source": [
    "# DF"
   ]
  },
  {
   "cell_type": "markdown",
   "id": "3dd42791",
   "metadata": {
    "papermill": {
     "duration": 0.008746,
     "end_time": "2024-01-27T17:44:39.276388",
     "exception": false,
     "start_time": "2024-01-27T17:44:39.267642",
     "status": "completed"
    },
    "tags": []
   },
   "source": [
    "* **Calculate Document Frequency (DF): the word appears in how many documents**"
   ]
  },
  {
   "cell_type": "code",
   "execution_count": 4,
   "id": "5a72056a",
   "metadata": {
    "execution": {
     "iopub.execute_input": "2024-01-27T17:44:39.297064Z",
     "iopub.status.busy": "2024-01-27T17:44:39.295755Z",
     "iopub.status.idle": "2024-01-27T17:44:39.313536Z",
     "shell.execute_reply": "2024-01-27T17:44:39.312058Z"
    },
    "papermill": {
     "duration": 0.030673,
     "end_time": "2024-01-27T17:44:39.316108",
     "exception": false,
     "start_time": "2024-01-27T17:44:39.285435",
     "status": "completed"
    },
    "tags": []
   },
   "outputs": [
    {
     "data": {
      "text/html": [
       "<div>\n",
       "<style scoped>\n",
       "    .dataframe tbody tr th:only-of-type {\n",
       "        vertical-align: middle;\n",
       "    }\n",
       "\n",
       "    .dataframe tbody tr th {\n",
       "        vertical-align: top;\n",
       "    }\n",
       "\n",
       "    .dataframe thead th {\n",
       "        text-align: right;\n",
       "    }\n",
       "</style>\n",
       "<table border=\"1\" class=\"dataframe\">\n",
       "  <thead>\n",
       "    <tr style=\"text-align: right;\">\n",
       "      <th></th>\n",
       "      <th>brown</th>\n",
       "      <th>quick</th>\n",
       "      <th>cat</th>\n",
       "      <th>the</th>\n",
       "      <th>is</th>\n",
       "      <th>blue</th>\n",
       "      <th>fox</th>\n",
       "      <th>hat</th>\n",
       "      <th>in</th>\n",
       "    </tr>\n",
       "  </thead>\n",
       "  <tbody>\n",
       "    <tr>\n",
       "      <th>0</th>\n",
       "      <td>1</td>\n",
       "      <td>1</td>\n",
       "      <td>1</td>\n",
       "      <td>3</td>\n",
       "      <td>1</td>\n",
       "      <td>1</td>\n",
       "      <td>1</td>\n",
       "      <td>2</td>\n",
       "      <td>1</td>\n",
       "    </tr>\n",
       "  </tbody>\n",
       "</table>\n",
       "</div>"
      ],
      "text/plain": [
       "   brown  quick  cat  the  is  blue  fox  hat  in\n",
       "0      1      1    1    3   1     1    1    2   1"
      ]
     },
     "execution_count": 4,
     "metadata": {},
     "output_type": "execute_result"
    }
   ],
   "source": [
    "df_df = pd.DataFrame(columns=list(wrds)) #empty dataframe initialized with words column headers\n",
    "for c in df_df.columns:\n",
    "    df_df[c] = [sum(1 for doc in [Doc_1,Doc_2,Doc_3] if c in doc.lower().split(' '))]\n",
    "df_df #display the dataframe of DF for each word "
   ]
  },
  {
   "cell_type": "markdown",
   "id": "0756ea7f",
   "metadata": {
    "papermill": {
     "duration": 0.008983,
     "end_time": "2024-01-27T17:44:39.334462",
     "exception": false,
     "start_time": "2024-01-27T17:44:39.325479",
     "status": "completed"
    },
    "tags": []
   },
   "source": [
    "# IDF"
   ]
  },
  {
   "cell_type": "markdown",
   "id": "9e8d4454",
   "metadata": {
    "papermill": {
     "duration": 0.008881,
     "end_time": "2024-01-27T17:44:39.352626",
     "exception": false,
     "start_time": "2024-01-27T17:44:39.343745",
     "status": "completed"
    },
    "tags": []
   },
   "source": [
    "* **IDF(t,D) is the inverse document frequency of term t in the entire document set D (logarithmically scaled inverse fraction of the documents that contain the term).**"
   ]
  },
  {
   "cell_type": "code",
   "execution_count": 5,
   "id": "13e05cba",
   "metadata": {
    "execution": {
     "iopub.execute_input": "2024-01-27T17:44:39.373380Z",
     "iopub.status.busy": "2024-01-27T17:44:39.372924Z",
     "iopub.status.idle": "2024-01-27T17:44:39.395318Z",
     "shell.execute_reply": "2024-01-27T17:44:39.394304Z"
    },
    "papermill": {
     "duration": 0.036382,
     "end_time": "2024-01-27T17:44:39.398189",
     "exception": false,
     "start_time": "2024-01-27T17:44:39.361807",
     "status": "completed"
    },
    "tags": []
   },
   "outputs": [
    {
     "data": {
      "text/html": [
       "<div>\n",
       "<style scoped>\n",
       "    .dataframe tbody tr th:only-of-type {\n",
       "        vertical-align: middle;\n",
       "    }\n",
       "\n",
       "    .dataframe tbody tr th {\n",
       "        vertical-align: top;\n",
       "    }\n",
       "\n",
       "    .dataframe thead th {\n",
       "        text-align: right;\n",
       "    }\n",
       "</style>\n",
       "<table border=\"1\" class=\"dataframe\">\n",
       "  <thead>\n",
       "    <tr style=\"text-align: right;\">\n",
       "      <th></th>\n",
       "      <th>brown</th>\n",
       "      <th>quick</th>\n",
       "      <th>cat</th>\n",
       "      <th>the</th>\n",
       "      <th>is</th>\n",
       "      <th>blue</th>\n",
       "      <th>fox</th>\n",
       "      <th>hat</th>\n",
       "      <th>in</th>\n",
       "    </tr>\n",
       "  </thead>\n",
       "  <tbody>\n",
       "    <tr>\n",
       "      <th>0</th>\n",
       "      <td>1.693147</td>\n",
       "      <td>1.693147</td>\n",
       "      <td>1.693147</td>\n",
       "      <td>1.0</td>\n",
       "      <td>1.693147</td>\n",
       "      <td>1.693147</td>\n",
       "      <td>1.693147</td>\n",
       "      <td>1.287682</td>\n",
       "      <td>1.693147</td>\n",
       "    </tr>\n",
       "  </tbody>\n",
       "</table>\n",
       "</div>"
      ],
      "text/plain": [
       "      brown     quick       cat  the        is      blue       fox       hat  \\\n",
       "0  1.693147  1.693147  1.693147  1.0  1.693147  1.693147  1.693147  1.287682   \n",
       "\n",
       "         in  \n",
       "0  1.693147  "
      ]
     },
     "execution_count": 5,
     "metadata": {},
     "output_type": "execute_result"
    }
   ],
   "source": [
    "import math\n",
    "idf_df = pd.DataFrame(columns=list(wrds)) #empty dataframe initialized with words column headers\n",
    "for c in idf_df.columns:\n",
    "    N = 3 #No of documents\n",
    "    df = df_df[c].iloc[0] # DF of word\n",
    "    idf_df[c] = [math.log((N+1) / (df+1))+1]#IDF = log (no. of documents/DF(word)) \n",
    "idf_df #display the dataframe of idf for each word "
   ]
  },
  {
   "cell_type": "markdown",
   "id": "5ccd15e5",
   "metadata": {
    "papermill": {
     "duration": 0.009179,
     "end_time": "2024-01-27T17:44:39.417288",
     "exception": false,
     "start_time": "2024-01-27T17:44:39.408109",
     "status": "completed"
    },
    "tags": []
   },
   "source": [
    "# TF-IDF"
   ]
  },
  {
   "cell_type": "markdown",
   "id": "16ae9c20",
   "metadata": {
    "papermill": {
     "duration": 0.009657,
     "end_time": "2024-01-27T17:44:39.436300",
     "exception": false,
     "start_time": "2024-01-27T17:44:39.426643",
     "status": "completed"
    },
    "tags": []
   },
   "source": [
    "*** TF-IDF = TF * IDF**"
   ]
  },
  {
   "cell_type": "code",
   "execution_count": 6,
   "id": "70ecffb2",
   "metadata": {
    "execution": {
     "iopub.execute_input": "2024-01-27T17:44:39.456807Z",
     "iopub.status.busy": "2024-01-27T17:44:39.456368Z",
     "iopub.status.idle": "2024-01-27T17:44:39.482411Z",
     "shell.execute_reply": "2024-01-27T17:44:39.480951Z"
    },
    "papermill": {
     "duration": 0.039496,
     "end_time": "2024-01-27T17:44:39.485129",
     "exception": false,
     "start_time": "2024-01-27T17:44:39.445633",
     "status": "completed"
    },
    "tags": []
   },
   "outputs": [
    {
     "data": {
      "text/html": [
       "<div>\n",
       "<style scoped>\n",
       "    .dataframe tbody tr th:only-of-type {\n",
       "        vertical-align: middle;\n",
       "    }\n",
       "\n",
       "    .dataframe tbody tr th {\n",
       "        vertical-align: top;\n",
       "    }\n",
       "\n",
       "    .dataframe thead th {\n",
       "        text-align: right;\n",
       "    }\n",
       "</style>\n",
       "<table border=\"1\" class=\"dataframe\">\n",
       "  <thead>\n",
       "    <tr style=\"text-align: right;\">\n",
       "      <th></th>\n",
       "      <th>brown</th>\n",
       "      <th>quick</th>\n",
       "      <th>cat</th>\n",
       "      <th>the</th>\n",
       "      <th>is</th>\n",
       "      <th>blue</th>\n",
       "      <th>fox</th>\n",
       "      <th>hat</th>\n",
       "      <th>in</th>\n",
       "    </tr>\n",
       "  </thead>\n",
       "  <tbody>\n",
       "    <tr>\n",
       "      <th>0</th>\n",
       "      <td>0.000000</td>\n",
       "      <td>0.000000</td>\n",
       "      <td>0.338629</td>\n",
       "      <td>0.40</td>\n",
       "      <td>0.000000</td>\n",
       "      <td>0.000000</td>\n",
       "      <td>0.000000</td>\n",
       "      <td>0.257536</td>\n",
       "      <td>0.338629</td>\n",
       "    </tr>\n",
       "    <tr>\n",
       "      <th>1</th>\n",
       "      <td>0.423287</td>\n",
       "      <td>0.423287</td>\n",
       "      <td>0.000000</td>\n",
       "      <td>0.25</td>\n",
       "      <td>0.000000</td>\n",
       "      <td>0.000000</td>\n",
       "      <td>0.423287</td>\n",
       "      <td>0.000000</td>\n",
       "      <td>0.000000</td>\n",
       "    </tr>\n",
       "    <tr>\n",
       "      <th>2</th>\n",
       "      <td>0.000000</td>\n",
       "      <td>0.000000</td>\n",
       "      <td>0.000000</td>\n",
       "      <td>0.25</td>\n",
       "      <td>0.423287</td>\n",
       "      <td>0.423287</td>\n",
       "      <td>0.000000</td>\n",
       "      <td>0.321921</td>\n",
       "      <td>0.000000</td>\n",
       "    </tr>\n",
       "  </tbody>\n",
       "</table>\n",
       "</div>"
      ],
      "text/plain": [
       "      brown     quick       cat   the        is      blue       fox       hat  \\\n",
       "0  0.000000  0.000000  0.338629  0.40  0.000000  0.000000  0.000000  0.257536   \n",
       "1  0.423287  0.423287  0.000000  0.25  0.000000  0.000000  0.423287  0.000000   \n",
       "2  0.000000  0.000000  0.000000  0.25  0.423287  0.423287  0.000000  0.321921   \n",
       "\n",
       "         in  \n",
       "0  0.338629  \n",
       "1  0.000000  \n",
       "2  0.000000  "
      ]
     },
     "execution_count": 6,
     "metadata": {},
     "output_type": "execute_result"
    }
   ],
   "source": [
    "tfidf_df = pd.DataFrame(columns=list(wrds)) #empty dataframe initialized with words column headers\n",
    "tfidf_lst=[]  #empty list for each column \n",
    "for c in tfidf_df.columns:\n",
    "    tfidf_lst=[] #empty list for each column\n",
    "    tf_idf_d1 = tf_df[c].iloc[0]*idf_df[c].iloc[0] #append tf of word in first document to idf of word\n",
    "    tf_idf_d2 = tf_df[c].iloc[1]*idf_df[c].iloc[0] #append tf of word in second document to idf of word\n",
    "    tf_idf_d3 = tf_df[c].iloc[2]*idf_df[c].iloc[0] #append tf of word in third document to idf of word\n",
    "    tfidf_df[c] = [tf_idf_d1,tf_idf_d2,tf_idf_d3]\n",
    "tfidf_df #display the dataframe of tf-idf for all words"
   ]
  },
  {
   "cell_type": "markdown",
   "id": "7724fe33",
   "metadata": {
    "papermill": {
     "duration": 0.009483,
     "end_time": "2024-01-27T17:44:39.504615",
     "exception": false,
     "start_time": "2024-01-27T17:44:39.495132",
     "status": "completed"
    },
    "tags": []
   },
   "source": [
    "# L2 Normalization"
   ]
  },
  {
   "cell_type": "code",
   "execution_count": 7,
   "id": "fd7ffa47",
   "metadata": {
    "execution": {
     "iopub.execute_input": "2024-01-27T17:44:39.525844Z",
     "iopub.status.busy": "2024-01-27T17:44:39.525439Z",
     "iopub.status.idle": "2024-01-27T17:44:39.556366Z",
     "shell.execute_reply": "2024-01-27T17:44:39.555060Z"
    },
    "papermill": {
     "duration": 0.044957,
     "end_time": "2024-01-27T17:44:39.559241",
     "exception": false,
     "start_time": "2024-01-27T17:44:39.514284",
     "status": "completed"
    },
    "tags": []
   },
   "outputs": [
    {
     "data": {
      "text/html": [
       "<div>\n",
       "<style scoped>\n",
       "    .dataframe tbody tr th:only-of-type {\n",
       "        vertical-align: middle;\n",
       "    }\n",
       "\n",
       "    .dataframe tbody tr th {\n",
       "        vertical-align: top;\n",
       "    }\n",
       "\n",
       "    .dataframe thead th {\n",
       "        text-align: right;\n",
       "    }\n",
       "</style>\n",
       "<table border=\"1\" class=\"dataframe\">\n",
       "  <thead>\n",
       "    <tr style=\"text-align: right;\">\n",
       "      <th></th>\n",
       "      <th>brown</th>\n",
       "      <th>quick</th>\n",
       "      <th>cat</th>\n",
       "      <th>the</th>\n",
       "      <th>is</th>\n",
       "      <th>blue</th>\n",
       "      <th>fox</th>\n",
       "      <th>hat</th>\n",
       "      <th>in</th>\n",
       "    </tr>\n",
       "  </thead>\n",
       "  <tbody>\n",
       "    <tr>\n",
       "      <th>0</th>\n",
       "      <td>0.000000</td>\n",
       "      <td>0.000000</td>\n",
       "      <td>0.501651</td>\n",
       "      <td>0.592567</td>\n",
       "      <td>0.000000</td>\n",
       "      <td>0.000000</td>\n",
       "      <td>0.000000</td>\n",
       "      <td>0.381519</td>\n",
       "      <td>0.501651</td>\n",
       "    </tr>\n",
       "    <tr>\n",
       "      <th>1</th>\n",
       "      <td>0.546454</td>\n",
       "      <td>0.546454</td>\n",
       "      <td>0.000000</td>\n",
       "      <td>0.322745</td>\n",
       "      <td>0.000000</td>\n",
       "      <td>0.000000</td>\n",
       "      <td>0.546454</td>\n",
       "      <td>0.000000</td>\n",
       "      <td>0.000000</td>\n",
       "    </tr>\n",
       "    <tr>\n",
       "      <th>2</th>\n",
       "      <td>0.000000</td>\n",
       "      <td>0.000000</td>\n",
       "      <td>0.000000</td>\n",
       "      <td>0.345205</td>\n",
       "      <td>0.584483</td>\n",
       "      <td>0.584483</td>\n",
       "      <td>0.000000</td>\n",
       "      <td>0.444514</td>\n",
       "      <td>0.000000</td>\n",
       "    </tr>\n",
       "  </tbody>\n",
       "</table>\n",
       "</div>"
      ],
      "text/plain": [
       "      brown     quick       cat       the        is      blue       fox  \\\n",
       "0  0.000000  0.000000  0.501651  0.592567  0.000000  0.000000  0.000000   \n",
       "1  0.546454  0.546454  0.000000  0.322745  0.000000  0.000000  0.546454   \n",
       "2  0.000000  0.000000  0.000000  0.345205  0.584483  0.584483  0.000000   \n",
       "\n",
       "        hat        in  \n",
       "0  0.381519  0.501651  \n",
       "1  0.000000  0.000000  \n",
       "2  0.444514  0.000000  "
      ]
     },
     "execution_count": 7,
     "metadata": {},
     "output_type": "execute_result"
    }
   ],
   "source": [
    "normalized_df = pd.DataFrame(columns=tfidf_df.columns)\n",
    "\n",
    "# Apply L2 normalization to each document's TF-IDF values\n",
    "for i,row in enumerate(tfidf_df.iterrows()):\n",
    "    # Extract TF-IDF values    \n",
    "    tfidf_values_list = list(tfidf_df.iloc[i].values)\n",
    "    # Calculate L2 norm\n",
    "    l2_norm = math.sqrt(sum(val**2 for val in tfidf_values_list))\n",
    "    # Normalize TF-IDF values using L2 norm\n",
    "    normalized_tfidf = [val / l2_norm for val in list(tfidf_df.iloc[i].values)]\n",
    "    new_row = pd.Series(normalized_tfidf, index=tfidf_df.columns)\n",
    "    normalized_df.loc[len(normalized_df)] = new_row\n",
    "    \n",
    "normalized_df"
   ]
  },
  {
   "cell_type": "markdown",
   "id": "a806fb2a",
   "metadata": {
    "papermill": {
     "duration": 0.009693,
     "end_time": "2024-01-27T17:44:39.578987",
     "exception": false,
     "start_time": "2024-01-27T17:44:39.569294",
     "status": "completed"
    },
    "tags": []
   },
   "source": [
    "# TfidfVectorizer Python Library"
   ]
  },
  {
   "cell_type": "code",
   "execution_count": 8,
   "id": "085279e1",
   "metadata": {
    "execution": {
     "iopub.execute_input": "2024-01-27T17:44:39.600968Z",
     "iopub.status.busy": "2024-01-27T17:44:39.600573Z",
     "iopub.status.idle": "2024-01-27T17:44:40.926831Z",
     "shell.execute_reply": "2024-01-27T17:44:40.925534Z"
    },
    "papermill": {
     "duration": 1.340732,
     "end_time": "2024-01-27T17:44:40.929552",
     "exception": false,
     "start_time": "2024-01-27T17:44:39.588820",
     "status": "completed"
    },
    "tags": []
   },
   "outputs": [
    {
     "data": {
      "text/html": [
       "<div>\n",
       "<style scoped>\n",
       "    .dataframe tbody tr th:only-of-type {\n",
       "        vertical-align: middle;\n",
       "    }\n",
       "\n",
       "    .dataframe tbody tr th {\n",
       "        vertical-align: top;\n",
       "    }\n",
       "\n",
       "    .dataframe thead th {\n",
       "        text-align: right;\n",
       "    }\n",
       "</style>\n",
       "<table border=\"1\" class=\"dataframe\">\n",
       "  <thead>\n",
       "    <tr style=\"text-align: right;\">\n",
       "      <th></th>\n",
       "      <th>blue</th>\n",
       "      <th>brown</th>\n",
       "      <th>cat</th>\n",
       "      <th>fox</th>\n",
       "      <th>hat</th>\n",
       "      <th>in</th>\n",
       "      <th>is</th>\n",
       "      <th>quick</th>\n",
       "      <th>the</th>\n",
       "    </tr>\n",
       "  </thead>\n",
       "  <tbody>\n",
       "    <tr>\n",
       "      <th>0</th>\n",
       "      <td>0.000000</td>\n",
       "      <td>0.000000</td>\n",
       "      <td>0.501651</td>\n",
       "      <td>0.000000</td>\n",
       "      <td>0.381519</td>\n",
       "      <td>0.501651</td>\n",
       "      <td>0.000000</td>\n",
       "      <td>0.000000</td>\n",
       "      <td>0.592567</td>\n",
       "    </tr>\n",
       "    <tr>\n",
       "      <th>1</th>\n",
       "      <td>0.000000</td>\n",
       "      <td>0.546454</td>\n",
       "      <td>0.000000</td>\n",
       "      <td>0.546454</td>\n",
       "      <td>0.000000</td>\n",
       "      <td>0.000000</td>\n",
       "      <td>0.000000</td>\n",
       "      <td>0.546454</td>\n",
       "      <td>0.322745</td>\n",
       "    </tr>\n",
       "    <tr>\n",
       "      <th>2</th>\n",
       "      <td>0.584483</td>\n",
       "      <td>0.000000</td>\n",
       "      <td>0.000000</td>\n",
       "      <td>0.000000</td>\n",
       "      <td>0.444514</td>\n",
       "      <td>0.000000</td>\n",
       "      <td>0.584483</td>\n",
       "      <td>0.000000</td>\n",
       "      <td>0.345205</td>\n",
       "    </tr>\n",
       "  </tbody>\n",
       "</table>\n",
       "</div>"
      ],
      "text/plain": [
       "       blue     brown       cat       fox       hat        in        is  \\\n",
       "0  0.000000  0.000000  0.501651  0.000000  0.381519  0.501651  0.000000   \n",
       "1  0.000000  0.546454  0.000000  0.546454  0.000000  0.000000  0.000000   \n",
       "2  0.584483  0.000000  0.000000  0.000000  0.444514  0.000000  0.584483   \n",
       "\n",
       "      quick       the  \n",
       "0  0.000000  0.592567  \n",
       "1  0.546454  0.322745  \n",
       "2  0.000000  0.345205  "
      ]
     },
     "execution_count": 8,
     "metadata": {},
     "output_type": "execute_result"
    }
   ],
   "source": [
    "from sklearn.feature_extraction.text import TfidfVectorizer\n",
    "\n",
    "# Sample documents\n",
    "documents = [Doc_1,Doc_2,Doc_3]\n",
    "\n",
    "# Create the TF-IDF vectorizer\n",
    "tfidf_vectorizer = TfidfVectorizer(norm='l2',smooth_idf=True)\n",
    "\n",
    "# Fit the documents and transform them into a TF-IDF matrix\n",
    "tfidf_matrix = tfidf_vectorizer.fit_transform(documents)\n",
    "\n",
    "# Get the feature names (terms) from the vectorizer\n",
    "feature_names = tfidf_vectorizer.get_feature_names_out()\n",
    "\n",
    "df_tfidf = pd.DataFrame(data=tfidf_matrix.toarray(), columns=feature_names)\n",
    "df_tfidf"
   ]
  },
  {
   "cell_type": "markdown",
   "id": "55cebb77",
   "metadata": {
    "_kg_hide-input": true,
    "papermill": {
     "duration": 0.009899,
     "end_time": "2024-01-27T17:44:40.949766",
     "exception": false,
     "start_time": "2024-01-27T17:44:40.939867",
     "status": "completed"
    },
    "tags": []
   },
   "source": [
    "* **The TfidfVectorizer in scikit-learn, by default, adds a smoothing term to the denominator of the IDF calculation to avoid division by zero. This is done to handle the case where a term is present in all documents, ensuring that the IDF is not undefined.**\n",
    "* **L2 normalization, also known as Euclidean normalization or L2 norm normalization, is a technique used to scale vectors (or arrays) in such a way that their Euclidean norm becomes equal to 1.**"
   ]
  },
  {
   "cell_type": "markdown",
   "id": "834a2c2d",
   "metadata": {
    "papermill": {
     "duration": 0.010294,
     "end_time": "2024-01-27T17:44:40.970231",
     "exception": false,
     "start_time": "2024-01-27T17:44:40.959937",
     "status": "completed"
    },
    "tags": []
   },
   "source": [
    "# Unigram"
   ]
  },
  {
   "cell_type": "code",
   "execution_count": 9,
   "id": "df1af88d",
   "metadata": {
    "execution": {
     "iopub.execute_input": "2024-01-27T17:44:40.993099Z",
     "iopub.status.busy": "2024-01-27T17:44:40.992703Z",
     "iopub.status.idle": "2024-01-27T17:44:41.015360Z",
     "shell.execute_reply": "2024-01-27T17:44:41.014086Z"
    },
    "papermill": {
     "duration": 0.037026,
     "end_time": "2024-01-27T17:44:41.018037",
     "exception": false,
     "start_time": "2024-01-27T17:44:40.981011",
     "status": "completed"
    },
    "tags": []
   },
   "outputs": [
    {
     "data": {
      "text/html": [
       "<div>\n",
       "<style scoped>\n",
       "    .dataframe tbody tr th:only-of-type {\n",
       "        vertical-align: middle;\n",
       "    }\n",
       "\n",
       "    .dataframe tbody tr th {\n",
       "        vertical-align: top;\n",
       "    }\n",
       "\n",
       "    .dataframe thead th {\n",
       "        text-align: right;\n",
       "    }\n",
       "</style>\n",
       "<table border=\"1\" class=\"dataframe\">\n",
       "  <thead>\n",
       "    <tr style=\"text-align: right;\">\n",
       "      <th></th>\n",
       "      <th>brown</th>\n",
       "      <th>quick</th>\n",
       "      <th>cat</th>\n",
       "      <th>the</th>\n",
       "      <th>is</th>\n",
       "      <th>blue</th>\n",
       "      <th>fox</th>\n",
       "      <th>hat</th>\n",
       "      <th>in</th>\n",
       "    </tr>\n",
       "  </thead>\n",
       "  <tbody>\n",
       "    <tr>\n",
       "      <th>0</th>\n",
       "      <td>0</td>\n",
       "      <td>0</td>\n",
       "      <td>1</td>\n",
       "      <td>2</td>\n",
       "      <td>0</td>\n",
       "      <td>0</td>\n",
       "      <td>0</td>\n",
       "      <td>1</td>\n",
       "      <td>1</td>\n",
       "    </tr>\n",
       "    <tr>\n",
       "      <th>1</th>\n",
       "      <td>1</td>\n",
       "      <td>1</td>\n",
       "      <td>0</td>\n",
       "      <td>1</td>\n",
       "      <td>0</td>\n",
       "      <td>0</td>\n",
       "      <td>1</td>\n",
       "      <td>0</td>\n",
       "      <td>0</td>\n",
       "    </tr>\n",
       "    <tr>\n",
       "      <th>2</th>\n",
       "      <td>0</td>\n",
       "      <td>0</td>\n",
       "      <td>0</td>\n",
       "      <td>1</td>\n",
       "      <td>1</td>\n",
       "      <td>1</td>\n",
       "      <td>0</td>\n",
       "      <td>1</td>\n",
       "      <td>0</td>\n",
       "    </tr>\n",
       "  </tbody>\n",
       "</table>\n",
       "</div>"
      ],
      "text/plain": [
       "   brown  quick  cat  the  is  blue  fox  hat  in\n",
       "0      0      0    1    2   0     0    0    1   1\n",
       "1      1      1    0    1   0     0    1    0   0\n",
       "2      0      0    0    1   1     1    0    1   0"
      ]
     },
     "execution_count": 9,
     "metadata": {},
     "output_type": "execute_result"
    }
   ],
   "source": [
    "#Probability of unigram P(w)=C(w)/m same idea of TF\n",
    "def count_wrd_Doc(wrd,doc):\n",
    "    i=0\n",
    "    for w in doc.lower().split(' '):\n",
    "        if wrd == w:\n",
    "            i = i+1\n",
    "    return i\n",
    "    \n",
    "unigram_df = pd.DataFrame(columns=list(wrds)) #empty dataframe initialized with words column headers\n",
    "freq_lst=[] #empty list for each column to save word frequencies in each document\n",
    "for c in tf_df.columns:\n",
    "    freq_lst=[]#empty the list\n",
    "    freq_lst.append(count_wrd_Doc(c,Doc_1))#append the frequency of word in document 1\n",
    "    freq_lst.append(count_wrd_Doc(c,Doc_2))#append the frequency of word in document 2\n",
    "    freq_lst.append(count_wrd_Doc(c,Doc_3))#append the frequency of word in document 3\n",
    "    unigram_df[c]=freq_lst #assign values to column\n",
    "unigram_df #display the dataframe of TF for each word in each document"
   ]
  },
  {
   "cell_type": "code",
   "execution_count": 10,
   "id": "c2da17f6",
   "metadata": {
    "execution": {
     "iopub.execute_input": "2024-01-27T17:44:41.040841Z",
     "iopub.status.busy": "2024-01-27T17:44:41.040453Z",
     "iopub.status.idle": "2024-01-27T17:44:41.050945Z",
     "shell.execute_reply": "2024-01-27T17:44:41.049653Z"
    },
    "papermill": {
     "duration": 0.025565,
     "end_time": "2024-01-27T17:44:41.054149",
     "exception": false,
     "start_time": "2024-01-27T17:44:41.028584",
     "status": "completed"
    },
    "tags": []
   },
   "outputs": [
    {
     "name": "stdout",
     "output_type": "stream",
     "text": [
      "['blue' 'brown' 'cat' 'fox' 'hat' 'in' 'is' 'quick' 'the']\n"
     ]
    }
   ],
   "source": [
    "from sklearn.feature_extraction.text import CountVectorizer\n",
    "\n",
    "corpus = [Doc_1.lower(),Doc_2.lower(),Doc_3.lower()]\n",
    "vectorizer = CountVectorizer()\n",
    "X = vectorizer.fit_transform(corpus)\n",
    "unigram_names = vectorizer.get_feature_names_out()\n",
    "print(unigram_names)"
   ]
  },
  {
   "cell_type": "code",
   "execution_count": 11,
   "id": "dd417e2d",
   "metadata": {
    "execution": {
     "iopub.execute_input": "2024-01-27T17:44:41.077001Z",
     "iopub.status.busy": "2024-01-27T17:44:41.076618Z",
     "iopub.status.idle": "2024-01-27T17:44:41.956074Z",
     "shell.execute_reply": "2024-01-27T17:44:41.954586Z"
    },
    "papermill": {
     "duration": 0.893906,
     "end_time": "2024-01-27T17:44:41.958718",
     "exception": false,
     "start_time": "2024-01-27T17:44:41.064812",
     "status": "completed"
    },
    "tags": []
   },
   "outputs": [
    {
     "name": "stdout",
     "output_type": "stream",
     "text": [
      "('the',): 2\n",
      "('cat',): 1\n",
      "('in',): 1\n",
      "('hat',): 1\n",
      "('the',): 1\n",
      "('quick',): 1\n",
      "('brown',): 1\n",
      "('fox',): 1\n",
      "('the',): 1\n",
      "('hat',): 1\n",
      "('is',): 1\n",
      "('blue',): 1\n"
     ]
    }
   ],
   "source": [
    "from nltk import ngrams\n",
    "from nltk.tokenize import word_tokenize\n",
    "from nltk.probability import FreqDist, MLEProbDist\n",
    "\n",
    "for d in [Doc_1,Doc_2,Doc_3]:\n",
    "    words = word_tokenize(d.lower())\n",
    "    result = list(ngrams(words, 1))\n",
    "    # Calculate frequency distribution of bigrams\n",
    "    ngram_freq = FreqDist(result)\n",
    "    for word, frequency in ngram_freq.items():\n",
    "        print(f\"{word}: {frequency}\")"
   ]
  },
  {
   "cell_type": "markdown",
   "id": "ac0e3983",
   "metadata": {
    "papermill": {
     "duration": 0.010286,
     "end_time": "2024-01-27T17:44:41.979789",
     "exception": false,
     "start_time": "2024-01-27T17:44:41.969503",
     "status": "completed"
    },
    "tags": []
   },
   "source": [
    "# Bigram"
   ]
  },
  {
   "cell_type": "code",
   "execution_count": 12,
   "id": "ace4dd86",
   "metadata": {
    "execution": {
     "iopub.execute_input": "2024-01-27T17:44:42.004052Z",
     "iopub.status.busy": "2024-01-27T17:44:42.002982Z",
     "iopub.status.idle": "2024-01-27T17:44:42.015983Z",
     "shell.execute_reply": "2024-01-27T17:44:42.014867Z"
    },
    "papermill": {
     "duration": 0.02748,
     "end_time": "2024-01-27T17:44:42.018276",
     "exception": false,
     "start_time": "2024-01-27T17:44:41.990796",
     "status": "completed"
    },
    "tags": []
   },
   "outputs": [
    {
     "data": {
      "text/plain": [
       "[['the', 'cat'],\n",
       " ['cat', 'in'],\n",
       " ['in', 'the'],\n",
       " ['the', 'hat'],\n",
       " ['the', 'quick'],\n",
       " ['quick', 'brown'],\n",
       " ['brown', 'fox'],\n",
       " ['the', 'hat'],\n",
       " ['hat', 'is'],\n",
       " ['is', 'blue']]"
      ]
     },
     "execution_count": 12,
     "metadata": {},
     "output_type": "execute_result"
    }
   ],
   "source": [
    "def bi_lst(doc):\n",
    "    wrds = doc.lower().split(' ')\n",
    "    bi_lst = []\n",
    "    for j in range(0,len(wrds)-1):\n",
    "        bi_lst.append(wrds[j:j+2])\n",
    "    return bi_lst\n",
    "#get bi-grams of input sentence\n",
    "\n",
    "lst = bi_lst(Doc_1)\n",
    "lst.extend(bi_lst(Doc_2))\n",
    "lst.extend(bi_lst(Doc_3))\n",
    "unique_list = []\n",
    "unique_list = [item for item in lst if item not in unique_list]\n",
    "unique_list"
   ]
  },
  {
   "cell_type": "code",
   "execution_count": 13,
   "id": "f16e4c8e",
   "metadata": {
    "execution": {
     "iopub.execute_input": "2024-01-27T17:44:42.042658Z",
     "iopub.status.busy": "2024-01-27T17:44:42.042189Z",
     "iopub.status.idle": "2024-01-27T17:44:42.074986Z",
     "shell.execute_reply": "2024-01-27T17:44:42.074012Z"
    },
    "papermill": {
     "duration": 0.047913,
     "end_time": "2024-01-27T17:44:42.077423",
     "exception": false,
     "start_time": "2024-01-27T17:44:42.029510",
     "status": "completed"
    },
    "tags": []
   },
   "outputs": [
    {
     "data": {
      "text/html": [
       "<div>\n",
       "<style scoped>\n",
       "    .dataframe tbody tr th:only-of-type {\n",
       "        vertical-align: middle;\n",
       "    }\n",
       "\n",
       "    .dataframe tbody tr th {\n",
       "        vertical-align: top;\n",
       "    }\n",
       "\n",
       "    .dataframe thead th {\n",
       "        text-align: right;\n",
       "    }\n",
       "</style>\n",
       "<table border=\"1\" class=\"dataframe\">\n",
       "  <thead>\n",
       "    <tr style=\"text-align: right;\">\n",
       "      <th></th>\n",
       "      <th>the cat</th>\n",
       "      <th>cat in</th>\n",
       "      <th>in the</th>\n",
       "      <th>the hat</th>\n",
       "      <th>the quick</th>\n",
       "      <th>quick brown</th>\n",
       "      <th>brown fox</th>\n",
       "      <th>the hat</th>\n",
       "      <th>hat is</th>\n",
       "      <th>is blue</th>\n",
       "    </tr>\n",
       "  </thead>\n",
       "  <tbody>\n",
       "    <tr>\n",
       "      <th>0</th>\n",
       "      <td>1</td>\n",
       "      <td>1</td>\n",
       "      <td>1</td>\n",
       "      <td>1</td>\n",
       "      <td>0</td>\n",
       "      <td>0</td>\n",
       "      <td>0</td>\n",
       "      <td>1</td>\n",
       "      <td>0</td>\n",
       "      <td>0</td>\n",
       "    </tr>\n",
       "    <tr>\n",
       "      <th>1</th>\n",
       "      <td>0</td>\n",
       "      <td>0</td>\n",
       "      <td>0</td>\n",
       "      <td>0</td>\n",
       "      <td>1</td>\n",
       "      <td>1</td>\n",
       "      <td>1</td>\n",
       "      <td>0</td>\n",
       "      <td>0</td>\n",
       "      <td>0</td>\n",
       "    </tr>\n",
       "    <tr>\n",
       "      <th>2</th>\n",
       "      <td>0</td>\n",
       "      <td>0</td>\n",
       "      <td>0</td>\n",
       "      <td>1</td>\n",
       "      <td>0</td>\n",
       "      <td>0</td>\n",
       "      <td>0</td>\n",
       "      <td>1</td>\n",
       "      <td>1</td>\n",
       "      <td>1</td>\n",
       "    </tr>\n",
       "  </tbody>\n",
       "</table>\n",
       "</div>"
      ],
      "text/plain": [
       "   the cat  cat in  in the  the hat  the quick  quick brown  brown fox  \\\n",
       "0        1       1       1        1          0            0          0   \n",
       "1        0       0       0        0          1            1          1   \n",
       "2        0       0       0        1          0            0          0   \n",
       "\n",
       "   the hat  hat is  is blue  \n",
       "0        1       0        0  \n",
       "1        0       0        0  \n",
       "2        1       1        1  "
      ]
     },
     "execution_count": 13,
     "metadata": {},
     "output_type": "execute_result"
    }
   ],
   "source": [
    "def count_biwrd_Doc(st,doc):\n",
    "    i=0    \n",
    "    for s in bi_lst(doc):\n",
    "        if s == st.split(' '):\n",
    "            i = i+1\n",
    "    return i\n",
    "bigram_df = pd.DataFrame(columns=list((' '.join(x) for x in unique_list))) #empty dataframe initialized with words column headers\n",
    "freq_lst=[] #empty list for each column to save word frequencies in each document\n",
    "for c in bigram_df.columns:\n",
    "    freq_lst=[]#empty the list\n",
    "    for d in [Doc_1,Doc_2,Doc_3]:\n",
    "        freq_lst.append(count_biwrd_Doc(c,d))#append the frequency of word in document d\n",
    "    bigram_df[c]=freq_lst #assign values to column\n",
    "bigram_df #display the dataframe of TF for each word in each document"
   ]
  },
  {
   "cell_type": "markdown",
   "id": "186e9c60",
   "metadata": {
    "papermill": {
     "duration": 0.010746,
     "end_time": "2024-01-27T17:44:42.099452",
     "exception": false,
     "start_time": "2024-01-27T17:44:42.088706",
     "status": "completed"
    },
    "tags": []
   },
   "source": [
    "# Bigram in Python"
   ]
  },
  {
   "cell_type": "code",
   "execution_count": 14,
   "id": "449c214d",
   "metadata": {
    "execution": {
     "iopub.execute_input": "2024-01-27T17:44:42.123354Z",
     "iopub.status.busy": "2024-01-27T17:44:42.122930Z",
     "iopub.status.idle": "2024-01-27T17:44:42.131629Z",
     "shell.execute_reply": "2024-01-27T17:44:42.130158Z"
    },
    "papermill": {
     "duration": 0.02346,
     "end_time": "2024-01-27T17:44:42.133933",
     "exception": false,
     "start_time": "2024-01-27T17:44:42.110473",
     "status": "completed"
    },
    "tags": []
   },
   "outputs": [
    {
     "name": "stdout",
     "output_type": "stream",
     "text": [
      "('the', 'cat'): 1\n",
      "('cat', 'in'): 1\n",
      "('in', 'the'): 1\n",
      "('the', 'hat'): 1\n",
      "('the', 'quick'): 1\n",
      "('quick', 'brown'): 1\n",
      "('brown', 'fox'): 1\n",
      "('the', 'hat'): 1\n",
      "('hat', 'is'): 1\n",
      "('is', 'blue'): 1\n"
     ]
    }
   ],
   "source": [
    "from nltk import bigrams\n",
    "from nltk.tokenize import word_tokenize\n",
    "from nltk.probability import FreqDist\n",
    "\n",
    "for d in [Doc_1,Doc_2,Doc_3]:\n",
    "    words = word_tokenize(d.lower())\n",
    "    result = list(bigrams(words))\n",
    "    # Calculate frequency distribution of bigrams\n",
    "    bi_gram_freq = FreqDist(result)\n",
    "    for word, frequency in bi_gram_freq.items():\n",
    "        print(f\"{word}: {frequency}\")"
   ]
  },
  {
   "cell_type": "code",
   "execution_count": null,
   "id": "15f7d731",
   "metadata": {
    "papermill": {
     "duration": 0.011281,
     "end_time": "2024-01-27T17:44:42.156306",
     "exception": false,
     "start_time": "2024-01-27T17:44:42.145025",
     "status": "completed"
    },
    "tags": []
   },
   "outputs": [],
   "source": []
  }
 ],
 "metadata": {
  "kaggle": {
   "accelerator": "none",
   "dataSources": [],
   "dockerImageVersionId": 30635,
   "isGpuEnabled": false,
   "isInternetEnabled": true,
   "language": "python",
   "sourceType": "notebook"
  },
  "kernelspec": {
   "display_name": "Python 3",
   "language": "python",
   "name": "python3"
  },
  "language_info": {
   "codemirror_mode": {
    "name": "ipython",
    "version": 3
   },
   "file_extension": ".py",
   "mimetype": "text/x-python",
   "name": "python",
   "nbconvert_exporter": "python",
   "pygments_lexer": "ipython3",
   "version": "3.10.12"
  },
  "papermill": {
   "default_parameters": {},
   "duration": 7.875262,
   "end_time": "2024-01-27T17:44:42.889102",
   "environment_variables": {},
   "exception": null,
   "input_path": "__notebook__.ipynb",
   "output_path": "__notebook__.ipynb",
   "parameters": {},
   "start_time": "2024-01-27T17:44:35.013840",
   "version": "2.4.0"
  }
 },
 "nbformat": 4,
 "nbformat_minor": 5
}
