{
 "cells": [
  {
   "cell_type": "markdown",
   "id": "c375b089",
   "metadata": {
    "papermill": {
     "duration": 0.006789,
     "end_time": "2024-02-04T15:31:42.563803",
     "exception": false,
     "start_time": "2024-02-04T15:31:42.557014",
     "status": "completed"
    },
    "tags": []
   },
   "source": [
    "# Count-Based methods"
   ]
  },
  {
   "cell_type": "code",
   "execution_count": 1,
   "id": "bd19a0d4",
   "metadata": {
    "execution": {
     "iopub.execute_input": "2024-02-04T15:31:42.578711Z",
     "iopub.status.busy": "2024-02-04T15:31:42.578220Z",
     "iopub.status.idle": "2024-02-04T15:31:42.590191Z",
     "shell.execute_reply": "2024-02-04T15:31:42.588660Z"
    },
    "papermill": {
     "duration": 0.022393,
     "end_time": "2024-02-04T15:31:42.592635",
     "exception": false,
     "start_time": "2024-02-04T15:31:42.570242",
     "status": "completed"
    },
    "tags": []
   },
   "outputs": [],
   "source": [
    "Doc_1= \"The cat in the hat\"\n",
    "Doc_2= \"The quick brown fox\"\n",
    "Doc_3= \"The hat is blue\""
   ]
  },
  {
   "cell_type": "markdown",
   "id": "49bd6b1b",
   "metadata": {
    "papermill": {
     "duration": 0.006157,
     "end_time": "2024-02-04T15:31:42.605203",
     "exception": false,
     "start_time": "2024-02-04T15:31:42.599046",
     "status": "completed"
    },
    "tags": []
   },
   "source": [
    "# **Term Frequency (TF)**"
   ]
  },
  {
   "cell_type": "markdown",
   "id": "4cc07f87",
   "metadata": {
    "papermill": {
     "duration": 0.006147,
     "end_time": "2024-02-04T15:31:42.617793",
     "exception": false,
     "start_time": "2024-02-04T15:31:42.611646",
     "status": "completed"
    },
    "tags": []
   },
   "source": [
    "* **TF(t,d) is the term frequency of term t in document d (how often the term appears in the document).**"
   ]
  },
  {
   "cell_type": "code",
   "execution_count": 2,
   "id": "dd8f3e92",
   "metadata": {
    "execution": {
     "iopub.execute_input": "2024-02-04T15:31:42.632283Z",
     "iopub.status.busy": "2024-02-04T15:31:42.631893Z",
     "iopub.status.idle": "2024-02-04T15:31:42.637207Z",
     "shell.execute_reply": "2024-02-04T15:31:42.636063Z"
    },
    "papermill": {
     "duration": 0.014933,
     "end_time": "2024-02-04T15:31:42.639184",
     "exception": false,
     "start_time": "2024-02-04T15:31:42.624251",
     "status": "completed"
    },
    "tags": []
   },
   "outputs": [],
   "source": [
    "lst = Doc_1.lower().split(' ')\n",
    "lst.extend(Doc_2.lower().split(' '))\n",
    "lst.extend(Doc_3.lower().split(' '))\n",
    "wrds = set(lst) # remove duplicate words"
   ]
  },
  {
   "cell_type": "code",
   "execution_count": 3,
   "id": "dcb5d5a5",
   "metadata": {
    "execution": {
     "iopub.execute_input": "2024-02-04T15:31:42.654377Z",
     "iopub.status.busy": "2024-02-04T15:31:42.653584Z",
     "iopub.status.idle": "2024-02-04T15:31:43.626432Z",
     "shell.execute_reply": "2024-02-04T15:31:43.625196Z"
    },
    "papermill": {
     "duration": 0.983298,
     "end_time": "2024-02-04T15:31:43.628998",
     "exception": false,
     "start_time": "2024-02-04T15:31:42.645700",
     "status": "completed"
    },
    "tags": []
   },
   "outputs": [
    {
     "data": {
      "text/html": [
       "<div>\n",
       "<style scoped>\n",
       "    .dataframe tbody tr th:only-of-type {\n",
       "        vertical-align: middle;\n",
       "    }\n",
       "\n",
       "    .dataframe tbody tr th {\n",
       "        vertical-align: top;\n",
       "    }\n",
       "\n",
       "    .dataframe thead th {\n",
       "        text-align: right;\n",
       "    }\n",
       "</style>\n",
       "<table border=\"1\" class=\"dataframe\">\n",
       "  <thead>\n",
       "    <tr style=\"text-align: right;\">\n",
       "      <th></th>\n",
       "      <th>brown</th>\n",
       "      <th>blue</th>\n",
       "      <th>in</th>\n",
       "      <th>quick</th>\n",
       "      <th>the</th>\n",
       "      <th>is</th>\n",
       "      <th>fox</th>\n",
       "      <th>hat</th>\n",
       "      <th>cat</th>\n",
       "    </tr>\n",
       "  </thead>\n",
       "  <tbody>\n",
       "    <tr>\n",
       "      <th>0</th>\n",
       "      <td>0.00</td>\n",
       "      <td>0.00</td>\n",
       "      <td>0.2</td>\n",
       "      <td>0.00</td>\n",
       "      <td>0.40</td>\n",
       "      <td>0.00</td>\n",
       "      <td>0.00</td>\n",
       "      <td>0.20</td>\n",
       "      <td>0.2</td>\n",
       "    </tr>\n",
       "    <tr>\n",
       "      <th>1</th>\n",
       "      <td>0.25</td>\n",
       "      <td>0.00</td>\n",
       "      <td>0.0</td>\n",
       "      <td>0.25</td>\n",
       "      <td>0.25</td>\n",
       "      <td>0.00</td>\n",
       "      <td>0.25</td>\n",
       "      <td>0.00</td>\n",
       "      <td>0.0</td>\n",
       "    </tr>\n",
       "    <tr>\n",
       "      <th>2</th>\n",
       "      <td>0.00</td>\n",
       "      <td>0.25</td>\n",
       "      <td>0.0</td>\n",
       "      <td>0.00</td>\n",
       "      <td>0.25</td>\n",
       "      <td>0.25</td>\n",
       "      <td>0.00</td>\n",
       "      <td>0.25</td>\n",
       "      <td>0.0</td>\n",
       "    </tr>\n",
       "  </tbody>\n",
       "</table>\n",
       "</div>"
      ],
      "text/plain": [
       "   brown  blue   in  quick   the    is   fox   hat  cat\n",
       "0   0.00  0.00  0.2   0.00  0.40  0.00  0.00  0.20  0.2\n",
       "1   0.25  0.00  0.0   0.25  0.25  0.00  0.25  0.00  0.0\n",
       "2   0.00  0.25  0.0   0.00  0.25  0.25  0.00  0.25  0.0"
      ]
     },
     "execution_count": 3,
     "metadata": {},
     "output_type": "execute_result"
    }
   ],
   "source": [
    "#form a dataframe to represent TF for each word in each Document where columns are words and rows are documents\n",
    "import pandas as pd\n",
    "def count_wrd_Doc(wrd,doc):\n",
    "    i=0\n",
    "    for w in doc.lower().split(' '):\n",
    "        if wrd == w:\n",
    "            i = i+1\n",
    "    return i/len(doc.lower().split(' '))\n",
    "    \n",
    "tf_df = pd.DataFrame(columns=list(wrds)) #empty dataframe initialized with words column headers\n",
    "freq_lst=[] #empty list for each column to save word frequencies in each document\n",
    "for c in tf_df.columns:\n",
    "    freq_lst=[]#empty the list\n",
    "    freq_lst.append(count_wrd_Doc(c,Doc_1))#append the frequency of word in document 1\n",
    "    freq_lst.append(count_wrd_Doc(c,Doc_2))#append the frequency of word in document 2\n",
    "    freq_lst.append(count_wrd_Doc(c,Doc_3))#append the frequency of word in document 3\n",
    "    tf_df[c]=freq_lst #assign values to column\n",
    "tf_df #display the dataframe of TF for each word in each document"
   ]
  },
  {
   "cell_type": "markdown",
   "id": "13839e30",
   "metadata": {
    "papermill": {
     "duration": 0.006835,
     "end_time": "2024-02-04T15:31:43.642838",
     "exception": false,
     "start_time": "2024-02-04T15:31:43.636003",
     "status": "completed"
    },
    "tags": []
   },
   "source": [
    "# Document Frequency (DF)"
   ]
  },
  {
   "cell_type": "markdown",
   "id": "92f214a1",
   "metadata": {
    "papermill": {
     "duration": 0.006223,
     "end_time": "2024-02-04T15:31:43.655577",
     "exception": false,
     "start_time": "2024-02-04T15:31:43.649354",
     "status": "completed"
    },
    "tags": []
   },
   "source": [
    "* **Calculate Document Frequency (DF): the word appears in how many documents**"
   ]
  },
  {
   "cell_type": "code",
   "execution_count": 4,
   "id": "cc814cc1",
   "metadata": {
    "execution": {
     "iopub.execute_input": "2024-02-04T15:31:43.671005Z",
     "iopub.status.busy": "2024-02-04T15:31:43.669757Z",
     "iopub.status.idle": "2024-02-04T15:31:43.685207Z",
     "shell.execute_reply": "2024-02-04T15:31:43.684060Z"
    },
    "papermill": {
     "duration": 0.025578,
     "end_time": "2024-02-04T15:31:43.687541",
     "exception": false,
     "start_time": "2024-02-04T15:31:43.661963",
     "status": "completed"
    },
    "tags": []
   },
   "outputs": [
    {
     "data": {
      "text/html": [
       "<div>\n",
       "<style scoped>\n",
       "    .dataframe tbody tr th:only-of-type {\n",
       "        vertical-align: middle;\n",
       "    }\n",
       "\n",
       "    .dataframe tbody tr th {\n",
       "        vertical-align: top;\n",
       "    }\n",
       "\n",
       "    .dataframe thead th {\n",
       "        text-align: right;\n",
       "    }\n",
       "</style>\n",
       "<table border=\"1\" class=\"dataframe\">\n",
       "  <thead>\n",
       "    <tr style=\"text-align: right;\">\n",
       "      <th></th>\n",
       "      <th>brown</th>\n",
       "      <th>blue</th>\n",
       "      <th>in</th>\n",
       "      <th>quick</th>\n",
       "      <th>the</th>\n",
       "      <th>is</th>\n",
       "      <th>fox</th>\n",
       "      <th>hat</th>\n",
       "      <th>cat</th>\n",
       "    </tr>\n",
       "  </thead>\n",
       "  <tbody>\n",
       "    <tr>\n",
       "      <th>0</th>\n",
       "      <td>1</td>\n",
       "      <td>1</td>\n",
       "      <td>1</td>\n",
       "      <td>1</td>\n",
       "      <td>3</td>\n",
       "      <td>1</td>\n",
       "      <td>1</td>\n",
       "      <td>2</td>\n",
       "      <td>1</td>\n",
       "    </tr>\n",
       "  </tbody>\n",
       "</table>\n",
       "</div>"
      ],
      "text/plain": [
       "   brown  blue  in  quick  the  is  fox  hat  cat\n",
       "0      1     1   1      1    3   1    1    2    1"
      ]
     },
     "execution_count": 4,
     "metadata": {},
     "output_type": "execute_result"
    }
   ],
   "source": [
    "df_df = pd.DataFrame(columns=list(wrds)) #empty dataframe initialized with words column headers\n",
    "for c in df_df.columns:\n",
    "    df_df[c] = [sum(1 for doc in [Doc_1,Doc_2,Doc_3] if c in doc.lower().split(' '))]\n",
    "df_df #display the dataframe of DF for each word "
   ]
  },
  {
   "cell_type": "markdown",
   "id": "be88ed13",
   "metadata": {
    "papermill": {
     "duration": 0.006373,
     "end_time": "2024-02-04T15:31:43.700666",
     "exception": false,
     "start_time": "2024-02-04T15:31:43.694293",
     "status": "completed"
    },
    "tags": []
   },
   "source": [
    "# Inverse Document Frequency (IDF)"
   ]
  },
  {
   "cell_type": "markdown",
   "id": "513d2e57",
   "metadata": {
    "papermill": {
     "duration": 0.006823,
     "end_time": "2024-02-04T15:31:43.714047",
     "exception": false,
     "start_time": "2024-02-04T15:31:43.707224",
     "status": "completed"
    },
    "tags": []
   },
   "source": [
    "* **IDF(t,D) is the inverse document frequency of term t in the entire document set D (logarithmically scaled inverse fraction of the documents that contain the term).**"
   ]
  },
  {
   "cell_type": "code",
   "execution_count": 5,
   "id": "6ca4c08e",
   "metadata": {
    "execution": {
     "iopub.execute_input": "2024-02-04T15:31:43.729068Z",
     "iopub.status.busy": "2024-02-04T15:31:43.728699Z",
     "iopub.status.idle": "2024-02-04T15:31:43.746378Z",
     "shell.execute_reply": "2024-02-04T15:31:43.745613Z"
    },
    "papermill": {
     "duration": 0.027835,
     "end_time": "2024-02-04T15:31:43.748439",
     "exception": false,
     "start_time": "2024-02-04T15:31:43.720604",
     "status": "completed"
    },
    "tags": []
   },
   "outputs": [
    {
     "data": {
      "text/html": [
       "<div>\n",
       "<style scoped>\n",
       "    .dataframe tbody tr th:only-of-type {\n",
       "        vertical-align: middle;\n",
       "    }\n",
       "\n",
       "    .dataframe tbody tr th {\n",
       "        vertical-align: top;\n",
       "    }\n",
       "\n",
       "    .dataframe thead th {\n",
       "        text-align: right;\n",
       "    }\n",
       "</style>\n",
       "<table border=\"1\" class=\"dataframe\">\n",
       "  <thead>\n",
       "    <tr style=\"text-align: right;\">\n",
       "      <th></th>\n",
       "      <th>brown</th>\n",
       "      <th>blue</th>\n",
       "      <th>in</th>\n",
       "      <th>quick</th>\n",
       "      <th>the</th>\n",
       "      <th>is</th>\n",
       "      <th>fox</th>\n",
       "      <th>hat</th>\n",
       "      <th>cat</th>\n",
       "    </tr>\n",
       "  </thead>\n",
       "  <tbody>\n",
       "    <tr>\n",
       "      <th>0</th>\n",
       "      <td>1.693147</td>\n",
       "      <td>1.693147</td>\n",
       "      <td>1.693147</td>\n",
       "      <td>1.693147</td>\n",
       "      <td>1.0</td>\n",
       "      <td>1.693147</td>\n",
       "      <td>1.693147</td>\n",
       "      <td>1.287682</td>\n",
       "      <td>1.693147</td>\n",
       "    </tr>\n",
       "  </tbody>\n",
       "</table>\n",
       "</div>"
      ],
      "text/plain": [
       "      brown      blue        in     quick  the        is       fox       hat  \\\n",
       "0  1.693147  1.693147  1.693147  1.693147  1.0  1.693147  1.693147  1.287682   \n",
       "\n",
       "        cat  \n",
       "0  1.693147  "
      ]
     },
     "execution_count": 5,
     "metadata": {},
     "output_type": "execute_result"
    }
   ],
   "source": [
    "import math\n",
    "idf_df = pd.DataFrame(columns=list(wrds)) #empty dataframe initialized with words column headers\n",
    "for c in idf_df.columns:\n",
    "    N = 3 #No of documents\n",
    "    df = df_df[c].iloc[0] # DF of word\n",
    "    idf_df[c] = [math.log((N+1) / (df+1))+1]#IDF = log (no. of documents/DF(word)) \n",
    "idf_df #display the dataframe of idf for each word "
   ]
  },
  {
   "cell_type": "markdown",
   "id": "d2cb317c",
   "metadata": {
    "papermill": {
     "duration": 0.006471,
     "end_time": "2024-02-04T15:31:43.761879",
     "exception": false,
     "start_time": "2024-02-04T15:31:43.755408",
     "status": "completed"
    },
    "tags": []
   },
   "source": [
    "# Term Frequency - Inverse Document Frequency (TF-IDF)"
   ]
  },
  {
   "cell_type": "markdown",
   "id": "8e956ead",
   "metadata": {
    "papermill": {
     "duration": 0.006572,
     "end_time": "2024-02-04T15:31:43.775243",
     "exception": false,
     "start_time": "2024-02-04T15:31:43.768671",
     "status": "completed"
    },
    "tags": []
   },
   "source": [
    "*** TF-IDF = TF * IDF**"
   ]
  },
  {
   "cell_type": "code",
   "execution_count": 6,
   "id": "00a61a96",
   "metadata": {
    "execution": {
     "iopub.execute_input": "2024-02-04T15:31:43.791163Z",
     "iopub.status.busy": "2024-02-04T15:31:43.790520Z",
     "iopub.status.idle": "2024-02-04T15:31:43.810552Z",
     "shell.execute_reply": "2024-02-04T15:31:43.809675Z"
    },
    "papermill": {
     "duration": 0.03051,
     "end_time": "2024-02-04T15:31:43.812680",
     "exception": false,
     "start_time": "2024-02-04T15:31:43.782170",
     "status": "completed"
    },
    "tags": []
   },
   "outputs": [
    {
     "data": {
      "text/html": [
       "<div>\n",
       "<style scoped>\n",
       "    .dataframe tbody tr th:only-of-type {\n",
       "        vertical-align: middle;\n",
       "    }\n",
       "\n",
       "    .dataframe tbody tr th {\n",
       "        vertical-align: top;\n",
       "    }\n",
       "\n",
       "    .dataframe thead th {\n",
       "        text-align: right;\n",
       "    }\n",
       "</style>\n",
       "<table border=\"1\" class=\"dataframe\">\n",
       "  <thead>\n",
       "    <tr style=\"text-align: right;\">\n",
       "      <th></th>\n",
       "      <th>brown</th>\n",
       "      <th>blue</th>\n",
       "      <th>in</th>\n",
       "      <th>quick</th>\n",
       "      <th>the</th>\n",
       "      <th>is</th>\n",
       "      <th>fox</th>\n",
       "      <th>hat</th>\n",
       "      <th>cat</th>\n",
       "    </tr>\n",
       "  </thead>\n",
       "  <tbody>\n",
       "    <tr>\n",
       "      <th>0</th>\n",
       "      <td>0.000000</td>\n",
       "      <td>0.000000</td>\n",
       "      <td>0.338629</td>\n",
       "      <td>0.000000</td>\n",
       "      <td>0.40</td>\n",
       "      <td>0.000000</td>\n",
       "      <td>0.000000</td>\n",
       "      <td>0.257536</td>\n",
       "      <td>0.338629</td>\n",
       "    </tr>\n",
       "    <tr>\n",
       "      <th>1</th>\n",
       "      <td>0.423287</td>\n",
       "      <td>0.000000</td>\n",
       "      <td>0.000000</td>\n",
       "      <td>0.423287</td>\n",
       "      <td>0.25</td>\n",
       "      <td>0.000000</td>\n",
       "      <td>0.423287</td>\n",
       "      <td>0.000000</td>\n",
       "      <td>0.000000</td>\n",
       "    </tr>\n",
       "    <tr>\n",
       "      <th>2</th>\n",
       "      <td>0.000000</td>\n",
       "      <td>0.423287</td>\n",
       "      <td>0.000000</td>\n",
       "      <td>0.000000</td>\n",
       "      <td>0.25</td>\n",
       "      <td>0.423287</td>\n",
       "      <td>0.000000</td>\n",
       "      <td>0.321921</td>\n",
       "      <td>0.000000</td>\n",
       "    </tr>\n",
       "  </tbody>\n",
       "</table>\n",
       "</div>"
      ],
      "text/plain": [
       "      brown      blue        in     quick   the        is       fox       hat  \\\n",
       "0  0.000000  0.000000  0.338629  0.000000  0.40  0.000000  0.000000  0.257536   \n",
       "1  0.423287  0.000000  0.000000  0.423287  0.25  0.000000  0.423287  0.000000   \n",
       "2  0.000000  0.423287  0.000000  0.000000  0.25  0.423287  0.000000  0.321921   \n",
       "\n",
       "        cat  \n",
       "0  0.338629  \n",
       "1  0.000000  \n",
       "2  0.000000  "
      ]
     },
     "execution_count": 6,
     "metadata": {},
     "output_type": "execute_result"
    }
   ],
   "source": [
    "tfidf_df = pd.DataFrame(columns=list(wrds)) #empty dataframe initialized with words column headers\n",
    "tfidf_lst=[]  #empty list for each column \n",
    "for c in tfidf_df.columns:\n",
    "    tfidf_lst=[] #empty list for each column\n",
    "    tf_idf_d1 = tf_df[c].iloc[0]*idf_df[c].iloc[0] #append tf of word in first document to idf of word\n",
    "    tf_idf_d2 = tf_df[c].iloc[1]*idf_df[c].iloc[0] #append tf of word in second document to idf of word\n",
    "    tf_idf_d3 = tf_df[c].iloc[2]*idf_df[c].iloc[0] #append tf of word in third document to idf of word\n",
    "    tfidf_df[c] = [tf_idf_d1,tf_idf_d2,tf_idf_d3]\n",
    "tfidf_df #display the dataframe of tf-idf for all words"
   ]
  },
  {
   "cell_type": "markdown",
   "id": "0ca37f88",
   "metadata": {
    "papermill": {
     "duration": 0.006755,
     "end_time": "2024-02-04T15:31:43.826537",
     "exception": false,
     "start_time": "2024-02-04T15:31:43.819782",
     "status": "completed"
    },
    "tags": []
   },
   "source": [
    "# L2 Normalization"
   ]
  },
  {
   "cell_type": "markdown",
   "id": "0b5f93ff",
   "metadata": {
    "papermill": {
     "duration": 0.006683,
     "end_time": "2024-02-04T15:31:43.840233",
     "exception": false,
     "start_time": "2024-02-04T15:31:43.833550",
     "status": "completed"
    },
    "tags": []
   },
   "source": [
    "* **L2 normalization, also known as Euclidean normalization or L2 norm normalization, is a technique used to scale vectors (or arrays) in such a way that their Euclidean norm becomes equal to 1.**"
   ]
  },
  {
   "cell_type": "code",
   "execution_count": 7,
   "id": "c639f7b3",
   "metadata": {
    "execution": {
     "iopub.execute_input": "2024-02-04T15:31:43.856900Z",
     "iopub.status.busy": "2024-02-04T15:31:43.856280Z",
     "iopub.status.idle": "2024-02-04T15:31:43.884006Z",
     "shell.execute_reply": "2024-02-04T15:31:43.882914Z"
    },
    "papermill": {
     "duration": 0.038721,
     "end_time": "2024-02-04T15:31:43.886359",
     "exception": false,
     "start_time": "2024-02-04T15:31:43.847638",
     "status": "completed"
    },
    "tags": []
   },
   "outputs": [
    {
     "data": {
      "text/html": [
       "<div>\n",
       "<style scoped>\n",
       "    .dataframe tbody tr th:only-of-type {\n",
       "        vertical-align: middle;\n",
       "    }\n",
       "\n",
       "    .dataframe tbody tr th {\n",
       "        vertical-align: top;\n",
       "    }\n",
       "\n",
       "    .dataframe thead th {\n",
       "        text-align: right;\n",
       "    }\n",
       "</style>\n",
       "<table border=\"1\" class=\"dataframe\">\n",
       "  <thead>\n",
       "    <tr style=\"text-align: right;\">\n",
       "      <th></th>\n",
       "      <th>brown</th>\n",
       "      <th>blue</th>\n",
       "      <th>in</th>\n",
       "      <th>quick</th>\n",
       "      <th>the</th>\n",
       "      <th>is</th>\n",
       "      <th>fox</th>\n",
       "      <th>hat</th>\n",
       "      <th>cat</th>\n",
       "    </tr>\n",
       "  </thead>\n",
       "  <tbody>\n",
       "    <tr>\n",
       "      <th>0</th>\n",
       "      <td>0.000000</td>\n",
       "      <td>0.000000</td>\n",
       "      <td>0.501651</td>\n",
       "      <td>0.000000</td>\n",
       "      <td>0.592567</td>\n",
       "      <td>0.000000</td>\n",
       "      <td>0.000000</td>\n",
       "      <td>0.381519</td>\n",
       "      <td>0.501651</td>\n",
       "    </tr>\n",
       "    <tr>\n",
       "      <th>1</th>\n",
       "      <td>0.546454</td>\n",
       "      <td>0.000000</td>\n",
       "      <td>0.000000</td>\n",
       "      <td>0.546454</td>\n",
       "      <td>0.322745</td>\n",
       "      <td>0.000000</td>\n",
       "      <td>0.546454</td>\n",
       "      <td>0.000000</td>\n",
       "      <td>0.000000</td>\n",
       "    </tr>\n",
       "    <tr>\n",
       "      <th>2</th>\n",
       "      <td>0.000000</td>\n",
       "      <td>0.584483</td>\n",
       "      <td>0.000000</td>\n",
       "      <td>0.000000</td>\n",
       "      <td>0.345205</td>\n",
       "      <td>0.584483</td>\n",
       "      <td>0.000000</td>\n",
       "      <td>0.444514</td>\n",
       "      <td>0.000000</td>\n",
       "    </tr>\n",
       "  </tbody>\n",
       "</table>\n",
       "</div>"
      ],
      "text/plain": [
       "      brown      blue        in     quick       the        is       fox  \\\n",
       "0  0.000000  0.000000  0.501651  0.000000  0.592567  0.000000  0.000000   \n",
       "1  0.546454  0.000000  0.000000  0.546454  0.322745  0.000000  0.546454   \n",
       "2  0.000000  0.584483  0.000000  0.000000  0.345205  0.584483  0.000000   \n",
       "\n",
       "        hat       cat  \n",
       "0  0.381519  0.501651  \n",
       "1  0.000000  0.000000  \n",
       "2  0.444514  0.000000  "
      ]
     },
     "execution_count": 7,
     "metadata": {},
     "output_type": "execute_result"
    }
   ],
   "source": [
    "normalized_df = pd.DataFrame(columns=tfidf_df.columns)\n",
    "\n",
    "# Apply L2 normalization to each document's TF-IDF values\n",
    "for i,row in enumerate(tfidf_df.iterrows()):\n",
    "    # Extract TF-IDF values    \n",
    "    tfidf_values_list = list(tfidf_df.iloc[i].values)\n",
    "    # Calculate L2 norm\n",
    "    l2_norm = math.sqrt(sum(val**2 for val in tfidf_values_list))\n",
    "    # Normalize TF-IDF values using L2 norm\n",
    "    normalized_tfidf = [val / l2_norm for val in list(tfidf_df.iloc[i].values)]\n",
    "    new_row = pd.Series(normalized_tfidf, index=tfidf_df.columns)\n",
    "    normalized_df.loc[len(normalized_df)] = new_row\n",
    "    \n",
    "normalized_df"
   ]
  },
  {
   "cell_type": "markdown",
   "id": "5a9407f1",
   "metadata": {
    "papermill": {
     "duration": 0.007088,
     "end_time": "2024-02-04T15:31:43.900689",
     "exception": false,
     "start_time": "2024-02-04T15:31:43.893601",
     "status": "completed"
    },
    "tags": []
   },
   "source": [
    "# TfidfVectorizer Python Library"
   ]
  },
  {
   "cell_type": "code",
   "execution_count": 8,
   "id": "a40ae8ef",
   "metadata": {
    "execution": {
     "iopub.execute_input": "2024-02-04T15:31:43.917092Z",
     "iopub.status.busy": "2024-02-04T15:31:43.916708Z",
     "iopub.status.idle": "2024-02-04T15:31:45.267383Z",
     "shell.execute_reply": "2024-02-04T15:31:45.266219Z"
    },
    "papermill": {
     "duration": 1.361768,
     "end_time": "2024-02-04T15:31:45.269632",
     "exception": false,
     "start_time": "2024-02-04T15:31:43.907864",
     "status": "completed"
    },
    "tags": []
   },
   "outputs": [
    {
     "data": {
      "text/html": [
       "<div>\n",
       "<style scoped>\n",
       "    .dataframe tbody tr th:only-of-type {\n",
       "        vertical-align: middle;\n",
       "    }\n",
       "\n",
       "    .dataframe tbody tr th {\n",
       "        vertical-align: top;\n",
       "    }\n",
       "\n",
       "    .dataframe thead th {\n",
       "        text-align: right;\n",
       "    }\n",
       "</style>\n",
       "<table border=\"1\" class=\"dataframe\">\n",
       "  <thead>\n",
       "    <tr style=\"text-align: right;\">\n",
       "      <th></th>\n",
       "      <th>blue</th>\n",
       "      <th>brown</th>\n",
       "      <th>cat</th>\n",
       "      <th>fox</th>\n",
       "      <th>hat</th>\n",
       "      <th>in</th>\n",
       "      <th>is</th>\n",
       "      <th>quick</th>\n",
       "      <th>the</th>\n",
       "    </tr>\n",
       "  </thead>\n",
       "  <tbody>\n",
       "    <tr>\n",
       "      <th>0</th>\n",
       "      <td>0.000000</td>\n",
       "      <td>0.000000</td>\n",
       "      <td>0.501651</td>\n",
       "      <td>0.000000</td>\n",
       "      <td>0.381519</td>\n",
       "      <td>0.501651</td>\n",
       "      <td>0.000000</td>\n",
       "      <td>0.000000</td>\n",
       "      <td>0.592567</td>\n",
       "    </tr>\n",
       "    <tr>\n",
       "      <th>1</th>\n",
       "      <td>0.000000</td>\n",
       "      <td>0.546454</td>\n",
       "      <td>0.000000</td>\n",
       "      <td>0.546454</td>\n",
       "      <td>0.000000</td>\n",
       "      <td>0.000000</td>\n",
       "      <td>0.000000</td>\n",
       "      <td>0.546454</td>\n",
       "      <td>0.322745</td>\n",
       "    </tr>\n",
       "    <tr>\n",
       "      <th>2</th>\n",
       "      <td>0.584483</td>\n",
       "      <td>0.000000</td>\n",
       "      <td>0.000000</td>\n",
       "      <td>0.000000</td>\n",
       "      <td>0.444514</td>\n",
       "      <td>0.000000</td>\n",
       "      <td>0.584483</td>\n",
       "      <td>0.000000</td>\n",
       "      <td>0.345205</td>\n",
       "    </tr>\n",
       "  </tbody>\n",
       "</table>\n",
       "</div>"
      ],
      "text/plain": [
       "       blue     brown       cat       fox       hat        in        is  \\\n",
       "0  0.000000  0.000000  0.501651  0.000000  0.381519  0.501651  0.000000   \n",
       "1  0.000000  0.546454  0.000000  0.546454  0.000000  0.000000  0.000000   \n",
       "2  0.584483  0.000000  0.000000  0.000000  0.444514  0.000000  0.584483   \n",
       "\n",
       "      quick       the  \n",
       "0  0.000000  0.592567  \n",
       "1  0.546454  0.322745  \n",
       "2  0.000000  0.345205  "
      ]
     },
     "execution_count": 8,
     "metadata": {},
     "output_type": "execute_result"
    }
   ],
   "source": [
    "from sklearn.feature_extraction.text import TfidfVectorizer\n",
    "\n",
    "# Sample documents\n",
    "documents = [Doc_1,Doc_2,Doc_3]\n",
    "\n",
    "# Create the TF-IDF vectorizer\n",
    "tfidf_vectorizer = TfidfVectorizer(norm='l2',smooth_idf=True)\n",
    "\n",
    "# Fit the documents and transform them into a TF-IDF matrix\n",
    "tfidf_matrix = tfidf_vectorizer.fit_transform(documents)\n",
    "\n",
    "# Get the feature names (terms) from the vectorizer\n",
    "feature_names = tfidf_vectorizer.get_feature_names_out()\n",
    "\n",
    "df_tfidf = pd.DataFrame(data=tfidf_matrix.toarray(), columns=feature_names)\n",
    "df_tfidf"
   ]
  },
  {
   "cell_type": "markdown",
   "id": "05ab5447",
   "metadata": {
    "_kg_hide-input": true,
    "papermill": {
     "duration": 0.007499,
     "end_time": "2024-02-04T15:31:45.284827",
     "exception": false,
     "start_time": "2024-02-04T15:31:45.277328",
     "status": "completed"
    },
    "tags": []
   },
   "source": [
    "* **The TfidfVectorizer in scikit-learn, by default, adds a smoothing term to the denominator of the IDF calculation to avoid division by zero. This is done to handle the case where a term is present in all documents, ensuring that the IDF is not undefined.**\n",
    "* **L2 normalization, also known as Euclidean normalization or L2 norm normalization, is a technique used to scale vectors (or arrays) in such a way that their Euclidean norm becomes equal to 1.**"
   ]
  },
  {
   "cell_type": "markdown",
   "id": "f496ddee",
   "metadata": {
    "papermill": {
     "duration": 0.007226,
     "end_time": "2024-02-04T15:31:45.299647",
     "exception": false,
     "start_time": "2024-02-04T15:31:45.292421",
     "status": "completed"
    },
    "tags": []
   },
   "source": [
    "# Unigram"
   ]
  },
  {
   "cell_type": "markdown",
   "id": "14f29984",
   "metadata": {
    "papermill": {
     "duration": 0.00721,
     "end_time": "2024-02-04T15:31:45.314272",
     "exception": false,
     "start_time": "2024-02-04T15:31:45.307062",
     "status": "completed"
    },
    "tags": []
   },
   "source": [
    "* **A unigram, in the context of natural language processing (NLP) and linguistics, refers to a single unit or token of a word. It is the simplest form of linguistic analysis where text is broken down into individual words. In other words, a unigram is a term used to describe a single word in a sequence of words.**\n",
    "* **Unigrams are the building blocks for more complex linguistic analyses, such as bigrams (pairs of consecutive words), trigrams (triplets of consecutive words), and n-grams in general.**"
   ]
  },
  {
   "cell_type": "code",
   "execution_count": 9,
   "id": "5b5bf309",
   "metadata": {
    "execution": {
     "iopub.execute_input": "2024-02-04T15:31:45.330996Z",
     "iopub.status.busy": "2024-02-04T15:31:45.330583Z",
     "iopub.status.idle": "2024-02-04T15:31:45.350294Z",
     "shell.execute_reply": "2024-02-04T15:31:45.349147Z"
    },
    "papermill": {
     "duration": 0.031287,
     "end_time": "2024-02-04T15:31:45.353025",
     "exception": false,
     "start_time": "2024-02-04T15:31:45.321738",
     "status": "completed"
    },
    "tags": []
   },
   "outputs": [
    {
     "data": {
      "text/html": [
       "<div>\n",
       "<style scoped>\n",
       "    .dataframe tbody tr th:only-of-type {\n",
       "        vertical-align: middle;\n",
       "    }\n",
       "\n",
       "    .dataframe tbody tr th {\n",
       "        vertical-align: top;\n",
       "    }\n",
       "\n",
       "    .dataframe thead th {\n",
       "        text-align: right;\n",
       "    }\n",
       "</style>\n",
       "<table border=\"1\" class=\"dataframe\">\n",
       "  <thead>\n",
       "    <tr style=\"text-align: right;\">\n",
       "      <th></th>\n",
       "      <th>brown</th>\n",
       "      <th>blue</th>\n",
       "      <th>in</th>\n",
       "      <th>quick</th>\n",
       "      <th>the</th>\n",
       "      <th>is</th>\n",
       "      <th>fox</th>\n",
       "      <th>hat</th>\n",
       "      <th>cat</th>\n",
       "    </tr>\n",
       "  </thead>\n",
       "  <tbody>\n",
       "    <tr>\n",
       "      <th>0</th>\n",
       "      <td>0</td>\n",
       "      <td>0</td>\n",
       "      <td>1</td>\n",
       "      <td>0</td>\n",
       "      <td>2</td>\n",
       "      <td>0</td>\n",
       "      <td>0</td>\n",
       "      <td>1</td>\n",
       "      <td>1</td>\n",
       "    </tr>\n",
       "    <tr>\n",
       "      <th>1</th>\n",
       "      <td>1</td>\n",
       "      <td>0</td>\n",
       "      <td>0</td>\n",
       "      <td>1</td>\n",
       "      <td>1</td>\n",
       "      <td>0</td>\n",
       "      <td>1</td>\n",
       "      <td>0</td>\n",
       "      <td>0</td>\n",
       "    </tr>\n",
       "    <tr>\n",
       "      <th>2</th>\n",
       "      <td>0</td>\n",
       "      <td>1</td>\n",
       "      <td>0</td>\n",
       "      <td>0</td>\n",
       "      <td>1</td>\n",
       "      <td>1</td>\n",
       "      <td>0</td>\n",
       "      <td>1</td>\n",
       "      <td>0</td>\n",
       "    </tr>\n",
       "  </tbody>\n",
       "</table>\n",
       "</div>"
      ],
      "text/plain": [
       "   brown  blue  in  quick  the  is  fox  hat  cat\n",
       "0      0     0   1      0    2   0    0    1    1\n",
       "1      1     0   0      1    1   0    1    0    0\n",
       "2      0     1   0      0    1   1    0    1    0"
      ]
     },
     "execution_count": 9,
     "metadata": {},
     "output_type": "execute_result"
    }
   ],
   "source": [
    "#Probability of unigram P(w)=C(w)/m same idea of TF\n",
    "def count_wrd_Doc(wrd,doc):\n",
    "    i=0\n",
    "    for w in doc.lower().split(' '):\n",
    "        if wrd == w:\n",
    "            i = i+1\n",
    "    return i\n",
    "    \n",
    "unigram_df = pd.DataFrame(columns=list(wrds)) #empty dataframe initialized with words column headers\n",
    "freq_lst=[] #empty list for each column to save word frequencies in each document\n",
    "for c in tf_df.columns:\n",
    "    freq_lst=[]#empty the list\n",
    "    freq_lst.append(count_wrd_Doc(c,Doc_1))#append the frequency of word in document 1\n",
    "    freq_lst.append(count_wrd_Doc(c,Doc_2))#append the frequency of word in document 2\n",
    "    freq_lst.append(count_wrd_Doc(c,Doc_3))#append the frequency of word in document 3\n",
    "    unigram_df[c]=freq_lst #assign values to column\n",
    "unigram_df #display the dataframe of TF for each word in each document"
   ]
  },
  {
   "cell_type": "markdown",
   "id": "aa79249e",
   "metadata": {
    "papermill": {
     "duration": 0.009825,
     "end_time": "2024-02-04T15:31:45.374554",
     "exception": false,
     "start_time": "2024-02-04T15:31:45.364729",
     "status": "completed"
    },
    "tags": []
   },
   "source": [
    "# Unigrams python function"
   ]
  },
  {
   "cell_type": "code",
   "execution_count": 10,
   "id": "3d1cc606",
   "metadata": {
    "execution": {
     "iopub.execute_input": "2024-02-04T15:31:45.395431Z",
     "iopub.status.busy": "2024-02-04T15:31:45.394609Z",
     "iopub.status.idle": "2024-02-04T15:31:46.304394Z",
     "shell.execute_reply": "2024-02-04T15:31:46.302913Z"
    },
    "papermill": {
     "duration": 0.923028,
     "end_time": "2024-02-04T15:31:46.307004",
     "exception": false,
     "start_time": "2024-02-04T15:31:45.383976",
     "status": "completed"
    },
    "tags": []
   },
   "outputs": [
    {
     "name": "stdout",
     "output_type": "stream",
     "text": [
      "('the',): 2\n",
      "('cat',): 1\n",
      "('in',): 1\n",
      "('hat',): 1\n",
      "('the',): 1\n",
      "('quick',): 1\n",
      "('brown',): 1\n",
      "('fox',): 1\n",
      "('the',): 1\n",
      "('hat',): 1\n",
      "('is',): 1\n",
      "('blue',): 1\n"
     ]
    }
   ],
   "source": [
    "from nltk import ngrams\n",
    "from nltk.tokenize import word_tokenize\n",
    "from nltk.probability import FreqDist, MLEProbDist\n",
    "\n",
    "for d in [Doc_1,Doc_2,Doc_3]:\n",
    "    words = word_tokenize(d.lower())\n",
    "    result = list(ngrams(words, 1))\n",
    "    # Calculate frequency distribution of bigrams\n",
    "    ngram_freq = FreqDist(result)\n",
    "    for word, frequency in ngram_freq.items():\n",
    "        print(f\"{word}: {frequency}\")"
   ]
  },
  {
   "cell_type": "markdown",
   "id": "f59ec0da",
   "metadata": {
    "papermill": {
     "duration": 0.007445,
     "end_time": "2024-02-04T15:31:46.322656",
     "exception": false,
     "start_time": "2024-02-04T15:31:46.315211",
     "status": "completed"
    },
    "tags": []
   },
   "source": [
    "# Bigram"
   ]
  },
  {
   "cell_type": "markdown",
   "id": "6ec25108",
   "metadata": {
    "papermill": {
     "duration": 0.007489,
     "end_time": "2024-02-04T15:31:46.337901",
     "exception": false,
     "start_time": "2024-02-04T15:31:46.330412",
     "status": "completed"
    },
    "tags": []
   },
   "source": [
    "* **A bigram, in the context of natural language processing (NLP) and linguistics, refers to an ordered pair of consecutive words within a text or sequence of words. It is a type of n-gram, where \"n\" represents the number of words in the sequence.**"
   ]
  },
  {
   "cell_type": "code",
   "execution_count": 11,
   "id": "162dbef8",
   "metadata": {
    "execution": {
     "iopub.execute_input": "2024-02-04T15:31:46.355863Z",
     "iopub.status.busy": "2024-02-04T15:31:46.354924Z",
     "iopub.status.idle": "2024-02-04T15:31:46.384252Z",
     "shell.execute_reply": "2024-02-04T15:31:46.382982Z"
    },
    "papermill": {
     "duration": 0.040875,
     "end_time": "2024-02-04T15:31:46.386541",
     "exception": false,
     "start_time": "2024-02-04T15:31:46.345666",
     "status": "completed"
    },
    "tags": []
   },
   "outputs": [
    {
     "data": {
      "text/html": [
       "<div>\n",
       "<style scoped>\n",
       "    .dataframe tbody tr th:only-of-type {\n",
       "        vertical-align: middle;\n",
       "    }\n",
       "\n",
       "    .dataframe tbody tr th {\n",
       "        vertical-align: top;\n",
       "    }\n",
       "\n",
       "    .dataframe thead th {\n",
       "        text-align: right;\n",
       "    }\n",
       "</style>\n",
       "<table border=\"1\" class=\"dataframe\">\n",
       "  <thead>\n",
       "    <tr style=\"text-align: right;\">\n",
       "      <th></th>\n",
       "      <th>the cat</th>\n",
       "      <th>cat in</th>\n",
       "      <th>in the</th>\n",
       "      <th>the hat</th>\n",
       "      <th>the quick</th>\n",
       "      <th>quick brown</th>\n",
       "      <th>brown fox</th>\n",
       "      <th>the hat</th>\n",
       "      <th>hat is</th>\n",
       "      <th>is blue</th>\n",
       "    </tr>\n",
       "  </thead>\n",
       "  <tbody>\n",
       "    <tr>\n",
       "      <th>0</th>\n",
       "      <td>1</td>\n",
       "      <td>1</td>\n",
       "      <td>1</td>\n",
       "      <td>1</td>\n",
       "      <td>0</td>\n",
       "      <td>0</td>\n",
       "      <td>0</td>\n",
       "      <td>1</td>\n",
       "      <td>0</td>\n",
       "      <td>0</td>\n",
       "    </tr>\n",
       "    <tr>\n",
       "      <th>1</th>\n",
       "      <td>0</td>\n",
       "      <td>0</td>\n",
       "      <td>0</td>\n",
       "      <td>0</td>\n",
       "      <td>1</td>\n",
       "      <td>1</td>\n",
       "      <td>1</td>\n",
       "      <td>0</td>\n",
       "      <td>0</td>\n",
       "      <td>0</td>\n",
       "    </tr>\n",
       "    <tr>\n",
       "      <th>2</th>\n",
       "      <td>0</td>\n",
       "      <td>0</td>\n",
       "      <td>0</td>\n",
       "      <td>1</td>\n",
       "      <td>0</td>\n",
       "      <td>0</td>\n",
       "      <td>0</td>\n",
       "      <td>1</td>\n",
       "      <td>1</td>\n",
       "      <td>1</td>\n",
       "    </tr>\n",
       "  </tbody>\n",
       "</table>\n",
       "</div>"
      ],
      "text/plain": [
       "   the cat  cat in  in the  the hat  the quick  quick brown  brown fox  \\\n",
       "0        1       1       1        1          0            0          0   \n",
       "1        0       0       0        0          1            1          1   \n",
       "2        0       0       0        1          0            0          0   \n",
       "\n",
       "   the hat  hat is  is blue  \n",
       "0        1       0        0  \n",
       "1        0       0        0  \n",
       "2        1       1        1  "
      ]
     },
     "execution_count": 11,
     "metadata": {},
     "output_type": "execute_result"
    }
   ],
   "source": [
    "#get bi-grams of input sentence\n",
    "def bi_lst(doc):\n",
    "    wrds = doc.lower().split(' ')\n",
    "    bi_lst = []\n",
    "    for j in range(0,len(wrds)-1):\n",
    "        bi_lst.append(wrds[j:j+2])\n",
    "    return bi_lst\n",
    "\n",
    "lst = []\n",
    "for d in [Doc_1,Doc_2,Doc_3]:\n",
    "    lst.extend(bi_lst(d))\n",
    "unique_list = []\n",
    "unique_list = [item for item in lst if item not in unique_list]\n",
    "\n",
    "def count_biwrd_Doc(st,doc):\n",
    "    i=0    \n",
    "    for s in bi_lst(doc):\n",
    "        if s == st.split(' '):\n",
    "            i = i+1\n",
    "    return i\n",
    "bigram_df = pd.DataFrame(columns=list((' '.join(x) for x in unique_list))) #empty dataframe initialized with words column headers\n",
    "freq_lst=[] #empty list for each column to save word frequencies in each document\n",
    "for c in bigram_df.columns:\n",
    "    freq_lst=[]#empty the list\n",
    "    for d in [Doc_1,Doc_2,Doc_3]:\n",
    "        freq_lst.append(count_biwrd_Doc(c,d))#append the frequency of word in document d\n",
    "    bigram_df[c]=freq_lst #assign values to column\n",
    "bigram_df #display the dataframe of TF for each word in each document"
   ]
  },
  {
   "cell_type": "markdown",
   "id": "ba67385e",
   "metadata": {
    "papermill": {
     "duration": 0.007593,
     "end_time": "2024-02-04T15:31:46.402526",
     "exception": false,
     "start_time": "2024-02-04T15:31:46.394933",
     "status": "completed"
    },
    "tags": []
   },
   "source": [
    "# Bigrams python function"
   ]
  },
  {
   "cell_type": "code",
   "execution_count": 12,
   "id": "f2cad5a0",
   "metadata": {
    "execution": {
     "iopub.execute_input": "2024-02-04T15:31:46.481722Z",
     "iopub.status.busy": "2024-02-04T15:31:46.481274Z",
     "iopub.status.idle": "2024-02-04T15:31:46.488666Z",
     "shell.execute_reply": "2024-02-04T15:31:46.487618Z"
    },
    "papermill": {
     "duration": 0.080605,
     "end_time": "2024-02-04T15:31:46.491002",
     "exception": false,
     "start_time": "2024-02-04T15:31:46.410397",
     "status": "completed"
    },
    "tags": []
   },
   "outputs": [
    {
     "name": "stdout",
     "output_type": "stream",
     "text": [
      "('the', 'cat'): 1\n",
      "('cat', 'in'): 1\n",
      "('in', 'the'): 1\n",
      "('the', 'hat'): 1\n",
      "('the', 'quick'): 1\n",
      "('quick', 'brown'): 1\n",
      "('brown', 'fox'): 1\n",
      "('the', 'hat'): 1\n",
      "('hat', 'is'): 1\n",
      "('is', 'blue'): 1\n"
     ]
    }
   ],
   "source": [
    "for d in [Doc_1,Doc_2,Doc_3]:\n",
    "    words = word_tokenize(d.lower())\n",
    "    result = list(ngrams(words, 2))\n",
    "    # Calculate frequency distribution of bigrams\n",
    "    ngram_freq = FreqDist(result)\n",
    "    for word, frequency in ngram_freq.items():\n",
    "        print(f\"{word}: {frequency}\")"
   ]
  },
  {
   "cell_type": "code",
   "execution_count": null,
   "id": "74706787",
   "metadata": {
    "papermill": {
     "duration": 0.008074,
     "end_time": "2024-02-04T15:31:46.507588",
     "exception": false,
     "start_time": "2024-02-04T15:31:46.499514",
     "status": "completed"
    },
    "tags": []
   },
   "outputs": [],
   "source": []
  }
 ],
 "metadata": {
  "kaggle": {
   "accelerator": "none",
   "dataSources": [],
   "dockerImageVersionId": 30635,
   "isGpuEnabled": false,
   "isInternetEnabled": true,
   "language": "python",
   "sourceType": "notebook"
  },
  "kernelspec": {
   "display_name": "Python 3",
   "language": "python",
   "name": "python3"
  },
  "language_info": {
   "codemirror_mode": {
    "name": "ipython",
    "version": 3
   },
   "file_extension": ".py",
   "mimetype": "text/x-python",
   "name": "python",
   "nbconvert_exporter": "python",
   "pygments_lexer": "ipython3",
   "version": "3.10.12"
  },
  "papermill": {
   "default_parameters": {},
   "duration": 8.680722,
   "end_time": "2024-02-04T15:31:47.136700",
   "environment_variables": {},
   "exception": null,
   "input_path": "__notebook__.ipynb",
   "output_path": "__notebook__.ipynb",
   "parameters": {},
   "start_time": "2024-02-04T15:31:38.455978",
   "version": "2.4.0"
  }
 },
 "nbformat": 4,
 "nbformat_minor": 5
}
