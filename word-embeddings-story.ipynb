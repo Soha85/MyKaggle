{
 "cells": [
  {
   "cell_type": "markdown",
   "id": "383ff977",
   "metadata": {
    "papermill": {
     "duration": 0.0091,
     "end_time": "2024-02-10T17:48:38.766529",
     "exception": false,
     "start_time": "2024-02-10T17:48:38.757429",
     "status": "completed"
    },
    "tags": []
   },
   "source": [
    "# Main breakthroughs in Word embeddings, from Word Counts to LLMs:\n",
    "\n",
    "**Low-tech beginnings:**\n",
    "\n",
    "* **Word Counts:** Basic frequency of words in a corpus served as initial representations. Useful for simple tasks but ignored semantic relationships.\n",
    "* **Term Frequency (TF):** As mentioned, simply counting the occurrences of words within a corpus was one of the earliest methods for representing words. This basic approach laid the foundation for more sophisticated techniques.\n",
    "* **N-grams:** These are sequences of n consecutive words (e.g., bigrams for pairs, trigrams for triplets). By analyzing n-gram frequencies, we can capture some local context and word relationships, going beyond individual word counts.\n",
    "\n",
    "\n",
    "**Distributional Semantics:**\n",
    "\n",
    "* **Word2Vec (2013):** First major breakthrough. Learned word embeddings by predicting surrounding words, capturing semantic similarities.\n",
    "* **GloVe (2014):** Leverages co-occurrence statistics for better context sensitivity.\n",
    "* **FastText (2016):** Incorporates subword information, handling rare words and morphological variants.\n",
    "\n",
    "**Contextual Embeddings:**\n",
    "\n",
    "* **ELMo (2018):** Uses bi-directional LSTMs to capture word meaning based on surrounding context.\n",
    "* **BERT (2018):** Pre-trained transformer model on large unlabeled text, learning contextualized representations.\n",
    "* **XLNet (2019):** Builds upon BERT's masked language modeling with permutation language modeling for better understanding of word relationships.\n",
    "\n",
    "**Towards Understanding and Generation:**\n",
    "\n",
    "* **GPT-3 (2020):** Generative Pre-trained Transformer 3, a large language model (LLM) with impressive text generation capabilities.\n",
    "* **LaMDA (2021):** Language Model for Dialogue Applications, focuses on factual consistency and grounding in conversation.\n",
    "* **PaLM (2022):** Pathways Language Model, pushes the boundaries of LLM size and performance, demonstrating progress in reasoning and question answering."
   ]
  },
  {
   "cell_type": "markdown",
   "id": "3829e6e6",
   "metadata": {
    "papermill": {
     "duration": 0.00821,
     "end_time": "2024-02-10T17:48:38.783576",
     "exception": false,
     "start_time": "2024-02-10T17:48:38.775366",
     "status": "completed"
    },
    "tags": []
   },
   "source": [
    "# Import Libraries"
   ]
  },
  {
   "cell_type": "code",
   "execution_count": 1,
   "id": "c6e14e61",
   "metadata": {
    "execution": {
     "iopub.execute_input": "2024-02-10T17:48:38.803648Z",
     "iopub.status.busy": "2024-02-10T17:48:38.802975Z",
     "iopub.status.idle": "2024-02-10T17:48:56.783528Z",
     "shell.execute_reply": "2024-02-10T17:48:56.782117Z"
    },
    "papermill": {
     "duration": 17.994017,
     "end_time": "2024-02-10T17:48:56.786719",
     "exception": false,
     "start_time": "2024-02-10T17:48:38.792702",
     "status": "completed"
    },
    "tags": []
   },
   "outputs": [],
   "source": [
    "import pandas as pd\n",
    "import math\n",
    "from sklearn.feature_extraction.text import TfidfVectorizer\n",
    "from nltk import ngrams\n",
    "from nltk.tokenize import word_tokenize\n",
    "from nltk.probability import FreqDist, MLEProbDist\n",
    "from sklearn.feature_extraction.text import CountVectorizer\n",
    "import numpy as np\n",
    "import keras"
   ]
  },
  {
   "cell_type": "markdown",
   "id": "5049db11",
   "metadata": {
    "papermill": {
     "duration": 0.008468,
     "end_time": "2024-02-10T17:48:56.803903",
     "exception": false,
     "start_time": "2024-02-10T17:48:56.795435",
     "status": "completed"
    },
    "tags": []
   },
   "source": [
    "**Define Documents list**"
   ]
  },
  {
   "cell_type": "code",
   "execution_count": 2,
   "id": "e42bcd9b",
   "metadata": {
    "execution": {
     "iopub.execute_input": "2024-02-10T17:48:56.823282Z",
     "iopub.status.busy": "2024-02-10T17:48:56.822422Z",
     "iopub.status.idle": "2024-02-10T17:48:56.828803Z",
     "shell.execute_reply": "2024-02-10T17:48:56.827353Z"
    },
    "papermill": {
     "duration": 0.018844,
     "end_time": "2024-02-10T17:48:56.831242",
     "exception": false,
     "start_time": "2024-02-10T17:48:56.812398",
     "status": "completed"
    },
    "tags": []
   },
   "outputs": [],
   "source": [
    "Doc_1= \"The cat in the hat\"\n",
    "Doc_2= \"The quick brown fox\"\n",
    "Doc_3= \"The hat is blue\"\n",
    "\n",
    "Docs =[Doc_1,Doc_2,Doc_3]"
   ]
  },
  {
   "cell_type": "markdown",
   "id": "b16e9272",
   "metadata": {
    "papermill": {
     "duration": 0.008044,
     "end_time": "2024-02-10T17:48:56.847871",
     "exception": false,
     "start_time": "2024-02-10T17:48:56.839827",
     "status": "completed"
    },
    "tags": []
   },
   "source": [
    "# **Term Frequency (TF)**\n",
    "* **TF(t,d) is the term frequency of term t in document d (how often the term appears in the document).*** **TF(t,d) is the term frequency of term t in document d (how often the term appears in the document).**"
   ]
  },
  {
   "cell_type": "code",
   "execution_count": 3,
   "id": "1a5cafd8",
   "metadata": {
    "execution": {
     "iopub.execute_input": "2024-02-10T17:48:56.867438Z",
     "iopub.status.busy": "2024-02-10T17:48:56.866400Z",
     "iopub.status.idle": "2024-02-10T17:48:56.876867Z",
     "shell.execute_reply": "2024-02-10T17:48:56.875543Z"
    },
    "papermill": {
     "duration": 0.022912,
     "end_time": "2024-02-10T17:48:56.879379",
     "exception": false,
     "start_time": "2024-02-10T17:48:56.856467",
     "status": "completed"
    },
    "tags": []
   },
   "outputs": [
    {
     "data": {
      "text/plain": [
       "{'blue', 'brown', 'cat', 'fox', 'hat', 'in', 'is', 'quick', 'the'}"
      ]
     },
     "execution_count": 3,
     "metadata": {},
     "output_type": "execute_result"
    }
   ],
   "source": [
    "#get distinct words for each document\n",
    "lst = []\n",
    "for d in Docs:\n",
    "    lst.extend(d.lower().split(' '))\n",
    "wrds = set(lst) # remove duplicate words\n",
    "wrds"
   ]
  },
  {
   "cell_type": "code",
   "execution_count": 4,
   "id": "c61a1f4d",
   "metadata": {
    "execution": {
     "iopub.execute_input": "2024-02-10T17:48:56.899832Z",
     "iopub.status.busy": "2024-02-10T17:48:56.898318Z",
     "iopub.status.idle": "2024-02-10T17:48:56.942061Z",
     "shell.execute_reply": "2024-02-10T17:48:56.941116Z"
    },
    "papermill": {
     "duration": 0.05628,
     "end_time": "2024-02-10T17:48:56.944396",
     "exception": false,
     "start_time": "2024-02-10T17:48:56.888116",
     "status": "completed"
    },
    "tags": []
   },
   "outputs": [
    {
     "data": {
      "text/html": [
       "<div>\n",
       "<style scoped>\n",
       "    .dataframe tbody tr th:only-of-type {\n",
       "        vertical-align: middle;\n",
       "    }\n",
       "\n",
       "    .dataframe tbody tr th {\n",
       "        vertical-align: top;\n",
       "    }\n",
       "\n",
       "    .dataframe thead th {\n",
       "        text-align: right;\n",
       "    }\n",
       "</style>\n",
       "<table border=\"1\" class=\"dataframe\">\n",
       "  <thead>\n",
       "    <tr style=\"text-align: right;\">\n",
       "      <th></th>\n",
       "      <th>brown</th>\n",
       "      <th>in</th>\n",
       "      <th>quick</th>\n",
       "      <th>is</th>\n",
       "      <th>blue</th>\n",
       "      <th>fox</th>\n",
       "      <th>hat</th>\n",
       "      <th>the</th>\n",
       "      <th>cat</th>\n",
       "    </tr>\n",
       "  </thead>\n",
       "  <tbody>\n",
       "    <tr>\n",
       "      <th>0</th>\n",
       "      <td>0.00</td>\n",
       "      <td>0.2</td>\n",
       "      <td>0.00</td>\n",
       "      <td>0.00</td>\n",
       "      <td>0.00</td>\n",
       "      <td>0.00</td>\n",
       "      <td>0.20</td>\n",
       "      <td>0.40</td>\n",
       "      <td>0.2</td>\n",
       "    </tr>\n",
       "    <tr>\n",
       "      <th>1</th>\n",
       "      <td>0.25</td>\n",
       "      <td>0.0</td>\n",
       "      <td>0.25</td>\n",
       "      <td>0.00</td>\n",
       "      <td>0.00</td>\n",
       "      <td>0.25</td>\n",
       "      <td>0.00</td>\n",
       "      <td>0.25</td>\n",
       "      <td>0.0</td>\n",
       "    </tr>\n",
       "    <tr>\n",
       "      <th>2</th>\n",
       "      <td>0.00</td>\n",
       "      <td>0.0</td>\n",
       "      <td>0.00</td>\n",
       "      <td>0.25</td>\n",
       "      <td>0.25</td>\n",
       "      <td>0.00</td>\n",
       "      <td>0.25</td>\n",
       "      <td>0.25</td>\n",
       "      <td>0.0</td>\n",
       "    </tr>\n",
       "  </tbody>\n",
       "</table>\n",
       "</div>"
      ],
      "text/plain": [
       "   brown   in  quick    is  blue   fox   hat   the  cat\n",
       "0   0.00  0.2   0.00  0.00  0.00  0.00  0.20  0.40  0.2\n",
       "1   0.25  0.0   0.25  0.00  0.00  0.25  0.00  0.25  0.0\n",
       "2   0.00  0.0   0.00  0.25  0.25  0.00  0.25  0.25  0.0"
      ]
     },
     "execution_count": 4,
     "metadata": {},
     "output_type": "execute_result"
    }
   ],
   "source": [
    "#form a dataframe to represent TF for each word in each Document where columns are words and rows are documents\n",
    "def count_wrd_Doc(wrd,doc):\n",
    "    i=0\n",
    "    for w in doc.lower().split(' '):\n",
    "        if wrd == w:\n",
    "            i = i+1\n",
    "    return i/len(doc.lower().split(' '))\n",
    "    \n",
    "tf_df = pd.DataFrame(columns=list(wrds)) #empty dataframe initialized with words column headers\n",
    "freq_lst=[] #empty list for each column to save word frequencies in each document\n",
    "for c in tf_df.columns:\n",
    "    freq_lst=[]#empty the list\n",
    "    for d in Docs:\n",
    "        freq_lst.append(count_wrd_Doc(c,d))#append the frequency of word in document d\n",
    "    tf_df[c]=freq_lst #assign values to column\n",
    "tf_df #display the dataframe of TF for each word in each document"
   ]
  },
  {
   "cell_type": "markdown",
   "id": "818eb428",
   "metadata": {
    "papermill": {
     "duration": 0.008971,
     "end_time": "2024-02-10T17:48:56.962234",
     "exception": false,
     "start_time": "2024-02-10T17:48:56.953263",
     "status": "completed"
    },
    "tags": []
   },
   "source": [
    "**Document Frequency (DF)**\n",
    "* **Calculate Document Frequency (DF): the word appears in how many documents*** **Calculate Document Frequency (DF): the word appears in how many documents**"
   ]
  },
  {
   "cell_type": "code",
   "execution_count": 5,
   "id": "0c93b66c",
   "metadata": {
    "execution": {
     "iopub.execute_input": "2024-02-10T17:48:56.983469Z",
     "iopub.status.busy": "2024-02-10T17:48:56.982794Z",
     "iopub.status.idle": "2024-02-10T17:48:57.000439Z",
     "shell.execute_reply": "2024-02-10T17:48:56.998984Z"
    },
    "papermill": {
     "duration": 0.033841,
     "end_time": "2024-02-10T17:48:57.005866",
     "exception": false,
     "start_time": "2024-02-10T17:48:56.972025",
     "status": "completed"
    },
    "tags": []
   },
   "outputs": [
    {
     "data": {
      "text/html": [
       "<div>\n",
       "<style scoped>\n",
       "    .dataframe tbody tr th:only-of-type {\n",
       "        vertical-align: middle;\n",
       "    }\n",
       "\n",
       "    .dataframe tbody tr th {\n",
       "        vertical-align: top;\n",
       "    }\n",
       "\n",
       "    .dataframe thead th {\n",
       "        text-align: right;\n",
       "    }\n",
       "</style>\n",
       "<table border=\"1\" class=\"dataframe\">\n",
       "  <thead>\n",
       "    <tr style=\"text-align: right;\">\n",
       "      <th></th>\n",
       "      <th>brown</th>\n",
       "      <th>in</th>\n",
       "      <th>quick</th>\n",
       "      <th>is</th>\n",
       "      <th>blue</th>\n",
       "      <th>fox</th>\n",
       "      <th>hat</th>\n",
       "      <th>the</th>\n",
       "      <th>cat</th>\n",
       "    </tr>\n",
       "  </thead>\n",
       "  <tbody>\n",
       "    <tr>\n",
       "      <th>0</th>\n",
       "      <td>1</td>\n",
       "      <td>1</td>\n",
       "      <td>1</td>\n",
       "      <td>1</td>\n",
       "      <td>1</td>\n",
       "      <td>1</td>\n",
       "      <td>2</td>\n",
       "      <td>3</td>\n",
       "      <td>1</td>\n",
       "    </tr>\n",
       "  </tbody>\n",
       "</table>\n",
       "</div>"
      ],
      "text/plain": [
       "   brown  in  quick  is  blue  fox  hat  the  cat\n",
       "0      1   1      1   1     1    1    2    3    1"
      ]
     },
     "execution_count": 5,
     "metadata": {},
     "output_type": "execute_result"
    }
   ],
   "source": [
    "df_df = pd.DataFrame(columns=list(wrds)) #empty dataframe initialized with words column headers\n",
    "for c in df_df.columns:\n",
    "    df_df[c] = [sum(1 for doc in Docs if c in doc.lower().split(' '))]\n",
    "df_df #display the dataframe of DF for each word "
   ]
  },
  {
   "cell_type": "markdown",
   "id": "ac4a1860",
   "metadata": {
    "papermill": {
     "duration": 0.009692,
     "end_time": "2024-02-10T17:48:57.035400",
     "exception": false,
     "start_time": "2024-02-10T17:48:57.025708",
     "status": "completed"
    },
    "tags": []
   },
   "source": [
    "**Inverse Document Frequency (IDF)**\n",
    "* **IDF(t,D) is the inverse document frequency of term t in the entire document set D (logarithmically scaled inverse fraction of the documents that contain the term).*** **IDF(t,D) is the inverse document frequency of term t in the entire document set D (logarithmically scaled inverse fraction of the documents that contain the term).**"
   ]
  },
  {
   "cell_type": "code",
   "execution_count": 6,
   "id": "5424cd60",
   "metadata": {
    "execution": {
     "iopub.execute_input": "2024-02-10T17:48:57.056362Z",
     "iopub.status.busy": "2024-02-10T17:48:57.055399Z",
     "iopub.status.idle": "2024-02-10T17:48:57.077768Z",
     "shell.execute_reply": "2024-02-10T17:48:57.076605Z"
    },
    "papermill": {
     "duration": 0.035878,
     "end_time": "2024-02-10T17:48:57.080479",
     "exception": false,
     "start_time": "2024-02-10T17:48:57.044601",
     "status": "completed"
    },
    "tags": []
   },
   "outputs": [
    {
     "data": {
      "text/html": [
       "<div>\n",
       "<style scoped>\n",
       "    .dataframe tbody tr th:only-of-type {\n",
       "        vertical-align: middle;\n",
       "    }\n",
       "\n",
       "    .dataframe tbody tr th {\n",
       "        vertical-align: top;\n",
       "    }\n",
       "\n",
       "    .dataframe thead th {\n",
       "        text-align: right;\n",
       "    }\n",
       "</style>\n",
       "<table border=\"1\" class=\"dataframe\">\n",
       "  <thead>\n",
       "    <tr style=\"text-align: right;\">\n",
       "      <th></th>\n",
       "      <th>brown</th>\n",
       "      <th>in</th>\n",
       "      <th>quick</th>\n",
       "      <th>is</th>\n",
       "      <th>blue</th>\n",
       "      <th>fox</th>\n",
       "      <th>hat</th>\n",
       "      <th>the</th>\n",
       "      <th>cat</th>\n",
       "    </tr>\n",
       "  </thead>\n",
       "  <tbody>\n",
       "    <tr>\n",
       "      <th>0</th>\n",
       "      <td>1.693147</td>\n",
       "      <td>1.693147</td>\n",
       "      <td>1.693147</td>\n",
       "      <td>1.693147</td>\n",
       "      <td>1.693147</td>\n",
       "      <td>1.693147</td>\n",
       "      <td>1.287682</td>\n",
       "      <td>1.0</td>\n",
       "      <td>1.693147</td>\n",
       "    </tr>\n",
       "  </tbody>\n",
       "</table>\n",
       "</div>"
      ],
      "text/plain": [
       "      brown        in     quick        is      blue       fox       hat  the  \\\n",
       "0  1.693147  1.693147  1.693147  1.693147  1.693147  1.693147  1.287682  1.0   \n",
       "\n",
       "        cat  \n",
       "0  1.693147  "
      ]
     },
     "execution_count": 6,
     "metadata": {},
     "output_type": "execute_result"
    }
   ],
   "source": [
    "idf_df = pd.DataFrame(columns=list(wrds)) #empty dataframe initialized with words column headers\n",
    "for c in idf_df.columns:\n",
    "    N = 3 #No of documents\n",
    "    df = df_df[c].iloc[0] # DF of word\n",
    "    idf_df[c] = [math.log((N+1) / (df+1))+1]#IDF = log (no. of documents/DF(word)) \n",
    "idf_df #display the dataframe of idf for each word "
   ]
  },
  {
   "cell_type": "markdown",
   "id": "d6e915d8",
   "metadata": {
    "papermill": {
     "duration": 0.009353,
     "end_time": "2024-02-10T17:48:57.099058",
     "exception": false,
     "start_time": "2024-02-10T17:48:57.089705",
     "status": "completed"
    },
    "tags": []
   },
   "source": [
    "**Term Frequency - Inverse Document Frequency (TF-IDF)= TF * IDF**"
   ]
  },
  {
   "cell_type": "code",
   "execution_count": 7,
   "id": "4aecb8fa",
   "metadata": {
    "execution": {
     "iopub.execute_input": "2024-02-10T17:48:57.120131Z",
     "iopub.status.busy": "2024-02-10T17:48:57.119207Z",
     "iopub.status.idle": "2024-02-10T17:48:57.142502Z",
     "shell.execute_reply": "2024-02-10T17:48:57.141220Z"
    },
    "papermill": {
     "duration": 0.036918,
     "end_time": "2024-02-10T17:48:57.145147",
     "exception": false,
     "start_time": "2024-02-10T17:48:57.108229",
     "status": "completed"
    },
    "tags": []
   },
   "outputs": [
    {
     "data": {
      "text/html": [
       "<div>\n",
       "<style scoped>\n",
       "    .dataframe tbody tr th:only-of-type {\n",
       "        vertical-align: middle;\n",
       "    }\n",
       "\n",
       "    .dataframe tbody tr th {\n",
       "        vertical-align: top;\n",
       "    }\n",
       "\n",
       "    .dataframe thead th {\n",
       "        text-align: right;\n",
       "    }\n",
       "</style>\n",
       "<table border=\"1\" class=\"dataframe\">\n",
       "  <thead>\n",
       "    <tr style=\"text-align: right;\">\n",
       "      <th></th>\n",
       "      <th>brown</th>\n",
       "      <th>in</th>\n",
       "      <th>quick</th>\n",
       "      <th>is</th>\n",
       "      <th>blue</th>\n",
       "      <th>fox</th>\n",
       "      <th>hat</th>\n",
       "      <th>the</th>\n",
       "      <th>cat</th>\n",
       "    </tr>\n",
       "  </thead>\n",
       "  <tbody>\n",
       "    <tr>\n",
       "      <th>0</th>\n",
       "      <td>0.000000</td>\n",
       "      <td>0.338629</td>\n",
       "      <td>0.000000</td>\n",
       "      <td>0.000000</td>\n",
       "      <td>0.000000</td>\n",
       "      <td>0.000000</td>\n",
       "      <td>0.257536</td>\n",
       "      <td>0.40</td>\n",
       "      <td>0.338629</td>\n",
       "    </tr>\n",
       "    <tr>\n",
       "      <th>1</th>\n",
       "      <td>0.423287</td>\n",
       "      <td>0.000000</td>\n",
       "      <td>0.423287</td>\n",
       "      <td>0.000000</td>\n",
       "      <td>0.000000</td>\n",
       "      <td>0.423287</td>\n",
       "      <td>0.000000</td>\n",
       "      <td>0.25</td>\n",
       "      <td>0.000000</td>\n",
       "    </tr>\n",
       "    <tr>\n",
       "      <th>2</th>\n",
       "      <td>0.000000</td>\n",
       "      <td>0.000000</td>\n",
       "      <td>0.000000</td>\n",
       "      <td>0.423287</td>\n",
       "      <td>0.423287</td>\n",
       "      <td>0.000000</td>\n",
       "      <td>0.321921</td>\n",
       "      <td>0.25</td>\n",
       "      <td>0.000000</td>\n",
       "    </tr>\n",
       "  </tbody>\n",
       "</table>\n",
       "</div>"
      ],
      "text/plain": [
       "      brown        in     quick        is      blue       fox       hat   the  \\\n",
       "0  0.000000  0.338629  0.000000  0.000000  0.000000  0.000000  0.257536  0.40   \n",
       "1  0.423287  0.000000  0.423287  0.000000  0.000000  0.423287  0.000000  0.25   \n",
       "2  0.000000  0.000000  0.000000  0.423287  0.423287  0.000000  0.321921  0.25   \n",
       "\n",
       "        cat  \n",
       "0  0.338629  \n",
       "1  0.000000  \n",
       "2  0.000000  "
      ]
     },
     "execution_count": 7,
     "metadata": {},
     "output_type": "execute_result"
    }
   ],
   "source": [
    "tfidf_df = pd.DataFrame(columns=list(wrds)) #empty dataframe initialized with words column headers\n",
    "tfidf_lst=[]  #empty list for each column \n",
    "for c in tfidf_df.columns:\n",
    "    tfidf_lst=[] #empty list for each column\n",
    "    for i in range(0,len(Docs)):\n",
    "        tf_idf_d1 = tf_df[c].iloc[i]*idf_df[c].iloc[0] #append tf of word in i th document to idf of word\n",
    "        tfidf_lst.append(tf_idf_d1)\n",
    "    tfidf_df[c]=tfidf_lst#assign tfidf values for each word\n",
    "tfidf_df #display the dataframe of tf-idf for all words"
   ]
  },
  {
   "cell_type": "markdown",
   "id": "2dce19a1",
   "metadata": {
    "papermill": {
     "duration": 0.009061,
     "end_time": "2024-02-10T17:48:57.163582",
     "exception": false,
     "start_time": "2024-02-10T17:48:57.154521",
     "status": "completed"
    },
    "tags": []
   },
   "source": [
    "**L2 Normalization**\n",
    "* **L2 normalization, also known as Euclidean normalization or L2 norm normalization, is a technique used to scale vectors (or arrays) in such a way that their Euclidean norm becomes equal to 1.**"
   ]
  },
  {
   "cell_type": "code",
   "execution_count": 8,
   "id": "c6daeddd",
   "metadata": {
    "execution": {
     "iopub.execute_input": "2024-02-10T17:48:57.185987Z",
     "iopub.status.busy": "2024-02-10T17:48:57.185030Z",
     "iopub.status.idle": "2024-02-10T17:48:57.217913Z",
     "shell.execute_reply": "2024-02-10T17:48:57.216467Z"
    },
    "papermill": {
     "duration": 0.047348,
     "end_time": "2024-02-10T17:48:57.220883",
     "exception": false,
     "start_time": "2024-02-10T17:48:57.173535",
     "status": "completed"
    },
    "tags": []
   },
   "outputs": [
    {
     "data": {
      "text/html": [
       "<div>\n",
       "<style scoped>\n",
       "    .dataframe tbody tr th:only-of-type {\n",
       "        vertical-align: middle;\n",
       "    }\n",
       "\n",
       "    .dataframe tbody tr th {\n",
       "        vertical-align: top;\n",
       "    }\n",
       "\n",
       "    .dataframe thead th {\n",
       "        text-align: right;\n",
       "    }\n",
       "</style>\n",
       "<table border=\"1\" class=\"dataframe\">\n",
       "  <thead>\n",
       "    <tr style=\"text-align: right;\">\n",
       "      <th></th>\n",
       "      <th>brown</th>\n",
       "      <th>in</th>\n",
       "      <th>quick</th>\n",
       "      <th>is</th>\n",
       "      <th>blue</th>\n",
       "      <th>fox</th>\n",
       "      <th>hat</th>\n",
       "      <th>the</th>\n",
       "      <th>cat</th>\n",
       "    </tr>\n",
       "  </thead>\n",
       "  <tbody>\n",
       "    <tr>\n",
       "      <th>0</th>\n",
       "      <td>0.000000</td>\n",
       "      <td>0.501651</td>\n",
       "      <td>0.000000</td>\n",
       "      <td>0.000000</td>\n",
       "      <td>0.000000</td>\n",
       "      <td>0.000000</td>\n",
       "      <td>0.381519</td>\n",
       "      <td>0.592567</td>\n",
       "      <td>0.501651</td>\n",
       "    </tr>\n",
       "    <tr>\n",
       "      <th>1</th>\n",
       "      <td>0.546454</td>\n",
       "      <td>0.000000</td>\n",
       "      <td>0.546454</td>\n",
       "      <td>0.000000</td>\n",
       "      <td>0.000000</td>\n",
       "      <td>0.546454</td>\n",
       "      <td>0.000000</td>\n",
       "      <td>0.322745</td>\n",
       "      <td>0.000000</td>\n",
       "    </tr>\n",
       "    <tr>\n",
       "      <th>2</th>\n",
       "      <td>0.000000</td>\n",
       "      <td>0.000000</td>\n",
       "      <td>0.000000</td>\n",
       "      <td>0.584483</td>\n",
       "      <td>0.584483</td>\n",
       "      <td>0.000000</td>\n",
       "      <td>0.444514</td>\n",
       "      <td>0.345205</td>\n",
       "      <td>0.000000</td>\n",
       "    </tr>\n",
       "  </tbody>\n",
       "</table>\n",
       "</div>"
      ],
      "text/plain": [
       "      brown        in     quick        is      blue       fox       hat  \\\n",
       "0  0.000000  0.501651  0.000000  0.000000  0.000000  0.000000  0.381519   \n",
       "1  0.546454  0.000000  0.546454  0.000000  0.000000  0.546454  0.000000   \n",
       "2  0.000000  0.000000  0.000000  0.584483  0.584483  0.000000  0.444514   \n",
       "\n",
       "        the       cat  \n",
       "0  0.592567  0.501651  \n",
       "1  0.322745  0.000000  \n",
       "2  0.345205  0.000000  "
      ]
     },
     "execution_count": 8,
     "metadata": {},
     "output_type": "execute_result"
    }
   ],
   "source": [
    "normalized_df = pd.DataFrame(columns=tfidf_df.columns)\n",
    "\n",
    "# Apply L2 normalization to each document's TF-IDF values\n",
    "for i,row in enumerate(tfidf_df.iterrows()):\n",
    "    # Extract TF-IDF values    \n",
    "    tfidf_values_list = list(tfidf_df.iloc[i].values)\n",
    "    # Calculate L2 norm\n",
    "    l2_norm = math.sqrt(sum(val**2 for val in tfidf_values_list))\n",
    "    # Normalize TF-IDF values using L2 norm\n",
    "    normalized_tfidf = [val / l2_norm for val in list(tfidf_df.iloc[i].values)]\n",
    "    new_row = pd.Series(normalized_tfidf, index=tfidf_df.columns)\n",
    "    normalized_df.loc[len(normalized_df)] = new_row\n",
    "    \n",
    "normalized_df"
   ]
  },
  {
   "cell_type": "markdown",
   "id": "f4d9bba1",
   "metadata": {
    "papermill": {
     "duration": 0.009968,
     "end_time": "2024-02-10T17:48:57.240555",
     "exception": false,
     "start_time": "2024-02-10T17:48:57.230587",
     "status": "completed"
    },
    "tags": []
   },
   "source": [
    "**TfidfVectorizer Python Library**"
   ]
  },
  {
   "cell_type": "code",
   "execution_count": 9,
   "id": "de91b144",
   "metadata": {
    "execution": {
     "iopub.execute_input": "2024-02-10T17:48:57.261872Z",
     "iopub.status.busy": "2024-02-10T17:48:57.261317Z",
     "iopub.status.idle": "2024-02-10T17:48:57.295331Z",
     "shell.execute_reply": "2024-02-10T17:48:57.294033Z"
    },
    "papermill": {
     "duration": 0.048286,
     "end_time": "2024-02-10T17:48:57.298329",
     "exception": false,
     "start_time": "2024-02-10T17:48:57.250043",
     "status": "completed"
    },
    "tags": []
   },
   "outputs": [
    {
     "data": {
      "text/html": [
       "<div>\n",
       "<style scoped>\n",
       "    .dataframe tbody tr th:only-of-type {\n",
       "        vertical-align: middle;\n",
       "    }\n",
       "\n",
       "    .dataframe tbody tr th {\n",
       "        vertical-align: top;\n",
       "    }\n",
       "\n",
       "    .dataframe thead th {\n",
       "        text-align: right;\n",
       "    }\n",
       "</style>\n",
       "<table border=\"1\" class=\"dataframe\">\n",
       "  <thead>\n",
       "    <tr style=\"text-align: right;\">\n",
       "      <th></th>\n",
       "      <th>blue</th>\n",
       "      <th>brown</th>\n",
       "      <th>cat</th>\n",
       "      <th>fox</th>\n",
       "      <th>hat</th>\n",
       "      <th>in</th>\n",
       "      <th>is</th>\n",
       "      <th>quick</th>\n",
       "      <th>the</th>\n",
       "    </tr>\n",
       "  </thead>\n",
       "  <tbody>\n",
       "    <tr>\n",
       "      <th>0</th>\n",
       "      <td>0.000000</td>\n",
       "      <td>0.000000</td>\n",
       "      <td>0.501651</td>\n",
       "      <td>0.000000</td>\n",
       "      <td>0.381519</td>\n",
       "      <td>0.501651</td>\n",
       "      <td>0.000000</td>\n",
       "      <td>0.000000</td>\n",
       "      <td>0.592567</td>\n",
       "    </tr>\n",
       "    <tr>\n",
       "      <th>1</th>\n",
       "      <td>0.000000</td>\n",
       "      <td>0.546454</td>\n",
       "      <td>0.000000</td>\n",
       "      <td>0.546454</td>\n",
       "      <td>0.000000</td>\n",
       "      <td>0.000000</td>\n",
       "      <td>0.000000</td>\n",
       "      <td>0.546454</td>\n",
       "      <td>0.322745</td>\n",
       "    </tr>\n",
       "    <tr>\n",
       "      <th>2</th>\n",
       "      <td>0.584483</td>\n",
       "      <td>0.000000</td>\n",
       "      <td>0.000000</td>\n",
       "      <td>0.000000</td>\n",
       "      <td>0.444514</td>\n",
       "      <td>0.000000</td>\n",
       "      <td>0.584483</td>\n",
       "      <td>0.000000</td>\n",
       "      <td>0.345205</td>\n",
       "    </tr>\n",
       "  </tbody>\n",
       "</table>\n",
       "</div>"
      ],
      "text/plain": [
       "       blue     brown       cat       fox       hat        in        is  \\\n",
       "0  0.000000  0.000000  0.501651  0.000000  0.381519  0.501651  0.000000   \n",
       "1  0.000000  0.546454  0.000000  0.546454  0.000000  0.000000  0.000000   \n",
       "2  0.584483  0.000000  0.000000  0.000000  0.444514  0.000000  0.584483   \n",
       "\n",
       "      quick       the  \n",
       "0  0.000000  0.592567  \n",
       "1  0.546454  0.322745  \n",
       "2  0.000000  0.345205  "
      ]
     },
     "execution_count": 9,
     "metadata": {},
     "output_type": "execute_result"
    }
   ],
   "source": [
    "# Create the TF-IDF vectorizer\n",
    "tfidf_vectorizer = TfidfVectorizer(norm='l2',smooth_idf=True)\n",
    "\n",
    "# Fit the documents and transform them into a TF-IDF matrix\n",
    "tfidf_matrix = tfidf_vectorizer.fit_transform(Docs)\n",
    "\n",
    "# Get the feature names (terms) from the vectorizer\n",
    "feature_names = tfidf_vectorizer.get_feature_names_out()\n",
    "\n",
    "df_tfidf = pd.DataFrame(data=tfidf_matrix.toarray(), columns=feature_names)\n",
    "df_tfidf"
   ]
  },
  {
   "cell_type": "markdown",
   "id": "2cec4d0b",
   "metadata": {
    "_kg_hide-input": true,
    "papermill": {
     "duration": 0.009973,
     "end_time": "2024-02-10T17:48:57.318381",
     "exception": false,
     "start_time": "2024-02-10T17:48:57.308408",
     "status": "completed"
    },
    "tags": []
   },
   "source": [
    "* **The TfidfVectorizer in scikit-learn, by default, adds a smoothing term to the denominator of the IDF calculation to avoid division by zero. This is done to handle the case where a term is present in all documents, ensuring that the IDF is not undefined.**\n",
    "* **L2 normalization, also known as Euclidean normalization or L2 norm normalization, is a technique used to scale vectors (or arrays) in such a way that their Euclidean norm becomes equal to 1.**"
   ]
  },
  {
   "cell_type": "markdown",
   "id": "0e3bc838",
   "metadata": {
    "papermill": {
     "duration": 0.0093,
     "end_time": "2024-02-10T17:48:57.337563",
     "exception": false,
     "start_time": "2024-02-10T17:48:57.328263",
     "status": "completed"
    },
    "tags": []
   },
   "source": [
    "# Unigram\n",
    "* **A unigram, in the context of natural language processing (NLP) and linguistics, refers to a single unit or token of a word. It is the simplest form of linguistic analysis where text is broken down into individual words. In other words, a unigram is a term used to describe a single word in a sequence of words.**\n",
    "* **Unigrams are the building blocks for more complex linguistic analyses, such as bigrams (pairs of consecutive words), trigrams (triplets of consecutive words), and n-grams in general.*** **A unigram, in the context of natural language processing (NLP) and linguistics, refers to a single unit or token of a word. It is the simplest form of linguistic analysis where text is broken down into individual words. In other words, a unigram is a term used to describe a single word in a sequence of words.**\n",
    "* **Unigrams are the building blocks for more complex linguistic analyses, such as bigrams (pairs of consecutive words), trigrams (triplets of consecutive words), and n-grams in general.**"
   ]
  },
  {
   "cell_type": "code",
   "execution_count": 10,
   "id": "894d4eae",
   "metadata": {
    "execution": {
     "iopub.execute_input": "2024-02-10T17:48:57.359834Z",
     "iopub.status.busy": "2024-02-10T17:48:57.358933Z",
     "iopub.status.idle": "2024-02-10T17:48:57.379928Z",
     "shell.execute_reply": "2024-02-10T17:48:57.378260Z"
    },
    "papermill": {
     "duration": 0.03578,
     "end_time": "2024-02-10T17:48:57.383072",
     "exception": false,
     "start_time": "2024-02-10T17:48:57.347292",
     "status": "completed"
    },
    "tags": []
   },
   "outputs": [
    {
     "data": {
      "text/html": [
       "<div>\n",
       "<style scoped>\n",
       "    .dataframe tbody tr th:only-of-type {\n",
       "        vertical-align: middle;\n",
       "    }\n",
       "\n",
       "    .dataframe tbody tr th {\n",
       "        vertical-align: top;\n",
       "    }\n",
       "\n",
       "    .dataframe thead th {\n",
       "        text-align: right;\n",
       "    }\n",
       "</style>\n",
       "<table border=\"1\" class=\"dataframe\">\n",
       "  <thead>\n",
       "    <tr style=\"text-align: right;\">\n",
       "      <th></th>\n",
       "      <th>brown</th>\n",
       "      <th>in</th>\n",
       "      <th>quick</th>\n",
       "      <th>is</th>\n",
       "      <th>blue</th>\n",
       "      <th>fox</th>\n",
       "      <th>hat</th>\n",
       "      <th>the</th>\n",
       "      <th>cat</th>\n",
       "    </tr>\n",
       "  </thead>\n",
       "  <tbody>\n",
       "    <tr>\n",
       "      <th>0</th>\n",
       "      <td>0</td>\n",
       "      <td>1</td>\n",
       "      <td>0</td>\n",
       "      <td>0</td>\n",
       "      <td>0</td>\n",
       "      <td>0</td>\n",
       "      <td>1</td>\n",
       "      <td>2</td>\n",
       "      <td>1</td>\n",
       "    </tr>\n",
       "    <tr>\n",
       "      <th>1</th>\n",
       "      <td>1</td>\n",
       "      <td>0</td>\n",
       "      <td>1</td>\n",
       "      <td>0</td>\n",
       "      <td>0</td>\n",
       "      <td>1</td>\n",
       "      <td>0</td>\n",
       "      <td>1</td>\n",
       "      <td>0</td>\n",
       "    </tr>\n",
       "    <tr>\n",
       "      <th>2</th>\n",
       "      <td>0</td>\n",
       "      <td>0</td>\n",
       "      <td>0</td>\n",
       "      <td>1</td>\n",
       "      <td>1</td>\n",
       "      <td>0</td>\n",
       "      <td>1</td>\n",
       "      <td>1</td>\n",
       "      <td>0</td>\n",
       "    </tr>\n",
       "  </tbody>\n",
       "</table>\n",
       "</div>"
      ],
      "text/plain": [
       "   brown  in  quick  is  blue  fox  hat  the  cat\n",
       "0      0   1      0   0     0    0    1    2    1\n",
       "1      1   0      1   0     0    1    0    1    0\n",
       "2      0   0      0   1     1    0    1    1    0"
      ]
     },
     "execution_count": 10,
     "metadata": {},
     "output_type": "execute_result"
    }
   ],
   "source": [
    "#Probability of unigram P(w)=C(w)/m same idea of TF\n",
    "def count_wrd_Doc(wrd,doc):\n",
    "    i=0\n",
    "    for w in doc.lower().split(' '):\n",
    "        if wrd == w:\n",
    "            i = i+1\n",
    "    return i\n",
    "    \n",
    "unigram_df = pd.DataFrame(columns=list(wrds)) #empty dataframe initialized with words column headers\n",
    "freq_lst=[] #empty list for each column to save word frequencies in each document\n",
    "for c in tf_df.columns:\n",
    "    freq_lst=[]#empty the list\n",
    "    for d in Docs:\n",
    "        freq_lst.append(count_wrd_Doc(c,d))#append the frequency of word in document d\n",
    "    unigram_df[c]=freq_lst #assign values to column\n",
    "unigram_df #display the dataframe of TF for each word in each document"
   ]
  },
  {
   "cell_type": "markdown",
   "id": "62672972",
   "metadata": {
    "papermill": {
     "duration": 0.010503,
     "end_time": "2024-02-10T17:48:57.404251",
     "exception": false,
     "start_time": "2024-02-10T17:48:57.393748",
     "status": "completed"
    },
    "tags": []
   },
   "source": [
    "**Unigrams python function**"
   ]
  },
  {
   "cell_type": "code",
   "execution_count": 11,
   "id": "4f20011c",
   "metadata": {
    "execution": {
     "iopub.execute_input": "2024-02-10T17:48:57.517028Z",
     "iopub.status.busy": "2024-02-10T17:48:57.516139Z",
     "iopub.status.idle": "2024-02-10T17:48:57.537409Z",
     "shell.execute_reply": "2024-02-10T17:48:57.536186Z"
    },
    "papermill": {
     "duration": 0.036655,
     "end_time": "2024-02-10T17:48:57.540233",
     "exception": false,
     "start_time": "2024-02-10T17:48:57.503578",
     "status": "completed"
    },
    "tags": []
   },
   "outputs": [
    {
     "name": "stdout",
     "output_type": "stream",
     "text": [
      "('the',): 2\n",
      "('cat',): 1\n",
      "('in',): 1\n",
      "('hat',): 1\n",
      "('the',): 1\n",
      "('quick',): 1\n",
      "('brown',): 1\n",
      "('fox',): 1\n",
      "('the',): 1\n",
      "('hat',): 1\n",
      "('is',): 1\n",
      "('blue',): 1\n"
     ]
    }
   ],
   "source": [
    "for d in Docs:\n",
    "    words = word_tokenize(d.lower())\n",
    "    result = list(ngrams(words, 1))\n",
    "    # Calculate frequency distribution of bigrams\n",
    "    ngram_freq = FreqDist(result)\n",
    "    for word, frequency in ngram_freq.items():\n",
    "        print(f\"{word}: {frequency}\")"
   ]
  },
  {
   "cell_type": "markdown",
   "id": "cfb8337d",
   "metadata": {
    "papermill": {
     "duration": 0.010198,
     "end_time": "2024-02-10T17:48:57.561534",
     "exception": false,
     "start_time": "2024-02-10T17:48:57.551336",
     "status": "completed"
    },
    "tags": []
   },
   "source": [
    "**Bigram**\n",
    "* **A bigram, in the context of natural language processing (NLP) and linguistics, refers to an ordered pair of consecutive words within a text or sequence of words. It is a type of n-gram, where \"n\" represents the number of words in the sequence.*** **A bigram, in the context of natural language processing (NLP) and linguistics, refers to an ordered pair of consecutive words within a text or sequence of words. It is a type of n-gram, where \"n\" represents the number of words in the sequence.**"
   ]
  },
  {
   "cell_type": "code",
   "execution_count": 12,
   "id": "417d38c5",
   "metadata": {
    "execution": {
     "iopub.execute_input": "2024-02-10T17:48:57.585640Z",
     "iopub.status.busy": "2024-02-10T17:48:57.584381Z",
     "iopub.status.idle": "2024-02-10T17:48:57.616576Z",
     "shell.execute_reply": "2024-02-10T17:48:57.615280Z"
    },
    "papermill": {
     "duration": 0.047506,
     "end_time": "2024-02-10T17:48:57.619316",
     "exception": false,
     "start_time": "2024-02-10T17:48:57.571810",
     "status": "completed"
    },
    "tags": []
   },
   "outputs": [
    {
     "data": {
      "text/html": [
       "<div>\n",
       "<style scoped>\n",
       "    .dataframe tbody tr th:only-of-type {\n",
       "        vertical-align: middle;\n",
       "    }\n",
       "\n",
       "    .dataframe tbody tr th {\n",
       "        vertical-align: top;\n",
       "    }\n",
       "\n",
       "    .dataframe thead th {\n",
       "        text-align: right;\n",
       "    }\n",
       "</style>\n",
       "<table border=\"1\" class=\"dataframe\">\n",
       "  <thead>\n",
       "    <tr style=\"text-align: right;\">\n",
       "      <th></th>\n",
       "      <th>the cat</th>\n",
       "      <th>cat in</th>\n",
       "      <th>in the</th>\n",
       "      <th>the hat</th>\n",
       "      <th>the quick</th>\n",
       "      <th>quick brown</th>\n",
       "      <th>brown fox</th>\n",
       "      <th>the hat</th>\n",
       "      <th>hat is</th>\n",
       "      <th>is blue</th>\n",
       "    </tr>\n",
       "  </thead>\n",
       "  <tbody>\n",
       "    <tr>\n",
       "      <th>0</th>\n",
       "      <td>1</td>\n",
       "      <td>1</td>\n",
       "      <td>1</td>\n",
       "      <td>1</td>\n",
       "      <td>0</td>\n",
       "      <td>0</td>\n",
       "      <td>0</td>\n",
       "      <td>1</td>\n",
       "      <td>0</td>\n",
       "      <td>0</td>\n",
       "    </tr>\n",
       "    <tr>\n",
       "      <th>1</th>\n",
       "      <td>0</td>\n",
       "      <td>0</td>\n",
       "      <td>0</td>\n",
       "      <td>0</td>\n",
       "      <td>1</td>\n",
       "      <td>1</td>\n",
       "      <td>1</td>\n",
       "      <td>0</td>\n",
       "      <td>0</td>\n",
       "      <td>0</td>\n",
       "    </tr>\n",
       "    <tr>\n",
       "      <th>2</th>\n",
       "      <td>0</td>\n",
       "      <td>0</td>\n",
       "      <td>0</td>\n",
       "      <td>1</td>\n",
       "      <td>0</td>\n",
       "      <td>0</td>\n",
       "      <td>0</td>\n",
       "      <td>1</td>\n",
       "      <td>1</td>\n",
       "      <td>1</td>\n",
       "    </tr>\n",
       "  </tbody>\n",
       "</table>\n",
       "</div>"
      ],
      "text/plain": [
       "   the cat  cat in  in the  the hat  the quick  quick brown  brown fox  \\\n",
       "0        1       1       1        1          0            0          0   \n",
       "1        0       0       0        0          1            1          1   \n",
       "2        0       0       0        1          0            0          0   \n",
       "\n",
       "   the hat  hat is  is blue  \n",
       "0        1       0        0  \n",
       "1        0       0        0  \n",
       "2        1       1        1  "
      ]
     },
     "execution_count": 12,
     "metadata": {},
     "output_type": "execute_result"
    }
   ],
   "source": [
    "#get bi-grams of input sentence\n",
    "def bi_lst(doc):\n",
    "    wrds = doc.lower().split(' ')\n",
    "    bi_lst = []\n",
    "    for j in range(0,len(wrds)-1):\n",
    "        bi_lst.append(wrds[j:j+2])\n",
    "    return bi_lst\n",
    "\n",
    "lst = []\n",
    "for d in Docs:\n",
    "    lst.extend(bi_lst(d))\n",
    "unique_list = []\n",
    "unique_list = [item for item in lst if item not in unique_list]\n",
    "\n",
    "def count_biwrd_Doc(st,doc):\n",
    "    i=0    \n",
    "    for s in bi_lst(doc):\n",
    "        if s == st.split(' '):\n",
    "            i = i+1\n",
    "    return i\n",
    "bigram_df = pd.DataFrame(columns=list((' '.join(x) for x in unique_list))) #empty dataframe initialized with words column headers\n",
    "freq_lst=[] #empty list for each column to save word frequencies in each document\n",
    "for c in bigram_df.columns:\n",
    "    freq_lst=[]#empty the list\n",
    "    for d in Docs:\n",
    "        freq_lst.append(count_biwrd_Doc(c,d))#append the frequency of word in document d\n",
    "    bigram_df[c]=freq_lst #assign values to column\n",
    "bigram_df #display the dataframe of TF for each word in each document"
   ]
  },
  {
   "cell_type": "markdown",
   "id": "785c9834",
   "metadata": {
    "papermill": {
     "duration": 0.010459,
     "end_time": "2024-02-10T17:48:57.640214",
     "exception": false,
     "start_time": "2024-02-10T17:48:57.629755",
     "status": "completed"
    },
    "tags": []
   },
   "source": [
    "**Bigrams python function**"
   ]
  },
  {
   "cell_type": "code",
   "execution_count": 13,
   "id": "db9a8f99",
   "metadata": {
    "execution": {
     "iopub.execute_input": "2024-02-10T17:48:57.666398Z",
     "iopub.status.busy": "2024-02-10T17:48:57.665437Z",
     "iopub.status.idle": "2024-02-10T17:48:57.674076Z",
     "shell.execute_reply": "2024-02-10T17:48:57.672887Z"
    },
    "papermill": {
     "duration": 0.024138,
     "end_time": "2024-02-10T17:48:57.676872",
     "exception": false,
     "start_time": "2024-02-10T17:48:57.652734",
     "status": "completed"
    },
    "tags": []
   },
   "outputs": [
    {
     "name": "stdout",
     "output_type": "stream",
     "text": [
      "('the', 'cat'): 1\n",
      "('cat', 'in'): 1\n",
      "('in', 'the'): 1\n",
      "('the', 'hat'): 1\n",
      "('the', 'quick'): 1\n",
      "('quick', 'brown'): 1\n",
      "('brown', 'fox'): 1\n",
      "('the', 'hat'): 1\n",
      "('hat', 'is'): 1\n",
      "('is', 'blue'): 1\n"
     ]
    }
   ],
   "source": [
    "for d in Docs:\n",
    "    words = word_tokenize(d.lower())\n",
    "    result = list(ngrams(words, 2))\n",
    "    # Calculate frequency distribution of bigrams\n",
    "    ngram_freq = FreqDist(result)\n",
    "    for word, frequency in ngram_freq.items():\n",
    "        print(f\"{word}: {frequency}\")"
   ]
  },
  {
   "cell_type": "markdown",
   "id": "650074a1",
   "metadata": {
    "papermill": {
     "duration": 0.010489,
     "end_time": "2024-02-10T17:48:57.698207",
     "exception": false,
     "start_time": "2024-02-10T17:48:57.687718",
     "status": "completed"
    },
    "tags": []
   },
   "source": [
    "# Skip-gram & Continuous Bag of Words (CBOW)\n",
    "* These models use shallow neural networks to learn word embeddings. Skip-gram predicts context words given a target word, while CBOW predicts a target word given its context. These models use shallow neural networks to learn word embeddings. Skip-gram predicts context words given a target word, while CBOW predicts a target word given its context. "
   ]
  },
  {
   "cell_type": "markdown",
   "id": "dc5ec821",
   "metadata": {
    "papermill": {
     "duration": 0.010393,
     "end_time": "2024-02-10T17:48:57.719314",
     "exception": false,
     "start_time": "2024-02-10T17:48:57.708921",
     "status": "completed"
    },
    "tags": []
   },
   "source": [
    "**CBOW**\n",
    "* Objective: The main objective of CBOW is to predict a target word given its context (surrounding words). It learns to represent words in a continuous vector space based on their distributional semantics.\n",
    "* Architecture: CBOW uses a neural network with a single hidden layer. The input layer and output layer are typically equal to the size of the vocabulary, and the hidden layer has a much smaller dimension, often referred to as the embedding dimension.\n",
    "* Input and Output: The input to the CBOW model is a set of context words represented as one-hot vectors (binary vectors with a 1 at the index corresponding to the word's position in the vocabulary). The output is the target word's one-hot vector.\n",
    "* Context Window: The context window is a fixed-size window of surrounding words used to predict the target word. The model is trained to predict the target word based on the words within this context window."
   ]
  },
  {
   "cell_type": "code",
   "execution_count": 14,
   "id": "0cc27bfd",
   "metadata": {
    "execution": {
     "iopub.execute_input": "2024-02-10T17:48:57.743699Z",
     "iopub.status.busy": "2024-02-10T17:48:57.742836Z",
     "iopub.status.idle": "2024-02-10T17:48:57.762590Z",
     "shell.execute_reply": "2024-02-10T17:48:57.761557Z"
    },
    "papermill": {
     "duration": 0.03542,
     "end_time": "2024-02-10T17:48:57.765253",
     "exception": false,
     "start_time": "2024-02-10T17:48:57.729833",
     "status": "completed"
    },
    "tags": []
   },
   "outputs": [
    {
     "data": {
      "text/html": [
       "<div>\n",
       "<style scoped>\n",
       "    .dataframe tbody tr th:only-of-type {\n",
       "        vertical-align: middle;\n",
       "    }\n",
       "\n",
       "    .dataframe tbody tr th {\n",
       "        vertical-align: top;\n",
       "    }\n",
       "\n",
       "    .dataframe thead th {\n",
       "        text-align: right;\n",
       "    }\n",
       "</style>\n",
       "<table border=\"1\" class=\"dataframe\">\n",
       "  <thead>\n",
       "    <tr style=\"text-align: right;\">\n",
       "      <th></th>\n",
       "      <th>brown</th>\n",
       "      <th>in</th>\n",
       "      <th>quick</th>\n",
       "      <th>is</th>\n",
       "      <th>blue</th>\n",
       "      <th>fox</th>\n",
       "      <th>hat</th>\n",
       "      <th>the</th>\n",
       "      <th>cat</th>\n",
       "    </tr>\n",
       "  </thead>\n",
       "  <tbody>\n",
       "    <tr>\n",
       "      <th>0</th>\n",
       "      <td>0</td>\n",
       "      <td>1</td>\n",
       "      <td>0</td>\n",
       "      <td>0</td>\n",
       "      <td>0</td>\n",
       "      <td>0</td>\n",
       "      <td>1</td>\n",
       "      <td>2</td>\n",
       "      <td>1</td>\n",
       "    </tr>\n",
       "    <tr>\n",
       "      <th>1</th>\n",
       "      <td>1</td>\n",
       "      <td>0</td>\n",
       "      <td>1</td>\n",
       "      <td>0</td>\n",
       "      <td>0</td>\n",
       "      <td>1</td>\n",
       "      <td>0</td>\n",
       "      <td>1</td>\n",
       "      <td>0</td>\n",
       "    </tr>\n",
       "    <tr>\n",
       "      <th>2</th>\n",
       "      <td>0</td>\n",
       "      <td>0</td>\n",
       "      <td>0</td>\n",
       "      <td>1</td>\n",
       "      <td>1</td>\n",
       "      <td>0</td>\n",
       "      <td>1</td>\n",
       "      <td>1</td>\n",
       "      <td>0</td>\n",
       "    </tr>\n",
       "  </tbody>\n",
       "</table>\n",
       "</div>"
      ],
      "text/plain": [
       "   brown  in  quick  is  blue  fox  hat  the  cat\n",
       "0      0   1      0   0     0    0    1    2    1\n",
       "1      1   0      1   0     0    1    0    1    0\n",
       "2      0   0      0   1     1    0    1    1    0"
      ]
     },
     "execution_count": 14,
     "metadata": {},
     "output_type": "execute_result"
    }
   ],
   "source": [
    "def count_wrd_Doc(wrd,doc):\n",
    "    i=0\n",
    "    for w in doc.lower().split(' '):\n",
    "        if wrd == w:\n",
    "            i = i+1\n",
    "    return i\n",
    "    \n",
    "cw_df = pd.DataFrame(columns=list(wrds)) #empty dataframe initialized with words column headers\n",
    "freq_lst=[] #empty list for each column to save word frequencies in each document\n",
    "for c in tf_df.columns:\n",
    "    freq_lst=[]#empty the list\n",
    "    for d in Docs:\n",
    "        freq_lst.append(count_wrd_Doc(c,d))#append the frequency of word in document d\n",
    "    cw_df[c]=freq_lst #assign values to column\n",
    "cw_df #display the datafram"
   ]
  },
  {
   "cell_type": "code",
   "execution_count": 15,
   "id": "b35ca179",
   "metadata": {
    "execution": {
     "iopub.execute_input": "2024-02-10T17:48:57.789979Z",
     "iopub.status.busy": "2024-02-10T17:48:57.788621Z",
     "iopub.status.idle": "2024-02-10T17:48:57.799862Z",
     "shell.execute_reply": "2024-02-10T17:48:57.798527Z"
    },
    "papermill": {
     "duration": 0.026433,
     "end_time": "2024-02-10T17:48:57.802581",
     "exception": false,
     "start_time": "2024-02-10T17:48:57.776148",
     "status": "completed"
    },
    "tags": []
   },
   "outputs": [
    {
     "name": "stdout",
     "output_type": "stream",
     "text": [
      "Bag of Words representation:\n",
      "[[0 0 1 0 1 1 0 0 2]\n",
      " [0 1 0 1 0 0 0 1 1]\n",
      " [1 0 0 0 1 0 1 0 1]]\n",
      "Feature names:\n",
      "['blue' 'brown' 'cat' 'fox' 'hat' 'in' 'is' 'quick' 'the']\n"
     ]
    }
   ],
   "source": [
    "# Create a CountVectorizer instance\n",
    "vectorizer = CountVectorizer()\n",
    "\n",
    "# Fit and transform the documents to create the Bag of Words representation\n",
    "X_bow = vectorizer.fit_transform(Docs)\n",
    "feature_names = vectorizer.get_feature_names_out()\n",
    "# Print the Bag of Words representation\n",
    "print(\"Bag of Words representation:\")\n",
    "print(X_bow.toarray())\n",
    "print(\"Feature names:\")\n",
    "print(feature_names)"
   ]
  },
  {
   "cell_type": "markdown",
   "id": "e53e8837",
   "metadata": {
    "papermill": {
     "duration": 0.010907,
     "end_time": "2024-02-10T17:48:57.824429",
     "exception": false,
     "start_time": "2024-02-10T17:48:57.813522",
     "status": "completed"
    },
    "tags": []
   },
   "source": [
    "**Skip-Grams**\n",
    "* **Objective:** The main objective of the Skip-gram model is to learn distributed representations (word embeddings) of words in a continuous vector space. It does so by predicting the context words based on a given target word.\n",
    "* **Architecture:** Skip-gram uses a neural network with a single hidden layer. The input layer and output layer are typically equal to the size of the vocabulary, and the hidden layer has a much smaller dimension, often referred to as the embedding dimension.\n",
    "* **Input and Output:** The input to the Skip-gram model is a one-hot vector representing a target word (the word for which embeddings are being learned). The output is a probability distribution over the vocabulary, representing the likelihood of each word being a context word.\n",
    "* **Context Window:** During training, a context window is defined around the target word. The context words within this window are used to predict the target word. The context window provides local context information for each target word.\n",
    "* **Training Objective:** Skip-gram is trained using a supervised learning approach. The model aims to minimize the cross-entropy loss between the predicted probability distribution over the vocabulary and the actual distribution (one-hot vector of the true context word)."
   ]
  },
  {
   "cell_type": "code",
   "execution_count": 16,
   "id": "b97d32d3",
   "metadata": {
    "execution": {
     "iopub.execute_input": "2024-02-10T17:48:57.849581Z",
     "iopub.status.busy": "2024-02-10T17:48:57.848740Z",
     "iopub.status.idle": "2024-02-10T17:48:57.859260Z",
     "shell.execute_reply": "2024-02-10T17:48:57.857740Z"
    },
    "papermill": {
     "duration": 0.026285,
     "end_time": "2024-02-10T17:48:57.862426",
     "exception": false,
     "start_time": "2024-02-10T17:48:57.836141",
     "status": "completed"
    },
    "tags": []
   },
   "outputs": [
    {
     "name": "stdout",
     "output_type": "stream",
     "text": [
      "document: the cat in the hat\n",
      "target: the\n",
      "context words ['cat', 'in', 'the'] ,window_size 3\n",
      "----------------------------------------\n",
      "document: the cat in the hat\n",
      "target: cat\n",
      "context words ['the', 'in', 'the', 'hat'] ,window_size 3\n",
      "----------------------------------------\n",
      "document: the cat in the hat\n",
      "target: in\n",
      "context words ['the', 'cat', 'the', 'hat'] ,window_size 3\n",
      "----------------------------------------\n",
      "document: the cat in the hat\n",
      "target: the\n",
      "context words ['the', 'cat', 'in', 'hat'] ,window_size 3\n",
      "----------------------------------------\n",
      "document: the cat in the hat\n",
      "target: hat\n",
      "context words ['cat', 'in', 'the'] ,window_size 3\n",
      "----------------------------------------\n",
      "document: the quick brown fox\n",
      "target: the\n",
      "context words ['quick', 'brown', 'fox'] ,window_size 3\n",
      "----------------------------------------\n",
      "document: the quick brown fox\n",
      "target: quick\n",
      "context words ['the', 'brown', 'fox'] ,window_size 3\n",
      "----------------------------------------\n",
      "document: the quick brown fox\n",
      "target: brown\n",
      "context words ['the', 'quick', 'fox'] ,window_size 3\n",
      "----------------------------------------\n",
      "document: the quick brown fox\n",
      "target: fox\n",
      "context words ['the', 'quick', 'brown'] ,window_size 3\n",
      "----------------------------------------\n",
      "document: the hat is blue\n",
      "target: the\n",
      "context words ['hat', 'is', 'blue'] ,window_size 3\n",
      "----------------------------------------\n",
      "document: the hat is blue\n",
      "target: hat\n",
      "context words ['the', 'is', 'blue'] ,window_size 3\n",
      "----------------------------------------\n",
      "document: the hat is blue\n",
      "target: is\n",
      "context words ['the', 'hat', 'blue'] ,window_size 3\n",
      "----------------------------------------\n",
      "document: the hat is blue\n",
      "target: blue\n",
      "context words ['the', 'hat', 'is'] ,window_size 3\n",
      "----------------------------------------\n"
     ]
    }
   ],
   "source": [
    "# Generate training pairs (target word, context word)\n",
    "window_size = 3# the window specifies the context words size neigbored the target word \n",
    "training_pairs = []\n",
    "context_words = []#the context words for w=3 i-3,i-2,i-1,i+1,i+2,i+3\n",
    "for d in Docs:\n",
    "    t=[]\n",
    "    c=[]\n",
    "    for i, target_word in enumerate(d.lower().split(' ')):\n",
    "        start = max(0, i - window_size)\n",
    "        end = min(len(d.lower().split(' ')), i + window_size + 1)\n",
    "        c = [d.lower().split(' ')[j] for j in range(start, end) if j != i]\n",
    "        for context_word in c:\n",
    "            t.append((target_word, context_word))\n",
    "        print(\"document:\",d.lower())\n",
    "        print(\"target:\",target_word)\n",
    "        print(\"context words\",c,\",window_size\",window_size)\n",
    "        print(\"----------------------------------------\")\n",
    "    training_pairs.append(t)    "
   ]
  },
  {
   "cell_type": "code",
   "execution_count": 17,
   "id": "136ad485",
   "metadata": {
    "execution": {
     "iopub.execute_input": "2024-02-10T17:48:57.887763Z",
     "iopub.status.busy": "2024-02-10T17:48:57.887148Z",
     "iopub.status.idle": "2024-02-10T17:48:57.898244Z",
     "shell.execute_reply": "2024-02-10T17:48:57.896779Z"
    },
    "papermill": {
     "duration": 0.026861,
     "end_time": "2024-02-10T17:48:57.901013",
     "exception": false,
     "start_time": "2024-02-10T17:48:57.874152",
     "status": "completed"
    },
    "tags": []
   },
   "outputs": [
    {
     "data": {
      "text/plain": [
       "[[('the', 'cat'),\n",
       "  ('the', 'in'),\n",
       "  ('the', 'the'),\n",
       "  ('cat', 'the'),\n",
       "  ('cat', 'in'),\n",
       "  ('cat', 'the'),\n",
       "  ('cat', 'hat'),\n",
       "  ('in', 'the'),\n",
       "  ('in', 'cat'),\n",
       "  ('in', 'the'),\n",
       "  ('in', 'hat'),\n",
       "  ('the', 'the'),\n",
       "  ('the', 'cat'),\n",
       "  ('the', 'in'),\n",
       "  ('the', 'hat'),\n",
       "  ('hat', 'cat'),\n",
       "  ('hat', 'in'),\n",
       "  ('hat', 'the')],\n",
       " [('the', 'quick'),\n",
       "  ('the', 'brown'),\n",
       "  ('the', 'fox'),\n",
       "  ('quick', 'the'),\n",
       "  ('quick', 'brown'),\n",
       "  ('quick', 'fox'),\n",
       "  ('brown', 'the'),\n",
       "  ('brown', 'quick'),\n",
       "  ('brown', 'fox'),\n",
       "  ('fox', 'the'),\n",
       "  ('fox', 'quick'),\n",
       "  ('fox', 'brown')],\n",
       " [('the', 'hat'),\n",
       "  ('the', 'is'),\n",
       "  ('the', 'blue'),\n",
       "  ('hat', 'the'),\n",
       "  ('hat', 'is'),\n",
       "  ('hat', 'blue'),\n",
       "  ('is', 'the'),\n",
       "  ('is', 'hat'),\n",
       "  ('is', 'blue'),\n",
       "  ('blue', 'the'),\n",
       "  ('blue', 'hat'),\n",
       "  ('blue', 'is')]]"
      ]
     },
     "execution_count": 17,
     "metadata": {},
     "output_type": "execute_result"
    }
   ],
   "source": [
    "training_pairs # this is the pairs of training formed the target and context word pairs according to context window size"
   ]
  },
  {
   "cell_type": "code",
   "execution_count": 18,
   "id": "9a3ac575",
   "metadata": {
    "execution": {
     "iopub.execute_input": "2024-02-10T17:48:57.927980Z",
     "iopub.status.busy": "2024-02-10T17:48:57.926956Z",
     "iopub.status.idle": "2024-02-10T17:48:58.286054Z",
     "shell.execute_reply": "2024-02-10T17:48:58.284481Z"
    },
    "papermill": {
     "duration": 0.377195,
     "end_time": "2024-02-10T17:48:58.289566",
     "exception": false,
     "start_time": "2024-02-10T17:48:57.912371",
     "status": "completed"
    },
    "tags": []
   },
   "outputs": [
    {
     "name": "stdout",
     "output_type": "stream",
     "text": [
      "Epoch 0, Loss: -1.5547117209204573\n",
      "-------------------------------\n",
      "Vector for 'cat': [-5.65290452e-06 -3.01434705e-04 -1.76163224e-04 -2.30386202e-04\n",
      "  4.97224867e-04  8.31000930e-04 -2.24089526e-04 -4.23949785e-04\n",
      "  2.42732156e-05 -2.53179441e-04]\n",
      "Vector for 'the': [-1.97857776e-05  4.90639859e-05  1.92712368e-05  9.16633056e-05\n",
      " -1.31928845e-04 -2.17141981e-04  1.50333863e-05  8.35862131e-05\n",
      " -2.42806385e-06  5.97708621e-05]\n",
      "Vector for 'in': [ 1.60375577e-04 -2.11180454e-04 -2.44764123e-05 -5.58840109e-04\n",
      "  4.44964232e-04  8.06192995e-04  7.62748022e-05 -2.90721732e-04\n",
      " -3.82902910e-05 -2.77866749e-04]\n",
      "Vector for 'hat': [-1.71487143e-04  6.35114868e-04  2.47629529e-04  9.11440123e-04\n",
      " -9.89152092e-04 -1.77102955e-03  1.77768794e-04  8.20374061e-04\n",
      "  3.38888153e-05  6.20319984e-04]\n",
      "-------------------------------\n",
      "Epoch 0, Loss: -2.2503771454682244\n",
      "-------------------------------\n",
      "Vector for 'brown': [ 1.42927057e-03  1.84843773e-03  6.59118891e-05 -2.69540572e-03\n",
      " -1.31570351e-03  7.12984253e-04 -2.80929807e-03 -8.33906718e-04\n",
      " -4.19177583e-05  7.36801044e-04]\n",
      "Vector for 'the': [-0.00282327 -0.00105482  0.00166316  0.00082017 -0.00135276 -0.00165814\n",
      " -0.00047692  0.00216079  0.00233257 -0.00073527]\n",
      "Vector for 'quick': [ 1.10899385e-03  1.18734404e-03 -2.93488049e-03  1.05556049e-03\n",
      "  1.06454482e-03  8.82531945e-04  1.76234738e-03 -8.61277436e-05\n",
      " -1.52492922e-03 -1.05443321e-03]\n",
      "Vector for 'fox': [ 2.49778344e-04 -1.97246631e-03  1.20017666e-03  8.34055407e-04\n",
      "  1.58008167e-03  4.46298679e-05  1.51897651e-03 -1.19963308e-03\n",
      " -7.36391497e-04  1.02647106e-03]\n",
      "-------------------------------\n",
      "Epoch 0, Loss: -3.2186140221045476\n",
      "-------------------------------\n",
      "Vector for 'is': [ 0.00209231  0.00061008 -0.00233997  0.0015866   0.00089834 -0.00100811\n",
      " -0.00176952  0.00032089 -0.00141105  0.00091232]\n",
      "Vector for 'the': [-0.00112745 -0.00152995  0.00113761 -0.003118   -0.00091943 -0.00020635\n",
      "  0.00113858  0.00044797  0.00094504 -0.00157688]\n",
      "Vector for 'blue': [-5.51025196e-04 -1.44716898e-05  1.46170361e-05  8.94067225e-04\n",
      "  1.23742671e-03  6.95890869e-04  7.58477155e-04  1.46343436e-03\n",
      " -7.94784055e-04  4.43918130e-04]\n",
      "Vector for 'hat': [-0.00042934  0.00091872  0.00121432  0.00058884 -0.00124837  0.00051446\n",
      " -0.00011651 -0.00225296  0.00129099  0.00019554]\n",
      "-------------------------------\n"
     ]
    }
   ],
   "source": [
    "# Initialize word vectors randomly\n",
    "embedding_dim = 10\n",
    "learning_rate = 0.01\n",
    "epochs = 500\n",
    "word_vectors = []\n",
    "vocab=[]\n",
    "for d in Docs:\n",
    "    vocab.append((list(set(d.lower().split(' ')))))\n",
    "for v in vocab:\n",
    "    word_vectors.append({word: np.random.rand(embedding_dim) for word in v})#initialize random values vector for each word \n",
    "    \n",
    "for i in range(0,len(training_pairs)):\n",
    "    # Train the Skip-gram model\n",
    "    for epoch in range(epochs):\n",
    "    \n",
    "        for target_word, context_word in training_pairs[i]:\n",
    "            # Forward pass\n",
    "            input_vector = word_vectors[i][target_word]\n",
    "            output_vector = word_vectors[i][context_word]\n",
    "\n",
    "            # Calculate loss (using negative log likelihood)\n",
    "            error = -np.log(np.exp(np.dot(input_vector, output_vector)))\n",
    "\n",
    "            # Backward pass (update word vectors using gradient descent)\n",
    "            gradient = input_vector * np.exp(np.dot(input_vector, output_vector)) / (1 + np.exp(np.dot(input_vector, output_vector)))\n",
    "            word_vectors[i][target_word] -= learning_rate * gradient\n",
    "            word_vectors[i][context_word] -= learning_rate * gradient\n",
    "\n",
    "        if epoch % 500 == 0:\n",
    "            print(f\"Epoch {epoch}, Loss: {error}\")\n",
    "    print('-------------------------------')\n",
    "    #word vectors\n",
    "    for word, vector in word_vectors[i].items():\n",
    "        print(f\"Vector for '{word}': {vector}\")\n",
    "    print('-------------------------------')"
   ]
  },
  {
   "cell_type": "markdown",
   "id": "18140697",
   "metadata": {
    "papermill": {
     "duration": 0.012089,
     "end_time": "2024-02-10T17:48:58.314758",
     "exception": false,
     "start_time": "2024-02-10T17:48:58.302669",
     "status": "completed"
    },
    "tags": []
   },
   "source": [
    "# TensorFlow Skip-gram"
   ]
  },
  {
   "cell_type": "code",
   "execution_count": 19,
   "id": "23529c84",
   "metadata": {
    "execution": {
     "iopub.execute_input": "2024-02-10T17:48:58.340766Z",
     "iopub.status.busy": "2024-02-10T17:48:58.340307Z",
     "iopub.status.idle": "2024-02-10T17:49:08.835439Z",
     "shell.execute_reply": "2024-02-10T17:49:08.832858Z"
    },
    "papermill": {
     "duration": 10.511938,
     "end_time": "2024-02-10T17:49:08.838492",
     "exception": false,
     "start_time": "2024-02-10T17:48:58.326554",
     "status": "completed"
    },
    "tags": []
   },
   "outputs": [
    {
     "name": "stdout",
     "output_type": "stream",
     "text": [
      "Vector for 'cat': [-0.43010348  0.38208094  0.43516183  0.34945223 -0.26633     0.36079276\n",
      "  0.38095602  0.34150225  0.23537134  0.42937216]\n",
      "Vector for 'the': [-0.34411123  0.38560492  0.3979685   0.37494144 -0.41802138  0.4021703\n",
      "  0.39510897  0.36356258  0.37729284  0.34837696]\n",
      "Vector for 'in': [-0.3807053   0.37619838  0.33505103  0.35508528 -0.43122908  0.3351781\n",
      "  0.33790073  0.39544725  0.41365743  0.3455321 ]\n",
      "Vector for 'hat': [-0.36376128  0.36160553  0.40696654  0.40687633 -0.3848791   0.38903594\n",
      "  0.39137614  0.3218226   0.36984816  0.35859945]\n",
      "-----------------------------------------------------------\n",
      "Vector for 'brown': [-0.37116742 -0.38867804  0.39639646  0.3804858   0.34291995  0.3749708\n",
      " -0.34248227  0.3728325  -0.40337723 -0.38095927]\n",
      "Vector for 'the': [-0.37745386 -0.3032146   0.38352677  0.38538253  0.41359064  0.39850843\n",
      " -0.3676237   0.4071769  -0.3573647  -0.30913416]\n",
      "Vector for 'quick': [-0.384397   -0.3783502   0.40433174  0.39939916  0.3999617   0.37938774\n",
      " -0.3637975   0.34685576 -0.33134043 -0.38628364]\n",
      "Vector for 'fox': [-0.3304212  -0.41848913  0.3529946   0.30789158  0.36081928  0.40903148\n",
      " -0.4084249   0.3790118  -0.4107758  -0.4031046 ]\n",
      "-----------------------------------------------------------\n",
      "Vector for 'is': [ 0.41628045  0.3919115  -0.37660885  0.30630112 -0.40175852  0.37946954\n",
      " -0.39607936  0.3785743   0.34544137 -0.37053132]\n",
      "Vector for 'the': [ 0.34253204  0.39277038 -0.353057    0.39566478 -0.3722936   0.36327457\n",
      " -0.3733431   0.4000653   0.41977152 -0.35287997]\n",
      "Vector for 'blue': [ 0.3593224   0.38562486 -0.3267975   0.3565321  -0.39097163  0.3865152\n",
      " -0.35075498  0.3579312   0.42244157 -0.41264507]\n",
      "Vector for 'hat': [ 0.35814485  0.38014227 -0.3838404   0.3583908  -0.3448265   0.38041967\n",
      " -0.34812757  0.34672108  0.3992002  -0.3457839 ]\n",
      "-----------------------------------------------------------\n"
     ]
    }
   ],
   "source": [
    "import tensorflow as tf\n",
    "from tensorflow.keras.layers import Embedding, Dot, Dense,Flatten\n",
    "from tensorflow.keras.models import Model\n",
    "from nltk.tokenize import word_tokenize\n",
    "\n",
    "# Create a vocabulary with unique words and indices\n",
    "vocab = []\n",
    "for doc in Docs:\n",
    "    wrds=list(set(doc.lower().split()))\n",
    "    vocab.append({w:wrds.index(w) for w in wrds})\n",
    "reverse_vocab = []\n",
    "for v in vocab:\n",
    "    reverse_vocab.append({idx: word for word, idx in v.items()})\n",
    "\n",
    "# Generate training pairs (target word, context word)\n",
    "training=[]\n",
    "for d,v in zip(Docs,vocab):\n",
    "    training_pairs=[]\n",
    "    for i, target_word in enumerate(d.lower().split(' ')):\n",
    "        start = max(0, i - window_size)\n",
    "        end = min(len(d.lower().split(' ')), i + window_size + 1)\n",
    "        context_words = [d.lower().split(' ')[j] for j in range(start, end) if j != i]\n",
    "        for context_word in context_words:\n",
    "            training_pairs.append((v[target_word], v[context_word]))\n",
    "    training.append(training_pairs)\n",
    "    \n",
    "    \n",
    "# Define the Skip-gram model using TensorFlow\n",
    "for i,v,t_p in zip(range(0,len(Docs)),vocab,training):\n",
    "    target_word_input = tf.keras.layers.Input(shape=(1,), name=\"target_word\")\n",
    "    context_word_input = tf.keras.layers.Input(shape=(1,), name=\"context_word\")\n",
    "\n",
    "    embedding_layer = Embedding(input_dim=len(v), output_dim=embedding_dim)\n",
    "    target_word_embedding = embedding_layer(target_word_input)#obtain respective embeddings\n",
    "    context_word_embedding = embedding_layer(context_word_input)#obtain respective embeddings\n",
    "    dot_product = Dot(axes=1, normalize=False)([target_word_embedding, context_word_embedding])#captures relations and similarity between context and target words\n",
    "    #dot_product = Dot(axes=2)([target_word_embedding, context_word_embedding])\n",
    "    output_layer = Dense(1, activation='sigmoid')(Flatten()(dot_product))  # Flatten the output\n",
    "\n",
    "    model = Model(inputs=[target_word_input, context_word_input], outputs=output_layer)\n",
    "    model.compile(optimizer='adam', loss='binary_crossentropy')\n",
    "    \n",
    "    \n",
    "    # Train the Skip-gram model\n",
    "    target_words = np.array([pair[0] for pair in t_p], dtype=np.int32)\n",
    "    context_words = np.array([pair[1] for pair in t_p], dtype=np.int32)\n",
    "\n",
    "    labels = np.array([1] * len(t_p), dtype=np.float32)# Positive labels for all training pairs\n",
    "    \n",
    "    model.fit({'target_word': target_words, 'context_word': context_words}, labels, epochs=500,verbose=0)\n",
    "\n",
    "    # Access word vectors\n",
    "    word_vectors = embedding_layer.get_weights()[0]\n",
    "    for idx, word in reverse_vocab[i].items():\n",
    "        print(f\"Vector for '{word}': {word_vectors[idx]}\")\n",
    "    \n",
    "    keras.utils.plot_model(model,show_shapes=True,show_layer_names=True)\n",
    "    print(\"-----------------------------------------------------------\")"
   ]
  },
  {
   "cell_type": "code",
   "execution_count": null,
   "id": "41889a73",
   "metadata": {
    "papermill": {
     "duration": 0.011775,
     "end_time": "2024-02-10T17:49:08.862204",
     "exception": false,
     "start_time": "2024-02-10T17:49:08.850429",
     "status": "completed"
    },
    "tags": []
   },
   "outputs": [],
   "source": []
  },
  {
   "cell_type": "markdown",
   "id": "27ad7a04",
   "metadata": {
    "papermill": {
     "duration": 0.011235,
     "end_time": "2024-02-10T17:49:08.885108",
     "exception": false,
     "start_time": "2024-02-10T17:49:08.873873",
     "status": "completed"
    },
    "tags": []
   },
   "source": [
    "* **Count of Words (Bag-of-Words Model):**  Early NLP models represented documents using a Bag-of-Words (BoW) model, which counts the occurrence of words in a document without considering their order. This approach provides a basic representation of documents but lacks capturing semantic relationships.\n",
    "* **Term Frequency-Inverse Document Frequency (TF-IDF):** introduced a weighting scheme that considers not only the count of words in a document but also their importance in the entire corpus. It helps identify words that are significant to a particular document but not frequent across all documents.\n",
    "* **Latent Semantic Analysis (LSA):** also known as Latent Semantic Indexing (LSI), applies singular value decomposition (SVD) to the term-document matrix. It reduces the dimensionality of the space and captures latent semantic relationships between words and documents, improving representation.\n",
    "* **Skip-gram and Continuous Bag of Words (CBOW):** Word2Vec, introduced by Mikolov et al., includes two models: Skip-gram and Continuous Bag of Words (CBOW). These models use shallow neural networks to learn word embeddings. Skip-gram predicts context words given a target word, while CBOW predicts a target word given its context. Word2Vec significantly improves word embeddings' quality and captures semantic relationships.\n",
    "* **Global Vectors for Word Representation (GloVe):** introduces a global approach by training on aggregated global word co-occurrence statistics. It leverages a matrix factorization technique to capture the relationships between words in a more efficient manner, producing high-quality word embeddings.\n",
    "* **FastText and Subword Embeddings:** also by Mikolov et al., extends word embeddings to subword level. It represents words as bags of character n-grams, enabling the generation of embeddings for out-of-vocabulary words and capturing morphological information.\n",
    "* **Transformer Architecture:** introduced by Vaswani et al., revolutionizes NLP by employing self-attention mechanisms. It enables models like BERT (Bidirectional Encoder Representations from Transformers) to learn contextualized word embeddings, considering the entire input sequence bidirectionally.\n",
    "* **Contextualized Word Embeddings (BERT, GPT, ELMo):** BERT, GPT (Generative Pre-trained Transformer), and ELMo (Embeddings from Language Models) introduce contextualized embeddings by considering surrounding words and contexts. These models capture rich contextual information, leading to state-of-the-art performance in various NLP tasks.\n",
    "* **Transfer Learning and Fine-Tuning:** Pre-trained language models, such as BERT and GPT, can be fine-tuned on specific downstream tasks. This transfer learning approach significantly reduces the need for large labeled datasets and improves performance on specific tasks.\n",
    "* **Multimodal Embeddings:** are extended beyond text to include multimodal information, combining textual and visual features. Models like CLIP (Contrastive Language-Image Pre-training) learn joint representations of text and images, enabling cross-modal understanding."
   ]
  },
  {
   "cell_type": "markdown",
   "id": "030b7fb9",
   "metadata": {
    "papermill": {
     "duration": 0.011258,
     "end_time": "2024-02-10T17:49:08.908446",
     "exception": false,
     "start_time": "2024-02-10T17:49:08.897188",
     "status": "completed"
    },
    "tags": []
   },
   "source": [
    "\n",
    "**Key breakpoints:**\n",
    "\n",
    "* **From word counts to context:** Moving beyond simple frequency to considering surrounding words for richer representations.\n",
    "* **Pre-training on large corpora:** Utilizing massive amounts of text data to learn general language understanding.\n",
    "* **Bi-directional and attention mechanisms:** Capturing complex relationships between words in a sentence.\n",
    "* **Transformers and self-attention:** Enabling efficient learning of long-range dependencies.\n",
    "* **LLMs reaching human-level performance in certain tasks:** Highlighting the potential of language models for natural communication and problem-solving.\n",
    "\n",
    "**Future directions:**\n",
    "\n",
    "* **Explainability and interpretability:** Understanding how LLMs work and make decisions.\n",
    "* **Addressing biases and fairness:** Ensuring models are inclusive and represent diverse perspectives.\n",
    "* **Combining symbolic and neural approaches:** Integrating logic and reasoning with language understanding.\n"
   ]
  }
 ],
 "metadata": {
  "kaggle": {
   "accelerator": "none",
   "dataSources": [],
   "dockerImageVersionId": 30635,
   "isGpuEnabled": false,
   "isInternetEnabled": true,
   "language": "python",
   "sourceType": "notebook"
  },
  "kernelspec": {
   "display_name": "Python 3",
   "language": "python",
   "name": "python3"
  },
  "language_info": {
   "codemirror_mode": {
    "name": "ipython",
    "version": 3
   },
   "file_extension": ".py",
   "mimetype": "text/x-python",
   "name": "python",
   "nbconvert_exporter": "python",
   "pygments_lexer": "ipython3",
   "version": "3.10.12"
  },
  "papermill": {
   "default_parameters": {},
   "duration": 37.103426,
   "end_time": "2024-02-10T17:49:11.559814",
   "environment_variables": {},
   "exception": null,
   "input_path": "__notebook__.ipynb",
   "output_path": "__notebook__.ipynb",
   "parameters": {},
   "start_time": "2024-02-10T17:48:34.456388",
   "version": "2.4.0"
  }
 },
 "nbformat": 4,
 "nbformat_minor": 5
}
