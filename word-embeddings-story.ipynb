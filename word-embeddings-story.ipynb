{
 "cells": [
  {
   "cell_type": "markdown",
   "id": "d4263d16",
   "metadata": {
    "papermill": {
     "duration": 0.009787,
     "end_time": "2024-02-04T16:03:31.822155",
     "exception": false,
     "start_time": "2024-02-04T16:03:31.812368",
     "status": "completed"
    },
    "tags": []
   },
   "source": [
    "# Count-Based methods"
   ]
  },
  {
   "cell_type": "code",
   "execution_count": 1,
   "id": "38b225cf",
   "metadata": {
    "execution": {
     "iopub.execute_input": "2024-02-04T16:03:31.843228Z",
     "iopub.status.busy": "2024-02-04T16:03:31.842530Z",
     "iopub.status.idle": "2024-02-04T16:03:31.854950Z",
     "shell.execute_reply": "2024-02-04T16:03:31.854106Z"
    },
    "papermill": {
     "duration": 0.025923,
     "end_time": "2024-02-04T16:03:31.857474",
     "exception": false,
     "start_time": "2024-02-04T16:03:31.831551",
     "status": "completed"
    },
    "tags": []
   },
   "outputs": [],
   "source": [
    "Doc_1= \"The cat in the hat\"\n",
    "Doc_2= \"The quick brown fox\"\n",
    "Doc_3= \"The hat is blue\"\n",
    "\n",
    "Docs =[Doc_1,Doc_2,Doc_3]"
   ]
  },
  {
   "cell_type": "markdown",
   "id": "9f065bd6",
   "metadata": {
    "papermill": {
     "duration": 0.009088,
     "end_time": "2024-02-04T16:03:31.876393",
     "exception": false,
     "start_time": "2024-02-04T16:03:31.867305",
     "status": "completed"
    },
    "tags": []
   },
   "source": [
    "# **Term Frequency (TF)**"
   ]
  },
  {
   "cell_type": "markdown",
   "id": "677a1e14",
   "metadata": {
    "papermill": {
     "duration": 0.009589,
     "end_time": "2024-02-04T16:03:31.896937",
     "exception": false,
     "start_time": "2024-02-04T16:03:31.887348",
     "status": "completed"
    },
    "tags": []
   },
   "source": [
    "* **TF(t,d) is the term frequency of term t in document d (how often the term appears in the document).**"
   ]
  },
  {
   "cell_type": "code",
   "execution_count": 2,
   "id": "40431190",
   "metadata": {
    "execution": {
     "iopub.execute_input": "2024-02-04T16:03:31.920703Z",
     "iopub.status.busy": "2024-02-04T16:03:31.919993Z",
     "iopub.status.idle": "2024-02-04T16:03:31.928747Z",
     "shell.execute_reply": "2024-02-04T16:03:31.927722Z"
    },
    "papermill": {
     "duration": 0.024901,
     "end_time": "2024-02-04T16:03:31.931838",
     "exception": false,
     "start_time": "2024-02-04T16:03:31.906937",
     "status": "completed"
    },
    "tags": []
   },
   "outputs": [
    {
     "data": {
      "text/plain": [
       "{'blue', 'brown', 'cat', 'fox', 'hat', 'in', 'is', 'quick', 'the'}"
      ]
     },
     "execution_count": 2,
     "metadata": {},
     "output_type": "execute_result"
    }
   ],
   "source": [
    "lst = []\n",
    "for d in Docs:\n",
    "    lst.extend(d.lower().split(' '))\n",
    "wrds = set(lst) # remove duplicate words\n",
    "wrds"
   ]
  },
  {
   "cell_type": "code",
   "execution_count": 3,
   "id": "b1858479",
   "metadata": {
    "execution": {
     "iopub.execute_input": "2024-02-04T16:03:31.955795Z",
     "iopub.status.busy": "2024-02-04T16:03:31.954875Z",
     "iopub.status.idle": "2024-02-04T16:03:33.026846Z",
     "shell.execute_reply": "2024-02-04T16:03:33.025778Z"
    },
    "papermill": {
     "duration": 1.086621,
     "end_time": "2024-02-04T16:03:33.029780",
     "exception": false,
     "start_time": "2024-02-04T16:03:31.943159",
     "status": "completed"
    },
    "tags": []
   },
   "outputs": [
    {
     "data": {
      "text/html": [
       "<div>\n",
       "<style scoped>\n",
       "    .dataframe tbody tr th:only-of-type {\n",
       "        vertical-align: middle;\n",
       "    }\n",
       "\n",
       "    .dataframe tbody tr th {\n",
       "        vertical-align: top;\n",
       "    }\n",
       "\n",
       "    .dataframe thead th {\n",
       "        text-align: right;\n",
       "    }\n",
       "</style>\n",
       "<table border=\"1\" class=\"dataframe\">\n",
       "  <thead>\n",
       "    <tr style=\"text-align: right;\">\n",
       "      <th></th>\n",
       "      <th>fox</th>\n",
       "      <th>in</th>\n",
       "      <th>the</th>\n",
       "      <th>quick</th>\n",
       "      <th>cat</th>\n",
       "      <th>blue</th>\n",
       "      <th>is</th>\n",
       "      <th>brown</th>\n",
       "      <th>hat</th>\n",
       "    </tr>\n",
       "  </thead>\n",
       "  <tbody>\n",
       "    <tr>\n",
       "      <th>0</th>\n",
       "      <td>0.00</td>\n",
       "      <td>0.2</td>\n",
       "      <td>0.40</td>\n",
       "      <td>0.00</td>\n",
       "      <td>0.2</td>\n",
       "      <td>0.00</td>\n",
       "      <td>0.00</td>\n",
       "      <td>0.00</td>\n",
       "      <td>0.20</td>\n",
       "    </tr>\n",
       "    <tr>\n",
       "      <th>1</th>\n",
       "      <td>0.25</td>\n",
       "      <td>0.0</td>\n",
       "      <td>0.25</td>\n",
       "      <td>0.25</td>\n",
       "      <td>0.0</td>\n",
       "      <td>0.00</td>\n",
       "      <td>0.00</td>\n",
       "      <td>0.25</td>\n",
       "      <td>0.00</td>\n",
       "    </tr>\n",
       "    <tr>\n",
       "      <th>2</th>\n",
       "      <td>0.00</td>\n",
       "      <td>0.0</td>\n",
       "      <td>0.25</td>\n",
       "      <td>0.00</td>\n",
       "      <td>0.0</td>\n",
       "      <td>0.25</td>\n",
       "      <td>0.25</td>\n",
       "      <td>0.00</td>\n",
       "      <td>0.25</td>\n",
       "    </tr>\n",
       "  </tbody>\n",
       "</table>\n",
       "</div>"
      ],
      "text/plain": [
       "    fox   in   the  quick  cat  blue    is  brown   hat\n",
       "0  0.00  0.2  0.40   0.00  0.2  0.00  0.00   0.00  0.20\n",
       "1  0.25  0.0  0.25   0.25  0.0  0.00  0.00   0.25  0.00\n",
       "2  0.00  0.0  0.25   0.00  0.0  0.25  0.25   0.00  0.25"
      ]
     },
     "execution_count": 3,
     "metadata": {},
     "output_type": "execute_result"
    }
   ],
   "source": [
    "#form a dataframe to represent TF for each word in each Document where columns are words and rows are documents\n",
    "import pandas as pd\n",
    "def count_wrd_Doc(wrd,doc):\n",
    "    i=0\n",
    "    for w in doc.lower().split(' '):\n",
    "        if wrd == w:\n",
    "            i = i+1\n",
    "    return i/len(doc.lower().split(' '))\n",
    "    \n",
    "tf_df = pd.DataFrame(columns=list(wrds)) #empty dataframe initialized with words column headers\n",
    "freq_lst=[] #empty list for each column to save word frequencies in each document\n",
    "for c in tf_df.columns:\n",
    "    freq_lst=[]#empty the list\n",
    "    for d in Docs:\n",
    "        freq_lst.append(count_wrd_Doc(c,d))#append the frequency of word in document d\n",
    "    tf_df[c]=freq_lst #assign values to column\n",
    "tf_df #display the dataframe of TF for each word in each document"
   ]
  },
  {
   "cell_type": "markdown",
   "id": "a42153d5",
   "metadata": {
    "papermill": {
     "duration": 0.010758,
     "end_time": "2024-02-04T16:03:33.051696",
     "exception": false,
     "start_time": "2024-02-04T16:03:33.040938",
     "status": "completed"
    },
    "tags": []
   },
   "source": [
    "# Document Frequency (DF)"
   ]
  },
  {
   "cell_type": "markdown",
   "id": "109ed149",
   "metadata": {
    "papermill": {
     "duration": 0.009918,
     "end_time": "2024-02-04T16:03:33.073387",
     "exception": false,
     "start_time": "2024-02-04T16:03:33.063469",
     "status": "completed"
    },
    "tags": []
   },
   "source": [
    "* **Calculate Document Frequency (DF): the word appears in how many documents**"
   ]
  },
  {
   "cell_type": "code",
   "execution_count": 4,
   "id": "f4e3d1aa",
   "metadata": {
    "execution": {
     "iopub.execute_input": "2024-02-04T16:03:33.096532Z",
     "iopub.status.busy": "2024-02-04T16:03:33.095626Z",
     "iopub.status.idle": "2024-02-04T16:03:33.112796Z",
     "shell.execute_reply": "2024-02-04T16:03:33.111874Z"
    },
    "papermill": {
     "duration": 0.031517,
     "end_time": "2024-02-04T16:03:33.115806",
     "exception": false,
     "start_time": "2024-02-04T16:03:33.084289",
     "status": "completed"
    },
    "tags": []
   },
   "outputs": [
    {
     "data": {
      "text/html": [
       "<div>\n",
       "<style scoped>\n",
       "    .dataframe tbody tr th:only-of-type {\n",
       "        vertical-align: middle;\n",
       "    }\n",
       "\n",
       "    .dataframe tbody tr th {\n",
       "        vertical-align: top;\n",
       "    }\n",
       "\n",
       "    .dataframe thead th {\n",
       "        text-align: right;\n",
       "    }\n",
       "</style>\n",
       "<table border=\"1\" class=\"dataframe\">\n",
       "  <thead>\n",
       "    <tr style=\"text-align: right;\">\n",
       "      <th></th>\n",
       "      <th>fox</th>\n",
       "      <th>in</th>\n",
       "      <th>the</th>\n",
       "      <th>quick</th>\n",
       "      <th>cat</th>\n",
       "      <th>blue</th>\n",
       "      <th>is</th>\n",
       "      <th>brown</th>\n",
       "      <th>hat</th>\n",
       "    </tr>\n",
       "  </thead>\n",
       "  <tbody>\n",
       "    <tr>\n",
       "      <th>0</th>\n",
       "      <td>1</td>\n",
       "      <td>1</td>\n",
       "      <td>3</td>\n",
       "      <td>1</td>\n",
       "      <td>1</td>\n",
       "      <td>1</td>\n",
       "      <td>1</td>\n",
       "      <td>1</td>\n",
       "      <td>2</td>\n",
       "    </tr>\n",
       "  </tbody>\n",
       "</table>\n",
       "</div>"
      ],
      "text/plain": [
       "   fox  in  the  quick  cat  blue  is  brown  hat\n",
       "0    1   1    3      1    1     1   1      1    2"
      ]
     },
     "execution_count": 4,
     "metadata": {},
     "output_type": "execute_result"
    }
   ],
   "source": [
    "df_df = pd.DataFrame(columns=list(wrds)) #empty dataframe initialized with words column headers\n",
    "for c in df_df.columns:\n",
    "    df_df[c] = [sum(1 for doc in Docs if c in doc.lower().split(' '))]\n",
    "df_df #display the dataframe of DF for each word "
   ]
  },
  {
   "cell_type": "markdown",
   "id": "eb55e9df",
   "metadata": {
    "papermill": {
     "duration": 0.010581,
     "end_time": "2024-02-04T16:03:33.138161",
     "exception": false,
     "start_time": "2024-02-04T16:03:33.127580",
     "status": "completed"
    },
    "tags": []
   },
   "source": [
    "# Inverse Document Frequency (IDF)"
   ]
  },
  {
   "cell_type": "markdown",
   "id": "ac1a556e",
   "metadata": {
    "papermill": {
     "duration": 0.010156,
     "end_time": "2024-02-04T16:03:33.158266",
     "exception": false,
     "start_time": "2024-02-04T16:03:33.148110",
     "status": "completed"
    },
    "tags": []
   },
   "source": [
    "* **IDF(t,D) is the inverse document frequency of term t in the entire document set D (logarithmically scaled inverse fraction of the documents that contain the term).**"
   ]
  },
  {
   "cell_type": "code",
   "execution_count": 5,
   "id": "8291a571",
   "metadata": {
    "execution": {
     "iopub.execute_input": "2024-02-04T16:03:33.180777Z",
     "iopub.status.busy": "2024-02-04T16:03:33.179998Z",
     "iopub.status.idle": "2024-02-04T16:03:33.201715Z",
     "shell.execute_reply": "2024-02-04T16:03:33.200387Z"
    },
    "papermill": {
     "duration": 0.036739,
     "end_time": "2024-02-04T16:03:33.204974",
     "exception": false,
     "start_time": "2024-02-04T16:03:33.168235",
     "status": "completed"
    },
    "tags": []
   },
   "outputs": [
    {
     "data": {
      "text/html": [
       "<div>\n",
       "<style scoped>\n",
       "    .dataframe tbody tr th:only-of-type {\n",
       "        vertical-align: middle;\n",
       "    }\n",
       "\n",
       "    .dataframe tbody tr th {\n",
       "        vertical-align: top;\n",
       "    }\n",
       "\n",
       "    .dataframe thead th {\n",
       "        text-align: right;\n",
       "    }\n",
       "</style>\n",
       "<table border=\"1\" class=\"dataframe\">\n",
       "  <thead>\n",
       "    <tr style=\"text-align: right;\">\n",
       "      <th></th>\n",
       "      <th>fox</th>\n",
       "      <th>in</th>\n",
       "      <th>the</th>\n",
       "      <th>quick</th>\n",
       "      <th>cat</th>\n",
       "      <th>blue</th>\n",
       "      <th>is</th>\n",
       "      <th>brown</th>\n",
       "      <th>hat</th>\n",
       "    </tr>\n",
       "  </thead>\n",
       "  <tbody>\n",
       "    <tr>\n",
       "      <th>0</th>\n",
       "      <td>1.693147</td>\n",
       "      <td>1.693147</td>\n",
       "      <td>1.0</td>\n",
       "      <td>1.693147</td>\n",
       "      <td>1.693147</td>\n",
       "      <td>1.693147</td>\n",
       "      <td>1.693147</td>\n",
       "      <td>1.693147</td>\n",
       "      <td>1.287682</td>\n",
       "    </tr>\n",
       "  </tbody>\n",
       "</table>\n",
       "</div>"
      ],
      "text/plain": [
       "        fox        in  the     quick       cat      blue        is     brown  \\\n",
       "0  1.693147  1.693147  1.0  1.693147  1.693147  1.693147  1.693147  1.693147   \n",
       "\n",
       "        hat  \n",
       "0  1.287682  "
      ]
     },
     "execution_count": 5,
     "metadata": {},
     "output_type": "execute_result"
    }
   ],
   "source": [
    "import math\n",
    "idf_df = pd.DataFrame(columns=list(wrds)) #empty dataframe initialized with words column headers\n",
    "for c in idf_df.columns:\n",
    "    N = 3 #No of documents\n",
    "    df = df_df[c].iloc[0] # DF of word\n",
    "    idf_df[c] = [math.log((N+1) / (df+1))+1]#IDF = log (no. of documents/DF(word)) \n",
    "idf_df #display the dataframe of idf for each word "
   ]
  },
  {
   "cell_type": "markdown",
   "id": "9092eb3f",
   "metadata": {
    "papermill": {
     "duration": 0.010369,
     "end_time": "2024-02-04T16:03:33.226881",
     "exception": false,
     "start_time": "2024-02-04T16:03:33.216512",
     "status": "completed"
    },
    "tags": []
   },
   "source": [
    "# Term Frequency - Inverse Document Frequency (TF-IDF)"
   ]
  },
  {
   "cell_type": "markdown",
   "id": "8f4ddd3a",
   "metadata": {
    "papermill": {
     "duration": 0.010718,
     "end_time": "2024-02-04T16:03:33.247825",
     "exception": false,
     "start_time": "2024-02-04T16:03:33.237107",
     "status": "completed"
    },
    "tags": []
   },
   "source": [
    "*** TF-IDF = TF * IDF**"
   ]
  },
  {
   "cell_type": "code",
   "execution_count": 6,
   "id": "d86f6261",
   "metadata": {
    "execution": {
     "iopub.execute_input": "2024-02-04T16:03:33.271561Z",
     "iopub.status.busy": "2024-02-04T16:03:33.270360Z",
     "iopub.status.idle": "2024-02-04T16:03:33.296898Z",
     "shell.execute_reply": "2024-02-04T16:03:33.295673Z"
    },
    "papermill": {
     "duration": 0.040853,
     "end_time": "2024-02-04T16:03:33.299675",
     "exception": false,
     "start_time": "2024-02-04T16:03:33.258822",
     "status": "completed"
    },
    "tags": []
   },
   "outputs": [
    {
     "data": {
      "text/html": [
       "<div>\n",
       "<style scoped>\n",
       "    .dataframe tbody tr th:only-of-type {\n",
       "        vertical-align: middle;\n",
       "    }\n",
       "\n",
       "    .dataframe tbody tr th {\n",
       "        vertical-align: top;\n",
       "    }\n",
       "\n",
       "    .dataframe thead th {\n",
       "        text-align: right;\n",
       "    }\n",
       "</style>\n",
       "<table border=\"1\" class=\"dataframe\">\n",
       "  <thead>\n",
       "    <tr style=\"text-align: right;\">\n",
       "      <th></th>\n",
       "      <th>fox</th>\n",
       "      <th>in</th>\n",
       "      <th>the</th>\n",
       "      <th>quick</th>\n",
       "      <th>cat</th>\n",
       "      <th>blue</th>\n",
       "      <th>is</th>\n",
       "      <th>brown</th>\n",
       "      <th>hat</th>\n",
       "    </tr>\n",
       "  </thead>\n",
       "  <tbody>\n",
       "    <tr>\n",
       "      <th>0</th>\n",
       "      <td>0.000000</td>\n",
       "      <td>0.338629</td>\n",
       "      <td>0.40</td>\n",
       "      <td>0.000000</td>\n",
       "      <td>0.338629</td>\n",
       "      <td>0.000000</td>\n",
       "      <td>0.000000</td>\n",
       "      <td>0.000000</td>\n",
       "      <td>0.257536</td>\n",
       "    </tr>\n",
       "    <tr>\n",
       "      <th>1</th>\n",
       "      <td>0.423287</td>\n",
       "      <td>0.000000</td>\n",
       "      <td>0.25</td>\n",
       "      <td>0.423287</td>\n",
       "      <td>0.000000</td>\n",
       "      <td>0.000000</td>\n",
       "      <td>0.000000</td>\n",
       "      <td>0.423287</td>\n",
       "      <td>0.000000</td>\n",
       "    </tr>\n",
       "    <tr>\n",
       "      <th>2</th>\n",
       "      <td>0.000000</td>\n",
       "      <td>0.000000</td>\n",
       "      <td>0.25</td>\n",
       "      <td>0.000000</td>\n",
       "      <td>0.000000</td>\n",
       "      <td>0.423287</td>\n",
       "      <td>0.423287</td>\n",
       "      <td>0.000000</td>\n",
       "      <td>0.321921</td>\n",
       "    </tr>\n",
       "  </tbody>\n",
       "</table>\n",
       "</div>"
      ],
      "text/plain": [
       "        fox        in   the     quick       cat      blue        is     brown  \\\n",
       "0  0.000000  0.338629  0.40  0.000000  0.338629  0.000000  0.000000  0.000000   \n",
       "1  0.423287  0.000000  0.25  0.423287  0.000000  0.000000  0.000000  0.423287   \n",
       "2  0.000000  0.000000  0.25  0.000000  0.000000  0.423287  0.423287  0.000000   \n",
       "\n",
       "        hat  \n",
       "0  0.257536  \n",
       "1  0.000000  \n",
       "2  0.321921  "
      ]
     },
     "execution_count": 6,
     "metadata": {},
     "output_type": "execute_result"
    }
   ],
   "source": [
    "tfidf_df = pd.DataFrame(columns=list(wrds)) #empty dataframe initialized with words column headers\n",
    "tfidf_lst=[]  #empty list for each column \n",
    "for c in tfidf_df.columns:\n",
    "    tfidf_lst=[] #empty list for each column\n",
    "    for i in range(0,len(Docs)):\n",
    "        tf_idf_d1 = tf_df[c].iloc[i]*idf_df[c].iloc[0] #append tf of word in i th document to idf of word\n",
    "        tfidf_lst.append(tf_idf_d1)\n",
    "    tfidf_df[c]=tfidf_lst#assign tfidf values for each word\n",
    "tfidf_df #display the dataframe of tf-idf for all words"
   ]
  },
  {
   "cell_type": "markdown",
   "id": "c5ced3c3",
   "metadata": {
    "papermill": {
     "duration": 0.010231,
     "end_time": "2024-02-04T16:03:33.321342",
     "exception": false,
     "start_time": "2024-02-04T16:03:33.311111",
     "status": "completed"
    },
    "tags": []
   },
   "source": [
    "# L2 Normalization"
   ]
  },
  {
   "cell_type": "markdown",
   "id": "249b3573",
   "metadata": {
    "papermill": {
     "duration": 0.010527,
     "end_time": "2024-02-04T16:03:33.342279",
     "exception": false,
     "start_time": "2024-02-04T16:03:33.331752",
     "status": "completed"
    },
    "tags": []
   },
   "source": [
    "* **L2 normalization, also known as Euclidean normalization or L2 norm normalization, is a technique used to scale vectors (or arrays) in such a way that their Euclidean norm becomes equal to 1.**"
   ]
  },
  {
   "cell_type": "code",
   "execution_count": 7,
   "id": "cbf5b1fa",
   "metadata": {
    "execution": {
     "iopub.execute_input": "2024-02-04T16:03:33.366770Z",
     "iopub.status.busy": "2024-02-04T16:03:33.365796Z",
     "iopub.status.idle": "2024-02-04T16:03:33.397642Z",
     "shell.execute_reply": "2024-02-04T16:03:33.396747Z"
    },
    "papermill": {
     "duration": 0.047102,
     "end_time": "2024-02-04T16:03:33.399976",
     "exception": false,
     "start_time": "2024-02-04T16:03:33.352874",
     "status": "completed"
    },
    "tags": []
   },
   "outputs": [
    {
     "data": {
      "text/html": [
       "<div>\n",
       "<style scoped>\n",
       "    .dataframe tbody tr th:only-of-type {\n",
       "        vertical-align: middle;\n",
       "    }\n",
       "\n",
       "    .dataframe tbody tr th {\n",
       "        vertical-align: top;\n",
       "    }\n",
       "\n",
       "    .dataframe thead th {\n",
       "        text-align: right;\n",
       "    }\n",
       "</style>\n",
       "<table border=\"1\" class=\"dataframe\">\n",
       "  <thead>\n",
       "    <tr style=\"text-align: right;\">\n",
       "      <th></th>\n",
       "      <th>fox</th>\n",
       "      <th>in</th>\n",
       "      <th>the</th>\n",
       "      <th>quick</th>\n",
       "      <th>cat</th>\n",
       "      <th>blue</th>\n",
       "      <th>is</th>\n",
       "      <th>brown</th>\n",
       "      <th>hat</th>\n",
       "    </tr>\n",
       "  </thead>\n",
       "  <tbody>\n",
       "    <tr>\n",
       "      <th>0</th>\n",
       "      <td>0.000000</td>\n",
       "      <td>0.501651</td>\n",
       "      <td>0.592567</td>\n",
       "      <td>0.000000</td>\n",
       "      <td>0.501651</td>\n",
       "      <td>0.000000</td>\n",
       "      <td>0.000000</td>\n",
       "      <td>0.000000</td>\n",
       "      <td>0.381519</td>\n",
       "    </tr>\n",
       "    <tr>\n",
       "      <th>1</th>\n",
       "      <td>0.546454</td>\n",
       "      <td>0.000000</td>\n",
       "      <td>0.322745</td>\n",
       "      <td>0.546454</td>\n",
       "      <td>0.000000</td>\n",
       "      <td>0.000000</td>\n",
       "      <td>0.000000</td>\n",
       "      <td>0.546454</td>\n",
       "      <td>0.000000</td>\n",
       "    </tr>\n",
       "    <tr>\n",
       "      <th>2</th>\n",
       "      <td>0.000000</td>\n",
       "      <td>0.000000</td>\n",
       "      <td>0.345205</td>\n",
       "      <td>0.000000</td>\n",
       "      <td>0.000000</td>\n",
       "      <td>0.584483</td>\n",
       "      <td>0.584483</td>\n",
       "      <td>0.000000</td>\n",
       "      <td>0.444514</td>\n",
       "    </tr>\n",
       "  </tbody>\n",
       "</table>\n",
       "</div>"
      ],
      "text/plain": [
       "        fox        in       the     quick       cat      blue        is  \\\n",
       "0  0.000000  0.501651  0.592567  0.000000  0.501651  0.000000  0.000000   \n",
       "1  0.546454  0.000000  0.322745  0.546454  0.000000  0.000000  0.000000   \n",
       "2  0.000000  0.000000  0.345205  0.000000  0.000000  0.584483  0.584483   \n",
       "\n",
       "      brown       hat  \n",
       "0  0.000000  0.381519  \n",
       "1  0.546454  0.000000  \n",
       "2  0.000000  0.444514  "
      ]
     },
     "execution_count": 7,
     "metadata": {},
     "output_type": "execute_result"
    }
   ],
   "source": [
    "normalized_df = pd.DataFrame(columns=tfidf_df.columns)\n",
    "\n",
    "# Apply L2 normalization to each document's TF-IDF values\n",
    "for i,row in enumerate(tfidf_df.iterrows()):\n",
    "    # Extract TF-IDF values    \n",
    "    tfidf_values_list = list(tfidf_df.iloc[i].values)\n",
    "    # Calculate L2 norm\n",
    "    l2_norm = math.sqrt(sum(val**2 for val in tfidf_values_list))\n",
    "    # Normalize TF-IDF values using L2 norm\n",
    "    normalized_tfidf = [val / l2_norm for val in list(tfidf_df.iloc[i].values)]\n",
    "    new_row = pd.Series(normalized_tfidf, index=tfidf_df.columns)\n",
    "    normalized_df.loc[len(normalized_df)] = new_row\n",
    "    \n",
    "normalized_df"
   ]
  },
  {
   "cell_type": "markdown",
   "id": "ffe64395",
   "metadata": {
    "papermill": {
     "duration": 0.010301,
     "end_time": "2024-02-04T16:03:33.421514",
     "exception": false,
     "start_time": "2024-02-04T16:03:33.411213",
     "status": "completed"
    },
    "tags": []
   },
   "source": [
    "# TfidfVectorizer Python Library"
   ]
  },
  {
   "cell_type": "code",
   "execution_count": 8,
   "id": "01a2a58e",
   "metadata": {
    "execution": {
     "iopub.execute_input": "2024-02-04T16:03:33.446334Z",
     "iopub.status.busy": "2024-02-04T16:03:33.445874Z",
     "iopub.status.idle": "2024-02-04T16:03:34.884125Z",
     "shell.execute_reply": "2024-02-04T16:03:34.882373Z"
    },
    "papermill": {
     "duration": 1.453959,
     "end_time": "2024-02-04T16:03:34.887223",
     "exception": false,
     "start_time": "2024-02-04T16:03:33.433264",
     "status": "completed"
    },
    "tags": []
   },
   "outputs": [
    {
     "data": {
      "text/html": [
       "<div>\n",
       "<style scoped>\n",
       "    .dataframe tbody tr th:only-of-type {\n",
       "        vertical-align: middle;\n",
       "    }\n",
       "\n",
       "    .dataframe tbody tr th {\n",
       "        vertical-align: top;\n",
       "    }\n",
       "\n",
       "    .dataframe thead th {\n",
       "        text-align: right;\n",
       "    }\n",
       "</style>\n",
       "<table border=\"1\" class=\"dataframe\">\n",
       "  <thead>\n",
       "    <tr style=\"text-align: right;\">\n",
       "      <th></th>\n",
       "      <th>blue</th>\n",
       "      <th>brown</th>\n",
       "      <th>cat</th>\n",
       "      <th>fox</th>\n",
       "      <th>hat</th>\n",
       "      <th>in</th>\n",
       "      <th>is</th>\n",
       "      <th>quick</th>\n",
       "      <th>the</th>\n",
       "    </tr>\n",
       "  </thead>\n",
       "  <tbody>\n",
       "    <tr>\n",
       "      <th>0</th>\n",
       "      <td>0.000000</td>\n",
       "      <td>0.000000</td>\n",
       "      <td>0.501651</td>\n",
       "      <td>0.000000</td>\n",
       "      <td>0.381519</td>\n",
       "      <td>0.501651</td>\n",
       "      <td>0.000000</td>\n",
       "      <td>0.000000</td>\n",
       "      <td>0.592567</td>\n",
       "    </tr>\n",
       "    <tr>\n",
       "      <th>1</th>\n",
       "      <td>0.000000</td>\n",
       "      <td>0.546454</td>\n",
       "      <td>0.000000</td>\n",
       "      <td>0.546454</td>\n",
       "      <td>0.000000</td>\n",
       "      <td>0.000000</td>\n",
       "      <td>0.000000</td>\n",
       "      <td>0.546454</td>\n",
       "      <td>0.322745</td>\n",
       "    </tr>\n",
       "    <tr>\n",
       "      <th>2</th>\n",
       "      <td>0.584483</td>\n",
       "      <td>0.000000</td>\n",
       "      <td>0.000000</td>\n",
       "      <td>0.000000</td>\n",
       "      <td>0.444514</td>\n",
       "      <td>0.000000</td>\n",
       "      <td>0.584483</td>\n",
       "      <td>0.000000</td>\n",
       "      <td>0.345205</td>\n",
       "    </tr>\n",
       "  </tbody>\n",
       "</table>\n",
       "</div>"
      ],
      "text/plain": [
       "       blue     brown       cat       fox       hat        in        is  \\\n",
       "0  0.000000  0.000000  0.501651  0.000000  0.381519  0.501651  0.000000   \n",
       "1  0.000000  0.546454  0.000000  0.546454  0.000000  0.000000  0.000000   \n",
       "2  0.584483  0.000000  0.000000  0.000000  0.444514  0.000000  0.584483   \n",
       "\n",
       "      quick       the  \n",
       "0  0.000000  0.592567  \n",
       "1  0.546454  0.322745  \n",
       "2  0.000000  0.345205  "
      ]
     },
     "execution_count": 8,
     "metadata": {},
     "output_type": "execute_result"
    }
   ],
   "source": [
    "from sklearn.feature_extraction.text import TfidfVectorizer\n",
    "\n",
    "# Create the TF-IDF vectorizer\n",
    "tfidf_vectorizer = TfidfVectorizer(norm='l2',smooth_idf=True)\n",
    "\n",
    "# Fit the documents and transform them into a TF-IDF matrix\n",
    "tfidf_matrix = tfidf_vectorizer.fit_transform(Docs)\n",
    "\n",
    "# Get the feature names (terms) from the vectorizer\n",
    "feature_names = tfidf_vectorizer.get_feature_names_out()\n",
    "\n",
    "df_tfidf = pd.DataFrame(data=tfidf_matrix.toarray(), columns=feature_names)\n",
    "df_tfidf"
   ]
  },
  {
   "cell_type": "markdown",
   "id": "64811fc2",
   "metadata": {
    "_kg_hide-input": true,
    "papermill": {
     "duration": 0.01054,
     "end_time": "2024-02-04T16:03:34.908981",
     "exception": false,
     "start_time": "2024-02-04T16:03:34.898441",
     "status": "completed"
    },
    "tags": []
   },
   "source": [
    "* **The TfidfVectorizer in scikit-learn, by default, adds a smoothing term to the denominator of the IDF calculation to avoid division by zero. This is done to handle the case where a term is present in all documents, ensuring that the IDF is not undefined.**\n",
    "* **L2 normalization, also known as Euclidean normalization or L2 norm normalization, is a technique used to scale vectors (or arrays) in such a way that their Euclidean norm becomes equal to 1.**"
   ]
  },
  {
   "cell_type": "markdown",
   "id": "f3b51703",
   "metadata": {
    "papermill": {
     "duration": 0.010446,
     "end_time": "2024-02-04T16:03:34.930852",
     "exception": false,
     "start_time": "2024-02-04T16:03:34.920406",
     "status": "completed"
    },
    "tags": []
   },
   "source": [
    "# Unigram"
   ]
  },
  {
   "cell_type": "markdown",
   "id": "6f74a3c0",
   "metadata": {
    "papermill": {
     "duration": 0.010577,
     "end_time": "2024-02-04T16:03:34.952244",
     "exception": false,
     "start_time": "2024-02-04T16:03:34.941667",
     "status": "completed"
    },
    "tags": []
   },
   "source": [
    "* **A unigram, in the context of natural language processing (NLP) and linguistics, refers to a single unit or token of a word. It is the simplest form of linguistic analysis where text is broken down into individual words. In other words, a unigram is a term used to describe a single word in a sequence of words.**\n",
    "* **Unigrams are the building blocks for more complex linguistic analyses, such as bigrams (pairs of consecutive words), trigrams (triplets of consecutive words), and n-grams in general.**"
   ]
  },
  {
   "cell_type": "code",
   "execution_count": 9,
   "id": "a3abcf42",
   "metadata": {
    "execution": {
     "iopub.execute_input": "2024-02-04T16:03:34.975631Z",
     "iopub.status.busy": "2024-02-04T16:03:34.975235Z",
     "iopub.status.idle": "2024-02-04T16:03:34.995423Z",
     "shell.execute_reply": "2024-02-04T16:03:34.994505Z"
    },
    "papermill": {
     "duration": 0.03479,
     "end_time": "2024-02-04T16:03:34.997772",
     "exception": false,
     "start_time": "2024-02-04T16:03:34.962982",
     "status": "completed"
    },
    "tags": []
   },
   "outputs": [
    {
     "data": {
      "text/html": [
       "<div>\n",
       "<style scoped>\n",
       "    .dataframe tbody tr th:only-of-type {\n",
       "        vertical-align: middle;\n",
       "    }\n",
       "\n",
       "    .dataframe tbody tr th {\n",
       "        vertical-align: top;\n",
       "    }\n",
       "\n",
       "    .dataframe thead th {\n",
       "        text-align: right;\n",
       "    }\n",
       "</style>\n",
       "<table border=\"1\" class=\"dataframe\">\n",
       "  <thead>\n",
       "    <tr style=\"text-align: right;\">\n",
       "      <th></th>\n",
       "      <th>fox</th>\n",
       "      <th>in</th>\n",
       "      <th>the</th>\n",
       "      <th>quick</th>\n",
       "      <th>cat</th>\n",
       "      <th>blue</th>\n",
       "      <th>is</th>\n",
       "      <th>brown</th>\n",
       "      <th>hat</th>\n",
       "    </tr>\n",
       "  </thead>\n",
       "  <tbody>\n",
       "    <tr>\n",
       "      <th>0</th>\n",
       "      <td>0</td>\n",
       "      <td>1</td>\n",
       "      <td>2</td>\n",
       "      <td>0</td>\n",
       "      <td>1</td>\n",
       "      <td>0</td>\n",
       "      <td>0</td>\n",
       "      <td>0</td>\n",
       "      <td>1</td>\n",
       "    </tr>\n",
       "    <tr>\n",
       "      <th>1</th>\n",
       "      <td>1</td>\n",
       "      <td>0</td>\n",
       "      <td>1</td>\n",
       "      <td>1</td>\n",
       "      <td>0</td>\n",
       "      <td>0</td>\n",
       "      <td>0</td>\n",
       "      <td>1</td>\n",
       "      <td>0</td>\n",
       "    </tr>\n",
       "    <tr>\n",
       "      <th>2</th>\n",
       "      <td>0</td>\n",
       "      <td>0</td>\n",
       "      <td>1</td>\n",
       "      <td>0</td>\n",
       "      <td>0</td>\n",
       "      <td>1</td>\n",
       "      <td>1</td>\n",
       "      <td>0</td>\n",
       "      <td>1</td>\n",
       "    </tr>\n",
       "  </tbody>\n",
       "</table>\n",
       "</div>"
      ],
      "text/plain": [
       "   fox  in  the  quick  cat  blue  is  brown  hat\n",
       "0    0   1    2      0    1     0   0      0    1\n",
       "1    1   0    1      1    0     0   0      1    0\n",
       "2    0   0    1      0    0     1   1      0    1"
      ]
     },
     "execution_count": 9,
     "metadata": {},
     "output_type": "execute_result"
    }
   ],
   "source": [
    "#Probability of unigram P(w)=C(w)/m same idea of TF\n",
    "def count_wrd_Doc(wrd,doc):\n",
    "    i=0\n",
    "    for w in doc.lower().split(' '):\n",
    "        if wrd == w:\n",
    "            i = i+1\n",
    "    return i\n",
    "    \n",
    "unigram_df = pd.DataFrame(columns=list(wrds)) #empty dataframe initialized with words column headers\n",
    "freq_lst=[] #empty list for each column to save word frequencies in each document\n",
    "for c in tf_df.columns:\n",
    "    freq_lst=[]#empty the list\n",
    "    for d in Docs:\n",
    "        freq_lst.append(count_wrd_Doc(c,d))#append the frequency of word in document d\n",
    "    unigram_df[c]=freq_lst #assign values to column\n",
    "unigram_df #display the dataframe of TF for each word in each document"
   ]
  },
  {
   "cell_type": "markdown",
   "id": "f8b37dbf",
   "metadata": {
    "papermill": {
     "duration": 0.011639,
     "end_time": "2024-02-04T16:03:35.022558",
     "exception": false,
     "start_time": "2024-02-04T16:03:35.010919",
     "status": "completed"
    },
    "tags": []
   },
   "source": [
    "# Unigrams python function"
   ]
  },
  {
   "cell_type": "code",
   "execution_count": 10,
   "id": "45bff525",
   "metadata": {
    "execution": {
     "iopub.execute_input": "2024-02-04T16:03:35.048084Z",
     "iopub.status.busy": "2024-02-04T16:03:35.047371Z",
     "iopub.status.idle": "2024-02-04T16:03:35.899261Z",
     "shell.execute_reply": "2024-02-04T16:03:35.897812Z"
    },
    "papermill": {
     "duration": 0.868389,
     "end_time": "2024-02-04T16:03:35.902067",
     "exception": false,
     "start_time": "2024-02-04T16:03:35.033678",
     "status": "completed"
    },
    "tags": []
   },
   "outputs": [
    {
     "name": "stdout",
     "output_type": "stream",
     "text": [
      "('the',): 2\n",
      "('cat',): 1\n",
      "('in',): 1\n",
      "('hat',): 1\n",
      "('the',): 1\n",
      "('quick',): 1\n",
      "('brown',): 1\n",
      "('fox',): 1\n",
      "('the',): 1\n",
      "('hat',): 1\n",
      "('is',): 1\n",
      "('blue',): 1\n"
     ]
    }
   ],
   "source": [
    "from nltk import ngrams\n",
    "from nltk.tokenize import word_tokenize\n",
    "from nltk.probability import FreqDist, MLEProbDist\n",
    "\n",
    "for d in Docs:\n",
    "    words = word_tokenize(d.lower())\n",
    "    result = list(ngrams(words, 1))\n",
    "    # Calculate frequency distribution of bigrams\n",
    "    ngram_freq = FreqDist(result)\n",
    "    for word, frequency in ngram_freq.items():\n",
    "        print(f\"{word}: {frequency}\")"
   ]
  },
  {
   "cell_type": "markdown",
   "id": "4659b45c",
   "metadata": {
    "papermill": {
     "duration": 0.011592,
     "end_time": "2024-02-04T16:03:35.926457",
     "exception": false,
     "start_time": "2024-02-04T16:03:35.914865",
     "status": "completed"
    },
    "tags": []
   },
   "source": [
    "# Bigram"
   ]
  },
  {
   "cell_type": "markdown",
   "id": "6cc5dfec",
   "metadata": {
    "papermill": {
     "duration": 0.011454,
     "end_time": "2024-02-04T16:03:35.949348",
     "exception": false,
     "start_time": "2024-02-04T16:03:35.937894",
     "status": "completed"
    },
    "tags": []
   },
   "source": [
    "* **A bigram, in the context of natural language processing (NLP) and linguistics, refers to an ordered pair of consecutive words within a text or sequence of words. It is a type of n-gram, where \"n\" represents the number of words in the sequence.**"
   ]
  },
  {
   "cell_type": "code",
   "execution_count": 11,
   "id": "52732340",
   "metadata": {
    "execution": {
     "iopub.execute_input": "2024-02-04T16:03:35.976263Z",
     "iopub.status.busy": "2024-02-04T16:03:35.975771Z",
     "iopub.status.idle": "2024-02-04T16:03:36.016568Z",
     "shell.execute_reply": "2024-02-04T16:03:36.015226Z"
    },
    "papermill": {
     "duration": 0.057865,
     "end_time": "2024-02-04T16:03:36.019720",
     "exception": false,
     "start_time": "2024-02-04T16:03:35.961855",
     "status": "completed"
    },
    "tags": []
   },
   "outputs": [
    {
     "data": {
      "text/html": [
       "<div>\n",
       "<style scoped>\n",
       "    .dataframe tbody tr th:only-of-type {\n",
       "        vertical-align: middle;\n",
       "    }\n",
       "\n",
       "    .dataframe tbody tr th {\n",
       "        vertical-align: top;\n",
       "    }\n",
       "\n",
       "    .dataframe thead th {\n",
       "        text-align: right;\n",
       "    }\n",
       "</style>\n",
       "<table border=\"1\" class=\"dataframe\">\n",
       "  <thead>\n",
       "    <tr style=\"text-align: right;\">\n",
       "      <th></th>\n",
       "      <th>the cat</th>\n",
       "      <th>cat in</th>\n",
       "      <th>in the</th>\n",
       "      <th>the hat</th>\n",
       "      <th>the quick</th>\n",
       "      <th>quick brown</th>\n",
       "      <th>brown fox</th>\n",
       "      <th>the hat</th>\n",
       "      <th>hat is</th>\n",
       "      <th>is blue</th>\n",
       "    </tr>\n",
       "  </thead>\n",
       "  <tbody>\n",
       "    <tr>\n",
       "      <th>0</th>\n",
       "      <td>1</td>\n",
       "      <td>1</td>\n",
       "      <td>1</td>\n",
       "      <td>1</td>\n",
       "      <td>0</td>\n",
       "      <td>0</td>\n",
       "      <td>0</td>\n",
       "      <td>1</td>\n",
       "      <td>0</td>\n",
       "      <td>0</td>\n",
       "    </tr>\n",
       "    <tr>\n",
       "      <th>1</th>\n",
       "      <td>0</td>\n",
       "      <td>0</td>\n",
       "      <td>0</td>\n",
       "      <td>0</td>\n",
       "      <td>1</td>\n",
       "      <td>1</td>\n",
       "      <td>1</td>\n",
       "      <td>0</td>\n",
       "      <td>0</td>\n",
       "      <td>0</td>\n",
       "    </tr>\n",
       "    <tr>\n",
       "      <th>2</th>\n",
       "      <td>0</td>\n",
       "      <td>0</td>\n",
       "      <td>0</td>\n",
       "      <td>1</td>\n",
       "      <td>0</td>\n",
       "      <td>0</td>\n",
       "      <td>0</td>\n",
       "      <td>1</td>\n",
       "      <td>1</td>\n",
       "      <td>1</td>\n",
       "    </tr>\n",
       "  </tbody>\n",
       "</table>\n",
       "</div>"
      ],
      "text/plain": [
       "   the cat  cat in  in the  the hat  the quick  quick brown  brown fox  \\\n",
       "0        1       1       1        1          0            0          0   \n",
       "1        0       0       0        0          1            1          1   \n",
       "2        0       0       0        1          0            0          0   \n",
       "\n",
       "   the hat  hat is  is blue  \n",
       "0        1       0        0  \n",
       "1        0       0        0  \n",
       "2        1       1        1  "
      ]
     },
     "execution_count": 11,
     "metadata": {},
     "output_type": "execute_result"
    }
   ],
   "source": [
    "#get bi-grams of input sentence\n",
    "def bi_lst(doc):\n",
    "    wrds = doc.lower().split(' ')\n",
    "    bi_lst = []\n",
    "    for j in range(0,len(wrds)-1):\n",
    "        bi_lst.append(wrds[j:j+2])\n",
    "    return bi_lst\n",
    "\n",
    "lst = []\n",
    "for d in Docs:\n",
    "    lst.extend(bi_lst(d))\n",
    "unique_list = []\n",
    "unique_list = [item for item in lst if item not in unique_list]\n",
    "\n",
    "def count_biwrd_Doc(st,doc):\n",
    "    i=0    \n",
    "    for s in bi_lst(doc):\n",
    "        if s == st.split(' '):\n",
    "            i = i+1\n",
    "    return i\n",
    "bigram_df = pd.DataFrame(columns=list((' '.join(x) for x in unique_list))) #empty dataframe initialized with words column headers\n",
    "freq_lst=[] #empty list for each column to save word frequencies in each document\n",
    "for c in bigram_df.columns:\n",
    "    freq_lst=[]#empty the list\n",
    "    for d in Docs:\n",
    "        freq_lst.append(count_biwrd_Doc(c,d))#append the frequency of word in document d\n",
    "    bigram_df[c]=freq_lst #assign values to column\n",
    "bigram_df #display the dataframe of TF for each word in each document"
   ]
  },
  {
   "cell_type": "markdown",
   "id": "ab992d3a",
   "metadata": {
    "papermill": {
     "duration": 0.01318,
     "end_time": "2024-02-04T16:03:36.045759",
     "exception": false,
     "start_time": "2024-02-04T16:03:36.032579",
     "status": "completed"
    },
    "tags": []
   },
   "source": [
    "# Bigrams python function"
   ]
  },
  {
   "cell_type": "code",
   "execution_count": 12,
   "id": "c692dea0",
   "metadata": {
    "execution": {
     "iopub.execute_input": "2024-02-04T16:03:36.148516Z",
     "iopub.status.busy": "2024-02-04T16:03:36.147598Z",
     "iopub.status.idle": "2024-02-04T16:03:36.157609Z",
     "shell.execute_reply": "2024-02-04T16:03:36.155579Z"
    },
    "papermill": {
     "duration": 0.026887,
     "end_time": "2024-02-04T16:03:36.160742",
     "exception": false,
     "start_time": "2024-02-04T16:03:36.133855",
     "status": "completed"
    },
    "tags": []
   },
   "outputs": [
    {
     "name": "stdout",
     "output_type": "stream",
     "text": [
      "('the', 'cat'): 1\n",
      "('cat', 'in'): 1\n",
      "('in', 'the'): 1\n",
      "('the', 'hat'): 1\n",
      "('the', 'quick'): 1\n",
      "('quick', 'brown'): 1\n",
      "('brown', 'fox'): 1\n",
      "('the', 'hat'): 1\n",
      "('hat', 'is'): 1\n",
      "('is', 'blue'): 1\n"
     ]
    }
   ],
   "source": [
    "for d in Docs:\n",
    "    words = word_tokenize(d.lower())\n",
    "    result = list(ngrams(words, 2))\n",
    "    # Calculate frequency distribution of bigrams\n",
    "    ngram_freq = FreqDist(result)\n",
    "    for word, frequency in ngram_freq.items():\n",
    "        print(f\"{word}: {frequency}\")"
   ]
  },
  {
   "cell_type": "code",
   "execution_count": 13,
   "id": "348e052f",
   "metadata": {
    "execution": {
     "iopub.execute_input": "2024-02-04T16:03:36.190691Z",
     "iopub.status.busy": "2024-02-04T16:03:36.190017Z",
     "iopub.status.idle": "2024-02-04T16:03:36.210479Z",
     "shell.execute_reply": "2024-02-04T16:03:36.209230Z"
    },
    "papermill": {
     "duration": 0.038054,
     "end_time": "2024-02-04T16:03:36.213002",
     "exception": false,
     "start_time": "2024-02-04T16:03:36.174948",
     "status": "completed"
    },
    "tags": []
   },
   "outputs": [
    {
     "data": {
      "text/html": [
       "<div>\n",
       "<style scoped>\n",
       "    .dataframe tbody tr th:only-of-type {\n",
       "        vertical-align: middle;\n",
       "    }\n",
       "\n",
       "    .dataframe tbody tr th {\n",
       "        vertical-align: top;\n",
       "    }\n",
       "\n",
       "    .dataframe thead th {\n",
       "        text-align: right;\n",
       "    }\n",
       "</style>\n",
       "<table border=\"1\" class=\"dataframe\">\n",
       "  <thead>\n",
       "    <tr style=\"text-align: right;\">\n",
       "      <th></th>\n",
       "      <th>fox</th>\n",
       "      <th>in</th>\n",
       "      <th>the</th>\n",
       "      <th>quick</th>\n",
       "      <th>cat</th>\n",
       "      <th>blue</th>\n",
       "      <th>is</th>\n",
       "      <th>brown</th>\n",
       "      <th>hat</th>\n",
       "    </tr>\n",
       "  </thead>\n",
       "  <tbody>\n",
       "    <tr>\n",
       "      <th>0</th>\n",
       "      <td>0</td>\n",
       "      <td>1</td>\n",
       "      <td>2</td>\n",
       "      <td>0</td>\n",
       "      <td>1</td>\n",
       "      <td>0</td>\n",
       "      <td>0</td>\n",
       "      <td>0</td>\n",
       "      <td>1</td>\n",
       "    </tr>\n",
       "    <tr>\n",
       "      <th>1</th>\n",
       "      <td>1</td>\n",
       "      <td>0</td>\n",
       "      <td>1</td>\n",
       "      <td>1</td>\n",
       "      <td>0</td>\n",
       "      <td>0</td>\n",
       "      <td>0</td>\n",
       "      <td>1</td>\n",
       "      <td>0</td>\n",
       "    </tr>\n",
       "    <tr>\n",
       "      <th>2</th>\n",
       "      <td>0</td>\n",
       "      <td>0</td>\n",
       "      <td>1</td>\n",
       "      <td>0</td>\n",
       "      <td>0</td>\n",
       "      <td>1</td>\n",
       "      <td>1</td>\n",
       "      <td>0</td>\n",
       "      <td>1</td>\n",
       "    </tr>\n",
       "  </tbody>\n",
       "</table>\n",
       "</div>"
      ],
      "text/plain": [
       "   fox  in  the  quick  cat  blue  is  brown  hat\n",
       "0    0   1    2      0    1     0   0      0    1\n",
       "1    1   0    1      1    0     0   0      1    0\n",
       "2    0   0    1      0    0     1   1      0    1"
      ]
     },
     "execution_count": 13,
     "metadata": {},
     "output_type": "execute_result"
    }
   ],
   "source": [
    "def count_wrd_Doc(wrd,doc):\n",
    "    i=0\n",
    "    for w in doc.lower().split(' '):\n",
    "        if wrd == w:\n",
    "            i = i+1\n",
    "    return i\n",
    "    \n",
    "cw_df = pd.DataFrame(columns=list(wrds)) #empty dataframe initialized with words column headers\n",
    "freq_lst=[] #empty list for each column to save word frequencies in each document\n",
    "for c in tf_df.columns:\n",
    "    freq_lst=[]#empty the list\n",
    "    for d in Docs:\n",
    "        freq_lst.append(count_wrd_Doc(c,d))#append the frequency of word in document d\n",
    "    cw_df[c]=freq_lst #assign values to column\n",
    "cw_df #display the datafram"
   ]
  },
  {
   "cell_type": "code",
   "execution_count": 14,
   "id": "c64accfc",
   "metadata": {
    "execution": {
     "iopub.execute_input": "2024-02-04T16:03:36.252201Z",
     "iopub.status.busy": "2024-02-04T16:03:36.251721Z",
     "iopub.status.idle": "2024-02-04T16:03:36.263768Z",
     "shell.execute_reply": "2024-02-04T16:03:36.261865Z"
    },
    "papermill": {
     "duration": 0.028795,
     "end_time": "2024-02-04T16:03:36.266762",
     "exception": false,
     "start_time": "2024-02-04T16:03:36.237967",
     "status": "completed"
    },
    "tags": []
   },
   "outputs": [
    {
     "name": "stdout",
     "output_type": "stream",
     "text": [
      "Bag of Words representation:\n",
      "[[0 0 1 0 1 1 0 0 2]\n",
      " [0 1 0 1 0 0 0 1 1]\n",
      " [1 0 0 0 1 0 1 0 1]]\n"
     ]
    }
   ],
   "source": [
    "from sklearn.feature_extraction.text import CountVectorizer\n",
    "# Create a CountVectorizer instance\n",
    "vectorizer = CountVectorizer()\n",
    "\n",
    "# Fit and transform the documents to create the Bag of Words representation\n",
    "X_bow = vectorizer.fit_transform(Docs)\n",
    "\n",
    "# Print the Bag of Words representation\n",
    "print(\"Bag of Words representation:\")\n",
    "print(X_bow.toarray())"
   ]
  }
 ],
 "metadata": {
  "kaggle": {
   "accelerator": "none",
   "dataSources": [],
   "dockerImageVersionId": 30635,
   "isGpuEnabled": false,
   "isInternetEnabled": true,
   "language": "python",
   "sourceType": "notebook"
  },
  "kernelspec": {
   "display_name": "Python 3",
   "language": "python",
   "name": "python3"
  },
  "language_info": {
   "codemirror_mode": {
    "name": "ipython",
    "version": 3
   },
   "file_extension": ".py",
   "mimetype": "text/x-python",
   "name": "python",
   "nbconvert_exporter": "python",
   "pygments_lexer": "ipython3",
   "version": "3.10.12"
  },
  "papermill": {
   "default_parameters": {},
   "duration": 9.935175,
   "end_time": "2024-02-04T16:03:37.002648",
   "environment_variables": {},
   "exception": null,
   "input_path": "__notebook__.ipynb",
   "output_path": "__notebook__.ipynb",
   "parameters": {},
   "start_time": "2024-02-04T16:03:27.067473",
   "version": "2.4.0"
  }
 },
 "nbformat": 4,
 "nbformat_minor": 5
}
