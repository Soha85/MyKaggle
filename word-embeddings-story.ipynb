{
 "cells": [
  {
   "cell_type": "markdown",
   "id": "b0f7a040",
   "metadata": {
    "papermill": {
     "duration": 0.008829,
     "end_time": "2024-02-10T18:11:40.412085",
     "exception": false,
     "start_time": "2024-02-10T18:11:40.403256",
     "status": "completed"
    },
    "tags": []
   },
   "source": [
    "# Main breakthroughs in Word embeddings, from Word Counts to LLMs:\n",
    "\n",
    "**Low-tech beginnings:**\n",
    "\n",
    "* **Word Counts:** Basic frequency of words in a corpus served as initial representations. Useful for simple tasks but ignored semantic relationships.\n",
    "* **Term Frequency (TF):** simply counting the occurrences of words within a corpus was one of the earliest methods for representing words. This basic approach laid the foundation for more sophisticated techniques.\n",
    "* **N-grams:** These are sequences of n consecutive words (e.g., bigrams for pairs, trigrams for triplets). By analyzing n-gram frequencies, we can capture some local context and word relationships, going beyond individual word counts.\n",
    "\n",
    "\n",
    "**Distributional Semantics:**\n",
    "\n",
    "* **Word2Vec (2013):** First major breakthrough. Learned word embeddings by predicting surrounding words, capturing semantic similarities.\n",
    "* **GloVe (2014):** Leverages co-occurrence statistics for better context sensitivity.\n",
    "* **FastText (2016):** Incorporates subword information, handling rare words and morphological variants.\n",
    "\n",
    "**Contextual Embeddings:**\n",
    "\n",
    "* **ELMo (2018):** Uses bi-directional LSTMs to capture word meaning based on surrounding context.\n",
    "* **BERT (2018):** Pre-trained transformer model on large unlabeled text, learning contextualized representations.\n",
    "* **XLNet (2019):** Builds upon BERT's masked language modeling with permutation language modeling for better understanding of word relationships.\n",
    "\n",
    "**Towards Understanding and Generation:**\n",
    "\n",
    "* **GPT-3 (2020):** Generative Pre-trained Transformer 3, a large language model (LLM) with impressive text generation capabilities.\n",
    "* **LaMDA (2021):** Language Model for Dialogue Applications, focuses on factual consistency and grounding in conversation.\n",
    "* **PaLM (2022):** Pathways Language Model, pushes the boundaries of LLM size and performance, demonstrating progress in reasoning and question answering."
   ]
  },
  {
   "cell_type": "markdown",
   "id": "938c950e",
   "metadata": {
    "papermill": {
     "duration": 0.008185,
     "end_time": "2024-02-10T18:11:40.428845",
     "exception": false,
     "start_time": "2024-02-10T18:11:40.420660",
     "status": "completed"
    },
    "tags": []
   },
   "source": [
    "# Import Libraries"
   ]
  },
  {
   "cell_type": "code",
   "execution_count": 1,
   "id": "4b939af9",
   "metadata": {
    "execution": {
     "iopub.execute_input": "2024-02-10T18:11:40.447021Z",
     "iopub.status.busy": "2024-02-10T18:11:40.446615Z",
     "iopub.status.idle": "2024-02-10T18:11:54.510193Z",
     "shell.execute_reply": "2024-02-10T18:11:54.509026Z"
    },
    "papermill": {
     "duration": 14.075677,
     "end_time": "2024-02-10T18:11:54.512854",
     "exception": false,
     "start_time": "2024-02-10T18:11:40.437177",
     "status": "completed"
    },
    "tags": []
   },
   "outputs": [],
   "source": [
    "import pandas as pd\n",
    "import math\n",
    "from sklearn.feature_extraction.text import TfidfVectorizer\n",
    "from nltk import ngrams\n",
    "from nltk.tokenize import word_tokenize\n",
    "from nltk.probability import FreqDist, MLEProbDist\n",
    "from sklearn.feature_extraction.text import CountVectorizer\n",
    "import numpy as np\n",
    "import keras\n",
    "from scipy.sparse.linalg import svds\n",
    "from sklearn.decomposition import TruncatedSVD"
   ]
  },
  {
   "cell_type": "markdown",
   "id": "9ed9e95f",
   "metadata": {
    "papermill": {
     "duration": 0.007952,
     "end_time": "2024-02-10T18:11:54.529400",
     "exception": false,
     "start_time": "2024-02-10T18:11:54.521448",
     "status": "completed"
    },
    "tags": []
   },
   "source": [
    "**Define Documents list**"
   ]
  },
  {
   "cell_type": "code",
   "execution_count": 2,
   "id": "7c018b66",
   "metadata": {
    "execution": {
     "iopub.execute_input": "2024-02-10T18:11:54.547831Z",
     "iopub.status.busy": "2024-02-10T18:11:54.547144Z",
     "iopub.status.idle": "2024-02-10T18:11:54.552085Z",
     "shell.execute_reply": "2024-02-10T18:11:54.551167Z"
    },
    "papermill": {
     "duration": 0.016268,
     "end_time": "2024-02-10T18:11:54.553881",
     "exception": false,
     "start_time": "2024-02-10T18:11:54.537613",
     "status": "completed"
    },
    "tags": []
   },
   "outputs": [],
   "source": [
    "Doc_1= \"The cat in the hat\"\n",
    "Doc_2= \"The quick brown fox\"\n",
    "Doc_3= \"The hat is blue\"\n",
    "\n",
    "Docs =[Doc_1,Doc_2,Doc_3]"
   ]
  },
  {
   "cell_type": "markdown",
   "id": "8adb67c1",
   "metadata": {
    "papermill": {
     "duration": 0.007881,
     "end_time": "2024-02-10T18:11:54.569975",
     "exception": false,
     "start_time": "2024-02-10T18:11:54.562094",
     "status": "completed"
    },
    "tags": []
   },
   "source": [
    "# **Term Frequency (TF)**\n",
    "* **TF(t,d) is the term frequency of term t in document d (how often the term appears in the document).*** **TF(t,d) is the term frequency of term t in document d (how often the term appears in the document).**"
   ]
  },
  {
   "cell_type": "code",
   "execution_count": 3,
   "id": "b269e999",
   "metadata": {
    "execution": {
     "iopub.execute_input": "2024-02-10T18:11:54.597712Z",
     "iopub.status.busy": "2024-02-10T18:11:54.596839Z",
     "iopub.status.idle": "2024-02-10T18:11:54.603784Z",
     "shell.execute_reply": "2024-02-10T18:11:54.603099Z"
    },
    "papermill": {
     "duration": 0.018162,
     "end_time": "2024-02-10T18:11:54.605596",
     "exception": false,
     "start_time": "2024-02-10T18:11:54.587434",
     "status": "completed"
    },
    "tags": []
   },
   "outputs": [
    {
     "data": {
      "text/plain": [
       "{'blue', 'brown', 'cat', 'fox', 'hat', 'in', 'is', 'quick', 'the'}"
      ]
     },
     "execution_count": 3,
     "metadata": {},
     "output_type": "execute_result"
    }
   ],
   "source": [
    "#get distinct words for each document\n",
    "lst = []\n",
    "for d in Docs:\n",
    "    lst.extend(d.lower().split(' '))\n",
    "wrds = set(lst) # remove duplicate words\n",
    "wrds"
   ]
  },
  {
   "cell_type": "code",
   "execution_count": 4,
   "id": "c75e609f",
   "metadata": {
    "execution": {
     "iopub.execute_input": "2024-02-10T18:11:54.624432Z",
     "iopub.status.busy": "2024-02-10T18:11:54.623893Z",
     "iopub.status.idle": "2024-02-10T18:11:54.657989Z",
     "shell.execute_reply": "2024-02-10T18:11:54.656925Z"
    },
    "papermill": {
     "duration": 0.046111,
     "end_time": "2024-02-10T18:11:54.660138",
     "exception": false,
     "start_time": "2024-02-10T18:11:54.614027",
     "status": "completed"
    },
    "tags": []
   },
   "outputs": [
    {
     "data": {
      "text/html": [
       "<div>\n",
       "<style scoped>\n",
       "    .dataframe tbody tr th:only-of-type {\n",
       "        vertical-align: middle;\n",
       "    }\n",
       "\n",
       "    .dataframe tbody tr th {\n",
       "        vertical-align: top;\n",
       "    }\n",
       "\n",
       "    .dataframe thead th {\n",
       "        text-align: right;\n",
       "    }\n",
       "</style>\n",
       "<table border=\"1\" class=\"dataframe\">\n",
       "  <thead>\n",
       "    <tr style=\"text-align: right;\">\n",
       "      <th></th>\n",
       "      <th>in</th>\n",
       "      <th>cat</th>\n",
       "      <th>brown</th>\n",
       "      <th>fox</th>\n",
       "      <th>blue</th>\n",
       "      <th>quick</th>\n",
       "      <th>hat</th>\n",
       "      <th>is</th>\n",
       "      <th>the</th>\n",
       "    </tr>\n",
       "  </thead>\n",
       "  <tbody>\n",
       "    <tr>\n",
       "      <th>0</th>\n",
       "      <td>0.2</td>\n",
       "      <td>0.2</td>\n",
       "      <td>0.00</td>\n",
       "      <td>0.00</td>\n",
       "      <td>0.00</td>\n",
       "      <td>0.00</td>\n",
       "      <td>0.20</td>\n",
       "      <td>0.00</td>\n",
       "      <td>0.40</td>\n",
       "    </tr>\n",
       "    <tr>\n",
       "      <th>1</th>\n",
       "      <td>0.0</td>\n",
       "      <td>0.0</td>\n",
       "      <td>0.25</td>\n",
       "      <td>0.25</td>\n",
       "      <td>0.00</td>\n",
       "      <td>0.25</td>\n",
       "      <td>0.00</td>\n",
       "      <td>0.00</td>\n",
       "      <td>0.25</td>\n",
       "    </tr>\n",
       "    <tr>\n",
       "      <th>2</th>\n",
       "      <td>0.0</td>\n",
       "      <td>0.0</td>\n",
       "      <td>0.00</td>\n",
       "      <td>0.00</td>\n",
       "      <td>0.25</td>\n",
       "      <td>0.00</td>\n",
       "      <td>0.25</td>\n",
       "      <td>0.25</td>\n",
       "      <td>0.25</td>\n",
       "    </tr>\n",
       "  </tbody>\n",
       "</table>\n",
       "</div>"
      ],
      "text/plain": [
       "    in  cat  brown   fox  blue  quick   hat    is   the\n",
       "0  0.2  0.2   0.00  0.00  0.00   0.00  0.20  0.00  0.40\n",
       "1  0.0  0.0   0.25  0.25  0.00   0.25  0.00  0.00  0.25\n",
       "2  0.0  0.0   0.00  0.00  0.25   0.00  0.25  0.25  0.25"
      ]
     },
     "execution_count": 4,
     "metadata": {},
     "output_type": "execute_result"
    }
   ],
   "source": [
    "#form a dataframe to represent TF for each word in each Document where columns are words and rows are documents\n",
    "def count_wrd_Doc(wrd,doc):\n",
    "    i=0\n",
    "    for w in doc.lower().split(' '):\n",
    "        if wrd == w:\n",
    "            i = i+1\n",
    "    return i/len(doc.lower().split(' '))\n",
    "    \n",
    "tf_df = pd.DataFrame(columns=list(wrds)) #empty dataframe initialized with words column headers\n",
    "freq_lst=[] #empty list for each column to save word frequencies in each document\n",
    "for c in tf_df.columns:\n",
    "    freq_lst=[]#empty the list\n",
    "    for d in Docs:\n",
    "        freq_lst.append(count_wrd_Doc(c,d))#append the frequency of word in document d\n",
    "    tf_df[c]=freq_lst #assign values to column\n",
    "tf_df #display the dataframe of TF for each word in each document"
   ]
  },
  {
   "cell_type": "markdown",
   "id": "3b90adeb",
   "metadata": {
    "papermill": {
     "duration": 0.008222,
     "end_time": "2024-02-10T18:11:54.676992",
     "exception": false,
     "start_time": "2024-02-10T18:11:54.668770",
     "status": "completed"
    },
    "tags": []
   },
   "source": [
    "**Document Frequency (DF)**\n",
    "* **Calculate Document Frequency (DF): the word appears in how many documents*** **Calculate Document Frequency (DF): the word appears in how many documents**"
   ]
  },
  {
   "cell_type": "code",
   "execution_count": 5,
   "id": "26f9806e",
   "metadata": {
    "execution": {
     "iopub.execute_input": "2024-02-10T18:11:54.696226Z",
     "iopub.status.busy": "2024-02-10T18:11:54.695619Z",
     "iopub.status.idle": "2024-02-10T18:11:54.709894Z",
     "shell.execute_reply": "2024-02-10T18:11:54.708784Z"
    },
    "papermill": {
     "duration": 0.02598,
     "end_time": "2024-02-10T18:11:54.711858",
     "exception": false,
     "start_time": "2024-02-10T18:11:54.685878",
     "status": "completed"
    },
    "tags": []
   },
   "outputs": [
    {
     "data": {
      "text/html": [
       "<div>\n",
       "<style scoped>\n",
       "    .dataframe tbody tr th:only-of-type {\n",
       "        vertical-align: middle;\n",
       "    }\n",
       "\n",
       "    .dataframe tbody tr th {\n",
       "        vertical-align: top;\n",
       "    }\n",
       "\n",
       "    .dataframe thead th {\n",
       "        text-align: right;\n",
       "    }\n",
       "</style>\n",
       "<table border=\"1\" class=\"dataframe\">\n",
       "  <thead>\n",
       "    <tr style=\"text-align: right;\">\n",
       "      <th></th>\n",
       "      <th>in</th>\n",
       "      <th>cat</th>\n",
       "      <th>brown</th>\n",
       "      <th>fox</th>\n",
       "      <th>blue</th>\n",
       "      <th>quick</th>\n",
       "      <th>hat</th>\n",
       "      <th>is</th>\n",
       "      <th>the</th>\n",
       "    </tr>\n",
       "  </thead>\n",
       "  <tbody>\n",
       "    <tr>\n",
       "      <th>0</th>\n",
       "      <td>1</td>\n",
       "      <td>1</td>\n",
       "      <td>1</td>\n",
       "      <td>1</td>\n",
       "      <td>1</td>\n",
       "      <td>1</td>\n",
       "      <td>2</td>\n",
       "      <td>1</td>\n",
       "      <td>3</td>\n",
       "    </tr>\n",
       "  </tbody>\n",
       "</table>\n",
       "</div>"
      ],
      "text/plain": [
       "   in  cat  brown  fox  blue  quick  hat  is  the\n",
       "0   1    1      1    1     1      1    2   1    3"
      ]
     },
     "execution_count": 5,
     "metadata": {},
     "output_type": "execute_result"
    }
   ],
   "source": [
    "df_df = pd.DataFrame(columns=list(wrds)) #empty dataframe initialized with words column headers\n",
    "for c in df_df.columns:\n",
    "    df_df[c] = [sum(1 for doc in Docs if c in doc.lower().split(' '))]\n",
    "df_df #display the dataframe of DF for each word "
   ]
  },
  {
   "cell_type": "markdown",
   "id": "960da442",
   "metadata": {
    "papermill": {
     "duration": 0.008299,
     "end_time": "2024-02-10T18:11:54.728962",
     "exception": false,
     "start_time": "2024-02-10T18:11:54.720663",
     "status": "completed"
    },
    "tags": []
   },
   "source": [
    "**Inverse Document Frequency (IDF)**\n",
    "* **IDF(t,D) is the inverse document frequency of term t in the entire document set D (logarithmically scaled inverse fraction of the documents that contain the term).*** **IDF(t,D) is the inverse document frequency of term t in the entire document set D (logarithmically scaled inverse fraction of the documents that contain the term).**"
   ]
  },
  {
   "cell_type": "code",
   "execution_count": 6,
   "id": "574e8068",
   "metadata": {
    "execution": {
     "iopub.execute_input": "2024-02-10T18:11:54.748096Z",
     "iopub.status.busy": "2024-02-10T18:11:54.747463Z",
     "iopub.status.idle": "2024-02-10T18:11:54.765714Z",
     "shell.execute_reply": "2024-02-10T18:11:54.764630Z"
    },
    "papermill": {
     "duration": 0.030348,
     "end_time": "2024-02-10T18:11:54.767838",
     "exception": false,
     "start_time": "2024-02-10T18:11:54.737490",
     "status": "completed"
    },
    "tags": []
   },
   "outputs": [
    {
     "data": {
      "text/html": [
       "<div>\n",
       "<style scoped>\n",
       "    .dataframe tbody tr th:only-of-type {\n",
       "        vertical-align: middle;\n",
       "    }\n",
       "\n",
       "    .dataframe tbody tr th {\n",
       "        vertical-align: top;\n",
       "    }\n",
       "\n",
       "    .dataframe thead th {\n",
       "        text-align: right;\n",
       "    }\n",
       "</style>\n",
       "<table border=\"1\" class=\"dataframe\">\n",
       "  <thead>\n",
       "    <tr style=\"text-align: right;\">\n",
       "      <th></th>\n",
       "      <th>in</th>\n",
       "      <th>cat</th>\n",
       "      <th>brown</th>\n",
       "      <th>fox</th>\n",
       "      <th>blue</th>\n",
       "      <th>quick</th>\n",
       "      <th>hat</th>\n",
       "      <th>is</th>\n",
       "      <th>the</th>\n",
       "    </tr>\n",
       "  </thead>\n",
       "  <tbody>\n",
       "    <tr>\n",
       "      <th>0</th>\n",
       "      <td>1.693147</td>\n",
       "      <td>1.693147</td>\n",
       "      <td>1.693147</td>\n",
       "      <td>1.693147</td>\n",
       "      <td>1.693147</td>\n",
       "      <td>1.693147</td>\n",
       "      <td>1.287682</td>\n",
       "      <td>1.693147</td>\n",
       "      <td>1.0</td>\n",
       "    </tr>\n",
       "  </tbody>\n",
       "</table>\n",
       "</div>"
      ],
      "text/plain": [
       "         in       cat     brown       fox      blue     quick       hat  \\\n",
       "0  1.693147  1.693147  1.693147  1.693147  1.693147  1.693147  1.287682   \n",
       "\n",
       "         is  the  \n",
       "0  1.693147  1.0  "
      ]
     },
     "execution_count": 6,
     "metadata": {},
     "output_type": "execute_result"
    }
   ],
   "source": [
    "idf_df = pd.DataFrame(columns=list(wrds)) #empty dataframe initialized with words column headers\n",
    "for c in idf_df.columns:\n",
    "    N = 3 #No of documents\n",
    "    df = df_df[c].iloc[0] # DF of word\n",
    "    idf_df[c] = [math.log((N+1) / (df+1))+1]#IDF = log (no. of documents/DF(word)) \n",
    "idf_df #display the dataframe of idf for each word "
   ]
  },
  {
   "cell_type": "markdown",
   "id": "4bbfc8ee",
   "metadata": {
    "papermill": {
     "duration": 0.008515,
     "end_time": "2024-02-10T18:11:54.785387",
     "exception": false,
     "start_time": "2024-02-10T18:11:54.776872",
     "status": "completed"
    },
    "tags": []
   },
   "source": [
    "**Term Frequency - Inverse Document Frequency (TF-IDF)= TF * IDF**"
   ]
  },
  {
   "cell_type": "code",
   "execution_count": 7,
   "id": "efd94411",
   "metadata": {
    "execution": {
     "iopub.execute_input": "2024-02-10T18:11:54.805128Z",
     "iopub.status.busy": "2024-02-10T18:11:54.804454Z",
     "iopub.status.idle": "2024-02-10T18:11:54.825142Z",
     "shell.execute_reply": "2024-02-10T18:11:54.824202Z"
    },
    "papermill": {
     "duration": 0.033072,
     "end_time": "2024-02-10T18:11:54.827250",
     "exception": false,
     "start_time": "2024-02-10T18:11:54.794178",
     "status": "completed"
    },
    "tags": []
   },
   "outputs": [
    {
     "data": {
      "text/html": [
       "<div>\n",
       "<style scoped>\n",
       "    .dataframe tbody tr th:only-of-type {\n",
       "        vertical-align: middle;\n",
       "    }\n",
       "\n",
       "    .dataframe tbody tr th {\n",
       "        vertical-align: top;\n",
       "    }\n",
       "\n",
       "    .dataframe thead th {\n",
       "        text-align: right;\n",
       "    }\n",
       "</style>\n",
       "<table border=\"1\" class=\"dataframe\">\n",
       "  <thead>\n",
       "    <tr style=\"text-align: right;\">\n",
       "      <th></th>\n",
       "      <th>in</th>\n",
       "      <th>cat</th>\n",
       "      <th>brown</th>\n",
       "      <th>fox</th>\n",
       "      <th>blue</th>\n",
       "      <th>quick</th>\n",
       "      <th>hat</th>\n",
       "      <th>is</th>\n",
       "      <th>the</th>\n",
       "    </tr>\n",
       "  </thead>\n",
       "  <tbody>\n",
       "    <tr>\n",
       "      <th>0</th>\n",
       "      <td>0.338629</td>\n",
       "      <td>0.338629</td>\n",
       "      <td>0.000000</td>\n",
       "      <td>0.000000</td>\n",
       "      <td>0.000000</td>\n",
       "      <td>0.000000</td>\n",
       "      <td>0.257536</td>\n",
       "      <td>0.000000</td>\n",
       "      <td>0.40</td>\n",
       "    </tr>\n",
       "    <tr>\n",
       "      <th>1</th>\n",
       "      <td>0.000000</td>\n",
       "      <td>0.000000</td>\n",
       "      <td>0.423287</td>\n",
       "      <td>0.423287</td>\n",
       "      <td>0.000000</td>\n",
       "      <td>0.423287</td>\n",
       "      <td>0.000000</td>\n",
       "      <td>0.000000</td>\n",
       "      <td>0.25</td>\n",
       "    </tr>\n",
       "    <tr>\n",
       "      <th>2</th>\n",
       "      <td>0.000000</td>\n",
       "      <td>0.000000</td>\n",
       "      <td>0.000000</td>\n",
       "      <td>0.000000</td>\n",
       "      <td>0.423287</td>\n",
       "      <td>0.000000</td>\n",
       "      <td>0.321921</td>\n",
       "      <td>0.423287</td>\n",
       "      <td>0.25</td>\n",
       "    </tr>\n",
       "  </tbody>\n",
       "</table>\n",
       "</div>"
      ],
      "text/plain": [
       "         in       cat     brown       fox      blue     quick       hat  \\\n",
       "0  0.338629  0.338629  0.000000  0.000000  0.000000  0.000000  0.257536   \n",
       "1  0.000000  0.000000  0.423287  0.423287  0.000000  0.423287  0.000000   \n",
       "2  0.000000  0.000000  0.000000  0.000000  0.423287  0.000000  0.321921   \n",
       "\n",
       "         is   the  \n",
       "0  0.000000  0.40  \n",
       "1  0.000000  0.25  \n",
       "2  0.423287  0.25  "
      ]
     },
     "execution_count": 7,
     "metadata": {},
     "output_type": "execute_result"
    }
   ],
   "source": [
    "tfidf_df = pd.DataFrame(columns=list(wrds)) #empty dataframe initialized with words column headers\n",
    "tfidf_lst=[]  #empty list for each column \n",
    "for c in tfidf_df.columns:\n",
    "    tfidf_lst=[] #empty list for each column\n",
    "    for i in range(0,len(Docs)):\n",
    "        tf_idf_d1 = tf_df[c].iloc[i]*idf_df[c].iloc[0] #append tf of word in i th document to idf of word\n",
    "        tfidf_lst.append(tf_idf_d1)\n",
    "    tfidf_df[c]=tfidf_lst#assign tfidf values for each word\n",
    "tfidf_df #display the dataframe of tf-idf for all words"
   ]
  },
  {
   "cell_type": "markdown",
   "id": "c73803b4",
   "metadata": {
    "papermill": {
     "duration": 0.008839,
     "end_time": "2024-02-10T18:11:54.845459",
     "exception": false,
     "start_time": "2024-02-10T18:11:54.836620",
     "status": "completed"
    },
    "tags": []
   },
   "source": [
    "**L2 Normalization**\n",
    "* **L2 normalization, also known as Euclidean normalization or L2 norm normalization, is a technique used to scale vectors (or arrays) in such a way that their Euclidean norm becomes equal to 1.**"
   ]
  },
  {
   "cell_type": "code",
   "execution_count": 8,
   "id": "4925b50f",
   "metadata": {
    "execution": {
     "iopub.execute_input": "2024-02-10T18:11:54.865289Z",
     "iopub.status.busy": "2024-02-10T18:11:54.864907Z",
     "iopub.status.idle": "2024-02-10T18:11:54.890872Z",
     "shell.execute_reply": "2024-02-10T18:11:54.889619Z"
    },
    "papermill": {
     "duration": 0.038743,
     "end_time": "2024-02-10T18:11:54.893448",
     "exception": false,
     "start_time": "2024-02-10T18:11:54.854705",
     "status": "completed"
    },
    "tags": []
   },
   "outputs": [
    {
     "data": {
      "text/html": [
       "<div>\n",
       "<style scoped>\n",
       "    .dataframe tbody tr th:only-of-type {\n",
       "        vertical-align: middle;\n",
       "    }\n",
       "\n",
       "    .dataframe tbody tr th {\n",
       "        vertical-align: top;\n",
       "    }\n",
       "\n",
       "    .dataframe thead th {\n",
       "        text-align: right;\n",
       "    }\n",
       "</style>\n",
       "<table border=\"1\" class=\"dataframe\">\n",
       "  <thead>\n",
       "    <tr style=\"text-align: right;\">\n",
       "      <th></th>\n",
       "      <th>in</th>\n",
       "      <th>cat</th>\n",
       "      <th>brown</th>\n",
       "      <th>fox</th>\n",
       "      <th>blue</th>\n",
       "      <th>quick</th>\n",
       "      <th>hat</th>\n",
       "      <th>is</th>\n",
       "      <th>the</th>\n",
       "    </tr>\n",
       "  </thead>\n",
       "  <tbody>\n",
       "    <tr>\n",
       "      <th>0</th>\n",
       "      <td>0.501651</td>\n",
       "      <td>0.501651</td>\n",
       "      <td>0.000000</td>\n",
       "      <td>0.000000</td>\n",
       "      <td>0.000000</td>\n",
       "      <td>0.000000</td>\n",
       "      <td>0.381519</td>\n",
       "      <td>0.000000</td>\n",
       "      <td>0.592567</td>\n",
       "    </tr>\n",
       "    <tr>\n",
       "      <th>1</th>\n",
       "      <td>0.000000</td>\n",
       "      <td>0.000000</td>\n",
       "      <td>0.546454</td>\n",
       "      <td>0.546454</td>\n",
       "      <td>0.000000</td>\n",
       "      <td>0.546454</td>\n",
       "      <td>0.000000</td>\n",
       "      <td>0.000000</td>\n",
       "      <td>0.322745</td>\n",
       "    </tr>\n",
       "    <tr>\n",
       "      <th>2</th>\n",
       "      <td>0.000000</td>\n",
       "      <td>0.000000</td>\n",
       "      <td>0.000000</td>\n",
       "      <td>0.000000</td>\n",
       "      <td>0.584483</td>\n",
       "      <td>0.000000</td>\n",
       "      <td>0.444514</td>\n",
       "      <td>0.584483</td>\n",
       "      <td>0.345205</td>\n",
       "    </tr>\n",
       "  </tbody>\n",
       "</table>\n",
       "</div>"
      ],
      "text/plain": [
       "         in       cat     brown       fox      blue     quick       hat  \\\n",
       "0  0.501651  0.501651  0.000000  0.000000  0.000000  0.000000  0.381519   \n",
       "1  0.000000  0.000000  0.546454  0.546454  0.000000  0.546454  0.000000   \n",
       "2  0.000000  0.000000  0.000000  0.000000  0.584483  0.000000  0.444514   \n",
       "\n",
       "         is       the  \n",
       "0  0.000000  0.592567  \n",
       "1  0.000000  0.322745  \n",
       "2  0.584483  0.345205  "
      ]
     },
     "execution_count": 8,
     "metadata": {},
     "output_type": "execute_result"
    }
   ],
   "source": [
    "normalized_df = pd.DataFrame(columns=tfidf_df.columns)\n",
    "\n",
    "# Apply L2 normalization to each document's TF-IDF values\n",
    "for i,row in enumerate(tfidf_df.iterrows()):\n",
    "    # Extract TF-IDF values    \n",
    "    tfidf_values_list = list(tfidf_df.iloc[i].values)\n",
    "    # Calculate L2 norm\n",
    "    l2_norm = math.sqrt(sum(val**2 for val in tfidf_values_list))\n",
    "    # Normalize TF-IDF values using L2 norm\n",
    "    normalized_tfidf = [val / l2_norm for val in list(tfidf_df.iloc[i].values)]\n",
    "    new_row = pd.Series(normalized_tfidf, index=tfidf_df.columns)\n",
    "    normalized_df.loc[len(normalized_df)] = new_row\n",
    "    \n",
    "normalized_df"
   ]
  },
  {
   "cell_type": "markdown",
   "id": "798e3189",
   "metadata": {
    "papermill": {
     "duration": 0.008885,
     "end_time": "2024-02-10T18:11:54.911918",
     "exception": false,
     "start_time": "2024-02-10T18:11:54.903033",
     "status": "completed"
    },
    "tags": []
   },
   "source": [
    "**TfidfVectorizer Python Library**"
   ]
  },
  {
   "cell_type": "code",
   "execution_count": 9,
   "id": "12e02787",
   "metadata": {
    "execution": {
     "iopub.execute_input": "2024-02-10T18:11:54.932204Z",
     "iopub.status.busy": "2024-02-10T18:11:54.931336Z",
     "iopub.status.idle": "2024-02-10T18:11:54.959033Z",
     "shell.execute_reply": "2024-02-10T18:11:54.958248Z"
    },
    "papermill": {
     "duration": 0.04072,
     "end_time": "2024-02-10T18:11:54.961664",
     "exception": false,
     "start_time": "2024-02-10T18:11:54.920944",
     "status": "completed"
    },
    "tags": []
   },
   "outputs": [
    {
     "data": {
      "text/html": [
       "<div>\n",
       "<style scoped>\n",
       "    .dataframe tbody tr th:only-of-type {\n",
       "        vertical-align: middle;\n",
       "    }\n",
       "\n",
       "    .dataframe tbody tr th {\n",
       "        vertical-align: top;\n",
       "    }\n",
       "\n",
       "    .dataframe thead th {\n",
       "        text-align: right;\n",
       "    }\n",
       "</style>\n",
       "<table border=\"1\" class=\"dataframe\">\n",
       "  <thead>\n",
       "    <tr style=\"text-align: right;\">\n",
       "      <th></th>\n",
       "      <th>blue</th>\n",
       "      <th>brown</th>\n",
       "      <th>cat</th>\n",
       "      <th>fox</th>\n",
       "      <th>hat</th>\n",
       "      <th>in</th>\n",
       "      <th>is</th>\n",
       "      <th>quick</th>\n",
       "      <th>the</th>\n",
       "    </tr>\n",
       "  </thead>\n",
       "  <tbody>\n",
       "    <tr>\n",
       "      <th>0</th>\n",
       "      <td>0.000000</td>\n",
       "      <td>0.000000</td>\n",
       "      <td>0.501651</td>\n",
       "      <td>0.000000</td>\n",
       "      <td>0.381519</td>\n",
       "      <td>0.501651</td>\n",
       "      <td>0.000000</td>\n",
       "      <td>0.000000</td>\n",
       "      <td>0.592567</td>\n",
       "    </tr>\n",
       "    <tr>\n",
       "      <th>1</th>\n",
       "      <td>0.000000</td>\n",
       "      <td>0.546454</td>\n",
       "      <td>0.000000</td>\n",
       "      <td>0.546454</td>\n",
       "      <td>0.000000</td>\n",
       "      <td>0.000000</td>\n",
       "      <td>0.000000</td>\n",
       "      <td>0.546454</td>\n",
       "      <td>0.322745</td>\n",
       "    </tr>\n",
       "    <tr>\n",
       "      <th>2</th>\n",
       "      <td>0.584483</td>\n",
       "      <td>0.000000</td>\n",
       "      <td>0.000000</td>\n",
       "      <td>0.000000</td>\n",
       "      <td>0.444514</td>\n",
       "      <td>0.000000</td>\n",
       "      <td>0.584483</td>\n",
       "      <td>0.000000</td>\n",
       "      <td>0.345205</td>\n",
       "    </tr>\n",
       "  </tbody>\n",
       "</table>\n",
       "</div>"
      ],
      "text/plain": [
       "       blue     brown       cat       fox       hat        in        is  \\\n",
       "0  0.000000  0.000000  0.501651  0.000000  0.381519  0.501651  0.000000   \n",
       "1  0.000000  0.546454  0.000000  0.546454  0.000000  0.000000  0.000000   \n",
       "2  0.584483  0.000000  0.000000  0.000000  0.444514  0.000000  0.584483   \n",
       "\n",
       "      quick       the  \n",
       "0  0.000000  0.592567  \n",
       "1  0.546454  0.322745  \n",
       "2  0.000000  0.345205  "
      ]
     },
     "execution_count": 9,
     "metadata": {},
     "output_type": "execute_result"
    }
   ],
   "source": [
    "# Create the TF-IDF vectorizer\n",
    "tfidf_vectorizer = TfidfVectorizer(norm='l2',smooth_idf=True)\n",
    "\n",
    "# Fit the documents and transform them into a TF-IDF matrix\n",
    "tfidf_matrix = tfidf_vectorizer.fit_transform(Docs)\n",
    "\n",
    "# Get the feature names (terms) from the vectorizer\n",
    "feature_names = tfidf_vectorizer.get_feature_names_out()\n",
    "\n",
    "df_tfidf = pd.DataFrame(data=tfidf_matrix.toarray(), columns=feature_names)\n",
    "df_tfidf"
   ]
  },
  {
   "cell_type": "markdown",
   "id": "6b06e55e",
   "metadata": {
    "_kg_hide-input": true,
    "papermill": {
     "duration": 0.010506,
     "end_time": "2024-02-10T18:11:54.982637",
     "exception": false,
     "start_time": "2024-02-10T18:11:54.972131",
     "status": "completed"
    },
    "tags": []
   },
   "source": [
    "* **The TfidfVectorizer in scikit-learn, by default, adds a smoothing term to the denominator of the IDF calculation to avoid division by zero. This is done to handle the case where a term is present in all documents, ensuring that the IDF is not undefined.**\n",
    "* **L2 normalization, also known as Euclidean normalization or L2 norm normalization, is a technique used to scale vectors (or arrays) in such a way that their Euclidean norm becomes equal to 1.**"
   ]
  },
  {
   "cell_type": "markdown",
   "id": "9ddc442b",
   "metadata": {
    "papermill": {
     "duration": 0.014431,
     "end_time": "2024-02-10T18:11:55.011577",
     "exception": false,
     "start_time": "2024-02-10T18:11:54.997146",
     "status": "completed"
    },
    "tags": []
   },
   "source": [
    "# Unigram\n",
    "* **A unigram, in the context of natural language processing (NLP) and linguistics, refers to a single unit or token of a word. It is the simplest form of linguistic analysis where text is broken down into individual words. In other words, a unigram is a term used to describe a single word in a sequence of words.**\n",
    "* **Unigrams are the building blocks for more complex linguistic analyses, such as bigrams (pairs of consecutive words), trigrams (triplets of consecutive words), and n-grams in general.*** **A unigram, in the context of natural language processing (NLP) and linguistics, refers to a single unit or token of a word. It is the simplest form of linguistic analysis where text is broken down into individual words. In other words, a unigram is a term used to describe a single word in a sequence of words.**\n",
    "* **Unigrams are the building blocks for more complex linguistic analyses, such as bigrams (pairs of consecutive words), trigrams (triplets of consecutive words), and n-grams in general.**"
   ]
  },
  {
   "cell_type": "code",
   "execution_count": 10,
   "id": "64f7236d",
   "metadata": {
    "execution": {
     "iopub.execute_input": "2024-02-10T18:11:55.042878Z",
     "iopub.status.busy": "2024-02-10T18:11:55.041053Z",
     "iopub.status.idle": "2024-02-10T18:11:55.060700Z",
     "shell.execute_reply": "2024-02-10T18:11:55.059625Z"
    },
    "papermill": {
     "duration": 0.036,
     "end_time": "2024-02-10T18:11:55.062793",
     "exception": false,
     "start_time": "2024-02-10T18:11:55.026793",
     "status": "completed"
    },
    "tags": []
   },
   "outputs": [
    {
     "data": {
      "text/html": [
       "<div>\n",
       "<style scoped>\n",
       "    .dataframe tbody tr th:only-of-type {\n",
       "        vertical-align: middle;\n",
       "    }\n",
       "\n",
       "    .dataframe tbody tr th {\n",
       "        vertical-align: top;\n",
       "    }\n",
       "\n",
       "    .dataframe thead th {\n",
       "        text-align: right;\n",
       "    }\n",
       "</style>\n",
       "<table border=\"1\" class=\"dataframe\">\n",
       "  <thead>\n",
       "    <tr style=\"text-align: right;\">\n",
       "      <th></th>\n",
       "      <th>in</th>\n",
       "      <th>cat</th>\n",
       "      <th>brown</th>\n",
       "      <th>fox</th>\n",
       "      <th>blue</th>\n",
       "      <th>quick</th>\n",
       "      <th>hat</th>\n",
       "      <th>is</th>\n",
       "      <th>the</th>\n",
       "    </tr>\n",
       "  </thead>\n",
       "  <tbody>\n",
       "    <tr>\n",
       "      <th>0</th>\n",
       "      <td>1</td>\n",
       "      <td>1</td>\n",
       "      <td>0</td>\n",
       "      <td>0</td>\n",
       "      <td>0</td>\n",
       "      <td>0</td>\n",
       "      <td>1</td>\n",
       "      <td>0</td>\n",
       "      <td>2</td>\n",
       "    </tr>\n",
       "    <tr>\n",
       "      <th>1</th>\n",
       "      <td>0</td>\n",
       "      <td>0</td>\n",
       "      <td>1</td>\n",
       "      <td>1</td>\n",
       "      <td>0</td>\n",
       "      <td>1</td>\n",
       "      <td>0</td>\n",
       "      <td>0</td>\n",
       "      <td>1</td>\n",
       "    </tr>\n",
       "    <tr>\n",
       "      <th>2</th>\n",
       "      <td>0</td>\n",
       "      <td>0</td>\n",
       "      <td>0</td>\n",
       "      <td>0</td>\n",
       "      <td>1</td>\n",
       "      <td>0</td>\n",
       "      <td>1</td>\n",
       "      <td>1</td>\n",
       "      <td>1</td>\n",
       "    </tr>\n",
       "  </tbody>\n",
       "</table>\n",
       "</div>"
      ],
      "text/plain": [
       "   in  cat  brown  fox  blue  quick  hat  is  the\n",
       "0   1    1      0    0     0      0    1   0    2\n",
       "1   0    0      1    1     0      1    0   0    1\n",
       "2   0    0      0    0     1      0    1   1    1"
      ]
     },
     "execution_count": 10,
     "metadata": {},
     "output_type": "execute_result"
    }
   ],
   "source": [
    "#Probability of unigram P(w)=C(w)/m same idea of TF\n",
    "def count_wrd_Doc(wrd,doc):\n",
    "    i=0\n",
    "    for w in doc.lower().split(' '):\n",
    "        if wrd == w:\n",
    "            i = i+1\n",
    "    return i\n",
    "    \n",
    "unigram_df = pd.DataFrame(columns=list(wrds)) #empty dataframe initialized with words column headers\n",
    "freq_lst=[] #empty list for each column to save word frequencies in each document\n",
    "for c in tf_df.columns:\n",
    "    freq_lst=[]#empty the list\n",
    "    for d in Docs:\n",
    "        freq_lst.append(count_wrd_Doc(c,d))#append the frequency of word in document d\n",
    "    unigram_df[c]=freq_lst #assign values to column\n",
    "unigram_df #display the dataframe of TF for each word in each document"
   ]
  },
  {
   "cell_type": "markdown",
   "id": "8b1b5759",
   "metadata": {
    "papermill": {
     "duration": 0.009572,
     "end_time": "2024-02-10T18:11:55.082471",
     "exception": false,
     "start_time": "2024-02-10T18:11:55.072899",
     "status": "completed"
    },
    "tags": []
   },
   "source": [
    "**Unigrams python function**"
   ]
  },
  {
   "cell_type": "code",
   "execution_count": 11,
   "id": "43bcb1be",
   "metadata": {
    "execution": {
     "iopub.execute_input": "2024-02-10T18:11:55.157441Z",
     "iopub.status.busy": "2024-02-10T18:11:55.156614Z",
     "iopub.status.idle": "2024-02-10T18:11:55.175036Z",
     "shell.execute_reply": "2024-02-10T18:11:55.173952Z"
    },
    "papermill": {
     "duration": 0.031611,
     "end_time": "2024-02-10T18:11:55.177125",
     "exception": false,
     "start_time": "2024-02-10T18:11:55.145514",
     "status": "completed"
    },
    "tags": []
   },
   "outputs": [
    {
     "name": "stdout",
     "output_type": "stream",
     "text": [
      "('the',): 2\n",
      "('cat',): 1\n",
      "('in',): 1\n",
      "('hat',): 1\n",
      "('the',): 1\n",
      "('quick',): 1\n",
      "('brown',): 1\n",
      "('fox',): 1\n",
      "('the',): 1\n",
      "('hat',): 1\n",
      "('is',): 1\n",
      "('blue',): 1\n"
     ]
    }
   ],
   "source": [
    "for d in Docs:\n",
    "    words = word_tokenize(d.lower())\n",
    "    result = list(ngrams(words, 1))\n",
    "    # Calculate frequency distribution of bigrams\n",
    "    ngram_freq = FreqDist(result)\n",
    "    for word, frequency in ngram_freq.items():\n",
    "        print(f\"{word}: {frequency}\")"
   ]
  },
  {
   "cell_type": "markdown",
   "id": "702eb781",
   "metadata": {
    "papermill": {
     "duration": 0.009677,
     "end_time": "2024-02-10T18:11:55.196791",
     "exception": false,
     "start_time": "2024-02-10T18:11:55.187114",
     "status": "completed"
    },
    "tags": []
   },
   "source": [
    "**Bigram**\n",
    "* **A bigram, in the context of natural language processing (NLP) and linguistics, refers to an ordered pair of consecutive words within a text or sequence of words. It is a type of n-gram, where \"n\" represents the number of words in the sequence.*** **A bigram, in the context of natural language processing (NLP) and linguistics, refers to an ordered pair of consecutive words within a text or sequence of words. It is a type of n-gram, where \"n\" represents the number of words in the sequence.**"
   ]
  },
  {
   "cell_type": "code",
   "execution_count": 12,
   "id": "57af4de0",
   "metadata": {
    "execution": {
     "iopub.execute_input": "2024-02-10T18:11:55.217800Z",
     "iopub.status.busy": "2024-02-10T18:11:55.217398Z",
     "iopub.status.idle": "2024-02-10T18:11:55.244603Z",
     "shell.execute_reply": "2024-02-10T18:11:55.243831Z"
    },
    "papermill": {
     "duration": 0.039899,
     "end_time": "2024-02-10T18:11:55.246432",
     "exception": false,
     "start_time": "2024-02-10T18:11:55.206533",
     "status": "completed"
    },
    "tags": []
   },
   "outputs": [
    {
     "data": {
      "text/html": [
       "<div>\n",
       "<style scoped>\n",
       "    .dataframe tbody tr th:only-of-type {\n",
       "        vertical-align: middle;\n",
       "    }\n",
       "\n",
       "    .dataframe tbody tr th {\n",
       "        vertical-align: top;\n",
       "    }\n",
       "\n",
       "    .dataframe thead th {\n",
       "        text-align: right;\n",
       "    }\n",
       "</style>\n",
       "<table border=\"1\" class=\"dataframe\">\n",
       "  <thead>\n",
       "    <tr style=\"text-align: right;\">\n",
       "      <th></th>\n",
       "      <th>the cat</th>\n",
       "      <th>cat in</th>\n",
       "      <th>in the</th>\n",
       "      <th>the hat</th>\n",
       "      <th>the quick</th>\n",
       "      <th>quick brown</th>\n",
       "      <th>brown fox</th>\n",
       "      <th>the hat</th>\n",
       "      <th>hat is</th>\n",
       "      <th>is blue</th>\n",
       "    </tr>\n",
       "  </thead>\n",
       "  <tbody>\n",
       "    <tr>\n",
       "      <th>0</th>\n",
       "      <td>1</td>\n",
       "      <td>1</td>\n",
       "      <td>1</td>\n",
       "      <td>1</td>\n",
       "      <td>0</td>\n",
       "      <td>0</td>\n",
       "      <td>0</td>\n",
       "      <td>1</td>\n",
       "      <td>0</td>\n",
       "      <td>0</td>\n",
       "    </tr>\n",
       "    <tr>\n",
       "      <th>1</th>\n",
       "      <td>0</td>\n",
       "      <td>0</td>\n",
       "      <td>0</td>\n",
       "      <td>0</td>\n",
       "      <td>1</td>\n",
       "      <td>1</td>\n",
       "      <td>1</td>\n",
       "      <td>0</td>\n",
       "      <td>0</td>\n",
       "      <td>0</td>\n",
       "    </tr>\n",
       "    <tr>\n",
       "      <th>2</th>\n",
       "      <td>0</td>\n",
       "      <td>0</td>\n",
       "      <td>0</td>\n",
       "      <td>1</td>\n",
       "      <td>0</td>\n",
       "      <td>0</td>\n",
       "      <td>0</td>\n",
       "      <td>1</td>\n",
       "      <td>1</td>\n",
       "      <td>1</td>\n",
       "    </tr>\n",
       "  </tbody>\n",
       "</table>\n",
       "</div>"
      ],
      "text/plain": [
       "   the cat  cat in  in the  the hat  the quick  quick brown  brown fox  \\\n",
       "0        1       1       1        1          0            0          0   \n",
       "1        0       0       0        0          1            1          1   \n",
       "2        0       0       0        1          0            0          0   \n",
       "\n",
       "   the hat  hat is  is blue  \n",
       "0        1       0        0  \n",
       "1        0       0        0  \n",
       "2        1       1        1  "
      ]
     },
     "execution_count": 12,
     "metadata": {},
     "output_type": "execute_result"
    }
   ],
   "source": [
    "#get bi-grams of input sentence\n",
    "def bi_lst(doc):\n",
    "    wrds = doc.lower().split(' ')\n",
    "    bi_lst = []\n",
    "    for j in range(0,len(wrds)-1):\n",
    "        bi_lst.append(wrds[j:j+2])\n",
    "    return bi_lst\n",
    "\n",
    "lst = []\n",
    "for d in Docs:\n",
    "    lst.extend(bi_lst(d))\n",
    "unique_list = []\n",
    "unique_list = [item for item in lst if item not in unique_list]\n",
    "\n",
    "def count_biwrd_Doc(st,doc):\n",
    "    i=0    \n",
    "    for s in bi_lst(doc):\n",
    "        if s == st.split(' '):\n",
    "            i = i+1\n",
    "    return i\n",
    "bigram_df = pd.DataFrame(columns=list((' '.join(x) for x in unique_list))) #empty dataframe initialized with words column headers\n",
    "freq_lst=[] #empty list for each column to save word frequencies in each document\n",
    "for c in bigram_df.columns:\n",
    "    freq_lst=[]#empty the list\n",
    "    for d in Docs:\n",
    "        freq_lst.append(count_biwrd_Doc(c,d))#append the frequency of word in document d\n",
    "    bigram_df[c]=freq_lst #assign values to column\n",
    "bigram_df #display the dataframe of TF for each word in each document"
   ]
  },
  {
   "cell_type": "markdown",
   "id": "546689e0",
   "metadata": {
    "papermill": {
     "duration": 0.010258,
     "end_time": "2024-02-10T18:11:55.266824",
     "exception": false,
     "start_time": "2024-02-10T18:11:55.256566",
     "status": "completed"
    },
    "tags": []
   },
   "source": [
    "**Bigrams python function**"
   ]
  },
  {
   "cell_type": "code",
   "execution_count": 13,
   "id": "287592c6",
   "metadata": {
    "execution": {
     "iopub.execute_input": "2024-02-10T18:11:55.288888Z",
     "iopub.status.busy": "2024-02-10T18:11:55.288248Z",
     "iopub.status.idle": "2024-02-10T18:11:55.295747Z",
     "shell.execute_reply": "2024-02-10T18:11:55.294219Z"
    },
    "papermill": {
     "duration": 0.020976,
     "end_time": "2024-02-10T18:11:55.297889",
     "exception": false,
     "start_time": "2024-02-10T18:11:55.276913",
     "status": "completed"
    },
    "tags": []
   },
   "outputs": [
    {
     "name": "stdout",
     "output_type": "stream",
     "text": [
      "('the', 'cat'): 1\n",
      "('cat', 'in'): 1\n",
      "('in', 'the'): 1\n",
      "('the', 'hat'): 1\n",
      "('the', 'quick'): 1\n",
      "('quick', 'brown'): 1\n",
      "('brown', 'fox'): 1\n",
      "('the', 'hat'): 1\n",
      "('hat', 'is'): 1\n",
      "('is', 'blue'): 1\n"
     ]
    }
   ],
   "source": [
    "for d in Docs:\n",
    "    words = word_tokenize(d.lower())\n",
    "    result = list(ngrams(words, 2))\n",
    "    # Calculate frequency distribution of bigrams\n",
    "    ngram_freq = FreqDist(result)\n",
    "    for word, frequency in ngram_freq.items():\n",
    "        print(f\"{word}: {frequency}\")"
   ]
  },
  {
   "cell_type": "markdown",
   "id": "7b56ce73",
   "metadata": {
    "papermill": {
     "duration": 0.010305,
     "end_time": "2024-02-10T18:11:55.318527",
     "exception": false,
     "start_time": "2024-02-10T18:11:55.308222",
     "status": "completed"
    },
    "tags": []
   },
   "source": [
    "# Skip-gram & Continuous Bag of Words (CBOW)\n",
    "* These models use shallow neural networks to learn word embeddings. Skip-gram predicts context words given a target word, while CBOW predicts a target word given its context. These models use shallow neural networks to learn word embeddings. Skip-gram predicts context words given a target word, while CBOW predicts a target word given its context. "
   ]
  },
  {
   "cell_type": "markdown",
   "id": "9f5fedc9",
   "metadata": {
    "papermill": {
     "duration": 0.00989,
     "end_time": "2024-02-10T18:11:55.338528",
     "exception": false,
     "start_time": "2024-02-10T18:11:55.328638",
     "status": "completed"
    },
    "tags": []
   },
   "source": [
    "**CBOW**\n",
    "* Objective: The main objective of CBOW is to predict a target word given its context (surrounding words). It learns to represent words in a continuous vector space based on their distributional semantics.\n",
    "* Architecture: CBOW uses a neural network with a single hidden layer. The input layer and output layer are typically equal to the size of the vocabulary, and the hidden layer has a much smaller dimension, often referred to as the embedding dimension.\n",
    "* Input and Output: The input to the CBOW model is a set of context words represented as one-hot vectors (binary vectors with a 1 at the index corresponding to the word's position in the vocabulary). The output is the target word's one-hot vector.\n",
    "* Context Window: The context window is a fixed-size window of surrounding words used to predict the target word. The model is trained to predict the target word based on the words within this context window."
   ]
  },
  {
   "cell_type": "code",
   "execution_count": 14,
   "id": "ffe5b7cd",
   "metadata": {
    "execution": {
     "iopub.execute_input": "2024-02-10T18:11:55.360522Z",
     "iopub.status.busy": "2024-02-10T18:11:55.360180Z",
     "iopub.status.idle": "2024-02-10T18:11:55.376511Z",
     "shell.execute_reply": "2024-02-10T18:11:55.375577Z"
    },
    "papermill": {
     "duration": 0.029954,
     "end_time": "2024-02-10T18:11:55.378583",
     "exception": false,
     "start_time": "2024-02-10T18:11:55.348629",
     "status": "completed"
    },
    "tags": []
   },
   "outputs": [
    {
     "data": {
      "text/html": [
       "<div>\n",
       "<style scoped>\n",
       "    .dataframe tbody tr th:only-of-type {\n",
       "        vertical-align: middle;\n",
       "    }\n",
       "\n",
       "    .dataframe tbody tr th {\n",
       "        vertical-align: top;\n",
       "    }\n",
       "\n",
       "    .dataframe thead th {\n",
       "        text-align: right;\n",
       "    }\n",
       "</style>\n",
       "<table border=\"1\" class=\"dataframe\">\n",
       "  <thead>\n",
       "    <tr style=\"text-align: right;\">\n",
       "      <th></th>\n",
       "      <th>in</th>\n",
       "      <th>cat</th>\n",
       "      <th>brown</th>\n",
       "      <th>fox</th>\n",
       "      <th>blue</th>\n",
       "      <th>quick</th>\n",
       "      <th>hat</th>\n",
       "      <th>is</th>\n",
       "      <th>the</th>\n",
       "    </tr>\n",
       "  </thead>\n",
       "  <tbody>\n",
       "    <tr>\n",
       "      <th>0</th>\n",
       "      <td>1</td>\n",
       "      <td>1</td>\n",
       "      <td>0</td>\n",
       "      <td>0</td>\n",
       "      <td>0</td>\n",
       "      <td>0</td>\n",
       "      <td>1</td>\n",
       "      <td>0</td>\n",
       "      <td>2</td>\n",
       "    </tr>\n",
       "    <tr>\n",
       "      <th>1</th>\n",
       "      <td>0</td>\n",
       "      <td>0</td>\n",
       "      <td>1</td>\n",
       "      <td>1</td>\n",
       "      <td>0</td>\n",
       "      <td>1</td>\n",
       "      <td>0</td>\n",
       "      <td>0</td>\n",
       "      <td>1</td>\n",
       "    </tr>\n",
       "    <tr>\n",
       "      <th>2</th>\n",
       "      <td>0</td>\n",
       "      <td>0</td>\n",
       "      <td>0</td>\n",
       "      <td>0</td>\n",
       "      <td>1</td>\n",
       "      <td>0</td>\n",
       "      <td>1</td>\n",
       "      <td>1</td>\n",
       "      <td>1</td>\n",
       "    </tr>\n",
       "  </tbody>\n",
       "</table>\n",
       "</div>"
      ],
      "text/plain": [
       "   in  cat  brown  fox  blue  quick  hat  is  the\n",
       "0   1    1      0    0     0      0    1   0    2\n",
       "1   0    0      1    1     0      1    0   0    1\n",
       "2   0    0      0    0     1      0    1   1    1"
      ]
     },
     "execution_count": 14,
     "metadata": {},
     "output_type": "execute_result"
    }
   ],
   "source": [
    "def count_wrd_Doc(wrd,doc):\n",
    "    i=0\n",
    "    for w in doc.lower().split(' '):\n",
    "        if wrd == w:\n",
    "            i = i+1\n",
    "    return i\n",
    "    \n",
    "cw_df = pd.DataFrame(columns=list(wrds)) #empty dataframe initialized with words column headers\n",
    "freq_lst=[] #empty list for each column to save word frequencies in each document\n",
    "for c in tf_df.columns:\n",
    "    freq_lst=[]#empty the list\n",
    "    for d in Docs:\n",
    "        freq_lst.append(count_wrd_Doc(c,d))#append the frequency of word in document d\n",
    "    cw_df[c]=freq_lst #assign values to column\n",
    "cw_df #display the datafram"
   ]
  },
  {
   "cell_type": "code",
   "execution_count": 15,
   "id": "cad9ead7",
   "metadata": {
    "execution": {
     "iopub.execute_input": "2024-02-10T18:11:55.401039Z",
     "iopub.status.busy": "2024-02-10T18:11:55.400693Z",
     "iopub.status.idle": "2024-02-10T18:11:55.409173Z",
     "shell.execute_reply": "2024-02-10T18:11:55.408090Z"
    },
    "papermill": {
     "duration": 0.021911,
     "end_time": "2024-02-10T18:11:55.410945",
     "exception": false,
     "start_time": "2024-02-10T18:11:55.389034",
     "status": "completed"
    },
    "tags": []
   },
   "outputs": [
    {
     "name": "stdout",
     "output_type": "stream",
     "text": [
      "Bag of Words representation:\n",
      "[[0 0 1 0 1 1 0 0 2]\n",
      " [0 1 0 1 0 0 0 1 1]\n",
      " [1 0 0 0 1 0 1 0 1]]\n",
      "Feature names:\n",
      "['blue' 'brown' 'cat' 'fox' 'hat' 'in' 'is' 'quick' 'the']\n"
     ]
    }
   ],
   "source": [
    "# Create a CountVectorizer instance\n",
    "vectorizer = CountVectorizer()\n",
    "\n",
    "# Fit and transform the documents to create the Bag of Words representation\n",
    "X_bow = vectorizer.fit_transform(Docs)\n",
    "feature_names = vectorizer.get_feature_names_out()\n",
    "# Print the Bag of Words representation\n",
    "print(\"Bag of Words representation:\")\n",
    "print(X_bow.toarray())\n",
    "print(\"Feature names:\")\n",
    "print(feature_names)"
   ]
  },
  {
   "cell_type": "markdown",
   "id": "2d0f41b9",
   "metadata": {
    "papermill": {
     "duration": 0.010209,
     "end_time": "2024-02-10T18:11:55.431482",
     "exception": false,
     "start_time": "2024-02-10T18:11:55.421273",
     "status": "completed"
    },
    "tags": []
   },
   "source": [
    "**Skip-Grams**\n",
    "* **Objective:** The main objective of the Skip-gram model is to learn distributed representations (word embeddings) of words in a continuous vector space. It does so by predicting the context words based on a given target word.\n",
    "* **Architecture:** Skip-gram uses a neural network with a single hidden layer. The input layer and output layer are typically equal to the size of the vocabulary, and the hidden layer has a much smaller dimension, often referred to as the embedding dimension.\n",
    "* **Input and Output:** The input to the Skip-gram model is a one-hot vector representing a target word (the word for which embeddings are being learned). The output is a probability distribution over the vocabulary, representing the likelihood of each word being a context word.\n",
    "* **Context Window:** During training, a context window is defined around the target word. The context words within this window are used to predict the target word. The context window provides local context information for each target word.\n",
    "* **Training Objective:** Skip-gram is trained using a supervised learning approach. The model aims to minimize the cross-entropy loss between the predicted probability distribution over the vocabulary and the actual distribution (one-hot vector of the true context word)."
   ]
  },
  {
   "cell_type": "code",
   "execution_count": 16,
   "id": "b0680b1a",
   "metadata": {
    "execution": {
     "iopub.execute_input": "2024-02-10T18:11:55.453886Z",
     "iopub.status.busy": "2024-02-10T18:11:55.453520Z",
     "iopub.status.idle": "2024-02-10T18:11:55.462014Z",
     "shell.execute_reply": "2024-02-10T18:11:55.461080Z"
    },
    "papermill": {
     "duration": 0.022829,
     "end_time": "2024-02-10T18:11:55.464654",
     "exception": false,
     "start_time": "2024-02-10T18:11:55.441825",
     "status": "completed"
    },
    "tags": []
   },
   "outputs": [
    {
     "name": "stdout",
     "output_type": "stream",
     "text": [
      "document: the cat in the hat\n",
      "target: the\n",
      "context words ['cat', 'in', 'the'] ,window_size 3\n",
      "----------------------------------------\n",
      "document: the cat in the hat\n",
      "target: cat\n",
      "context words ['the', 'in', 'the', 'hat'] ,window_size 3\n",
      "----------------------------------------\n",
      "document: the cat in the hat\n",
      "target: in\n",
      "context words ['the', 'cat', 'the', 'hat'] ,window_size 3\n",
      "----------------------------------------\n",
      "document: the cat in the hat\n",
      "target: the\n",
      "context words ['the', 'cat', 'in', 'hat'] ,window_size 3\n",
      "----------------------------------------\n",
      "document: the cat in the hat\n",
      "target: hat\n",
      "context words ['cat', 'in', 'the'] ,window_size 3\n",
      "----------------------------------------\n",
      "document: the quick brown fox\n",
      "target: the\n",
      "context words ['quick', 'brown', 'fox'] ,window_size 3\n",
      "----------------------------------------\n",
      "document: the quick brown fox\n",
      "target: quick\n",
      "context words ['the', 'brown', 'fox'] ,window_size 3\n",
      "----------------------------------------\n",
      "document: the quick brown fox\n",
      "target: brown\n",
      "context words ['the', 'quick', 'fox'] ,window_size 3\n",
      "----------------------------------------\n",
      "document: the quick brown fox\n",
      "target: fox\n",
      "context words ['the', 'quick', 'brown'] ,window_size 3\n",
      "----------------------------------------\n",
      "document: the hat is blue\n",
      "target: the\n",
      "context words ['hat', 'is', 'blue'] ,window_size 3\n",
      "----------------------------------------\n",
      "document: the hat is blue\n",
      "target: hat\n",
      "context words ['the', 'is', 'blue'] ,window_size 3\n",
      "----------------------------------------\n",
      "document: the hat is blue\n",
      "target: is\n",
      "context words ['the', 'hat', 'blue'] ,window_size 3\n",
      "----------------------------------------\n",
      "document: the hat is blue\n",
      "target: blue\n",
      "context words ['the', 'hat', 'is'] ,window_size 3\n",
      "----------------------------------------\n"
     ]
    }
   ],
   "source": [
    "# Generate training pairs (target word, context word)\n",
    "window_size = 3# the window specifies the context words size neigbored the target word \n",
    "training_pairs = []\n",
    "context_words = []#the context words for w=3 i-3,i-2,i-1,i+1,i+2,i+3\n",
    "for d in Docs:\n",
    "    t=[]\n",
    "    c=[]\n",
    "    for i, target_word in enumerate(d.lower().split(' ')):\n",
    "        start = max(0, i - window_size)\n",
    "        end = min(len(d.lower().split(' ')), i + window_size + 1)\n",
    "        c = [d.lower().split(' ')[j] for j in range(start, end) if j != i]\n",
    "        for context_word in c:\n",
    "            t.append((target_word, context_word))\n",
    "        print(\"document:\",d.lower())\n",
    "        print(\"target:\",target_word)\n",
    "        print(\"context words\",c,\",window_size\",window_size)\n",
    "        print(\"----------------------------------------\")\n",
    "    training_pairs.append(t)    "
   ]
  },
  {
   "cell_type": "code",
   "execution_count": 17,
   "id": "265a8ad8",
   "metadata": {
    "execution": {
     "iopub.execute_input": "2024-02-10T18:11:55.487203Z",
     "iopub.status.busy": "2024-02-10T18:11:55.486878Z",
     "iopub.status.idle": "2024-02-10T18:11:55.494513Z",
     "shell.execute_reply": "2024-02-10T18:11:55.493615Z"
    },
    "papermill": {
     "duration": 0.021431,
     "end_time": "2024-02-10T18:11:55.496567",
     "exception": false,
     "start_time": "2024-02-10T18:11:55.475136",
     "status": "completed"
    },
    "tags": []
   },
   "outputs": [
    {
     "data": {
      "text/plain": [
       "[[('the', 'cat'),\n",
       "  ('the', 'in'),\n",
       "  ('the', 'the'),\n",
       "  ('cat', 'the'),\n",
       "  ('cat', 'in'),\n",
       "  ('cat', 'the'),\n",
       "  ('cat', 'hat'),\n",
       "  ('in', 'the'),\n",
       "  ('in', 'cat'),\n",
       "  ('in', 'the'),\n",
       "  ('in', 'hat'),\n",
       "  ('the', 'the'),\n",
       "  ('the', 'cat'),\n",
       "  ('the', 'in'),\n",
       "  ('the', 'hat'),\n",
       "  ('hat', 'cat'),\n",
       "  ('hat', 'in'),\n",
       "  ('hat', 'the')],\n",
       " [('the', 'quick'),\n",
       "  ('the', 'brown'),\n",
       "  ('the', 'fox'),\n",
       "  ('quick', 'the'),\n",
       "  ('quick', 'brown'),\n",
       "  ('quick', 'fox'),\n",
       "  ('brown', 'the'),\n",
       "  ('brown', 'quick'),\n",
       "  ('brown', 'fox'),\n",
       "  ('fox', 'the'),\n",
       "  ('fox', 'quick'),\n",
       "  ('fox', 'brown')],\n",
       " [('the', 'hat'),\n",
       "  ('the', 'is'),\n",
       "  ('the', 'blue'),\n",
       "  ('hat', 'the'),\n",
       "  ('hat', 'is'),\n",
       "  ('hat', 'blue'),\n",
       "  ('is', 'the'),\n",
       "  ('is', 'hat'),\n",
       "  ('is', 'blue'),\n",
       "  ('blue', 'the'),\n",
       "  ('blue', 'hat'),\n",
       "  ('blue', 'is')]]"
      ]
     },
     "execution_count": 17,
     "metadata": {},
     "output_type": "execute_result"
    }
   ],
   "source": [
    "training_pairs # this is the pairs of training formed the target and context word pairs according to context window size"
   ]
  },
  {
   "cell_type": "code",
   "execution_count": 18,
   "id": "07828e67",
   "metadata": {
    "execution": {
     "iopub.execute_input": "2024-02-10T18:11:55.519974Z",
     "iopub.status.busy": "2024-02-10T18:11:55.519630Z",
     "iopub.status.idle": "2024-02-10T18:11:55.874950Z",
     "shell.execute_reply": "2024-02-10T18:11:55.873882Z"
    },
    "papermill": {
     "duration": 0.370401,
     "end_time": "2024-02-10T18:11:55.877602",
     "exception": false,
     "start_time": "2024-02-10T18:11:55.507201",
     "status": "completed"
    },
    "tags": []
   },
   "outputs": [
    {
     "name": "stdout",
     "output_type": "stream",
     "text": [
      "Epoch 0, Loss: -1.9581704457506968\n",
      "-------------------------------\n",
      "Vector for 'in': [-1.32328649e-05 -3.32693134e-04 -4.62596124e-04 -1.33644301e-04\n",
      "  5.71008373e-04 -5.94083990e-04 -6.77735378e-04  1.61976861e-04\n",
      " -4.62619282e-04  3.09554718e-04]\n",
      "Vector for 'cat': [ 2.42295149e-04  1.21394468e-04 -2.96568955e-04  5.26902964e-05\n",
      "  6.59519276e-04 -5.63933489e-04 -9.77985597e-04  1.42019190e-04\n",
      " -1.81730724e-04  1.07232554e-04]\n",
      "Vector for 'the': [-3.94748262e-05  1.96737361e-05  9.45896410e-05 -7.99245416e-07\n",
      " -1.62024142e-04  1.34948373e-04  2.05732318e-04 -4.77171892e-05\n",
      "  7.40213433e-05 -6.11235649e-05]\n",
      "Vector for 'hat': [-0.00020738  0.00026697  0.00084837  0.00013807 -0.00133578  0.00133281\n",
      "  0.00184889 -0.0002973   0.0007477  -0.00042702]\n",
      "-------------------------------\n",
      "Epoch 0, Loss: -1.917311369496655\n",
      "-------------------------------\n",
      "Vector for 'fox': [ 0.00254401  0.00233597 -0.00052136  0.00270529  0.00098232  0.00126685\n",
      " -0.00251905 -0.00141471  0.00182556 -0.00135307]\n",
      "Vector for 'the': [-0.00303044  0.00091249  0.00058474 -0.00106461  0.00065869  0.0003638\n",
      "  0.00245739  0.00191326 -0.00098059 -0.0007832 ]\n",
      "Vector for 'brown': [-0.00018277 -0.00109679 -0.00132906 -0.0013561  -0.00026572 -0.00244537\n",
      " -0.00151833 -0.00230954  0.00148851  0.00194915]\n",
      "Vector for 'quick': [ 0.00060989 -0.00217124  0.0012882  -0.00032275 -0.0013829   0.00081731\n",
      "  0.00164833  0.00186463 -0.00237916  0.00018734]\n",
      "-------------------------------\n",
      "Epoch 0, Loss: -2.200704117450968\n",
      "-------------------------------\n",
      "Vector for 'the': [-8.82115047e-04  8.89362813e-04 -6.39776095e-04  5.50528025e-04\n",
      "  4.33269848e-06 -1.03022242e-03  6.49625282e-04 -1.37782418e-03\n",
      " -9.40896894e-04  8.23557846e-04]\n",
      "Vector for 'blue': [-0.00043284 -0.00070289  0.00129443 -0.00069306 -0.00118449  0.00037965\n",
      " -0.00219995 -0.00053018  0.00013176  0.00024904]\n",
      "Vector for 'hat': [ 0.00269303 -0.00238196  0.00102424  0.00100604  0.00101682  0.00259071\n",
      "  0.00101898  0.00159937 -0.0009459  -0.00289467]\n",
      "Vector for 'is': [-0.00136739  0.00219651 -0.0016901  -0.0008419   0.00018058 -0.00193848\n",
      "  0.00056582  0.00030431  0.00173338  0.00181118]\n",
      "-------------------------------\n"
     ]
    }
   ],
   "source": [
    "# Initialize word vectors randomly\n",
    "embedding_dim = 10\n",
    "learning_rate = 0.01\n",
    "epochs = 500\n",
    "word_vectors = []\n",
    "vocab=[]\n",
    "for d in Docs:\n",
    "    vocab.append((list(set(d.lower().split(' ')))))\n",
    "for v in vocab:\n",
    "    word_vectors.append({word: np.random.rand(embedding_dim) for word in v})#initialize random values vector for each word \n",
    "    \n",
    "for i in range(0,len(training_pairs)):\n",
    "    # Train the Skip-gram model\n",
    "    for epoch in range(epochs):\n",
    "    \n",
    "        for target_word, context_word in training_pairs[i]:\n",
    "            # Forward pass\n",
    "            input_vector = word_vectors[i][target_word]\n",
    "            output_vector = word_vectors[i][context_word]\n",
    "\n",
    "            # Calculate loss (using negative log likelihood)\n",
    "            error = -np.log(np.exp(np.dot(input_vector, output_vector)))\n",
    "\n",
    "            # Backward pass (update word vectors using gradient descent)\n",
    "            gradient = input_vector * np.exp(np.dot(input_vector, output_vector)) / (1 + np.exp(np.dot(input_vector, output_vector)))\n",
    "            word_vectors[i][target_word] -= learning_rate * gradient\n",
    "            word_vectors[i][context_word] -= learning_rate * gradient\n",
    "\n",
    "        if epoch % 500 == 0:\n",
    "            print(f\"Epoch {epoch}, Loss: {error}\")\n",
    "    print('-------------------------------')\n",
    "    #word vectors\n",
    "    for word, vector in word_vectors[i].items():\n",
    "        print(f\"Vector for '{word}': {vector}\")\n",
    "    print('-------------------------------')"
   ]
  },
  {
   "cell_type": "markdown",
   "id": "e5cc6530",
   "metadata": {
    "papermill": {
     "duration": 0.011237,
     "end_time": "2024-02-10T18:11:55.900029",
     "exception": false,
     "start_time": "2024-02-10T18:11:55.888792",
     "status": "completed"
    },
    "tags": []
   },
   "source": [
    "# TensorFlow Skip-gram"
   ]
  },
  {
   "cell_type": "code",
   "execution_count": 19,
   "id": "29ce3d73",
   "metadata": {
    "execution": {
     "iopub.execute_input": "2024-02-10T18:11:55.923481Z",
     "iopub.status.busy": "2024-02-10T18:11:55.923080Z",
     "iopub.status.idle": "2024-02-10T18:12:03.944300Z",
     "shell.execute_reply": "2024-02-10T18:12:03.943083Z"
    },
    "papermill": {
     "duration": 8.035779,
     "end_time": "2024-02-10T18:12:03.946663",
     "exception": false,
     "start_time": "2024-02-10T18:11:55.910884",
     "status": "completed"
    },
    "tags": []
   },
   "outputs": [
    {
     "name": "stdout",
     "output_type": "stream",
     "text": [
      "Vector for 'in': [-0.3493438   0.41929317 -0.34286836 -0.34167907 -0.36733338 -0.331361\n",
      "  0.38968536  0.3494262  -0.39927632  0.34480464]\n",
      "Vector for 'cat': [-0.41667646  0.35638204 -0.35697344 -0.3505751  -0.35789204 -0.38541758\n",
      "  0.38322827  0.40381247 -0.4271479   0.39208856]\n",
      "Vector for 'the': [-0.39264703  0.37460956 -0.38336718 -0.41159227 -0.36851135 -0.41680706\n",
      "  0.37123322  0.3841113  -0.34241772  0.38171154]\n",
      "Vector for 'hat': [-0.34910828  0.4024723  -0.3453874  -0.34641778 -0.32763612 -0.41833946\n",
      "  0.3613308   0.40302283 -0.36031955  0.35870776]\n",
      "-----------------------------------------------------------\n",
      "Vector for 'fox': [-0.34124088 -0.39061257  0.39165133 -0.39472628 -0.29042736  0.40355203\n",
      "  0.40487182 -0.37519568  0.3827595   0.37377447]\n",
      "Vector for 'the': [-0.37834507 -0.36533797  0.36137286 -0.3836541  -0.3891156   0.3269816\n",
      "  0.3379196  -0.3895925   0.41397366  0.41182387]\n",
      "Vector for 'brown': [-0.34979296 -0.39318413  0.40400895 -0.37948847 -0.4340393   0.40808165\n",
      "  0.33937424 -0.37243494  0.32860786  0.4018908 ]\n",
      "Vector for 'quick': [-0.40348142 -0.36118737  0.38230923 -0.39632043 -0.3756949   0.4108952\n",
      "  0.36000758 -0.38433483  0.3704464   0.32904205]\n",
      "-----------------------------------------------------------\n",
      "Vector for 'the': [-0.35522127 -0.41444066  0.33840144 -0.3086174   0.38224587 -0.3547392\n",
      "  0.34117365  0.3831324   0.3944566   0.41109782]\n",
      "Vector for 'blue': [-0.39749396 -0.34498355  0.389183   -0.3978262   0.39736876 -0.3791747\n",
      "  0.3886773   0.32484445  0.3712368   0.31426367]\n",
      "Vector for 'hat': [-0.33743238 -0.3862266   0.37091732 -0.3833437   0.40583014 -0.35826203\n",
      "  0.41715494  0.4007765   0.36980796  0.3168867 ]\n",
      "Vector for 'is': [-0.3816346  -0.40489724  0.36926162 -0.36581963  0.34138188 -0.43297115\n",
      "  0.38173744  0.35898086  0.35777408  0.39771342]\n",
      "-----------------------------------------------------------\n"
     ]
    }
   ],
   "source": [
    "import tensorflow as tf\n",
    "from tensorflow.keras.layers import Embedding, Dot, Dense,Flatten\n",
    "from tensorflow.keras.models import Model\n",
    "from nltk.tokenize import word_tokenize\n",
    "\n",
    "# Create a vocabulary with unique words and indices\n",
    "vocab = []\n",
    "for doc in Docs:\n",
    "    wrds=list(set(doc.lower().split()))\n",
    "    vocab.append({w:wrds.index(w) for w in wrds})\n",
    "reverse_vocab = []\n",
    "for v in vocab:\n",
    "    reverse_vocab.append({idx: word for word, idx in v.items()})\n",
    "\n",
    "# Generate training pairs (target word, context word)\n",
    "training=[]\n",
    "for d,v in zip(Docs,vocab):\n",
    "    training_pairs=[]\n",
    "    for i, target_word in enumerate(d.lower().split(' ')):\n",
    "        start = max(0, i - window_size)\n",
    "        end = min(len(d.lower().split(' ')), i + window_size + 1)\n",
    "        context_words = [d.lower().split(' ')[j] for j in range(start, end) if j != i]\n",
    "        for context_word in context_words:\n",
    "            training_pairs.append((v[target_word], v[context_word]))\n",
    "    training.append(training_pairs)\n",
    "    \n",
    "    \n",
    "# Define the Skip-gram model using TensorFlow\n",
    "for i,v,t_p in zip(range(0,len(Docs)),vocab,training):\n",
    "    target_word_input = tf.keras.layers.Input(shape=(1,), name=\"target_word\")\n",
    "    context_word_input = tf.keras.layers.Input(shape=(1,), name=\"context_word\")\n",
    "\n",
    "    embedding_layer = Embedding(input_dim=len(v), output_dim=embedding_dim)\n",
    "    target_word_embedding = embedding_layer(target_word_input)#obtain respective embeddings\n",
    "    context_word_embedding = embedding_layer(context_word_input)#obtain respective embeddings\n",
    "    dot_product = Dot(axes=1, normalize=False)([target_word_embedding, context_word_embedding])#captures relations and similarity between context and target words\n",
    "    #dot_product = Dot(axes=2)([target_word_embedding, context_word_embedding])\n",
    "    output_layer = Dense(1, activation='sigmoid')(Flatten()(dot_product))  # Flatten the output\n",
    "\n",
    "    model = Model(inputs=[target_word_input, context_word_input], outputs=output_layer)\n",
    "    model.compile(optimizer='adam', loss='binary_crossentropy')\n",
    "    \n",
    "    \n",
    "    # Train the Skip-gram model\n",
    "    target_words = np.array([pair[0] for pair in t_p], dtype=np.int32)\n",
    "    context_words = np.array([pair[1] for pair in t_p], dtype=np.int32)\n",
    "\n",
    "    labels = np.array([1] * len(t_p), dtype=np.float32)# Positive labels for all training pairs\n",
    "    \n",
    "    model.fit({'target_word': target_words, 'context_word': context_words}, labels, epochs=500,verbose=0)\n",
    "\n",
    "    # Access word vectors\n",
    "    word_vectors = embedding_layer.get_weights()[0]\n",
    "    for idx, word in reverse_vocab[i].items():\n",
    "        print(f\"Vector for '{word}': {word_vectors[idx]}\")\n",
    "    \n",
    "    keras.utils.plot_model(model,show_shapes=True,show_layer_names=True)\n",
    "    print(\"-----------------------------------------------------------\")"
   ]
  },
  {
   "cell_type": "markdown",
   "id": "511f4112",
   "metadata": {
    "papermill": {
     "duration": 0.011381,
     "end_time": "2024-02-10T18:12:03.970276",
     "exception": false,
     "start_time": "2024-02-10T18:12:03.958895",
     "status": "completed"
    },
    "tags": []
   },
   "source": [
    "# Latent Semantic Analysis (LSA)\n",
    "LSA Main Components:\n",
    "* **Term-Document Matrix:** LSA starts with the creation of a term-document matrix, where each row corresponds to a term (word) and each column corresponds to a document. The entries in the matrix represent the frequency of each term in each document.\n",
    "* **Singular Value Decomposition (SVD):** SVD is a linear algebra technique used to factorize a matrix into three matrices: U, Σ (Sigma), and V^T (the transpose of V). In the context of LSA: U: Document-topic matrix (describes relationships between documents and topics), Σ (Sigma): Diagonal matrix containing singular values (describes the importance of each topic), & V^T: Term-topic matrix (describes relationships between terms and topics).\n",
    "* **Dimensionality Reduction:** LSA typically involves reducing the dimensionality of the term-document matrix by retaining only the top singular values and corresponding columns in U, Σ, and V^T. This reduction helps capture the most significant semantic information while discarding noise and redundancy.\n",
    "* **Semantic Space:** The reduced matrices U and V^T define a lower-dimensional semantic space where terms and documents are represented. Each document and term are mapped into this space, and their proximity in the space reflects semantic similarity.\n",
    "* **Topic Modeling:** The columns of the U and V^T matrices represent topics in the semantic space. Documents and terms are associated with a linear combination of these topics. Topics capture the underlying themes or concepts in the corpus."
   ]
  },
  {
   "cell_type": "code",
   "execution_count": 20,
   "id": "cec9ff22",
   "metadata": {
    "execution": {
     "iopub.execute_input": "2024-02-10T18:12:03.995184Z",
     "iopub.status.busy": "2024-02-10T18:12:03.994826Z",
     "iopub.status.idle": "2024-02-10T18:12:04.015488Z",
     "shell.execute_reply": "2024-02-10T18:12:04.014583Z"
    },
    "papermill": {
     "duration": 0.035945,
     "end_time": "2024-02-10T18:12:04.017559",
     "exception": false,
     "start_time": "2024-02-10T18:12:03.981614",
     "status": "completed"
    },
    "tags": []
   },
   "outputs": [
    {
     "name": "stdout",
     "output_type": "stream",
     "text": [
      "Document-Topic Matrix:\n",
      "[[-0.86326717 -0.15662665]\n",
      " [-0.64932826  0.74819816]\n",
      " [-0.80299545 -0.43663456]]\n",
      "\n",
      "Term-Topic Matrix:\n",
      "[[-0.22161881 -0.28170621]\n",
      " [-0.17920818  0.48271962]\n",
      " [-0.18010249 -0.07638797]\n",
      " [-0.17920818  0.48271962]\n",
      " [-0.4017213  -0.35809418]\n",
      " [-0.18010249 -0.07638797]\n",
      " [-0.22161881 -0.28170621]\n",
      " [-0.17920818  0.48271962]\n",
      " [-0.76103198  0.04823747]]\n"
     ]
    }
   ],
   "source": [
    "from sklearn.preprocessing import normalize\n",
    "\n",
    "#Generate a document-term matrix of shape m x n having TF-IDF scores.\n",
    "vectorizer = CountVectorizer()\n",
    "X = vectorizer.fit_transform(Docs)\n",
    "\n",
    "# Convert the term-document matrix to a dense NumPy array\n",
    "term_document_matrix = X.toarray()\n",
    "\n",
    "# Normalize the term-document matrix\n",
    "normalized_term_document_matrix = normalize(term_document_matrix, norm='l2', axis=1)\n",
    "\n",
    "# Apply Latent Semantic Analysis (LSA) using Truncated SVD\n",
    "def lsa(matrix, num_topics):\n",
    "    # Perform Truncated SVD\n",
    "    U, Sigma, Vt = np.linalg.svd(matrix, full_matrices=False)\n",
    "    \n",
    "    # Retain only the top 'num_topics' components\n",
    "    U = U[:, :num_topics]\n",
    "    Sigma = np.diag(Sigma[:num_topics])\n",
    "    Vt = Vt[:num_topics, :]\n",
    "\n",
    "    # Compute the document-topic matrix\n",
    "    document_topic_matrix = U.dot(Sigma)\n",
    "    \n",
    "    # Compute the term-topic matrix\n",
    "    term_topic_matrix = Vt.T\n",
    "    \n",
    "    return document_topic_matrix, term_topic_matrix\n",
    "\n",
    "num_topics = 2\n",
    "document_topic_matrix, term_topic_matrix = lsa(normalized_term_document_matrix, num_topics)\n",
    "\n",
    "# Print the resulting matrices\n",
    "print(\"Document-Topic Matrix:\")\n",
    "print(document_topic_matrix)\n",
    "\n",
    "print(\"\\nTerm-Topic Matrix:\")\n",
    "print(term_topic_matrix)"
   ]
  },
  {
   "cell_type": "code",
   "execution_count": 21,
   "id": "0f32d8b2",
   "metadata": {
    "execution": {
     "iopub.execute_input": "2024-02-10T18:12:04.042608Z",
     "iopub.status.busy": "2024-02-10T18:12:04.042184Z",
     "iopub.status.idle": "2024-02-10T18:12:04.065780Z",
     "shell.execute_reply": "2024-02-10T18:12:04.064511Z"
    },
    "papermill": {
     "duration": 0.039092,
     "end_time": "2024-02-10T18:12:04.068412",
     "exception": false,
     "start_time": "2024-02-10T18:12:04.029320",
     "status": "completed"
    },
    "tags": []
   },
   "outputs": [
    {
     "name": "stdout",
     "output_type": "stream",
     "text": [
      "\n",
      "U (Document-topic matrix) - sklearn:\n",
      "[[ 0.86326717 -0.15662665]\n",
      " [ 0.64932826  0.74819816]\n",
      " [ 0.80299545 -0.43663456]]\n",
      "\n",
      "Sigma (Singular values) - sklearn:\n",
      "[[1.34597886 0.        ]\n",
      " [0.         0.8803307 ]]\n",
      "\n",
      "Vt (Term-topic matrix) - sklearn:\n",
      "[[ 0.22161881  0.17920818  0.18010249  0.17920818  0.4017213   0.18010249\n",
      "   0.22161881  0.17920818  0.76103198]\n",
      " [-0.28170621  0.48271962 -0.07638797  0.48271962 -0.35809418 -0.07638797\n",
      "  -0.28170621  0.48271962  0.04823747]]\n"
     ]
    }
   ],
   "source": [
    "# Alternatively, use sklearn's TruncatedSVD\n",
    "#Generate a document-term matrix of shape m x n having TF-IDF scores.\n",
    "vectorizer = CountVectorizer()\n",
    "X = vectorizer.fit_transform(Docs)\n",
    "\n",
    "# Convert the term-document matrix to a dense NumPy array\n",
    "term_document_matrix = X.toarray()\n",
    "\n",
    "# Normalize the term-document matrix\n",
    "normalized_term_document_matrix = normalize(term_document_matrix, norm='l2', axis=1)\n",
    "\n",
    "def lsa_sklearn(matrix, num_topics):\n",
    "    svd = TruncatedSVD(n_components=num_topics)\n",
    "    svd.fit(matrix)\n",
    "    U_sklearn = svd.transform(matrix)\n",
    "    Sigma_sklearn = np.diag(svd.singular_values_)\n",
    "    Vt_sklearn = svd.components_\n",
    "    return U_sklearn, Sigma_sklearn, Vt_sklearn\n",
    "\n",
    "num_topics=2\n",
    "U_sklearn, Sigma_sklearn, Vt_sklearn = lsa_sklearn(normalized_term_document_matrix, num_topics)\n",
    "\n",
    "# Print the resulting matrices using sklearn's TruncatedSVD\n",
    "print(\"\\nU (Document-topic matrix) - sklearn:\")\n",
    "print(U_sklearn)\n",
    "\n",
    "print(\"\\nSigma (Singular values) - sklearn:\")\n",
    "print(Sigma_sklearn)\n",
    "\n",
    "print(\"\\nVt (Term-topic matrix) - sklearn:\")\n",
    "print(Vt_sklearn)"
   ]
  },
  {
   "cell_type": "markdown",
   "id": "73c93def",
   "metadata": {
    "papermill": {
     "duration": 0.011251,
     "end_time": "2024-02-10T18:12:04.091786",
     "exception": false,
     "start_time": "2024-02-10T18:12:04.080535",
     "status": "completed"
    },
    "tags": []
   },
   "source": [
    "* **Count of Words (Bag-of-Words Model):**  Early NLP models represented documents using a Bag-of-Words (BoW) model, which counts the occurrence of words in a document without considering their order. This approach provides a basic representation of documents but lacks capturing semantic relationships.\n",
    "* **Term Frequency-Inverse Document Frequency (TF-IDF):** introduced a weighting scheme that considers not only the count of words in a document but also their importance in the entire corpus. It helps identify words that are significant to a particular document but not frequent across all documents.\n",
    "* **Latent Semantic Analysis (LSA):** also known as Latent Semantic Indexing (LSI), applies singular value decomposition (SVD) to the term-document matrix. It reduces the dimensionality of the space and captures latent semantic relationships between words and documents, improving representation.\n",
    "* **Skip-gram and Continuous Bag of Words (CBOW):** Word2Vec, introduced by Mikolov et al., includes two models: Skip-gram and Continuous Bag of Words (CBOW). These models use shallow neural networks to learn word embeddings. Skip-gram predicts context words given a target word, while CBOW predicts a target word given its context. Word2Vec significantly improves word embeddings' quality and captures semantic relationships.\n",
    "* **Global Vectors for Word Representation (GloVe):** introduces a global approach by training on aggregated global word co-occurrence statistics. It leverages a matrix factorization technique to capture the relationships between words in a more efficient manner, producing high-quality word embeddings.\n",
    "* **FastText and Subword Embeddings:** also by Mikolov et al., extends word embeddings to subword level. It represents words as bags of character n-grams, enabling the generation of embeddings for out-of-vocabulary words and capturing morphological information.\n",
    "* **Transformer Architecture:** introduced by Vaswani et al., revolutionizes NLP by employing self-attention mechanisms. It enables models like BERT (Bidirectional Encoder Representations from Transformers) to learn contextualized word embeddings, considering the entire input sequence bidirectionally.\n",
    "* **Contextualized Word Embeddings (BERT, GPT, ELMo):** BERT, GPT (Generative Pre-trained Transformer), and ELMo (Embeddings from Language Models) introduce contextualized embeddings by considering surrounding words and contexts. These models capture rich contextual information, leading to state-of-the-art performance in various NLP tasks.\n",
    "* **Transfer Learning and Fine-Tuning:** Pre-trained language models, such as BERT and GPT, can be fine-tuned on specific downstream tasks. This transfer learning approach significantly reduces the need for large labeled datasets and improves performance on specific tasks.\n",
    "* **Multimodal Embeddings:** are extended beyond text to include multimodal information, combining textual and visual features. Models like CLIP (Contrastive Language-Image Pre-training) learn joint representations of text and images, enabling cross-modal understanding."
   ]
  },
  {
   "cell_type": "markdown",
   "id": "15d3532e",
   "metadata": {
    "papermill": {
     "duration": 0.011072,
     "end_time": "2024-02-10T18:12:04.114358",
     "exception": false,
     "start_time": "2024-02-10T18:12:04.103286",
     "status": "completed"
    },
    "tags": []
   },
   "source": [
    "\n",
    "**Key breakpoints:**\n",
    "\n",
    "* **From word counts to context:** Moving beyond simple frequency to considering surrounding words for richer representations.\n",
    "* **Pre-training on large corpora:** Utilizing massive amounts of text data to learn general language understanding.\n",
    "* **Bi-directional and attention mechanisms:** Capturing complex relationships between words in a sentence.\n",
    "* **Transformers and self-attention:** Enabling efficient learning of long-range dependencies.\n",
    "* **LLMs reaching human-level performance in certain tasks:** Highlighting the potential of language models for natural communication and problem-solving.\n",
    "\n",
    "**Future directions:**\n",
    "\n",
    "* **Explainability and interpretability:** Understanding how LLMs work and make decisions.\n",
    "* **Addressing biases and fairness:** Ensuring models are inclusive and represent diverse perspectives.\n",
    "* **Combining symbolic and neural approaches:** Integrating logic and reasoning with language understanding.\n"
   ]
  }
 ],
 "metadata": {
  "kaggle": {
   "accelerator": "none",
   "dataSources": [],
   "dockerImageVersionId": 30635,
   "isGpuEnabled": false,
   "isInternetEnabled": true,
   "language": "python",
   "sourceType": "notebook"
  },
  "kernelspec": {
   "display_name": "Python 3",
   "language": "python",
   "name": "python3"
  },
  "language_info": {
   "codemirror_mode": {
    "name": "ipython",
    "version": 3
   },
   "file_extension": ".py",
   "mimetype": "text/x-python",
   "name": "python",
   "nbconvert_exporter": "python",
   "pygments_lexer": "ipython3",
   "version": "3.10.12"
  },
  "papermill": {
   "default_parameters": {},
   "duration": 29.691195,
   "end_time": "2024-02-10T18:12:06.551600",
   "environment_variables": {},
   "exception": null,
   "input_path": "__notebook__.ipynb",
   "output_path": "__notebook__.ipynb",
   "parameters": {},
   "start_time": "2024-02-10T18:11:36.860405",
   "version": "2.4.0"
  }
 },
 "nbformat": 4,
 "nbformat_minor": 5
}
