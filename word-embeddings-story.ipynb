{
 "cells": [
  {
   "cell_type": "markdown",
   "id": "98799814",
   "metadata": {
    "papermill": {
     "duration": 0.006762,
     "end_time": "2024-01-27T17:31:27.100830",
     "exception": false,
     "start_time": "2024-01-27T17:31:27.094068",
     "status": "completed"
    },
    "tags": []
   },
   "source": [
    "# Count-Based methods"
   ]
  },
  {
   "cell_type": "code",
   "execution_count": 1,
   "id": "7966eb17",
   "metadata": {
    "execution": {
     "iopub.execute_input": "2024-01-27T17:31:27.115591Z",
     "iopub.status.busy": "2024-01-27T17:31:27.114750Z",
     "iopub.status.idle": "2024-01-27T17:31:27.125993Z",
     "shell.execute_reply": "2024-01-27T17:31:27.124879Z"
    },
    "papermill": {
     "duration": 0.021468,
     "end_time": "2024-01-27T17:31:27.128405",
     "exception": false,
     "start_time": "2024-01-27T17:31:27.106937",
     "status": "completed"
    },
    "tags": []
   },
   "outputs": [],
   "source": [
    "Doc_1= \"The cat in the hat\"\n",
    "Doc_2= \"The quick brown fox\"\n",
    "Doc_3= \"The hat is blue\""
   ]
  },
  {
   "cell_type": "markdown",
   "id": "e45457fc",
   "metadata": {
    "papermill": {
     "duration": 0.005755,
     "end_time": "2024-01-27T17:31:27.140226",
     "exception": false,
     "start_time": "2024-01-27T17:31:27.134471",
     "status": "completed"
    },
    "tags": []
   },
   "source": [
    "# **TF**"
   ]
  },
  {
   "cell_type": "markdown",
   "id": "1491d9e2",
   "metadata": {
    "papermill": {
     "duration": 0.005576,
     "end_time": "2024-01-27T17:31:27.151712",
     "exception": false,
     "start_time": "2024-01-27T17:31:27.146136",
     "status": "completed"
    },
    "tags": []
   },
   "source": [
    "* **TF(t,d) is the term frequency of term t in document d (how often the term appears in the document).**"
   ]
  },
  {
   "cell_type": "code",
   "execution_count": 2,
   "id": "beaeb5c6",
   "metadata": {
    "execution": {
     "iopub.execute_input": "2024-01-27T17:31:27.166495Z",
     "iopub.status.busy": "2024-01-27T17:31:27.165654Z",
     "iopub.status.idle": "2024-01-27T17:31:27.171320Z",
     "shell.execute_reply": "2024-01-27T17:31:27.170034Z"
    },
    "papermill": {
     "duration": 0.016018,
     "end_time": "2024-01-27T17:31:27.173698",
     "exception": false,
     "start_time": "2024-01-27T17:31:27.157680",
     "status": "completed"
    },
    "tags": []
   },
   "outputs": [],
   "source": [
    "lst = Doc_1.lower().split(' ')\n",
    "lst.extend(Doc_2.lower().split(' '))\n",
    "lst.extend(Doc_3.lower().split(' '))\n",
    "wrds = set(lst) # remove duplicate words"
   ]
  },
  {
   "cell_type": "code",
   "execution_count": 3,
   "id": "be12584d",
   "metadata": {
    "execution": {
     "iopub.execute_input": "2024-01-27T17:31:27.187738Z",
     "iopub.status.busy": "2024-01-27T17:31:27.187270Z",
     "iopub.status.idle": "2024-01-27T17:31:27.663958Z",
     "shell.execute_reply": "2024-01-27T17:31:27.662760Z"
    },
    "papermill": {
     "duration": 0.486549,
     "end_time": "2024-01-27T17:31:27.666261",
     "exception": false,
     "start_time": "2024-01-27T17:31:27.179712",
     "status": "completed"
    },
    "tags": []
   },
   "outputs": [
    {
     "data": {
      "text/html": [
       "<div>\n",
       "<style scoped>\n",
       "    .dataframe tbody tr th:only-of-type {\n",
       "        vertical-align: middle;\n",
       "    }\n",
       "\n",
       "    .dataframe tbody tr th {\n",
       "        vertical-align: top;\n",
       "    }\n",
       "\n",
       "    .dataframe thead th {\n",
       "        text-align: right;\n",
       "    }\n",
       "</style>\n",
       "<table border=\"1\" class=\"dataframe\">\n",
       "  <thead>\n",
       "    <tr style=\"text-align: right;\">\n",
       "      <th></th>\n",
       "      <th>cat</th>\n",
       "      <th>the</th>\n",
       "      <th>is</th>\n",
       "      <th>hat</th>\n",
       "      <th>brown</th>\n",
       "      <th>quick</th>\n",
       "      <th>fox</th>\n",
       "      <th>blue</th>\n",
       "      <th>in</th>\n",
       "    </tr>\n",
       "  </thead>\n",
       "  <tbody>\n",
       "    <tr>\n",
       "      <th>0</th>\n",
       "      <td>0.2</td>\n",
       "      <td>0.40</td>\n",
       "      <td>0.00</td>\n",
       "      <td>0.20</td>\n",
       "      <td>0.00</td>\n",
       "      <td>0.00</td>\n",
       "      <td>0.00</td>\n",
       "      <td>0.00</td>\n",
       "      <td>0.2</td>\n",
       "    </tr>\n",
       "    <tr>\n",
       "      <th>1</th>\n",
       "      <td>0.0</td>\n",
       "      <td>0.25</td>\n",
       "      <td>0.00</td>\n",
       "      <td>0.00</td>\n",
       "      <td>0.25</td>\n",
       "      <td>0.25</td>\n",
       "      <td>0.25</td>\n",
       "      <td>0.00</td>\n",
       "      <td>0.0</td>\n",
       "    </tr>\n",
       "    <tr>\n",
       "      <th>2</th>\n",
       "      <td>0.0</td>\n",
       "      <td>0.25</td>\n",
       "      <td>0.25</td>\n",
       "      <td>0.25</td>\n",
       "      <td>0.00</td>\n",
       "      <td>0.00</td>\n",
       "      <td>0.00</td>\n",
       "      <td>0.25</td>\n",
       "      <td>0.0</td>\n",
       "    </tr>\n",
       "  </tbody>\n",
       "</table>\n",
       "</div>"
      ],
      "text/plain": [
       "   cat   the    is   hat  brown  quick   fox  blue   in\n",
       "0  0.2  0.40  0.00  0.20   0.00   0.00  0.00  0.00  0.2\n",
       "1  0.0  0.25  0.00  0.00   0.25   0.25  0.25  0.00  0.0\n",
       "2  0.0  0.25  0.25  0.25   0.00   0.00  0.00  0.25  0.0"
      ]
     },
     "execution_count": 3,
     "metadata": {},
     "output_type": "execute_result"
    }
   ],
   "source": [
    "#form a dataframe to represent TF for each word in each Document where columns are words and rows are documents\n",
    "import pandas as pd\n",
    "def count_wrd_Doc(wrd,doc):\n",
    "    i=0\n",
    "    for w in doc.lower().split(' '):\n",
    "        if wrd == w:\n",
    "            i = i+1\n",
    "    return i/len(doc.lower().split(' '))\n",
    "    \n",
    "tf_df = pd.DataFrame(columns=list(wrds)) #empty dataframe initialized with words column headers\n",
    "freq_lst=[] #empty list for each column to save word frequencies in each document\n",
    "for c in tf_df.columns:\n",
    "    freq_lst=[]#empty the list\n",
    "    freq_lst.append(count_wrd_Doc(c,Doc_1))#append the frequency of word in document 1\n",
    "    freq_lst.append(count_wrd_Doc(c,Doc_2))#append the frequency of word in document 2\n",
    "    freq_lst.append(count_wrd_Doc(c,Doc_3))#append the frequency of word in document 3\n",
    "    tf_df[c]=freq_lst #assign values to column\n",
    "tf_df #display the dataframe of TF for each word in each document"
   ]
  },
  {
   "cell_type": "markdown",
   "id": "47236993",
   "metadata": {
    "papermill": {
     "duration": 0.00622,
     "end_time": "2024-01-27T17:31:27.678955",
     "exception": false,
     "start_time": "2024-01-27T17:31:27.672735",
     "status": "completed"
    },
    "tags": []
   },
   "source": [
    "# DF"
   ]
  },
  {
   "cell_type": "markdown",
   "id": "cd2c80bd",
   "metadata": {
    "papermill": {
     "duration": 0.005897,
     "end_time": "2024-01-27T17:31:27.691077",
     "exception": false,
     "start_time": "2024-01-27T17:31:27.685180",
     "status": "completed"
    },
    "tags": []
   },
   "source": [
    "* **Calculate Document Frequency (DF): the word appears in how many documents**"
   ]
  },
  {
   "cell_type": "code",
   "execution_count": 4,
   "id": "2c058482",
   "metadata": {
    "execution": {
     "iopub.execute_input": "2024-01-27T17:31:27.706904Z",
     "iopub.status.busy": "2024-01-27T17:31:27.705244Z",
     "iopub.status.idle": "2024-01-27T17:31:27.721484Z",
     "shell.execute_reply": "2024-01-27T17:31:27.720616Z"
    },
    "papermill": {
     "duration": 0.026251,
     "end_time": "2024-01-27T17:31:27.723635",
     "exception": false,
     "start_time": "2024-01-27T17:31:27.697384",
     "status": "completed"
    },
    "tags": []
   },
   "outputs": [
    {
     "data": {
      "text/html": [
       "<div>\n",
       "<style scoped>\n",
       "    .dataframe tbody tr th:only-of-type {\n",
       "        vertical-align: middle;\n",
       "    }\n",
       "\n",
       "    .dataframe tbody tr th {\n",
       "        vertical-align: top;\n",
       "    }\n",
       "\n",
       "    .dataframe thead th {\n",
       "        text-align: right;\n",
       "    }\n",
       "</style>\n",
       "<table border=\"1\" class=\"dataframe\">\n",
       "  <thead>\n",
       "    <tr style=\"text-align: right;\">\n",
       "      <th></th>\n",
       "      <th>cat</th>\n",
       "      <th>the</th>\n",
       "      <th>is</th>\n",
       "      <th>hat</th>\n",
       "      <th>brown</th>\n",
       "      <th>quick</th>\n",
       "      <th>fox</th>\n",
       "      <th>blue</th>\n",
       "      <th>in</th>\n",
       "    </tr>\n",
       "  </thead>\n",
       "  <tbody>\n",
       "    <tr>\n",
       "      <th>0</th>\n",
       "      <td>1</td>\n",
       "      <td>3</td>\n",
       "      <td>1</td>\n",
       "      <td>2</td>\n",
       "      <td>1</td>\n",
       "      <td>1</td>\n",
       "      <td>1</td>\n",
       "      <td>1</td>\n",
       "      <td>1</td>\n",
       "    </tr>\n",
       "  </tbody>\n",
       "</table>\n",
       "</div>"
      ],
      "text/plain": [
       "   cat  the  is  hat  brown  quick  fox  blue  in\n",
       "0    1    3   1    2      1      1    1     1   1"
      ]
     },
     "execution_count": 4,
     "metadata": {},
     "output_type": "execute_result"
    }
   ],
   "source": [
    "df_df = pd.DataFrame(columns=list(wrds)) #empty dataframe initialized with words column headers\n",
    "for c in df_df.columns:\n",
    "    df_df[c] = [sum(1 for doc in [Doc_1,Doc_2,Doc_3] if c in doc.lower().split(' '))]\n",
    "df_df #display the dataframe of DF for each word "
   ]
  },
  {
   "cell_type": "markdown",
   "id": "8c47c7bb",
   "metadata": {
    "papermill": {
     "duration": 0.0064,
     "end_time": "2024-01-27T17:31:27.736694",
     "exception": false,
     "start_time": "2024-01-27T17:31:27.730294",
     "status": "completed"
    },
    "tags": []
   },
   "source": [
    "# IDF"
   ]
  },
  {
   "cell_type": "markdown",
   "id": "c6dcd8e0",
   "metadata": {
    "papermill": {
     "duration": 0.006185,
     "end_time": "2024-01-27T17:31:27.749433",
     "exception": false,
     "start_time": "2024-01-27T17:31:27.743248",
     "status": "completed"
    },
    "tags": []
   },
   "source": [
    "* **IDF(t,D) is the inverse document frequency of term t in the entire document set D (logarithmically scaled inverse fraction of the documents that contain the term).**"
   ]
  },
  {
   "cell_type": "code",
   "execution_count": 5,
   "id": "5b180f77",
   "metadata": {
    "execution": {
     "iopub.execute_input": "2024-01-27T17:31:27.764824Z",
     "iopub.status.busy": "2024-01-27T17:31:27.764132Z",
     "iopub.status.idle": "2024-01-27T17:31:27.782768Z",
     "shell.execute_reply": "2024-01-27T17:31:27.781659Z"
    },
    "papermill": {
     "duration": 0.029193,
     "end_time": "2024-01-27T17:31:27.785163",
     "exception": false,
     "start_time": "2024-01-27T17:31:27.755970",
     "status": "completed"
    },
    "tags": []
   },
   "outputs": [
    {
     "data": {
      "text/html": [
       "<div>\n",
       "<style scoped>\n",
       "    .dataframe tbody tr th:only-of-type {\n",
       "        vertical-align: middle;\n",
       "    }\n",
       "\n",
       "    .dataframe tbody tr th {\n",
       "        vertical-align: top;\n",
       "    }\n",
       "\n",
       "    .dataframe thead th {\n",
       "        text-align: right;\n",
       "    }\n",
       "</style>\n",
       "<table border=\"1\" class=\"dataframe\">\n",
       "  <thead>\n",
       "    <tr style=\"text-align: right;\">\n",
       "      <th></th>\n",
       "      <th>cat</th>\n",
       "      <th>the</th>\n",
       "      <th>is</th>\n",
       "      <th>hat</th>\n",
       "      <th>brown</th>\n",
       "      <th>quick</th>\n",
       "      <th>fox</th>\n",
       "      <th>blue</th>\n",
       "      <th>in</th>\n",
       "    </tr>\n",
       "  </thead>\n",
       "  <tbody>\n",
       "    <tr>\n",
       "      <th>0</th>\n",
       "      <td>1.693147</td>\n",
       "      <td>1.0</td>\n",
       "      <td>1.693147</td>\n",
       "      <td>1.287682</td>\n",
       "      <td>1.693147</td>\n",
       "      <td>1.693147</td>\n",
       "      <td>1.693147</td>\n",
       "      <td>1.693147</td>\n",
       "      <td>1.693147</td>\n",
       "    </tr>\n",
       "  </tbody>\n",
       "</table>\n",
       "</div>"
      ],
      "text/plain": [
       "        cat  the        is       hat     brown     quick       fox      blue  \\\n",
       "0  1.693147  1.0  1.693147  1.287682  1.693147  1.693147  1.693147  1.693147   \n",
       "\n",
       "         in  \n",
       "0  1.693147  "
      ]
     },
     "execution_count": 5,
     "metadata": {},
     "output_type": "execute_result"
    }
   ],
   "source": [
    "import math\n",
    "idf_df = pd.DataFrame(columns=list(wrds)) #empty dataframe initialized with words column headers\n",
    "for c in idf_df.columns:\n",
    "    N = 3 #No of documents\n",
    "    df = df_df[c].iloc[0] # DF of word\n",
    "    idf_df[c] = [math.log((N+1) / (df+1))+1]#IDF = log (no. of documents/DF(word)) \n",
    "idf_df #display the dataframe of idf for each word "
   ]
  },
  {
   "cell_type": "markdown",
   "id": "cacaa020",
   "metadata": {
    "papermill": {
     "duration": 0.006769,
     "end_time": "2024-01-27T17:31:27.799178",
     "exception": false,
     "start_time": "2024-01-27T17:31:27.792409",
     "status": "completed"
    },
    "tags": []
   },
   "source": [
    "# TF-IDF"
   ]
  },
  {
   "cell_type": "markdown",
   "id": "159a9202",
   "metadata": {
    "papermill": {
     "duration": 0.007305,
     "end_time": "2024-01-27T17:31:27.813926",
     "exception": false,
     "start_time": "2024-01-27T17:31:27.806621",
     "status": "completed"
    },
    "tags": []
   },
   "source": [
    "*** TF-IDF = TF * IDF**"
   ]
  },
  {
   "cell_type": "code",
   "execution_count": 6,
   "id": "ba9c944f",
   "metadata": {
    "execution": {
     "iopub.execute_input": "2024-01-27T17:31:27.829111Z",
     "iopub.status.busy": "2024-01-27T17:31:27.828726Z",
     "iopub.status.idle": "2024-01-27T17:31:27.850334Z",
     "shell.execute_reply": "2024-01-27T17:31:27.849279Z"
    },
    "papermill": {
     "duration": 0.032255,
     "end_time": "2024-01-27T17:31:27.852975",
     "exception": false,
     "start_time": "2024-01-27T17:31:27.820720",
     "status": "completed"
    },
    "tags": []
   },
   "outputs": [
    {
     "data": {
      "text/html": [
       "<div>\n",
       "<style scoped>\n",
       "    .dataframe tbody tr th:only-of-type {\n",
       "        vertical-align: middle;\n",
       "    }\n",
       "\n",
       "    .dataframe tbody tr th {\n",
       "        vertical-align: top;\n",
       "    }\n",
       "\n",
       "    .dataframe thead th {\n",
       "        text-align: right;\n",
       "    }\n",
       "</style>\n",
       "<table border=\"1\" class=\"dataframe\">\n",
       "  <thead>\n",
       "    <tr style=\"text-align: right;\">\n",
       "      <th></th>\n",
       "      <th>cat</th>\n",
       "      <th>the</th>\n",
       "      <th>is</th>\n",
       "      <th>hat</th>\n",
       "      <th>brown</th>\n",
       "      <th>quick</th>\n",
       "      <th>fox</th>\n",
       "      <th>blue</th>\n",
       "      <th>in</th>\n",
       "    </tr>\n",
       "  </thead>\n",
       "  <tbody>\n",
       "    <tr>\n",
       "      <th>0</th>\n",
       "      <td>0.338629</td>\n",
       "      <td>0.40</td>\n",
       "      <td>0.000000</td>\n",
       "      <td>0.257536</td>\n",
       "      <td>0.000000</td>\n",
       "      <td>0.000000</td>\n",
       "      <td>0.000000</td>\n",
       "      <td>0.000000</td>\n",
       "      <td>0.338629</td>\n",
       "    </tr>\n",
       "    <tr>\n",
       "      <th>1</th>\n",
       "      <td>0.000000</td>\n",
       "      <td>0.25</td>\n",
       "      <td>0.000000</td>\n",
       "      <td>0.000000</td>\n",
       "      <td>0.423287</td>\n",
       "      <td>0.423287</td>\n",
       "      <td>0.423287</td>\n",
       "      <td>0.000000</td>\n",
       "      <td>0.000000</td>\n",
       "    </tr>\n",
       "    <tr>\n",
       "      <th>2</th>\n",
       "      <td>0.000000</td>\n",
       "      <td>0.25</td>\n",
       "      <td>0.423287</td>\n",
       "      <td>0.321921</td>\n",
       "      <td>0.000000</td>\n",
       "      <td>0.000000</td>\n",
       "      <td>0.000000</td>\n",
       "      <td>0.423287</td>\n",
       "      <td>0.000000</td>\n",
       "    </tr>\n",
       "  </tbody>\n",
       "</table>\n",
       "</div>"
      ],
      "text/plain": [
       "        cat   the        is       hat     brown     quick       fox      blue  \\\n",
       "0  0.338629  0.40  0.000000  0.257536  0.000000  0.000000  0.000000  0.000000   \n",
       "1  0.000000  0.25  0.000000  0.000000  0.423287  0.423287  0.423287  0.000000   \n",
       "2  0.000000  0.25  0.423287  0.321921  0.000000  0.000000  0.000000  0.423287   \n",
       "\n",
       "         in  \n",
       "0  0.338629  \n",
       "1  0.000000  \n",
       "2  0.000000  "
      ]
     },
     "execution_count": 6,
     "metadata": {},
     "output_type": "execute_result"
    }
   ],
   "source": [
    "tfidf_df = pd.DataFrame(columns=list(wrds)) #empty dataframe initialized with words column headers\n",
    "tfidf_lst=[]  #empty list for each column \n",
    "for c in tfidf_df.columns:\n",
    "    tfidf_lst=[] #empty list for each column\n",
    "    tf_idf_d1 = tf_df[c].iloc[0]*idf_df[c].iloc[0] #append tf of word in first document to idf of word\n",
    "    tf_idf_d2 = tf_df[c].iloc[1]*idf_df[c].iloc[0] #append tf of word in second document to idf of word\n",
    "    tf_idf_d3 = tf_df[c].iloc[2]*idf_df[c].iloc[0] #append tf of word in third document to idf of word\n",
    "    tfidf_df[c] = [tf_idf_d1,tf_idf_d2,tf_idf_d3]\n",
    "tfidf_df #display the dataframe of tf-idf for all words"
   ]
  },
  {
   "cell_type": "markdown",
   "id": "bbce1248",
   "metadata": {
    "papermill": {
     "duration": 0.006567,
     "end_time": "2024-01-27T17:31:27.866358",
     "exception": false,
     "start_time": "2024-01-27T17:31:27.859791",
     "status": "completed"
    },
    "tags": []
   },
   "source": [
    "# L2 Normalization"
   ]
  },
  {
   "cell_type": "code",
   "execution_count": 7,
   "id": "a7c86a60",
   "metadata": {
    "execution": {
     "iopub.execute_input": "2024-01-27T17:31:27.882299Z",
     "iopub.status.busy": "2024-01-27T17:31:27.881691Z",
     "iopub.status.idle": "2024-01-27T17:31:27.909962Z",
     "shell.execute_reply": "2024-01-27T17:31:27.908598Z"
    },
    "papermill": {
     "duration": 0.03944,
     "end_time": "2024-01-27T17:31:27.912581",
     "exception": false,
     "start_time": "2024-01-27T17:31:27.873141",
     "status": "completed"
    },
    "tags": []
   },
   "outputs": [
    {
     "data": {
      "text/html": [
       "<div>\n",
       "<style scoped>\n",
       "    .dataframe tbody tr th:only-of-type {\n",
       "        vertical-align: middle;\n",
       "    }\n",
       "\n",
       "    .dataframe tbody tr th {\n",
       "        vertical-align: top;\n",
       "    }\n",
       "\n",
       "    .dataframe thead th {\n",
       "        text-align: right;\n",
       "    }\n",
       "</style>\n",
       "<table border=\"1\" class=\"dataframe\">\n",
       "  <thead>\n",
       "    <tr style=\"text-align: right;\">\n",
       "      <th></th>\n",
       "      <th>cat</th>\n",
       "      <th>the</th>\n",
       "      <th>is</th>\n",
       "      <th>hat</th>\n",
       "      <th>brown</th>\n",
       "      <th>quick</th>\n",
       "      <th>fox</th>\n",
       "      <th>blue</th>\n",
       "      <th>in</th>\n",
       "    </tr>\n",
       "  </thead>\n",
       "  <tbody>\n",
       "    <tr>\n",
       "      <th>0</th>\n",
       "      <td>0.501651</td>\n",
       "      <td>0.592567</td>\n",
       "      <td>0.000000</td>\n",
       "      <td>0.381519</td>\n",
       "      <td>0.000000</td>\n",
       "      <td>0.000000</td>\n",
       "      <td>0.000000</td>\n",
       "      <td>0.000000</td>\n",
       "      <td>0.501651</td>\n",
       "    </tr>\n",
       "    <tr>\n",
       "      <th>1</th>\n",
       "      <td>0.000000</td>\n",
       "      <td>0.322745</td>\n",
       "      <td>0.000000</td>\n",
       "      <td>0.000000</td>\n",
       "      <td>0.546454</td>\n",
       "      <td>0.546454</td>\n",
       "      <td>0.546454</td>\n",
       "      <td>0.000000</td>\n",
       "      <td>0.000000</td>\n",
       "    </tr>\n",
       "    <tr>\n",
       "      <th>2</th>\n",
       "      <td>0.000000</td>\n",
       "      <td>0.345205</td>\n",
       "      <td>0.584483</td>\n",
       "      <td>0.444514</td>\n",
       "      <td>0.000000</td>\n",
       "      <td>0.000000</td>\n",
       "      <td>0.000000</td>\n",
       "      <td>0.584483</td>\n",
       "      <td>0.000000</td>\n",
       "    </tr>\n",
       "  </tbody>\n",
       "</table>\n",
       "</div>"
      ],
      "text/plain": [
       "        cat       the        is       hat     brown     quick       fox  \\\n",
       "0  0.501651  0.592567  0.000000  0.381519  0.000000  0.000000  0.000000   \n",
       "1  0.000000  0.322745  0.000000  0.000000  0.546454  0.546454  0.546454   \n",
       "2  0.000000  0.345205  0.584483  0.444514  0.000000  0.000000  0.000000   \n",
       "\n",
       "       blue        in  \n",
       "0  0.000000  0.501651  \n",
       "1  0.000000  0.000000  \n",
       "2  0.584483  0.000000  "
      ]
     },
     "execution_count": 7,
     "metadata": {},
     "output_type": "execute_result"
    }
   ],
   "source": [
    "normalized_df = pd.DataFrame(columns=tfidf_df.columns)\n",
    "\n",
    "# Apply L2 normalization to each document's TF-IDF values\n",
    "for i,row in enumerate(tfidf_df.iterrows()):\n",
    "    # Extract TF-IDF values    \n",
    "    tfidf_values_list = list(tfidf_df.iloc[i].values)\n",
    "    # Calculate L2 norm\n",
    "    l2_norm = math.sqrt(sum(val**2 for val in tfidf_values_list))\n",
    "    # Normalize TF-IDF values using L2 norm\n",
    "    normalized_tfidf = [val / l2_norm for val in list(tfidf_df.iloc[i].values)]\n",
    "    new_row = pd.Series(normalized_tfidf, index=tfidf_df.columns)\n",
    "    normalized_df.loc[len(normalized_df)] = new_row\n",
    "    \n",
    "normalized_df"
   ]
  },
  {
   "cell_type": "markdown",
   "id": "df87d4da",
   "metadata": {
    "papermill": {
     "duration": 0.006711,
     "end_time": "2024-01-27T17:31:27.926230",
     "exception": false,
     "start_time": "2024-01-27T17:31:27.919519",
     "status": "completed"
    },
    "tags": []
   },
   "source": [
    "# TfidfVectorizer Python Library"
   ]
  },
  {
   "cell_type": "code",
   "execution_count": 8,
   "id": "ba9fd364",
   "metadata": {
    "execution": {
     "iopub.execute_input": "2024-01-27T17:31:27.941942Z",
     "iopub.status.busy": "2024-01-27T17:31:27.941412Z",
     "iopub.status.idle": "2024-01-27T17:31:29.255898Z",
     "shell.execute_reply": "2024-01-27T17:31:29.254897Z"
    },
    "papermill": {
     "duration": 1.32531,
     "end_time": "2024-01-27T17:31:29.258337",
     "exception": false,
     "start_time": "2024-01-27T17:31:27.933027",
     "status": "completed"
    },
    "tags": []
   },
   "outputs": [
    {
     "data": {
      "text/html": [
       "<div>\n",
       "<style scoped>\n",
       "    .dataframe tbody tr th:only-of-type {\n",
       "        vertical-align: middle;\n",
       "    }\n",
       "\n",
       "    .dataframe tbody tr th {\n",
       "        vertical-align: top;\n",
       "    }\n",
       "\n",
       "    .dataframe thead th {\n",
       "        text-align: right;\n",
       "    }\n",
       "</style>\n",
       "<table border=\"1\" class=\"dataframe\">\n",
       "  <thead>\n",
       "    <tr style=\"text-align: right;\">\n",
       "      <th></th>\n",
       "      <th>blue</th>\n",
       "      <th>brown</th>\n",
       "      <th>cat</th>\n",
       "      <th>fox</th>\n",
       "      <th>hat</th>\n",
       "      <th>in</th>\n",
       "      <th>is</th>\n",
       "      <th>quick</th>\n",
       "      <th>the</th>\n",
       "    </tr>\n",
       "  </thead>\n",
       "  <tbody>\n",
       "    <tr>\n",
       "      <th>0</th>\n",
       "      <td>0.000000</td>\n",
       "      <td>0.000000</td>\n",
       "      <td>0.501651</td>\n",
       "      <td>0.000000</td>\n",
       "      <td>0.381519</td>\n",
       "      <td>0.501651</td>\n",
       "      <td>0.000000</td>\n",
       "      <td>0.000000</td>\n",
       "      <td>0.592567</td>\n",
       "    </tr>\n",
       "    <tr>\n",
       "      <th>1</th>\n",
       "      <td>0.000000</td>\n",
       "      <td>0.546454</td>\n",
       "      <td>0.000000</td>\n",
       "      <td>0.546454</td>\n",
       "      <td>0.000000</td>\n",
       "      <td>0.000000</td>\n",
       "      <td>0.000000</td>\n",
       "      <td>0.546454</td>\n",
       "      <td>0.322745</td>\n",
       "    </tr>\n",
       "    <tr>\n",
       "      <th>2</th>\n",
       "      <td>0.584483</td>\n",
       "      <td>0.000000</td>\n",
       "      <td>0.000000</td>\n",
       "      <td>0.000000</td>\n",
       "      <td>0.444514</td>\n",
       "      <td>0.000000</td>\n",
       "      <td>0.584483</td>\n",
       "      <td>0.000000</td>\n",
       "      <td>0.345205</td>\n",
       "    </tr>\n",
       "  </tbody>\n",
       "</table>\n",
       "</div>"
      ],
      "text/plain": [
       "       blue     brown       cat       fox       hat        in        is  \\\n",
       "0  0.000000  0.000000  0.501651  0.000000  0.381519  0.501651  0.000000   \n",
       "1  0.000000  0.546454  0.000000  0.546454  0.000000  0.000000  0.000000   \n",
       "2  0.584483  0.000000  0.000000  0.000000  0.444514  0.000000  0.584483   \n",
       "\n",
       "      quick       the  \n",
       "0  0.000000  0.592567  \n",
       "1  0.546454  0.322745  \n",
       "2  0.000000  0.345205  "
      ]
     },
     "execution_count": 8,
     "metadata": {},
     "output_type": "execute_result"
    }
   ],
   "source": [
    "from sklearn.feature_extraction.text import TfidfVectorizer\n",
    "\n",
    "# Sample documents\n",
    "documents = [Doc_1,Doc_2,Doc_3]\n",
    "\n",
    "# Create the TF-IDF vectorizer\n",
    "tfidf_vectorizer = TfidfVectorizer(norm='l2',smooth_idf=True)\n",
    "\n",
    "# Fit the documents and transform them into a TF-IDF matrix\n",
    "tfidf_matrix = tfidf_vectorizer.fit_transform(documents)\n",
    "\n",
    "# Get the feature names (terms) from the vectorizer\n",
    "feature_names = tfidf_vectorizer.get_feature_names_out()\n",
    "\n",
    "df_tfidf = pd.DataFrame(data=tfidf_matrix.toarray(), columns=feature_names)\n",
    "df_tfidf"
   ]
  },
  {
   "cell_type": "markdown",
   "id": "e2b4613b",
   "metadata": {
    "_kg_hide-input": true,
    "papermill": {
     "duration": 0.007182,
     "end_time": "2024-01-27T17:31:29.272927",
     "exception": false,
     "start_time": "2024-01-27T17:31:29.265745",
     "status": "completed"
    },
    "tags": []
   },
   "source": [
    "* **The TfidfVectorizer in scikit-learn, by default, adds a smoothing term to the denominator of the IDF calculation to avoid division by zero. This is done to handle the case where a term is present in all documents, ensuring that the IDF is not undefined.**\n",
    "* **L2 normalization, also known as Euclidean normalization or L2 norm normalization, is a technique used to scale vectors (or arrays) in such a way that their Euclidean norm becomes equal to 1.**"
   ]
  },
  {
   "cell_type": "markdown",
   "id": "1363ea60",
   "metadata": {
    "papermill": {
     "duration": 0.007222,
     "end_time": "2024-01-27T17:31:29.287658",
     "exception": false,
     "start_time": "2024-01-27T17:31:29.280436",
     "status": "completed"
    },
    "tags": []
   },
   "source": [
    "# Unigram"
   ]
  },
  {
   "cell_type": "code",
   "execution_count": 9,
   "id": "167d65e4",
   "metadata": {
    "execution": {
     "iopub.execute_input": "2024-01-27T17:31:29.304808Z",
     "iopub.status.busy": "2024-01-27T17:31:29.304038Z",
     "iopub.status.idle": "2024-01-27T17:31:29.322829Z",
     "shell.execute_reply": "2024-01-27T17:31:29.321582Z"
    },
    "papermill": {
     "duration": 0.030873,
     "end_time": "2024-01-27T17:31:29.325726",
     "exception": false,
     "start_time": "2024-01-27T17:31:29.294853",
     "status": "completed"
    },
    "tags": []
   },
   "outputs": [
    {
     "data": {
      "text/html": [
       "<div>\n",
       "<style scoped>\n",
       "    .dataframe tbody tr th:only-of-type {\n",
       "        vertical-align: middle;\n",
       "    }\n",
       "\n",
       "    .dataframe tbody tr th {\n",
       "        vertical-align: top;\n",
       "    }\n",
       "\n",
       "    .dataframe thead th {\n",
       "        text-align: right;\n",
       "    }\n",
       "</style>\n",
       "<table border=\"1\" class=\"dataframe\">\n",
       "  <thead>\n",
       "    <tr style=\"text-align: right;\">\n",
       "      <th></th>\n",
       "      <th>cat</th>\n",
       "      <th>the</th>\n",
       "      <th>is</th>\n",
       "      <th>hat</th>\n",
       "      <th>brown</th>\n",
       "      <th>quick</th>\n",
       "      <th>fox</th>\n",
       "      <th>blue</th>\n",
       "      <th>in</th>\n",
       "    </tr>\n",
       "  </thead>\n",
       "  <tbody>\n",
       "    <tr>\n",
       "      <th>0</th>\n",
       "      <td>1</td>\n",
       "      <td>2</td>\n",
       "      <td>0</td>\n",
       "      <td>1</td>\n",
       "      <td>0</td>\n",
       "      <td>0</td>\n",
       "      <td>0</td>\n",
       "      <td>0</td>\n",
       "      <td>1</td>\n",
       "    </tr>\n",
       "    <tr>\n",
       "      <th>1</th>\n",
       "      <td>0</td>\n",
       "      <td>1</td>\n",
       "      <td>0</td>\n",
       "      <td>0</td>\n",
       "      <td>1</td>\n",
       "      <td>1</td>\n",
       "      <td>1</td>\n",
       "      <td>0</td>\n",
       "      <td>0</td>\n",
       "    </tr>\n",
       "    <tr>\n",
       "      <th>2</th>\n",
       "      <td>0</td>\n",
       "      <td>1</td>\n",
       "      <td>1</td>\n",
       "      <td>1</td>\n",
       "      <td>0</td>\n",
       "      <td>0</td>\n",
       "      <td>0</td>\n",
       "      <td>1</td>\n",
       "      <td>0</td>\n",
       "    </tr>\n",
       "  </tbody>\n",
       "</table>\n",
       "</div>"
      ],
      "text/plain": [
       "   cat  the  is  hat  brown  quick  fox  blue  in\n",
       "0    1    2   0    1      0      0    0     0   1\n",
       "1    0    1   0    0      1      1    1     0   0\n",
       "2    0    1   1    1      0      0    0     1   0"
      ]
     },
     "execution_count": 9,
     "metadata": {},
     "output_type": "execute_result"
    }
   ],
   "source": [
    "#Probability of unigram P(w)=C(w)/m same idea of TF\n",
    "def count_wrd_Doc(wrd,doc):\n",
    "    i=0\n",
    "    for w in doc.lower().split(' '):\n",
    "        if wrd == w:\n",
    "            i = i+1\n",
    "    return i\n",
    "    \n",
    "unigram_df = pd.DataFrame(columns=list(wrds)) #empty dataframe initialized with words column headers\n",
    "freq_lst=[] #empty list for each column to save word frequencies in each document\n",
    "for c in tf_df.columns:\n",
    "    freq_lst=[]#empty the list\n",
    "    freq_lst.append(count_wrd_Doc(c,Doc_1))#append the frequency of word in document 1\n",
    "    freq_lst.append(count_wrd_Doc(c,Doc_2))#append the frequency of word in document 2\n",
    "    freq_lst.append(count_wrd_Doc(c,Doc_3))#append the frequency of word in document 3\n",
    "    unigram_df[c]=freq_lst #assign values to column\n",
    "unigram_df #display the dataframe of TF for each word in each document"
   ]
  },
  {
   "cell_type": "code",
   "execution_count": 10,
   "id": "8e50f4b0",
   "metadata": {
    "execution": {
     "iopub.execute_input": "2024-01-27T17:31:29.342942Z",
     "iopub.status.busy": "2024-01-27T17:31:29.342384Z",
     "iopub.status.idle": "2024-01-27T17:31:29.355206Z",
     "shell.execute_reply": "2024-01-27T17:31:29.353736Z"
    },
    "papermill": {
     "duration": 0.024429,
     "end_time": "2024-01-27T17:31:29.357614",
     "exception": false,
     "start_time": "2024-01-27T17:31:29.333185",
     "status": "completed"
    },
    "tags": []
   },
   "outputs": [
    {
     "name": "stdout",
     "output_type": "stream",
     "text": [
      "['blue' 'brown' 'cat' 'fox' 'hat' 'in' 'is' 'quick' 'the']\n"
     ]
    }
   ],
   "source": [
    "from sklearn.feature_extraction.text import CountVectorizer\n",
    "\n",
    "corpus = [Doc_1.lower(),Doc_2.lower(),Doc_3.lower()]\n",
    "vectorizer = CountVectorizer()\n",
    "X = vectorizer.fit_transform(corpus)\n",
    "unigram_names = vectorizer.get_feature_names_out()\n",
    "print(unigram_names)"
   ]
  },
  {
   "cell_type": "code",
   "execution_count": 11,
   "id": "fb0e8057",
   "metadata": {
    "execution": {
     "iopub.execute_input": "2024-01-27T17:31:29.375956Z",
     "iopub.status.busy": "2024-01-27T17:31:29.375240Z",
     "iopub.status.idle": "2024-01-27T17:31:29.381884Z",
     "shell.execute_reply": "2024-01-27T17:31:29.380588Z"
    },
    "papermill": {
     "duration": 0.018449,
     "end_time": "2024-01-27T17:31:29.384289",
     "exception": false,
     "start_time": "2024-01-27T17:31:29.365840",
     "status": "completed"
    },
    "tags": []
   },
   "outputs": [
    {
     "name": "stdout",
     "output_type": "stream",
     "text": [
      "  (0, 8)\t2\n",
      "  (0, 2)\t1\n",
      "  (0, 5)\t1\n",
      "  (0, 4)\t1\n",
      "  (1, 8)\t1\n",
      "  (1, 7)\t1\n",
      "  (1, 1)\t1\n",
      "  (1, 3)\t1\n",
      "  (2, 8)\t1\n",
      "  (2, 4)\t1\n",
      "  (2, 6)\t1\n",
      "  (2, 0)\t1\n"
     ]
    }
   ],
   "source": [
    "print(X)"
   ]
  },
  {
   "cell_type": "markdown",
   "id": "9e0a2d05",
   "metadata": {
    "papermill": {
     "duration": 0.008153,
     "end_time": "2024-01-27T17:31:29.400912",
     "exception": false,
     "start_time": "2024-01-27T17:31:29.392759",
     "status": "completed"
    },
    "tags": []
   },
   "source": [
    "# Bigram"
   ]
  },
  {
   "cell_type": "code",
   "execution_count": 12,
   "id": "c843bc6f",
   "metadata": {
    "execution": {
     "iopub.execute_input": "2024-01-27T17:31:29.420264Z",
     "iopub.status.busy": "2024-01-27T17:31:29.418871Z",
     "iopub.status.idle": "2024-01-27T17:31:29.429535Z",
     "shell.execute_reply": "2024-01-27T17:31:29.428481Z"
    },
    "papermill": {
     "duration": 0.022768,
     "end_time": "2024-01-27T17:31:29.431708",
     "exception": false,
     "start_time": "2024-01-27T17:31:29.408940",
     "status": "completed"
    },
    "tags": []
   },
   "outputs": [
    {
     "data": {
      "text/plain": [
       "[['the', 'cat'],\n",
       " ['cat', 'in'],\n",
       " ['in', 'the'],\n",
       " ['the', 'hat'],\n",
       " ['the', 'quick'],\n",
       " ['quick', 'brown'],\n",
       " ['brown', 'fox'],\n",
       " ['the', 'hat'],\n",
       " ['hat', 'is'],\n",
       " ['is', 'blue']]"
      ]
     },
     "execution_count": 12,
     "metadata": {},
     "output_type": "execute_result"
    }
   ],
   "source": [
    "def bi_lst(doc):\n",
    "    wrds = doc.lower().split(' ')\n",
    "    bi_lst = []\n",
    "    for j in range(0,len(wrds)-1):\n",
    "        bi_lst.append(wrds[j:j+2])\n",
    "    return bi_lst\n",
    "#get bi-grams of input sentence\n",
    "\n",
    "lst = bi_lst(Doc_1)\n",
    "lst.extend(bi_lst(Doc_2))\n",
    "lst.extend(bi_lst(Doc_3))\n",
    "unique_list = []\n",
    "unique_list = [item for item in lst if item not in unique_list]\n",
    "unique_list"
   ]
  },
  {
   "cell_type": "code",
   "execution_count": 13,
   "id": "a5c4e276",
   "metadata": {
    "execution": {
     "iopub.execute_input": "2024-01-27T17:31:29.451193Z",
     "iopub.status.busy": "2024-01-27T17:31:29.449990Z",
     "iopub.status.idle": "2024-01-27T17:31:29.482413Z",
     "shell.execute_reply": "2024-01-27T17:31:29.480966Z"
    },
    "papermill": {
     "duration": 0.044782,
     "end_time": "2024-01-27T17:31:29.485253",
     "exception": false,
     "start_time": "2024-01-27T17:31:29.440471",
     "status": "completed"
    },
    "tags": []
   },
   "outputs": [
    {
     "data": {
      "text/html": [
       "<div>\n",
       "<style scoped>\n",
       "    .dataframe tbody tr th:only-of-type {\n",
       "        vertical-align: middle;\n",
       "    }\n",
       "\n",
       "    .dataframe tbody tr th {\n",
       "        vertical-align: top;\n",
       "    }\n",
       "\n",
       "    .dataframe thead th {\n",
       "        text-align: right;\n",
       "    }\n",
       "</style>\n",
       "<table border=\"1\" class=\"dataframe\">\n",
       "  <thead>\n",
       "    <tr style=\"text-align: right;\">\n",
       "      <th></th>\n",
       "      <th>the cat</th>\n",
       "      <th>cat in</th>\n",
       "      <th>in the</th>\n",
       "      <th>the hat</th>\n",
       "      <th>the quick</th>\n",
       "      <th>quick brown</th>\n",
       "      <th>brown fox</th>\n",
       "      <th>the hat</th>\n",
       "      <th>hat is</th>\n",
       "      <th>is blue</th>\n",
       "    </tr>\n",
       "  </thead>\n",
       "  <tbody>\n",
       "    <tr>\n",
       "      <th>0</th>\n",
       "      <td>1</td>\n",
       "      <td>1</td>\n",
       "      <td>1</td>\n",
       "      <td>1</td>\n",
       "      <td>0</td>\n",
       "      <td>0</td>\n",
       "      <td>0</td>\n",
       "      <td>1</td>\n",
       "      <td>0</td>\n",
       "      <td>0</td>\n",
       "    </tr>\n",
       "    <tr>\n",
       "      <th>1</th>\n",
       "      <td>0</td>\n",
       "      <td>0</td>\n",
       "      <td>0</td>\n",
       "      <td>0</td>\n",
       "      <td>1</td>\n",
       "      <td>1</td>\n",
       "      <td>1</td>\n",
       "      <td>0</td>\n",
       "      <td>0</td>\n",
       "      <td>0</td>\n",
       "    </tr>\n",
       "    <tr>\n",
       "      <th>2</th>\n",
       "      <td>0</td>\n",
       "      <td>0</td>\n",
       "      <td>0</td>\n",
       "      <td>1</td>\n",
       "      <td>0</td>\n",
       "      <td>0</td>\n",
       "      <td>0</td>\n",
       "      <td>1</td>\n",
       "      <td>1</td>\n",
       "      <td>1</td>\n",
       "    </tr>\n",
       "  </tbody>\n",
       "</table>\n",
       "</div>"
      ],
      "text/plain": [
       "   the cat  cat in  in the  the hat  the quick  quick brown  brown fox  \\\n",
       "0        1       1       1        1          0            0          0   \n",
       "1        0       0       0        0          1            1          1   \n",
       "2        0       0       0        1          0            0          0   \n",
       "\n",
       "   the hat  hat is  is blue  \n",
       "0        1       0        0  \n",
       "1        0       0        0  \n",
       "2        1       1        1  "
      ]
     },
     "execution_count": 13,
     "metadata": {},
     "output_type": "execute_result"
    }
   ],
   "source": [
    "def count_biwrd_Doc(st,doc):\n",
    "    i=0    \n",
    "    for s in bi_lst(doc):\n",
    "        if s == st.split(' '):\n",
    "            i = i+1\n",
    "    return i\n",
    "bigram_df = pd.DataFrame(columns=list((' '.join(x) for x in unique_list))) #empty dataframe initialized with words column headers\n",
    "freq_lst=[] #empty list for each column to save word frequencies in each document\n",
    "for c in bigram_df.columns:\n",
    "    freq_lst=[]#empty the list\n",
    "    for d in [Doc_1,Doc_2,Doc_3]:\n",
    "        freq_lst.append(count_biwrd_Doc(c,d))#append the frequency of word in document d\n",
    "    bigram_df[c]=freq_lst #assign values to column\n",
    "bigram_df #display the dataframe of TF for each word in each document"
   ]
  },
  {
   "cell_type": "markdown",
   "id": "6b18456e",
   "metadata": {
    "papermill": {
     "duration": 0.007942,
     "end_time": "2024-01-27T17:31:29.501828",
     "exception": false,
     "start_time": "2024-01-27T17:31:29.493886",
     "status": "completed"
    },
    "tags": []
   },
   "source": [
    "# Bigram in Python"
   ]
  },
  {
   "cell_type": "code",
   "execution_count": 14,
   "id": "a9baf84c",
   "metadata": {
    "execution": {
     "iopub.execute_input": "2024-01-27T17:31:29.521451Z",
     "iopub.status.busy": "2024-01-27T17:31:29.520347Z",
     "iopub.status.idle": "2024-01-27T17:31:30.448197Z",
     "shell.execute_reply": "2024-01-27T17:31:30.446543Z"
    },
    "papermill": {
     "duration": 0.941429,
     "end_time": "2024-01-27T17:31:30.451489",
     "exception": false,
     "start_time": "2024-01-27T17:31:29.510060",
     "status": "completed"
    },
    "tags": []
   },
   "outputs": [
    {
     "name": "stdout",
     "output_type": "stream",
     "text": [
      "document: [('the', 'cat'), ('cat', 'in'), ('in', 'the'), ('the', 'hat')]\n",
      "document: [('the', 'quick'), ('quick', 'brown'), ('brown', 'fox')]\n",
      "document: [('the', 'hat'), ('hat', 'is'), ('is', 'blue')]\n"
     ]
    }
   ],
   "source": [
    "from nltk import bigrams\n",
    "from nltk.tokenize import word_tokenize\n",
    "for d in [Doc_1,Doc_2,Doc_3]:\n",
    "    words = word_tokenize(d.lower())\n",
    "    result = list(bigrams(words))\n",
    "    print(\"document:\",result)"
   ]
  }
 ],
 "metadata": {
  "kaggle": {
   "accelerator": "none",
   "dataSources": [],
   "dockerImageVersionId": 30635,
   "isGpuEnabled": false,
   "isInternetEnabled": true,
   "language": "python",
   "sourceType": "notebook"
  },
  "kernelspec": {
   "display_name": "Python 3",
   "language": "python",
   "name": "python3"
  },
  "language_info": {
   "codemirror_mode": {
    "name": "ipython",
    "version": 3
   },
   "file_extension": ".py",
   "mimetype": "text/x-python",
   "name": "python",
   "nbconvert_exporter": "python",
   "pygments_lexer": "ipython3",
   "version": "3.10.12"
  },
  "papermill": {
   "default_parameters": {},
   "duration": 7.566352,
   "end_time": "2024-01-27T17:31:31.284155",
   "environment_variables": {},
   "exception": null,
   "input_path": "__notebook__.ipynb",
   "output_path": "__notebook__.ipynb",
   "parameters": {},
   "start_time": "2024-01-27T17:31:23.717803",
   "version": "2.4.0"
  }
 },
 "nbformat": 4,
 "nbformat_minor": 5
}
